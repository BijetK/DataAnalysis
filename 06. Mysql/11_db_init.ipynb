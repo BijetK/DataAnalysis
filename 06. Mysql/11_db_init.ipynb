{
  "nbformat": 4,
  "nbformat_minor": 0,
  "metadata": {
    "colab": {
      "name": "11_db_init.ipynb",
      "provenance": []
    },
    "kernelspec": {
      "name": "python3",
      "display_name": "Python 3"
    },
    "language_info": {
      "name": "python"
    }
  },
  "cells": [
    {
      "cell_type": "code",
      "metadata": {
        "id": "cNzYLSNA6RPk"
      },
      "source": [
        "import random"
      ],
      "execution_count": null,
      "outputs": []
    },
    {
      "cell_type": "code",
      "metadata": {
        "colab": {
          "resources": {
            "http://localhost:8080/nbextensions/google.colab/files.js": {
              "data": "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",
              "ok": true,
              "headers": [
                [
                  "content-type",
                  "application/javascript"
                ]
              ],
              "status": 200,
              "status_text": ""
            }
          },
          "base_uri": "https://localhost:8080/",
          "height": 77
        },
        "id": "sM-nRU5J2zgE",
        "outputId": "999ef594-580f-4965-eb65-b78a967c5ad1"
      },
      "source": [
        "!pip install pymysql > /dev/null\n",
        "\n",
        "from google.colab import files\n",
        "uploaded = files.upload()\n",
        "filename = list(uploaded.keys())[0]"
      ],
      "execution_count": null,
      "outputs": [
        {
          "output_type": "display_data",
          "data": {
            "text/html": [
              "\n",
              "     <input type=\"file\" id=\"files-97a8dddd-0d1b-4c9d-ae41-b45a95fe162f\" name=\"files[]\" multiple disabled\n",
              "        style=\"border:none\" />\n",
              "     <output id=\"result-97a8dddd-0d1b-4c9d-ae41-b45a95fe162f\">\n",
              "      Upload widget is only available when the cell has been executed in the\n",
              "      current browser session. Please rerun this cell to enable.\n",
              "      </output>\n",
              "      <script src=\"/nbextensions/google.colab/files.js\"></script> "
            ],
            "text/plain": [
              "<IPython.core.display.HTML object>"
            ]
          },
          "metadata": {}
        },
        {
          "output_type": "stream",
          "text": [
            "Saving mysql.json to mysql.json\n"
          ],
          "name": "stdout"
        }
      ]
    },
    {
      "cell_type": "code",
      "metadata": {
        "id": "BHG20Rne26b2"
      },
      "source": [
        "import json\n",
        "with open(filename) as fp:\n",
        "    config_str = fp.read()\n",
        "config = json.loads(config_str)"
      ],
      "execution_count": null,
      "outputs": []
    },
    {
      "cell_type": "code",
      "metadata": {
        "id": "gAZPo4CF28J1"
      },
      "source": [
        "import pymysql\n",
        "conn = pymysql.connect(\n",
        "    host = config['host'],\n",
        "    user = config['user'],\n",
        "    password = config['password'],\n",
        "    database = config['database'],\n",
        "    port = config['port']\n",
        ")"
      ],
      "execution_count": null,
      "outputs": []
    },
    {
      "cell_type": "markdown",
      "metadata": {
        "id": "ijb4XnxaQMNX"
      },
      "source": [
        "# 테이블 생성"
      ]
    },
    {
      "cell_type": "code",
      "metadata": {
        "id": "ntjXErg0QLac"
      },
      "source": [
        "# products 테이블 생성 sql\n",
        "sql = \"\"\"\n",
        "    CREATE TABLE if NOT exists products(\n",
        "        pid INT PRIMARY KEY AUTO_INCREMENT,\n",
        "        pname VARCHAR(40) NOT NULL,\n",
        "        pprice INT UNSIGNED NOT NULL,\n",
        "        pcategory VARCHAR(20) NOT NULL,\n",
        "        pcost INT UNSIGNED NOT NULL\n",
        "    ) AUTO_INCREMENT=11;\n",
        "\"\"\""
      ],
      "execution_count": null,
      "outputs": []
    },
    {
      "cell_type": "code",
      "metadata": {
        "id": "gGSoYA3EQLUO",
        "colab": {
          "base_uri": "https://localhost:8080/"
        },
        "outputId": "b874a4e8-12aa-4521-983f-5eb92e8e6501"
      },
      "source": [
        "cur = conn.cursor()\n",
        "cur.execute(sql)"
      ],
      "execution_count": null,
      "outputs": [
        {
          "output_type": "execute_result",
          "data": {
            "text/plain": [
              "0"
            ]
          },
          "metadata": {},
          "execution_count": 6
        }
      ]
    },
    {
      "cell_type": "code",
      "metadata": {
        "id": "bP2rTTgiQWxv"
      },
      "source": [
        "camping_goods = ['텐트','타프','천막','침낭','매트','랜턴','취사용품',\n",
        "                 '아이스박스','보조배터리','워터저그']\n",
        "car_goods = ['블랙박스','내비게이션','하이패스','후방카메라','자동차TV',\n",
        "             '카오디오','핸즈프리','헤드유닛','방진매트','윤활방청제']\n",
        "health_goods = ['러닝머신','웨이트기구','복근운동기구','벨트','거꾸리',\n",
        "                '훌라후프','트램펄린','스텝퍼','로잉머신','헬스사이클']\n",
        "category_names = ['캠핑용품','자동차용품','헬스용품']"
      ],
      "execution_count": null,
      "outputs": []
    },
    {
      "cell_type": "code",
      "metadata": {
        "colab": {
          "base_uri": "https://localhost:8080/"
        },
        "id": "KPGN_mZUQWu0",
        "outputId": "47d6fb97-5a09-48fc-e095-ecdcf44cda0e"
      },
      "source": [
        "for item in camping_goods:\n",
        "    price = random.randint(100,999) * 100\n",
        "    rate = random.randint(85, 98)\n",
        "    cost = int(round(price * rate / 1000) * 10)\n",
        "    print(item, price, '캠핑', cost)"
      ],
      "execution_count": null,
      "outputs": [
        {
          "output_type": "stream",
          "text": [
            "텐트 32400 캠핑 28840\n",
            "타프 63600 캠핑 55970\n",
            "천막 49300 캠핑 46840\n",
            "침낭 41200 캠핑 37490\n",
            "매트 46000 캠핑 43700\n",
            "랜턴 84300 캠핑 80080\n",
            "취사용품 79000 캠핑 75050\n",
            "아이스박스 77200 캠핑 67160\n",
            "보조배터리 50300 캠핑 43760\n",
            "워터저그 68600 캠핑 64480\n"
          ],
          "name": "stdout"
        }
      ]
    },
    {
      "cell_type": "code",
      "metadata": {
        "id": "foQUGsy3QZdo"
      },
      "source": [
        "sql = \"insert into products(pname,pprice,pcategory,pcost) values(%s,%s,%s,%s);\"\n",
        "for i, item_list in enumerate([camping_goods, car_goods, health_goods]):\n",
        "    for item in item_list:\n",
        "        price = random.randint(100,999) * 100\n",
        "        rate = random.randint(85, 98)\n",
        "        cost = int(round(price * rate / 1000) * 10)\n",
        "        cur.execute(sql, (item,price,category_names[i],cost))\n",
        "conn.commit()"
      ],
      "execution_count": null,
      "outputs": []
    },
    {
      "cell_type": "markdown",
      "metadata": {
        "id": "06t_Gj2sQqaH"
      },
      "source": [
        "## sales 테이블"
      ]
    },
    {
      "cell_type": "code",
      "metadata": {
        "id": "Bf-h51DQQZVH"
      },
      "source": [
        "sql = \"\"\"\n",
        "    CREATE TABLE if NOT EXISTS sales(\n",
        "        sid INT PRIMARY KEY AUTO_INCREMENT,\n",
        "        sdate DATE NOT NULL,\n",
        "        scompany VARCHAR(20) NOT NULL,\n",
        "        spid INT NOT NULL,\n",
        "        sunit INT NOT NULL,\n",
        "        FOREIGN KEY(spid) REFERENCES products(pid)\n",
        "    ) AUTO_INCREMENT=101;\n",
        "\"\"\""
      ],
      "execution_count": null,
      "outputs": []
    },
    {
      "cell_type": "code",
      "metadata": {
        "id": "npwqLPEKQZIq"
      },
      "source": [
        "date_list = []\n",
        "calendar = {1:31,2:29,3:31,4:30,5:31,6:30,7:31,8:31,9:30,10:31,11:30,12:31}\n",
        "for k in range(1, 13):\n",
        "    for i in range(random.randint(10, 13)):\n",
        "        if k in (1, 3, 5, 6, 7, 10, 12):\n",
        "            date = f'2020-{k}-{random.randint(1,31)}'\n",
        "        elif k in (4, 6, 9, 11):\n",
        "            date = f'2020-{k}-{random.randint(1,30)}'\n",
        "        else:\n",
        "            date = f'2020-{k}-{random.randint(1,29)}'\n",
        "        date_list.append(date)\n"
      ],
      "execution_count": null,
      "outputs": []
    },
    {
      "cell_type": "code",
      "metadata": {
        "colab": {
          "base_uri": "https://localhost:8080/"
        },
        "id": "twBwA6FaSRGM",
        "outputId": "099369dc-3afb-4bcb-95f6-82338bcd4b43"
      },
      "source": [
        "cur = conn.cursor()\n",
        "cur.execute(sql)"
      ],
      "execution_count": null,
      "outputs": [
        {
          "output_type": "execute_result",
          "data": {
            "text/plain": [
              "0"
            ]
          },
          "metadata": {},
          "execution_count": 76
        }
      ]
    },
    {
      "cell_type": "code",
      "metadata": {
        "id": "YWXrhdeOSdIz"
      },
      "source": [
        "sql = \"insert into sales(sdate,scompany,spid,sunit) values(%s,%s,%s,%s);\"\n",
        "company_list = ['삼성', '엘지', '애플', '펜택', '구글', '소니']\n",
        "for i in range(len(date_list)):\n",
        "    sdate = date_list[i]\n",
        "    scompany = random.choice(company_list)\n",
        "    spid = random.randint(11, 40)\n",
        "    sunit = random.randint(10, 100)\n",
        "    \n",
        "    cur.execute(sql, (sdate, scompany, spid, sunit))\n",
        "\n",
        "conn.commit()"
      ],
      "execution_count": null,
      "outputs": []
    },
    {
      "cell_type": "markdown",
      "metadata": {
        "id": "QURNtTLl_zfR"
      },
      "source": [
        "\n",
        "## 두 테이블을 Join 한 View 생성"
      ]
    },
    {
      "cell_type": "code",
      "metadata": {
        "id": "NHn-wWee_Xap"
      },
      "source": [
        "sql = \"\"\"\n",
        "    CREATE VIEW sales_book as\n",
        "        SELECT sid, sdate, scompany, pid, pname, pcategory, pprice, sunit, pcost,\n",
        "            pprice*sunit AS revenue, (pprice-pcost)*sunit AS profit\n",
        "        FROM sales\n",
        "        JOIN products\n",
        "        ON sales.spid = products.pid\n",
        "        ORDER BY sdate;\n",
        "\"\"\""
      ],
      "execution_count": null,
      "outputs": []
    },
    {
      "cell_type": "code",
      "metadata": {
        "colab": {
          "base_uri": "https://localhost:8080/"
        },
        "id": "CRWF_cXF_ioj",
        "outputId": "c0d83e7e-9a45-4332-ce2a-719dddadb696"
      },
      "source": [
        "cur = conn.cursor()\n",
        "cur.execute(sql)"
      ],
      "execution_count": null,
      "outputs": [
        {
          "output_type": "execute_result",
          "data": {
            "text/plain": [
              "0"
            ]
          },
          "metadata": {},
          "execution_count": 83
        }
      ]
    },
    {
      "cell_type": "markdown",
      "metadata": {
        "id": "_s6Nh0cB_21D"
      },
      "source": [
        "- 데이터를 sales_book.csv로 저장"
      ]
    },
    {
      "cell_type": "code",
      "metadata": {
        "id": "ViymG6vm_jA-"
      },
      "source": [
        "sql = 'select * from sales_book'\n",
        "cur.execute(sql)\n",
        "results = cur.fetchall()"
      ],
      "execution_count": null,
      "outputs": []
    },
    {
      "cell_type": "code",
      "metadata": {
        "colab": {
          "base_uri": "https://localhost:8080/",
          "height": 203
        },
        "id": "PC8NG5Vg_oY2",
        "outputId": "c28778d6-6cb5-4805-d578-94bb70b262a8"
      },
      "source": [
        "import pandas as pd\n",
        "\n",
        "df = pd.DataFrame(results)\n",
        "df.head()"
      ],
      "execution_count": null,
      "outputs": [
        {
          "output_type": "execute_result",
          "data": {
            "text/html": [
              "<div>\n",
              "<style scoped>\n",
              "    .dataframe tbody tr th:only-of-type {\n",
              "        vertical-align: middle;\n",
              "    }\n",
              "\n",
              "    .dataframe tbody tr th {\n",
              "        vertical-align: top;\n",
              "    }\n",
              "\n",
              "    .dataframe thead th {\n",
              "        text-align: right;\n",
              "    }\n",
              "</style>\n",
              "<table border=\"1\" class=\"dataframe\">\n",
              "  <thead>\n",
              "    <tr style=\"text-align: right;\">\n",
              "      <th></th>\n",
              "      <th>0</th>\n",
              "      <th>1</th>\n",
              "      <th>2</th>\n",
              "      <th>3</th>\n",
              "      <th>4</th>\n",
              "      <th>5</th>\n",
              "      <th>6</th>\n",
              "      <th>7</th>\n",
              "      <th>8</th>\n",
              "      <th>9</th>\n",
              "      <th>10</th>\n",
              "    </tr>\n",
              "  </thead>\n",
              "  <tbody>\n",
              "    <tr>\n",
              "      <th>0</th>\n",
              "      <td>21</td>\n",
              "      <td>2020-01-03</td>\n",
              "      <td>애플</td>\n",
              "      <td>40</td>\n",
              "      <td>헬스사이클</td>\n",
              "      <td>헬스용품</td>\n",
              "      <td>20600</td>\n",
              "      <td>72</td>\n",
              "      <td>18540</td>\n",
              "      <td>1483200</td>\n",
              "      <td>148320</td>\n",
              "    </tr>\n",
              "    <tr>\n",
              "      <th>1</th>\n",
              "      <td>23</td>\n",
              "      <td>2020-01-09</td>\n",
              "      <td>소니</td>\n",
              "      <td>40</td>\n",
              "      <td>헬스사이클</td>\n",
              "      <td>헬스용품</td>\n",
              "      <td>20600</td>\n",
              "      <td>90</td>\n",
              "      <td>18540</td>\n",
              "      <td>1854000</td>\n",
              "      <td>185400</td>\n",
              "    </tr>\n",
              "    <tr>\n",
              "      <th>2</th>\n",
              "      <td>16</td>\n",
              "      <td>2020-01-11</td>\n",
              "      <td>소니</td>\n",
              "      <td>38</td>\n",
              "      <td>스텝퍼</td>\n",
              "      <td>헬스용품</td>\n",
              "      <td>85300</td>\n",
              "      <td>46</td>\n",
              "      <td>83590</td>\n",
              "      <td>3923800</td>\n",
              "      <td>78660</td>\n",
              "    </tr>\n",
              "    <tr>\n",
              "      <th>3</th>\n",
              "      <td>24</td>\n",
              "      <td>2020-01-11</td>\n",
              "      <td>애플</td>\n",
              "      <td>23</td>\n",
              "      <td>하이패스</td>\n",
              "      <td>자동차용품</td>\n",
              "      <td>84200</td>\n",
              "      <td>47</td>\n",
              "      <td>77460</td>\n",
              "      <td>3957400</td>\n",
              "      <td>316780</td>\n",
              "    </tr>\n",
              "    <tr>\n",
              "      <th>4</th>\n",
              "      <td>18</td>\n",
              "      <td>2020-01-14</td>\n",
              "      <td>삼성</td>\n",
              "      <td>30</td>\n",
              "      <td>윤활방청제</td>\n",
              "      <td>자동차용품</td>\n",
              "      <td>59200</td>\n",
              "      <td>53</td>\n",
              "      <td>53870</td>\n",
              "      <td>3137600</td>\n",
              "      <td>282490</td>\n",
              "    </tr>\n",
              "  </tbody>\n",
              "</table>\n",
              "</div>"
            ],
            "text/plain": [
              "   0          1   2   3      4      5      6   7      8        9       10\n",
              "0  21 2020-01-03  애플  40  헬스사이클   헬스용품  20600  72  18540  1483200  148320\n",
              "1  23 2020-01-09  소니  40  헬스사이클   헬스용품  20600  90  18540  1854000  185400\n",
              "2  16 2020-01-11  소니  38    스텝퍼   헬스용품  85300  46  83590  3923800   78660\n",
              "3  24 2020-01-11  애플  23   하이패스  자동차용품  84200  47  77460  3957400  316780\n",
              "4  18 2020-01-14  삼성  30  윤활방청제  자동차용품  59200  53  53870  3137600  282490"
            ]
          },
          "metadata": {},
          "execution_count": 85
        }
      ]
    },
    {
      "cell_type": "code",
      "metadata": {
        "id": "MnzXUvEq_o5g"
      },
      "source": [
        "del df[3]\n",
        "del df[0]"
      ],
      "execution_count": null,
      "outputs": []
    },
    {
      "cell_type": "code",
      "metadata": {
        "colab": {
          "base_uri": "https://localhost:8080/",
          "height": 203
        },
        "id": "Xovy_i3-_tR8",
        "outputId": "6f370f27-cddc-49d2-9a0b-96f492fcb430"
      },
      "source": [
        "df.columns = ['판매일자','판매처','상품명','카테고리','단가','수량','원가','매출액','이익']\n",
        "df.head()"
      ],
      "execution_count": null,
      "outputs": [
        {
          "output_type": "execute_result",
          "data": {
            "text/html": [
              "<div>\n",
              "<style scoped>\n",
              "    .dataframe tbody tr th:only-of-type {\n",
              "        vertical-align: middle;\n",
              "    }\n",
              "\n",
              "    .dataframe tbody tr th {\n",
              "        vertical-align: top;\n",
              "    }\n",
              "\n",
              "    .dataframe thead th {\n",
              "        text-align: right;\n",
              "    }\n",
              "</style>\n",
              "<table border=\"1\" class=\"dataframe\">\n",
              "  <thead>\n",
              "    <tr style=\"text-align: right;\">\n",
              "      <th></th>\n",
              "      <th>판매일자</th>\n",
              "      <th>판매처</th>\n",
              "      <th>상품명</th>\n",
              "      <th>카테고리</th>\n",
              "      <th>단가</th>\n",
              "      <th>수량</th>\n",
              "      <th>원가</th>\n",
              "      <th>매출액</th>\n",
              "      <th>이익</th>\n",
              "    </tr>\n",
              "  </thead>\n",
              "  <tbody>\n",
              "    <tr>\n",
              "      <th>0</th>\n",
              "      <td>2020-01-03</td>\n",
              "      <td>애플</td>\n",
              "      <td>헬스사이클</td>\n",
              "      <td>헬스용품</td>\n",
              "      <td>20600</td>\n",
              "      <td>72</td>\n",
              "      <td>18540</td>\n",
              "      <td>1483200</td>\n",
              "      <td>148320</td>\n",
              "    </tr>\n",
              "    <tr>\n",
              "      <th>1</th>\n",
              "      <td>2020-01-09</td>\n",
              "      <td>소니</td>\n",
              "      <td>헬스사이클</td>\n",
              "      <td>헬스용품</td>\n",
              "      <td>20600</td>\n",
              "      <td>90</td>\n",
              "      <td>18540</td>\n",
              "      <td>1854000</td>\n",
              "      <td>185400</td>\n",
              "    </tr>\n",
              "    <tr>\n",
              "      <th>2</th>\n",
              "      <td>2020-01-11</td>\n",
              "      <td>소니</td>\n",
              "      <td>스텝퍼</td>\n",
              "      <td>헬스용품</td>\n",
              "      <td>85300</td>\n",
              "      <td>46</td>\n",
              "      <td>83590</td>\n",
              "      <td>3923800</td>\n",
              "      <td>78660</td>\n",
              "    </tr>\n",
              "    <tr>\n",
              "      <th>3</th>\n",
              "      <td>2020-01-11</td>\n",
              "      <td>애플</td>\n",
              "      <td>하이패스</td>\n",
              "      <td>자동차용품</td>\n",
              "      <td>84200</td>\n",
              "      <td>47</td>\n",
              "      <td>77460</td>\n",
              "      <td>3957400</td>\n",
              "      <td>316780</td>\n",
              "    </tr>\n",
              "    <tr>\n",
              "      <th>4</th>\n",
              "      <td>2020-01-14</td>\n",
              "      <td>삼성</td>\n",
              "      <td>윤활방청제</td>\n",
              "      <td>자동차용품</td>\n",
              "      <td>59200</td>\n",
              "      <td>53</td>\n",
              "      <td>53870</td>\n",
              "      <td>3137600</td>\n",
              "      <td>282490</td>\n",
              "    </tr>\n",
              "  </tbody>\n",
              "</table>\n",
              "</div>"
            ],
            "text/plain": [
              "        판매일자 판매처    상품명   카테고리     단가  수량     원가      매출액      이익\n",
              "0 2020-01-03  애플  헬스사이클   헬스용품  20600  72  18540  1483200  148320\n",
              "1 2020-01-09  소니  헬스사이클   헬스용품  20600  90  18540  1854000  185400\n",
              "2 2020-01-11  소니    스텝퍼   헬스용품  85300  46  83590  3923800   78660\n",
              "3 2020-01-11  애플   하이패스  자동차용품  84200  47  77460  3957400  316780\n",
              "4 2020-01-14  삼성  윤활방청제  자동차용품  59200  53  53870  3137600  282490"
            ]
          },
          "metadata": {},
          "execution_count": 87
        }
      ]
    },
    {
      "cell_type": "code",
      "metadata": {
        "id": "IsXBU16s_u1t"
      },
      "source": [
        "df.to_csv('sales_book.csv', index=False)"
      ],
      "execution_count": null,
      "outputs": []
    },
    {
      "cell_type": "code",
      "metadata": {
        "id": "vsojDHA7_xAY"
      },
      "source": [
        "cur.close()\n",
        "conn.close()"
      ],
      "execution_count": null,
      "outputs": []
    }
  ]
}