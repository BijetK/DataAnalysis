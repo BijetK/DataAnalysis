{
  "nbformat": 4,
  "nbformat_minor": 0,
  "metadata": {
    "colab": {
      "name": "12_커피지수_카토그램.ipynb",
      "provenance": [],
      "collapsed_sections": []
    },
    "kernelspec": {
      "name": "python3",
      "display_name": "Python 3"
    },
    "language_info": {
      "name": "python"
    }
  },
  "cells": [
    {
      "cell_type": "code",
      "metadata": {
        "id": "tmPb3MjCljDy"
      },
      "source": [
        "# 한글 폰트 설치\n",
        "!apt-get install -y fonts-nanum > /dev/null\n",
        "!fc-cache -fv > /dev/null\n",
        "!rm -rf ~/.cache/matplotlib > /dev/null\n",
        "#런타임 재시작"
      ],
      "execution_count": null,
      "outputs": []
    },
    {
      "cell_type": "code",
      "metadata": {
        "id": "ahM8cl-dlrY9"
      },
      "source": [
        "import matplotlib as mpl\n",
        "import matplotlib.pyplot as plt\n",
        "mpl.rcParams['axes.unicode_minus'] = False\n",
        "plt.rc('font', family = 'NanumBarunGothic')"
      ],
      "execution_count": null,
      "outputs": []
    },
    {
      "cell_type": "code",
      "metadata": {
        "id": "msXJ3z23lrUZ"
      },
      "source": [
        "import numpy as np\n",
        "import pandas as pd\n",
        "import warnings\n",
        "warnings.filterwarnings('ignore')"
      ],
      "execution_count": null,
      "outputs": []
    },
    {
      "cell_type": "code",
      "metadata": {
        "colab": {
          "base_uri": "https://localhost:8080/"
        },
        "id": "9y9GNX9rloei",
        "outputId": "ea317cb6-f469-4a24-b211-e4b5afdea120"
      },
      "source": [
        "from google.colab import drive\n",
        "drive.mount('/content/mnt')\\"
      ],
      "execution_count": null,
      "outputs": [
        {
          "output_type": "stream",
          "name": "stdout",
          "text": [
            "Mounted at /content/mnt\n"
          ]
        }
      ]
    },
    {
      "cell_type": "code",
      "metadata": {
        "id": "vPFu_SqNl_KZ"
      },
      "source": [
        "result_folder = '/content/mnt/MyDrive/results/CoffeeIndex'"
      ],
      "execution_count": null,
      "outputs": []
    },
    {
      "cell_type": "code",
      "metadata": {
        "colab": {
          "base_uri": "https://localhost:8080/"
        },
        "id": "XSIfctrEmHhx",
        "outputId": "2f74d261-654a-481c-d2a6-ff4c08f140b6"
      },
      "source": [
        "from glob import glob\n",
        "for file in glob(f'{result_folder}/*.csv'):\n",
        "    print(file)"
      ],
      "execution_count": null,
      "outputs": [
        {
          "output_type": "stream",
          "name": "stdout",
          "text": [
            "/content/mnt/MyDrive/results/CoffeeIndex/스타벅스.csv\n",
            "/content/mnt/MyDrive/results/CoffeeIndex/커피빈.csv\n",
            "/content/mnt/MyDrive/results/CoffeeIndex/이디야.csv\n",
            "/content/mnt/MyDrive/results/CoffeeIndex/빽다방.csv\n"
          ]
        }
      ]
    },
    {
      "cell_type": "code",
      "metadata": {
        "colab": {
          "base_uri": "https://localhost:8080/",
          "height": 222
        },
        "id": "oOtjwbkfmSxd",
        "outputId": "ca849116-0e33-45e1-c4a5-d6aa3a99bad0"
      },
      "source": [
        "df = pd.read_csv(f'{result_folder}/스타벅스.csv', encoding='utf-8')\n",
        "print(df.shape)\n",
        "df.head()"
      ],
      "execution_count": null,
      "outputs": [
        {
          "output_type": "stream",
          "name": "stdout",
          "text": [
            "(1547, 5)\n"
          ]
        },
        {
          "output_type": "execute_result",
          "data": {
            "text/html": [
              "<div>\n",
              "<style scoped>\n",
              "    .dataframe tbody tr th:only-of-type {\n",
              "        vertical-align: middle;\n",
              "    }\n",
              "\n",
              "    .dataframe tbody tr th {\n",
              "        vertical-align: top;\n",
              "    }\n",
              "\n",
              "    .dataframe thead th {\n",
              "        text-align: right;\n",
              "    }\n",
              "</style>\n",
              "<table border=\"1\" class=\"dataframe\">\n",
              "  <thead>\n",
              "    <tr style=\"text-align: right;\">\n",
              "      <th></th>\n",
              "      <th>상호명</th>\n",
              "      <th>지점명</th>\n",
              "      <th>시도명</th>\n",
              "      <th>시군구명</th>\n",
              "      <th>도로명주소</th>\n",
              "    </tr>\n",
              "  </thead>\n",
              "  <tbody>\n",
              "    <tr>\n",
              "      <th>0</th>\n",
              "      <td>스타벅스강릉안목항점</td>\n",
              "      <td>강릉안목항점</td>\n",
              "      <td>강원도</td>\n",
              "      <td>강릉시</td>\n",
              "      <td>강원도 강릉시 창해로14번길 40</td>\n",
              "    </tr>\n",
              "    <tr>\n",
              "      <th>1</th>\n",
              "      <td>스타벅스</td>\n",
              "      <td>대명델피노리조트점</td>\n",
              "      <td>강원도</td>\n",
              "      <td>고성군</td>\n",
              "      <td>강원도 고성군 토성면 미시령옛길 1153</td>\n",
              "    </tr>\n",
              "    <tr>\n",
              "      <th>2</th>\n",
              "      <td>스타벅스춘천후평DT점</td>\n",
              "      <td>춘천후평DT점</td>\n",
              "      <td>강원도</td>\n",
              "      <td>춘천시</td>\n",
              "      <td>강원도 춘천시 후석로 318</td>\n",
              "    </tr>\n",
              "    <tr>\n",
              "      <th>3</th>\n",
              "      <td>스타벅스</td>\n",
              "      <td>춘천명동점</td>\n",
              "      <td>강원도</td>\n",
              "      <td>춘천시</td>\n",
              "      <td>강원도 춘천시 중앙로 55</td>\n",
              "    </tr>\n",
              "    <tr>\n",
              "      <th>4</th>\n",
              "      <td>스타벅스설악워터피아점</td>\n",
              "      <td>설악워터피아점</td>\n",
              "      <td>강원도</td>\n",
              "      <td>속초시</td>\n",
              "      <td>강원도 속초시 미시령로2983번길 88</td>\n",
              "    </tr>\n",
              "  </tbody>\n",
              "</table>\n",
              "</div>"
            ],
            "text/plain": [
              "           상호명        지점명  시도명 시군구명                   도로명주소\n",
              "0   스타벅스강릉안목항점     강릉안목항점  강원도  강릉시      강원도 강릉시 창해로14번길 40\n",
              "1         스타벅스  대명델피노리조트점  강원도  고성군  강원도 고성군 토성면 미시령옛길 1153\n",
              "2  스타벅스춘천후평DT점    춘천후평DT점  강원도  춘천시         강원도 춘천시 후석로 318\n",
              "3         스타벅스      춘천명동점  강원도  춘천시          강원도 춘천시 중앙로 55\n",
              "4  스타벅스설악워터피아점    설악워터피아점  강원도  속초시   강원도 속초시 미시령로2983번길 88"
            ]
          },
          "metadata": {},
          "execution_count": 269
        }
      ]
    },
    {
      "cell_type": "code",
      "metadata": {
        "id": "2arjVFehm1cV"
      },
      "source": [
        "tmp_gu_dict = {\n",
        "    '수원':['장안구', '권선구', '팔달구', '영통구'], \n",
        "    '성남':['수정구', '중원구', '분당구'], \n",
        "    '안양':['만안구', '동안구'], \n",
        "    '안산':['상록구', '단원구'], \n",
        "    '고양':['덕양구', '일산동구', '일산서구'], \n",
        "    '용인':['처인구', '기흥구', '수지구'], \n",
        "    '청주':['상당구', '서원구', '흥덕구', '청원구'], \n",
        "    '천안':['동남구', '서북구'], \n",
        "    '전주':['완산구', '덕진구'], \n",
        "    '포항':['남구', '북구'], \n",
        "    '창원':['의창구', '성산구', '진해구', '마산합포구', '마산회원구']\n",
        "}"
      ],
      "execution_count": null,
      "outputs": []
    },
    {
      "cell_type": "code",
      "metadata": {
        "id": "t73o0-ZSm8ZN"
      },
      "source": [
        "metro_list = ['서울특별시','부산광역시','대구광역시','인천광역시','대전광역시','광주광역시','울산광역시']\n",
        "\n",
        "\n",
        "def get_ID(df):\n",
        "    si_name = [None] * len(df)\n",
        "    for i in df.index:\n",
        "        if df.시도명[i] in metro_list:\n",
        "            if len(df.시군구명[i]) == 2:\n",
        "                si_name[i] = df.시도명[i][:2] + ' ' + df.시군구명[i]\n",
        "            else:\n",
        "                si_name[i] = df.시도명[i][:2] + ' ' + df.시군구명[i][:-1]     # 긴 구 이름에서 '구' 제외\n",
        "        else:\n",
        "            si_len = len(df.시군구명[i].split())\n",
        "            if si_len == 1:\n",
        "                if df.시군구명[i][:-1] == '고성':\n",
        "                    if df.시도명[i] == '강원도':\n",
        "                        si_name[i] = '고성(강원)'\n",
        "                    else:\n",
        "                        si_name[i] = '고성(경남)'\n",
        "                elif df.시군구명[i][:2] == '세종':\n",
        "                    si_name[i] = '세종'\n",
        "                elif df.시군구명[i][:2] in tmp_gu_dict.keys():\n",
        "                    si_name[i] = df['도로명주소'][i].split()[1][:2] + ' ' + df['도로명주소'][i].split()[2][:-1]\n",
        "                else:\n",
        "                    si_name[i] = df.시군구명[i][:-1]\n",
        "            else:\n",
        "                _, admingu = df.시군구명[i].split()\n",
        "                for key, values in tmp_gu_dict.items():\n",
        "                    if admingu in values:\n",
        "                        if len(admingu) == 2:\n",
        "                            si_name[i] = key + ' ' + admingu\n",
        "                        elif admingu in ['마산합포구', '마산회원구']:\n",
        "                            si_name[i] = key + ' ' + admingu[2:-1]\n",
        "                        else:\n",
        "                            si_name[i] = key + ' ' + admingu[:-1]\n",
        "    \n",
        "    return si_name"
      ],
      "execution_count": null,
      "outputs": []
    },
    {
      "cell_type": "code",
      "metadata": {
        "id": "7O4IgdGxscLg"
      },
      "source": [
        "df['ID'] = get_ID(df)\n",
        "# del df['시도명']\n",
        "# del df['시군구명']\n",
        "df.head(60)"
      ],
      "execution_count": null,
      "outputs": []
    },
    {
      "cell_type": "markdown",
      "metadata": {
        "id": "R6Y2kvJRstsp"
      },
      "source": [
        "## 반복문으로 전체"
      ]
    },
    {
      "cell_type": "code",
      "metadata": {
        "colab": {
          "base_uri": "https://localhost:8080/"
        },
        "id": "2mf23PXtrhp7",
        "outputId": "bb232df3-a117-49bf-c75f-65b6ec4612ac"
      },
      "source": [
        "list = []\n",
        "for file in glob(f'{result_folder}/*.csv'):\n",
        "    list.append(file)\n",
        "\n",
        "list"
      ],
      "execution_count": null,
      "outputs": [
        {
          "output_type": "execute_result",
          "data": {
            "text/plain": [
              "['/content/mnt/MyDrive/results/CoffeeIndex/스타벅스.csv',\n",
              " '/content/mnt/MyDrive/results/CoffeeIndex/커피빈.csv',\n",
              " '/content/mnt/MyDrive/results/CoffeeIndex/이디야.csv',\n",
              " '/content/mnt/MyDrive/results/CoffeeIndex/빽다방.csv']"
            ]
          },
          "metadata": {},
          "execution_count": 274
        }
      ]
    },
    {
      "cell_type": "code",
      "metadata": {
        "colab": {
          "base_uri": "https://localhost:8080/",
          "height": 35
        },
        "id": "bh3v4pqYwiKv",
        "outputId": "263684de-d4b9-43ac-cf85-7de478b1dc97"
      },
      "source": [
        "a= list[0]\n",
        "a[41:-4]"
      ],
      "execution_count": null,
      "outputs": [
        {
          "output_type": "execute_result",
          "data": {
            "application/vnd.google.colaboratory.intrinsic+json": {
              "type": "string"
            },
            "text/plain": [
              "'스타벅스'"
            ]
          },
          "metadata": {},
          "execution_count": 128
        }
      ]
    },
    {
      "cell_type": "code",
      "metadata": {
        "id": "i2WG-dKCw3e6"
      },
      "source": [
        "result_dir = f'{result_folder}/전처리'"
      ],
      "execution_count": null,
      "outputs": []
    },
    {
      "cell_type": "code",
      "metadata": {
        "id": "HPuWSeV6w0bK"
      },
      "source": [
        "!mkdir -p $result_dir"
      ],
      "execution_count": null,
      "outputs": []
    },
    {
      "cell_type": "code",
      "metadata": {
        "id": "QpakrdlStQwD"
      },
      "source": [
        "for filename in list:\n",
        "    # 파일 불러오기\n",
        "    df = pd.read_csv(f'{filename}', encoding='utf-8')\n",
        "\n",
        "\n",
        "    df['ID'] = get_ID(df)\n",
        "\n",
        "    df.to_csv(f'{result_folder}/전처리/{filename[41:-4]}_전처리.csv', index=False)"
      ],
      "execution_count": null,
      "outputs": []
    },
    {
      "cell_type": "markdown",
      "metadata": {
        "id": "3-2YlPVWu-a4"
      },
      "source": [
        "## ID별로 커피 점포수 계산하기"
      ]
    },
    {
      "cell_type": "code",
      "metadata": {
        "colab": {
          "base_uri": "https://localhost:8080/"
        },
        "id": "-fBpuDy2u7mq",
        "outputId": "52235d47-7da8-4dbd-e908-af187052f937"
      },
      "source": [
        "for file in glob(f'{result_folder}/전처리/*.csv'):\n",
        "    print(file)"
      ],
      "execution_count": null,
      "outputs": [
        {
          "output_type": "stream",
          "name": "stdout",
          "text": [
            "/content/mnt/MyDrive/results/CoffeeIndex/전처리/스타벅스_전처리.csv\n",
            "/content/mnt/MyDrive/results/CoffeeIndex/전처리/커피빈_전처리.csv\n",
            "/content/mnt/MyDrive/results/CoffeeIndex/전처리/이디야_전처리.csv\n",
            "/content/mnt/MyDrive/results/CoffeeIndex/전처리/빽다방_전처리.csv\n"
          ]
        }
      ]
    },
    {
      "cell_type": "code",
      "metadata": {
        "colab": {
          "base_uri": "https://localhost:8080/",
          "height": 417
        },
        "id": "GWGDcNRpxLIw",
        "outputId": "42a4d90d-d106-477a-9882-78423eaacec6"
      },
      "source": [
        "df = pd.read_csv(f'{result_folder}/전처리/스타벅스_전처리.csv', encoding='utf-8')\n",
        "df"
      ],
      "execution_count": null,
      "outputs": [
        {
          "output_type": "execute_result",
          "data": {
            "text/html": [
              "<div>\n",
              "<style scoped>\n",
              "    .dataframe tbody tr th:only-of-type {\n",
              "        vertical-align: middle;\n",
              "    }\n",
              "\n",
              "    .dataframe tbody tr th {\n",
              "        vertical-align: top;\n",
              "    }\n",
              "\n",
              "    .dataframe thead th {\n",
              "        text-align: right;\n",
              "    }\n",
              "</style>\n",
              "<table border=\"1\" class=\"dataframe\">\n",
              "  <thead>\n",
              "    <tr style=\"text-align: right;\">\n",
              "      <th></th>\n",
              "      <th>상호명</th>\n",
              "      <th>지점명</th>\n",
              "      <th>시도명</th>\n",
              "      <th>시군구명</th>\n",
              "      <th>도로명주소</th>\n",
              "      <th>ID</th>\n",
              "    </tr>\n",
              "  </thead>\n",
              "  <tbody>\n",
              "    <tr>\n",
              "      <th>0</th>\n",
              "      <td>스타벅스강릉안목항점</td>\n",
              "      <td>강릉안목항점</td>\n",
              "      <td>강원도</td>\n",
              "      <td>강릉시</td>\n",
              "      <td>강원도 강릉시 창해로14번길 40</td>\n",
              "      <td>강릉</td>\n",
              "    </tr>\n",
              "    <tr>\n",
              "      <th>1</th>\n",
              "      <td>스타벅스</td>\n",
              "      <td>대명델피노리조트점</td>\n",
              "      <td>강원도</td>\n",
              "      <td>고성군</td>\n",
              "      <td>강원도 고성군 토성면 미시령옛길 1153</td>\n",
              "      <td>고성(강원)</td>\n",
              "    </tr>\n",
              "    <tr>\n",
              "      <th>2</th>\n",
              "      <td>스타벅스춘천후평DT점</td>\n",
              "      <td>춘천후평DT점</td>\n",
              "      <td>강원도</td>\n",
              "      <td>춘천시</td>\n",
              "      <td>강원도 춘천시 후석로 318</td>\n",
              "      <td>춘천</td>\n",
              "    </tr>\n",
              "    <tr>\n",
              "      <th>3</th>\n",
              "      <td>스타벅스</td>\n",
              "      <td>춘천명동점</td>\n",
              "      <td>강원도</td>\n",
              "      <td>춘천시</td>\n",
              "      <td>강원도 춘천시 중앙로 55</td>\n",
              "      <td>춘천</td>\n",
              "    </tr>\n",
              "    <tr>\n",
              "      <th>4</th>\n",
              "      <td>스타벅스설악워터피아점</td>\n",
              "      <td>설악워터피아점</td>\n",
              "      <td>강원도</td>\n",
              "      <td>속초시</td>\n",
              "      <td>강원도 속초시 미시령로2983번길 88</td>\n",
              "      <td>속초</td>\n",
              "    </tr>\n",
              "    <tr>\n",
              "      <th>...</th>\n",
              "      <td>...</td>\n",
              "      <td>...</td>\n",
              "      <td>...</td>\n",
              "      <td>...</td>\n",
              "      <td>...</td>\n",
              "      <td>...</td>\n",
              "    </tr>\n",
              "    <tr>\n",
              "      <th>1542</th>\n",
              "      <td>스타벅스</td>\n",
              "      <td>충북대점</td>\n",
              "      <td>충청북도</td>\n",
              "      <td>청주시 서원구</td>\n",
              "      <td>충청북도 청주시 서원구 내수동로 113</td>\n",
              "      <td>청주 서원</td>\n",
              "    </tr>\n",
              "    <tr>\n",
              "      <th>1543</th>\n",
              "      <td>스타벅스</td>\n",
              "      <td>청주율량DT점</td>\n",
              "      <td>충청북도</td>\n",
              "      <td>청주시 청원구</td>\n",
              "      <td>충청북도 청주시 청원구 충청대로107번길 8</td>\n",
              "      <td>청주 청원</td>\n",
              "    </tr>\n",
              "    <tr>\n",
              "      <th>1544</th>\n",
              "      <td>스타벅스</td>\n",
              "      <td>충주연수점</td>\n",
              "      <td>충청북도</td>\n",
              "      <td>충주시</td>\n",
              "      <td>충청북도 충주시 계명대로 227</td>\n",
              "      <td>충주</td>\n",
              "    </tr>\n",
              "    <tr>\n",
              "      <th>1545</th>\n",
              "      <td>스타벅스</td>\n",
              "      <td>충주성서점</td>\n",
              "      <td>충청북도</td>\n",
              "      <td>충주시</td>\n",
              "      <td>충청북도 충주시 예성로 151</td>\n",
              "      <td>충주</td>\n",
              "    </tr>\n",
              "    <tr>\n",
              "      <th>1546</th>\n",
              "      <td>스타벅스</td>\n",
              "      <td>NaN</td>\n",
              "      <td>충청북도</td>\n",
              "      <td>음성군</td>\n",
              "      <td>충청북도 음성군 원남면 보천로 65</td>\n",
              "      <td>음성</td>\n",
              "    </tr>\n",
              "  </tbody>\n",
              "</table>\n",
              "<p>1547 rows × 6 columns</p>\n",
              "</div>"
            ],
            "text/plain": [
              "              상호명        지점명   시도명     시군구명                     도로명주소      ID\n",
              "0      스타벅스강릉안목항점     강릉안목항점   강원도      강릉시        강원도 강릉시 창해로14번길 40      강릉\n",
              "1            스타벅스  대명델피노리조트점   강원도      고성군    강원도 고성군 토성면 미시령옛길 1153  고성(강원)\n",
              "2     스타벅스춘천후평DT점    춘천후평DT점   강원도      춘천시           강원도 춘천시 후석로 318      춘천\n",
              "3            스타벅스      춘천명동점   강원도      춘천시            강원도 춘천시 중앙로 55      춘천\n",
              "4     스타벅스설악워터피아점    설악워터피아점   강원도      속초시     강원도 속초시 미시령로2983번길 88      속초\n",
              "...           ...        ...   ...      ...                       ...     ...\n",
              "1542         스타벅스       충북대점  충청북도  청주시 서원구     충청북도 청주시 서원구 내수동로 113   청주 서원\n",
              "1543         스타벅스    청주율량DT점  충청북도  청주시 청원구  충청북도 청주시 청원구 충청대로107번길 8   청주 청원\n",
              "1544         스타벅스      충주연수점  충청북도      충주시         충청북도 충주시 계명대로 227      충주\n",
              "1545         스타벅스      충주성서점  충청북도      충주시          충청북도 충주시 예성로 151      충주\n",
              "1546         스타벅스        NaN  충청북도      음성군       충청북도 음성군 원남면 보천로 65      음성\n",
              "\n",
              "[1547 rows x 6 columns]"
            ]
          },
          "metadata": {},
          "execution_count": 278
        }
      ]
    },
    {
      "cell_type": "code",
      "metadata": {
        "colab": {
          "base_uri": "https://localhost:8080/",
          "height": 447
        },
        "id": "Es2JBzQxxnQp",
        "outputId": "ab0c6890-e0bf-417c-bf76-697b1d4cf865"
      },
      "source": [
        "df_group = df.groupby(df.ID).count()\n",
        "df_group = df_group[['상호명']]\n",
        "df_group.columns = ['스타벅스']\n",
        "df_group"
      ],
      "execution_count": null,
      "outputs": [
        {
          "output_type": "execute_result",
          "data": {
            "text/html": [
              "<div>\n",
              "<style scoped>\n",
              "    .dataframe tbody tr th:only-of-type {\n",
              "        vertical-align: middle;\n",
              "    }\n",
              "\n",
              "    .dataframe tbody tr th {\n",
              "        vertical-align: top;\n",
              "    }\n",
              "\n",
              "    .dataframe thead th {\n",
              "        text-align: right;\n",
              "    }\n",
              "</style>\n",
              "<table border=\"1\" class=\"dataframe\">\n",
              "  <thead>\n",
              "    <tr style=\"text-align: right;\">\n",
              "      <th></th>\n",
              "      <th>스타벅스</th>\n",
              "    </tr>\n",
              "    <tr>\n",
              "      <th>ID</th>\n",
              "      <th></th>\n",
              "    </tr>\n",
              "  </thead>\n",
              "  <tbody>\n",
              "    <tr>\n",
              "      <th>가평</th>\n",
              "      <td>2</td>\n",
              "    </tr>\n",
              "    <tr>\n",
              "      <th>강릉</th>\n",
              "      <td>5</td>\n",
              "    </tr>\n",
              "    <tr>\n",
              "      <th>거제</th>\n",
              "      <td>6</td>\n",
              "    </tr>\n",
              "    <tr>\n",
              "      <th>경산</th>\n",
              "      <td>8</td>\n",
              "    </tr>\n",
              "    <tr>\n",
              "      <th>경주</th>\n",
              "      <td>8</td>\n",
              "    </tr>\n",
              "    <tr>\n",
              "      <th>...</th>\n",
              "      <td>...</td>\n",
              "    </tr>\n",
              "    <tr>\n",
              "      <th>하동</th>\n",
              "      <td>1</td>\n",
              "    </tr>\n",
              "    <tr>\n",
              "      <th>함양</th>\n",
              "      <td>1</td>\n",
              "    </tr>\n",
              "    <tr>\n",
              "      <th>홍천</th>\n",
              "      <td>2</td>\n",
              "    </tr>\n",
              "    <tr>\n",
              "      <th>화성</th>\n",
              "      <td>16</td>\n",
              "    </tr>\n",
              "    <tr>\n",
              "      <th>횡성</th>\n",
              "      <td>1</td>\n",
              "    </tr>\n",
              "  </tbody>\n",
              "</table>\n",
              "<p>192 rows × 1 columns</p>\n",
              "</div>"
            ],
            "text/plain": [
              "    스타벅스\n",
              "ID      \n",
              "가평     2\n",
              "강릉     5\n",
              "거제     6\n",
              "경산     8\n",
              "경주     8\n",
              "..   ...\n",
              "하동     1\n",
              "함양     1\n",
              "홍천     2\n",
              "화성    16\n",
              "횡성     1\n",
              "\n",
              "[192 rows x 1 columns]"
            ]
          },
          "metadata": {},
          "execution_count": 279
        }
      ]
    },
    {
      "cell_type": "code",
      "metadata": {
        "id": "e7YO0GM7PXY2"
      },
      "source": [
        "# 함수만들기\n",
        "def df_count(df, name):\n",
        "    df_group = df.groupby(df.ID).count()\n",
        "    df_group = df_group[['상호명']]\n",
        "    df_group.columns = [f'{name}']\n",
        "    \n",
        "    return df_group"
      ],
      "execution_count": 308,
      "outputs": []
    },
    {
      "cell_type": "markdown",
      "metadata": {
        "id": "dfOz6scmyGVY"
      },
      "source": [
        "- 반복문으로 한방에"
      ]
    },
    {
      "cell_type": "code",
      "metadata": {
        "colab": {
          "base_uri": "https://localhost:8080/"
        },
        "id": "1uAJ3gQuyKdI",
        "outputId": "3bbae1d8-61a1-4110-e798-1daaf4e3644d"
      },
      "source": [
        "list = []\n",
        "for file in glob(f'{result_folder}/전처리/*.csv'):\n",
        "    list.append(file)\n",
        "\n",
        "list"
      ],
      "execution_count": 309,
      "outputs": [
        {
          "output_type": "execute_result",
          "data": {
            "text/plain": [
              "['/content/mnt/MyDrive/results/CoffeeIndex/전처리/스타벅스_전처리.csv',\n",
              " '/content/mnt/MyDrive/results/CoffeeIndex/전처리/커피빈_전처리.csv',\n",
              " '/content/mnt/MyDrive/results/CoffeeIndex/전처리/이디야_전처리.csv',\n",
              " '/content/mnt/MyDrive/results/CoffeeIndex/전처리/빽다방_전처리.csv',\n",
              " '/content/mnt/MyDrive/results/CoffeeIndex/전처리/전처리종합.csv']"
            ]
          },
          "metadata": {},
          "execution_count": 309
        }
      ]
    },
    {
      "cell_type": "code",
      "metadata": {
        "id": "oRn5NxtbaTFs"
      },
      "source": [
        "stb = pd.read_csv(f'{list[0]}', encoding='utf-8')\n",
        "cfb = pd.read_csv(f'{list[1]}', encoding='utf-8')\n",
        "edy = pd.read_csv(f'{list[2]}', encoding='utf-8')\n",
        "pdb = pd.read_csv(f'{list[3]}', encoding='utf-8')"
      ],
      "execution_count": 310,
      "outputs": []
    },
    {
      "cell_type": "code",
      "metadata": {
        "id": "GwczcWylaeyk"
      },
      "source": [
        "stb = df_count(stb, '스타벅스')\n",
        "cfb = df_count(cfb, '커피빈')\n",
        "edy = df_count(edy, '이디야')\n",
        "pdb = df_count(pdb, '빽다방')"
      ],
      "execution_count": 312,
      "outputs": []
    },
    {
      "cell_type": "code",
      "metadata": {
        "colab": {
          "base_uri": "https://localhost:8080/",
          "height": 314
        },
        "id": "Oyf5BiGJawkM",
        "outputId": "9f1a310d-25a7-4c0c-9583-d60eaf91415b"
      },
      "source": [
        "df_all = pd.merge(edy, stb, how='left', on='ID')\n",
        "df_all = pd.merge(df_all, cfb, how='left', on='ID')\n",
        "df_all = pd.merge(df_all, pdb, how='left', on='ID')\n",
        "print(df_all.shape)\n",
        "df_all.head(7)"
      ],
      "execution_count": 313,
      "outputs": [
        {
          "output_type": "stream",
          "name": "stdout",
          "text": [
            "(237, 4)\n"
          ]
        },
        {
          "output_type": "execute_result",
          "data": {
            "text/html": [
              "<div>\n",
              "<style scoped>\n",
              "    .dataframe tbody tr th:only-of-type {\n",
              "        vertical-align: middle;\n",
              "    }\n",
              "\n",
              "    .dataframe tbody tr th {\n",
              "        vertical-align: top;\n",
              "    }\n",
              "\n",
              "    .dataframe thead th {\n",
              "        text-align: right;\n",
              "    }\n",
              "</style>\n",
              "<table border=\"1\" class=\"dataframe\">\n",
              "  <thead>\n",
              "    <tr style=\"text-align: right;\">\n",
              "      <th></th>\n",
              "      <th>이디야</th>\n",
              "      <th>스타벅스</th>\n",
              "      <th>커피빈</th>\n",
              "      <th>빽다방</th>\n",
              "    </tr>\n",
              "    <tr>\n",
              "      <th>ID</th>\n",
              "      <th></th>\n",
              "      <th></th>\n",
              "      <th></th>\n",
              "      <th></th>\n",
              "    </tr>\n",
              "  </thead>\n",
              "  <tbody>\n",
              "    <tr>\n",
              "      <th>가평</th>\n",
              "      <td>9</td>\n",
              "      <td>2.0</td>\n",
              "      <td>NaN</td>\n",
              "      <td>NaN</td>\n",
              "    </tr>\n",
              "    <tr>\n",
              "      <th>강릉</th>\n",
              "      <td>15</td>\n",
              "      <td>5.0</td>\n",
              "      <td>NaN</td>\n",
              "      <td>2.0</td>\n",
              "    </tr>\n",
              "    <tr>\n",
              "      <th>강진</th>\n",
              "      <td>1</td>\n",
              "      <td>NaN</td>\n",
              "      <td>NaN</td>\n",
              "      <td>NaN</td>\n",
              "    </tr>\n",
              "    <tr>\n",
              "      <th>거제</th>\n",
              "      <td>9</td>\n",
              "      <td>6.0</td>\n",
              "      <td>NaN</td>\n",
              "      <td>NaN</td>\n",
              "    </tr>\n",
              "    <tr>\n",
              "      <th>거창</th>\n",
              "      <td>1</td>\n",
              "      <td>NaN</td>\n",
              "      <td>NaN</td>\n",
              "      <td>1.0</td>\n",
              "    </tr>\n",
              "    <tr>\n",
              "      <th>경산</th>\n",
              "      <td>9</td>\n",
              "      <td>8.0</td>\n",
              "      <td>NaN</td>\n",
              "      <td>4.0</td>\n",
              "    </tr>\n",
              "    <tr>\n",
              "      <th>경주</th>\n",
              "      <td>25</td>\n",
              "      <td>8.0</td>\n",
              "      <td>2.0</td>\n",
              "      <td>1.0</td>\n",
              "    </tr>\n",
              "  </tbody>\n",
              "</table>\n",
              "</div>"
            ],
            "text/plain": [
              "    이디야  스타벅스  커피빈  빽다방\n",
              "ID                     \n",
              "가평    9   2.0  NaN  NaN\n",
              "강릉   15   5.0  NaN  2.0\n",
              "강진    1   NaN  NaN  NaN\n",
              "거제    9   6.0  NaN  NaN\n",
              "거창    1   NaN  NaN  1.0\n",
              "경산    9   8.0  NaN  4.0\n",
              "경주   25   8.0  2.0  1.0"
            ]
          },
          "metadata": {},
          "execution_count": 313
        }
      ]
    },
    {
      "cell_type": "code",
      "metadata": {
        "colab": {
          "base_uri": "https://localhost:8080/",
          "height": 447
        },
        "id": "ZlgzztuP0enw",
        "outputId": "97b006a8-9aeb-4ee6-97ea-4020df8c8f16"
      },
      "source": [
        "# NaN 제거\n",
        "df_all = df_all.fillna(0)\n",
        "df_all"
      ],
      "execution_count": 314,
      "outputs": [
        {
          "output_type": "execute_result",
          "data": {
            "text/html": [
              "<div>\n",
              "<style scoped>\n",
              "    .dataframe tbody tr th:only-of-type {\n",
              "        vertical-align: middle;\n",
              "    }\n",
              "\n",
              "    .dataframe tbody tr th {\n",
              "        vertical-align: top;\n",
              "    }\n",
              "\n",
              "    .dataframe thead th {\n",
              "        text-align: right;\n",
              "    }\n",
              "</style>\n",
              "<table border=\"1\" class=\"dataframe\">\n",
              "  <thead>\n",
              "    <tr style=\"text-align: right;\">\n",
              "      <th></th>\n",
              "      <th>이디야</th>\n",
              "      <th>스타벅스</th>\n",
              "      <th>커피빈</th>\n",
              "      <th>빽다방</th>\n",
              "    </tr>\n",
              "    <tr>\n",
              "      <th>ID</th>\n",
              "      <th></th>\n",
              "      <th></th>\n",
              "      <th></th>\n",
              "      <th></th>\n",
              "    </tr>\n",
              "  </thead>\n",
              "  <tbody>\n",
              "    <tr>\n",
              "      <th>가평</th>\n",
              "      <td>9</td>\n",
              "      <td>2.0</td>\n",
              "      <td>0.0</td>\n",
              "      <td>0.0</td>\n",
              "    </tr>\n",
              "    <tr>\n",
              "      <th>강릉</th>\n",
              "      <td>15</td>\n",
              "      <td>5.0</td>\n",
              "      <td>0.0</td>\n",
              "      <td>2.0</td>\n",
              "    </tr>\n",
              "    <tr>\n",
              "      <th>강진</th>\n",
              "      <td>1</td>\n",
              "      <td>0.0</td>\n",
              "      <td>0.0</td>\n",
              "      <td>0.0</td>\n",
              "    </tr>\n",
              "    <tr>\n",
              "      <th>거제</th>\n",
              "      <td>9</td>\n",
              "      <td>6.0</td>\n",
              "      <td>0.0</td>\n",
              "      <td>0.0</td>\n",
              "    </tr>\n",
              "    <tr>\n",
              "      <th>거창</th>\n",
              "      <td>1</td>\n",
              "      <td>0.0</td>\n",
              "      <td>0.0</td>\n",
              "      <td>1.0</td>\n",
              "    </tr>\n",
              "    <tr>\n",
              "      <th>...</th>\n",
              "      <td>...</td>\n",
              "      <td>...</td>\n",
              "      <td>...</td>\n",
              "      <td>...</td>\n",
              "    </tr>\n",
              "    <tr>\n",
              "      <th>홍천</th>\n",
              "      <td>3</td>\n",
              "      <td>2.0</td>\n",
              "      <td>0.0</td>\n",
              "      <td>1.0</td>\n",
              "    </tr>\n",
              "    <tr>\n",
              "      <th>화성</th>\n",
              "      <td>28</td>\n",
              "      <td>16.0</td>\n",
              "      <td>5.0</td>\n",
              "      <td>10.0</td>\n",
              "    </tr>\n",
              "    <tr>\n",
              "      <th>화순</th>\n",
              "      <td>1</td>\n",
              "      <td>0.0</td>\n",
              "      <td>0.0</td>\n",
              "      <td>1.0</td>\n",
              "    </tr>\n",
              "    <tr>\n",
              "      <th>화천</th>\n",
              "      <td>1</td>\n",
              "      <td>0.0</td>\n",
              "      <td>0.0</td>\n",
              "      <td>1.0</td>\n",
              "    </tr>\n",
              "    <tr>\n",
              "      <th>횡성</th>\n",
              "      <td>1</td>\n",
              "      <td>1.0</td>\n",
              "      <td>0.0</td>\n",
              "      <td>0.0</td>\n",
              "    </tr>\n",
              "  </tbody>\n",
              "</table>\n",
              "<p>237 rows × 4 columns</p>\n",
              "</div>"
            ],
            "text/plain": [
              "    이디야  스타벅스  커피빈   빽다방\n",
              "ID                      \n",
              "가평    9   2.0  0.0   0.0\n",
              "강릉   15   5.0  0.0   2.0\n",
              "강진    1   0.0  0.0   0.0\n",
              "거제    9   6.0  0.0   0.0\n",
              "거창    1   0.0  0.0   1.0\n",
              "..  ...   ...  ...   ...\n",
              "홍천    3   2.0  0.0   1.0\n",
              "화성   28  16.0  5.0  10.0\n",
              "화순    1   0.0  0.0   1.0\n",
              "화천    1   0.0  0.0   1.0\n",
              "횡성    1   1.0  0.0   0.0\n",
              "\n",
              "[237 rows x 4 columns]"
            ]
          },
          "metadata": {},
          "execution_count": 314
        }
      ]
    },
    {
      "cell_type": "markdown",
      "metadata": {
        "id": "as2drC7q1ReY"
      },
      "source": [
        "- 커피지수"
      ]
    },
    {
      "cell_type": "code",
      "metadata": {
        "colab": {
          "base_uri": "https://localhost:8080/",
          "height": 234
        },
        "id": "4B1vcsdibsEE",
        "outputId": "7558958f-97f4-4726-c88a-07ec4c2a0d63"
      },
      "source": [
        "df_all['커피지수'] = ((df_all['스타벅스'] + df_all['커피빈']) / (df_all['이디야'] + df_all['빽다방']))\n",
        "df_all.head()"
      ],
      "execution_count": 317,
      "outputs": [
        {
          "output_type": "execute_result",
          "data": {
            "text/html": [
              "<div>\n",
              "<style scoped>\n",
              "    .dataframe tbody tr th:only-of-type {\n",
              "        vertical-align: middle;\n",
              "    }\n",
              "\n",
              "    .dataframe tbody tr th {\n",
              "        vertical-align: top;\n",
              "    }\n",
              "\n",
              "    .dataframe thead th {\n",
              "        text-align: right;\n",
              "    }\n",
              "</style>\n",
              "<table border=\"1\" class=\"dataframe\">\n",
              "  <thead>\n",
              "    <tr style=\"text-align: right;\">\n",
              "      <th></th>\n",
              "      <th>이디야</th>\n",
              "      <th>스타벅스</th>\n",
              "      <th>커피빈</th>\n",
              "      <th>빽다방</th>\n",
              "      <th>커피지수</th>\n",
              "    </tr>\n",
              "    <tr>\n",
              "      <th>ID</th>\n",
              "      <th></th>\n",
              "      <th></th>\n",
              "      <th></th>\n",
              "      <th></th>\n",
              "      <th></th>\n",
              "    </tr>\n",
              "  </thead>\n",
              "  <tbody>\n",
              "    <tr>\n",
              "      <th>가평</th>\n",
              "      <td>9</td>\n",
              "      <td>2.0</td>\n",
              "      <td>0.0</td>\n",
              "      <td>0.0</td>\n",
              "      <td>0.222222</td>\n",
              "    </tr>\n",
              "    <tr>\n",
              "      <th>강릉</th>\n",
              "      <td>15</td>\n",
              "      <td>5.0</td>\n",
              "      <td>0.0</td>\n",
              "      <td>2.0</td>\n",
              "      <td>0.294118</td>\n",
              "    </tr>\n",
              "    <tr>\n",
              "      <th>강진</th>\n",
              "      <td>1</td>\n",
              "      <td>0.0</td>\n",
              "      <td>0.0</td>\n",
              "      <td>0.0</td>\n",
              "      <td>0.000000</td>\n",
              "    </tr>\n",
              "    <tr>\n",
              "      <th>거제</th>\n",
              "      <td>9</td>\n",
              "      <td>6.0</td>\n",
              "      <td>0.0</td>\n",
              "      <td>0.0</td>\n",
              "      <td>0.666667</td>\n",
              "    </tr>\n",
              "    <tr>\n",
              "      <th>거창</th>\n",
              "      <td>1</td>\n",
              "      <td>0.0</td>\n",
              "      <td>0.0</td>\n",
              "      <td>1.0</td>\n",
              "      <td>0.000000</td>\n",
              "    </tr>\n",
              "  </tbody>\n",
              "</table>\n",
              "</div>"
            ],
            "text/plain": [
              "    이디야  스타벅스  커피빈  빽다방      커피지수\n",
              "ID                               \n",
              "가평    9   2.0  0.0  0.0  0.222222\n",
              "강릉   15   5.0  0.0  2.0  0.294118\n",
              "강진    1   0.0  0.0  0.0  0.000000\n",
              "거제    9   6.0  0.0  0.0  0.666667\n",
              "거창    1   0.0  0.0  1.0  0.000000"
            ]
          },
          "metadata": {},
          "execution_count": 317
        }
      ]
    },
    {
      "cell_type": "code",
      "metadata": {
        "colab": {
          "base_uri": "https://localhost:8080/",
          "height": 203
        },
        "id": "8-GHayjv2Qt7",
        "outputId": "9e5fc2fd-9400-4e0f-e5c5-2ae2cf27b55d"
      },
      "source": [
        "df_all.reset_index(inplace=True)\n",
        "df_all.head()"
      ],
      "execution_count": 318,
      "outputs": [
        {
          "output_type": "execute_result",
          "data": {
            "text/html": [
              "<div>\n",
              "<style scoped>\n",
              "    .dataframe tbody tr th:only-of-type {\n",
              "        vertical-align: middle;\n",
              "    }\n",
              "\n",
              "    .dataframe tbody tr th {\n",
              "        vertical-align: top;\n",
              "    }\n",
              "\n",
              "    .dataframe thead th {\n",
              "        text-align: right;\n",
              "    }\n",
              "</style>\n",
              "<table border=\"1\" class=\"dataframe\">\n",
              "  <thead>\n",
              "    <tr style=\"text-align: right;\">\n",
              "      <th></th>\n",
              "      <th>ID</th>\n",
              "      <th>이디야</th>\n",
              "      <th>스타벅스</th>\n",
              "      <th>커피빈</th>\n",
              "      <th>빽다방</th>\n",
              "      <th>커피지수</th>\n",
              "    </tr>\n",
              "  </thead>\n",
              "  <tbody>\n",
              "    <tr>\n",
              "      <th>0</th>\n",
              "      <td>가평</td>\n",
              "      <td>9</td>\n",
              "      <td>2.0</td>\n",
              "      <td>0.0</td>\n",
              "      <td>0.0</td>\n",
              "      <td>0.222222</td>\n",
              "    </tr>\n",
              "    <tr>\n",
              "      <th>1</th>\n",
              "      <td>강릉</td>\n",
              "      <td>15</td>\n",
              "      <td>5.0</td>\n",
              "      <td>0.0</td>\n",
              "      <td>2.0</td>\n",
              "      <td>0.294118</td>\n",
              "    </tr>\n",
              "    <tr>\n",
              "      <th>2</th>\n",
              "      <td>강진</td>\n",
              "      <td>1</td>\n",
              "      <td>0.0</td>\n",
              "      <td>0.0</td>\n",
              "      <td>0.0</td>\n",
              "      <td>0.000000</td>\n",
              "    </tr>\n",
              "    <tr>\n",
              "      <th>3</th>\n",
              "      <td>거제</td>\n",
              "      <td>9</td>\n",
              "      <td>6.0</td>\n",
              "      <td>0.0</td>\n",
              "      <td>0.0</td>\n",
              "      <td>0.666667</td>\n",
              "    </tr>\n",
              "    <tr>\n",
              "      <th>4</th>\n",
              "      <td>거창</td>\n",
              "      <td>1</td>\n",
              "      <td>0.0</td>\n",
              "      <td>0.0</td>\n",
              "      <td>1.0</td>\n",
              "      <td>0.000000</td>\n",
              "    </tr>\n",
              "  </tbody>\n",
              "</table>\n",
              "</div>"
            ],
            "text/plain": [
              "   ID  이디야  스타벅스  커피빈  빽다방      커피지수\n",
              "0  가평    9   2.0  0.0  0.0  0.222222\n",
              "1  강릉   15   5.0  0.0  2.0  0.294118\n",
              "2  강진    1   0.0  0.0  0.0  0.000000\n",
              "3  거제    9   6.0  0.0  0.0  0.666667\n",
              "4  거창    1   0.0  0.0  1.0  0.000000"
            ]
          },
          "metadata": {},
          "execution_count": 318
        }
      ]
    },
    {
      "cell_type": "code",
      "metadata": {
        "colab": {
          "base_uri": "https://localhost:8080/",
          "height": 222
        },
        "id": "HWbq8wJF4Yqb",
        "outputId": "ccc14c5e-26a7-4e84-d3e4-c85a6f36508d"
      },
      "source": [
        "map_raw = pd.read_excel('/content/mnt/MyDrive/Data/인구소멸위기지역/draw_korea_raw(2021).xlsx')\n",
        "map = pd.DataFrame(map_raw.stack())\n",
        "map.reset_index(inplace = True)\n",
        "print(map.shape)\n",
        "map.head()"
      ],
      "execution_count": 326,
      "outputs": [
        {
          "output_type": "stream",
          "name": "stdout",
          "text": [
            "(250, 3)\n"
          ]
        },
        {
          "output_type": "execute_result",
          "data": {
            "text/html": [
              "<div>\n",
              "<style scoped>\n",
              "    .dataframe tbody tr th:only-of-type {\n",
              "        vertical-align: middle;\n",
              "    }\n",
              "\n",
              "    .dataframe tbody tr th {\n",
              "        vertical-align: top;\n",
              "    }\n",
              "\n",
              "    .dataframe thead th {\n",
              "        text-align: right;\n",
              "    }\n",
              "</style>\n",
              "<table border=\"1\" class=\"dataframe\">\n",
              "  <thead>\n",
              "    <tr style=\"text-align: right;\">\n",
              "      <th></th>\n",
              "      <th>level_0</th>\n",
              "      <th>level_1</th>\n",
              "      <th>0</th>\n",
              "    </tr>\n",
              "  </thead>\n",
              "  <tbody>\n",
              "    <tr>\n",
              "      <th>0</th>\n",
              "      <td>0</td>\n",
              "      <td>7</td>\n",
              "      <td>철원</td>\n",
              "    </tr>\n",
              "    <tr>\n",
              "      <th>1</th>\n",
              "      <td>0</td>\n",
              "      <td>8</td>\n",
              "      <td>화천</td>\n",
              "    </tr>\n",
              "    <tr>\n",
              "      <th>2</th>\n",
              "      <td>0</td>\n",
              "      <td>9</td>\n",
              "      <td>양구</td>\n",
              "    </tr>\n",
              "    <tr>\n",
              "      <th>3</th>\n",
              "      <td>0</td>\n",
              "      <td>10</td>\n",
              "      <td>고성(강원)</td>\n",
              "    </tr>\n",
              "    <tr>\n",
              "      <th>4</th>\n",
              "      <td>1</td>\n",
              "      <td>3</td>\n",
              "      <td>양주</td>\n",
              "    </tr>\n",
              "  </tbody>\n",
              "</table>\n",
              "</div>"
            ],
            "text/plain": [
              "   level_0  level_1       0\n",
              "0        0        7      철원\n",
              "1        0        8      화천\n",
              "2        0        9      양구\n",
              "3        0       10  고성(강원)\n",
              "4        1        3      양주"
            ]
          },
          "metadata": {},
          "execution_count": 326
        }
      ]
    },
    {
      "cell_type": "code",
      "metadata": {
        "colab": {
          "base_uri": "https://localhost:8080/",
          "height": 203
        },
        "id": "yxT7J5sF4jmq",
        "outputId": "937e5f49-480e-468d-ecb4-ba23253a3cc4"
      },
      "source": [
        "map.columns = ['y', 'x', 'ID']\n",
        "map.head()"
      ],
      "execution_count": 327,
      "outputs": [
        {
          "output_type": "execute_result",
          "data": {
            "text/html": [
              "<div>\n",
              "<style scoped>\n",
              "    .dataframe tbody tr th:only-of-type {\n",
              "        vertical-align: middle;\n",
              "    }\n",
              "\n",
              "    .dataframe tbody tr th {\n",
              "        vertical-align: top;\n",
              "    }\n",
              "\n",
              "    .dataframe thead th {\n",
              "        text-align: right;\n",
              "    }\n",
              "</style>\n",
              "<table border=\"1\" class=\"dataframe\">\n",
              "  <thead>\n",
              "    <tr style=\"text-align: right;\">\n",
              "      <th></th>\n",
              "      <th>y</th>\n",
              "      <th>x</th>\n",
              "      <th>ID</th>\n",
              "    </tr>\n",
              "  </thead>\n",
              "  <tbody>\n",
              "    <tr>\n",
              "      <th>0</th>\n",
              "      <td>0</td>\n",
              "      <td>7</td>\n",
              "      <td>철원</td>\n",
              "    </tr>\n",
              "    <tr>\n",
              "      <th>1</th>\n",
              "      <td>0</td>\n",
              "      <td>8</td>\n",
              "      <td>화천</td>\n",
              "    </tr>\n",
              "    <tr>\n",
              "      <th>2</th>\n",
              "      <td>0</td>\n",
              "      <td>9</td>\n",
              "      <td>양구</td>\n",
              "    </tr>\n",
              "    <tr>\n",
              "      <th>3</th>\n",
              "      <td>0</td>\n",
              "      <td>10</td>\n",
              "      <td>고성(강원)</td>\n",
              "    </tr>\n",
              "    <tr>\n",
              "      <th>4</th>\n",
              "      <td>1</td>\n",
              "      <td>3</td>\n",
              "      <td>양주</td>\n",
              "    </tr>\n",
              "  </tbody>\n",
              "</table>\n",
              "</div>"
            ],
            "text/plain": [
              "   y   x      ID\n",
              "0  0   7      철원\n",
              "1  0   8      화천\n",
              "2  0   9      양구\n",
              "3  0  10  고성(강원)\n",
              "4  1   3      양주"
            ]
          },
          "metadata": {},
          "execution_count": 327
        }
      ]
    },
    {
      "cell_type": "code",
      "metadata": {
        "id": "_34wLHGY4nUB"
      },
      "source": [
        "data_folder = '/content/mnt/MyDrive/Data/인구소멸위기지역'\n",
        "!cp $data_folder/draw_map.py .\n",
        "from draw_map import BORDER_LINES, drawKorea, drawKoreaMinus"
      ],
      "execution_count": 321,
      "outputs": []
    },
    {
      "cell_type": "code",
      "metadata": {
        "colab": {
          "base_uri": "https://localhost:8080/",
          "height": 222
        },
        "id": "Kt1w2QBm45Cm",
        "outputId": "ffb19d82-0ea2-4c59-cfa5-2b60ef1aca10"
      },
      "source": [
        "df_all = pd.merge(df_all, map, how='left', on='ID')\n",
        "print(df_all.shape)\n",
        "df_all.head()"
      ],
      "execution_count": 329,
      "outputs": [
        {
          "output_type": "stream",
          "name": "stdout",
          "text": [
            "(237, 8)\n"
          ]
        },
        {
          "output_type": "execute_result",
          "data": {
            "text/html": [
              "<div>\n",
              "<style scoped>\n",
              "    .dataframe tbody tr th:only-of-type {\n",
              "        vertical-align: middle;\n",
              "    }\n",
              "\n",
              "    .dataframe tbody tr th {\n",
              "        vertical-align: top;\n",
              "    }\n",
              "\n",
              "    .dataframe thead th {\n",
              "        text-align: right;\n",
              "    }\n",
              "</style>\n",
              "<table border=\"1\" class=\"dataframe\">\n",
              "  <thead>\n",
              "    <tr style=\"text-align: right;\">\n",
              "      <th></th>\n",
              "      <th>ID</th>\n",
              "      <th>이디야</th>\n",
              "      <th>스타벅스</th>\n",
              "      <th>커피빈</th>\n",
              "      <th>빽다방</th>\n",
              "      <th>커피지수</th>\n",
              "      <th>y</th>\n",
              "      <th>x</th>\n",
              "    </tr>\n",
              "  </thead>\n",
              "  <tbody>\n",
              "    <tr>\n",
              "      <th>0</th>\n",
              "      <td>가평</td>\n",
              "      <td>9</td>\n",
              "      <td>2.0</td>\n",
              "      <td>0.0</td>\n",
              "      <td>0.0</td>\n",
              "      <td>0.222222</td>\n",
              "      <td>3.0</td>\n",
              "      <td>7.0</td>\n",
              "    </tr>\n",
              "    <tr>\n",
              "      <th>1</th>\n",
              "      <td>강릉</td>\n",
              "      <td>15</td>\n",
              "      <td>5.0</td>\n",
              "      <td>0.0</td>\n",
              "      <td>2.0</td>\n",
              "      <td>0.294118</td>\n",
              "      <td>3.0</td>\n",
              "      <td>11.0</td>\n",
              "    </tr>\n",
              "    <tr>\n",
              "      <th>2</th>\n",
              "      <td>강진</td>\n",
              "      <td>1</td>\n",
              "      <td>0.0</td>\n",
              "      <td>0.0</td>\n",
              "      <td>0.0</td>\n",
              "      <td>0.000000</td>\n",
              "      <td>24.0</td>\n",
              "      <td>1.0</td>\n",
              "    </tr>\n",
              "    <tr>\n",
              "      <th>3</th>\n",
              "      <td>거제</td>\n",
              "      <td>9</td>\n",
              "      <td>6.0</td>\n",
              "      <td>0.0</td>\n",
              "      <td>0.0</td>\n",
              "      <td>0.666667</td>\n",
              "      <td>22.0</td>\n",
              "      <td>8.0</td>\n",
              "    </tr>\n",
              "    <tr>\n",
              "      <th>4</th>\n",
              "      <td>거창</td>\n",
              "      <td>1</td>\n",
              "      <td>0.0</td>\n",
              "      <td>0.0</td>\n",
              "      <td>1.0</td>\n",
              "      <td>0.000000</td>\n",
              "      <td>16.0</td>\n",
              "      <td>6.0</td>\n",
              "    </tr>\n",
              "  </tbody>\n",
              "</table>\n",
              "</div>"
            ],
            "text/plain": [
              "   ID  이디야  스타벅스  커피빈  빽다방      커피지수     y     x\n",
              "0  가평    9   2.0  0.0  0.0  0.222222   3.0   7.0\n",
              "1  강릉   15   5.0  0.0  2.0  0.294118   3.0  11.0\n",
              "2  강진    1   0.0  0.0  0.0  0.000000  24.0   1.0\n",
              "3  거제    9   6.0  0.0  0.0  0.666667  22.0   8.0\n",
              "4  거창    1   0.0  0.0  1.0  0.000000  16.0   6.0"
            ]
          },
          "metadata": {},
          "execution_count": 329
        }
      ]
    },
    {
      "cell_type": "code",
      "metadata": {
        "colab": {
          "base_uri": "https://localhost:8080/"
        },
        "id": "Fy1Eqmnb5ZpC",
        "outputId": "3007b628-c109-4f9a-d643-51a2bd012dda"
      },
      "source": [
        "# Null 데이터가 있는지 확인\n",
        "df_all.isnull().sum()"
      ],
      "execution_count": 332,
      "outputs": [
        {
          "output_type": "execute_result",
          "data": {
            "text/plain": [
              "ID      0\n",
              "이디야     0\n",
              "스타벅스    0\n",
              "커피빈     0\n",
              "빽다방     0\n",
              "커피지수    0\n",
              "y       1\n",
              "x       1\n",
              "dtype: int64"
            ]
          },
          "metadata": {},
          "execution_count": 332
        }
      ]
    },
    {
      "cell_type": "code",
      "metadata": {
        "colab": {
          "base_uri": "https://localhost:8080/"
        },
        "id": "qrqReMZGcltU",
        "outputId": "2ba6ba27-bd48-4068-943e-d3c947ca71ee"
      },
      "source": [
        "df_all.dropna(inplace=True)\n",
        "df_all.shape"
      ],
      "execution_count": 344,
      "outputs": [
        {
          "output_type": "execute_result",
          "data": {
            "text/plain": [
              "(236, 8)"
            ]
          },
          "metadata": {},
          "execution_count": 344
        }
      ]
    },
    {
      "cell_type": "code",
      "metadata": {
        "colab": {
          "base_uri": "https://localhost:8080/",
          "height": 801
        },
        "id": "2zFgf3xg41b6",
        "outputId": "29fc1200-8344-4a1c-da69-c09c2b373732"
      },
      "source": [
        "drawKorea('커피지수', df_all, 'Reds')"
      ],
      "execution_count": 352,
      "outputs": [
        {
          "output_type": "display_data",
          "data": {
            "image/png": "[encoded data removed]",
            "text/plain": [
              "<Figure size 648x792 with 2 Axes>"
            ]
          },
          "metadata": {
            "needs_background": "light"
          }
        }
      ]
    },
    {
      "cell_type": "code",
      "metadata": {
        "id": "G8afKQDNetZC"
      },
      "source": [
        "df_all.to_csv('/content/mnt/MyDrive/results/CoffeeIndex/커피지수.csv', index=False)"
      ],
      "execution_count": 351,
      "outputs": []
    }
  ]
}