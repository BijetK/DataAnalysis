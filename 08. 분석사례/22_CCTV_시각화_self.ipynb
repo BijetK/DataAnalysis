{
  "nbformat": 4,
  "nbformat_minor": 0,
  "metadata": {
    "colab": {
      "name": "22_CCTV_시각화_self.ipynb",
      "provenance": [],
      "collapsed_sections": []
    },
    "kernelspec": {
      "name": "python3",
      "display_name": "Python 3"
    },
    "language_info": {
      "name": "python"
    }
  },
  "cells": [
    {
      "cell_type": "code",
      "metadata": {
        "id": "tmPb3MjCljDy"
      },
      "source": [
        "# 한글 폰트 설치\n",
        "!apt-get install -y fonts-nanum > /dev/null\n",
        "!fc-cache -fv > /dev/null\n",
        "!rm -rf ~/.cache/matplotlib > /dev/null\n",
        "#런타임 재시작"
      ],
      "execution_count": 1,
      "outputs": []
    },
    {
      "cell_type": "code",
      "metadata": {
        "id": "ahM8cl-dlrY9"
      },
      "source": [
        "import matplotlib as mpl\n",
        "import matplotlib.pyplot as plt\n",
        "mpl.rcParams['axes.unicode_minus'] = False\n",
        "plt.rc('font', family = 'NanumBarunGothic')"
      ],
      "execution_count": 1,
      "outputs": []
    },
    {
      "cell_type": "code",
      "metadata": {
        "id": "msXJ3z23lrUZ"
      },
      "source": [
        "import numpy as np\n",
        "import pandas as pd\n",
        "import warnings\n",
        "warnings.filterwarnings('ignore')"
      ],
      "execution_count": 2,
      "outputs": []
    },
    {
      "cell_type": "code",
      "metadata": {
        "colab": {
          "base_uri": "https://localhost:8080/"
        },
        "id": "9y9GNX9rloei",
        "outputId": "c89612d3-000d-4a3e-b386-de064d94fc26"
      },
      "source": [
        "from google.colab import drive\n",
        "drive.mount('/content/mnt')\\"
      ],
      "execution_count": 3,
      "outputs": [
        {
          "output_type": "stream",
          "name": "stdout",
          "text": [
            "Mounted at /content/mnt\n"
          ]
        }
      ]
    },
    {
      "cell_type": "code",
      "metadata": {
        "id": "vPFu_SqNl_KZ"
      },
      "source": [
        "result_folder = '/content/mnt/MyDrive/results/CCTV'"
      ],
      "execution_count": 6,
      "outputs": []
    },
    {
      "cell_type": "code",
      "metadata": {
        "colab": {
          "base_uri": "https://localhost:8080/"
        },
        "id": "S6hL_w0dBlHc",
        "outputId": "03acda9a-e114-415e-8bb9-cf7ce2c124cf"
      },
      "source": [
        "!ls -l $result_folder"
      ],
      "execution_count": 9,
      "outputs": [
        {
          "output_type": "stream",
          "name": "stdout",
          "text": [
            "total 4\n",
            "-rw------- 1 root root  975 Sep  7 06:44 cctv.csv\n",
            "-rw------- 1 root root 2115 Sep  7 06:36 서울시주민등록인구.csv\n"
          ]
        }
      ]
    },
    {
      "cell_type": "code",
      "metadata": {
        "colab": {
          "base_uri": "https://localhost:8080/",
          "height": 222
        },
        "id": "Lb64chTNCObA",
        "outputId": "928c0aea-013a-4828-e0ee-32f6d8107d26"
      },
      "source": [
        "df_cctv = pd.read_csv(f'{result_folder}/cctv.csv', encoding='utf-8')\n",
        "print(df_cctv.shape)\n",
        "df_cctv.head()"
      ],
      "execution_count": 18,
      "outputs": [
        {
          "output_type": "stream",
          "name": "stdout",
          "text": [
            "(26, 7)\n"
          ]
        },
        {
          "output_type": "execute_result",
          "data": {
            "text/html": [
              "<div>\n",
              "<style scoped>\n",
              "    .dataframe tbody tr th:only-of-type {\n",
              "        vertical-align: middle;\n",
              "    }\n",
              "\n",
              "    .dataframe tbody tr th {\n",
              "        vertical-align: top;\n",
              "    }\n",
              "\n",
              "    .dataframe thead th {\n",
              "        text-align: right;\n",
              "    }\n",
              "</style>\n",
              "<table border=\"1\" class=\"dataframe\">\n",
              "  <thead>\n",
              "    <tr style=\"text-align: right;\">\n",
              "      <th></th>\n",
              "      <th>구분</th>\n",
              "      <th>총계</th>\n",
              "      <th>2017년 이전</th>\n",
              "      <th>2018년</th>\n",
              "      <th>2019년</th>\n",
              "      <th>2020년</th>\n",
              "      <th>2021년</th>\n",
              "    </tr>\n",
              "  </thead>\n",
              "  <tbody>\n",
              "    <tr>\n",
              "      <th>0</th>\n",
              "      <td>계</td>\n",
              "      <td>77032</td>\n",
              "      <td>42455</td>\n",
              "      <td>9876</td>\n",
              "      <td>11961</td>\n",
              "      <td>11132</td>\n",
              "      <td>1608</td>\n",
              "    </tr>\n",
              "    <tr>\n",
              "      <th>1</th>\n",
              "      <td>종로구</td>\n",
              "      <td>1772</td>\n",
              "      <td>1435</td>\n",
              "      <td>85</td>\n",
              "      <td>9</td>\n",
              "      <td>200</td>\n",
              "      <td>43</td>\n",
              "    </tr>\n",
              "    <tr>\n",
              "      <th>2</th>\n",
              "      <td>중 구</td>\n",
              "      <td>2333</td>\n",
              "      <td>1142</td>\n",
              "      <td>386</td>\n",
              "      <td>155</td>\n",
              "      <td>361</td>\n",
              "      <td>289</td>\n",
              "    </tr>\n",
              "    <tr>\n",
              "      <th>3</th>\n",
              "      <td>용산구</td>\n",
              "      <td>2383</td>\n",
              "      <td>1334</td>\n",
              "      <td>125</td>\n",
              "      <td>307</td>\n",
              "      <td>617</td>\n",
              "      <td>0</td>\n",
              "    </tr>\n",
              "    <tr>\n",
              "      <th>4</th>\n",
              "      <td>성동구</td>\n",
              "      <td>3602</td>\n",
              "      <td>2413</td>\n",
              "      <td>390</td>\n",
              "      <td>262</td>\n",
              "      <td>461</td>\n",
              "      <td>76</td>\n",
              "    </tr>\n",
              "  </tbody>\n",
              "</table>\n",
              "</div>"
            ],
            "text/plain": [
              "    구분     총계  2017년 이전  2018년  2019년  2020년  2021년\n",
              "0    계  77032     42455   9876  11961  11132   1608\n",
              "1  종로구   1772      1435     85      9    200     43\n",
              "2  중 구   2333      1142    386    155    361    289\n",
              "3  용산구   2383      1334    125    307    617      0\n",
              "4  성동구   3602      2413    390    262    461     76"
            ]
          },
          "metadata": {},
          "execution_count": 18
        }
      ]
    },
    {
      "cell_type": "code",
      "metadata": {
        "colab": {
          "base_uri": "https://localhost:8080/",
          "height": 222
        },
        "id": "N-VtzrYvCmHz",
        "outputId": "d4d360ab-04a4-43f9-cf7a-b851d512b42e"
      },
      "source": [
        "df_ingu = pd.read_csv(f'{result_folder}/서울시주민등록인구.csv', encoding='utf-8')\n",
        "print(df_ingu.shape)\n",
        "df_ingu.head()"
      ],
      "execution_count": 39,
      "outputs": [
        {
          "output_type": "stream",
          "name": "stdout",
          "text": [
            "(26, 14)\n"
          ]
        },
        {
          "output_type": "execute_result",
          "data": {
            "text/html": [
              "<div>\n",
              "<style scoped>\n",
              "    .dataframe tbody tr th:only-of-type {\n",
              "        vertical-align: middle;\n",
              "    }\n",
              "\n",
              "    .dataframe tbody tr th {\n",
              "        vertical-align: top;\n",
              "    }\n",
              "\n",
              "    .dataframe thead th {\n",
              "        text-align: right;\n",
              "    }\n",
              "</style>\n",
              "<table border=\"1\" class=\"dataframe\">\n",
              "  <thead>\n",
              "    <tr style=\"text-align: right;\">\n",
              "      <th></th>\n",
              "      <th>index</th>\n",
              "      <th>자치구</th>\n",
              "      <th>세대</th>\n",
              "      <th>계</th>\n",
              "      <th>남자</th>\n",
              "      <th>여자</th>\n",
              "      <th>한국인계</th>\n",
              "      <th>한국인남자</th>\n",
              "      <th>한국인여자</th>\n",
              "      <th>외국인계</th>\n",
              "      <th>외국인남자</th>\n",
              "      <th>외국인여자</th>\n",
              "      <th>세대당인구</th>\n",
              "      <th>65세이상고령자</th>\n",
              "    </tr>\n",
              "  </thead>\n",
              "  <tbody>\n",
              "    <tr>\n",
              "      <th>0</th>\n",
              "      <td>0</td>\n",
              "      <td>합계</td>\n",
              "      <td>4405638</td>\n",
              "      <td>9795426</td>\n",
              "      <td>4756178</td>\n",
              "      <td>5039248</td>\n",
              "      <td>9565990</td>\n",
              "      <td>4649442</td>\n",
              "      <td>4916548</td>\n",
              "      <td>229436</td>\n",
              "      <td>106736</td>\n",
              "      <td>122700</td>\n",
              "      <td>2.17</td>\n",
              "      <td>1576971</td>\n",
              "    </tr>\n",
              "    <tr>\n",
              "      <th>1</th>\n",
              "      <td>1</td>\n",
              "      <td>종로구</td>\n",
              "      <td>73525</td>\n",
              "      <td>155106</td>\n",
              "      <td>75009</td>\n",
              "      <td>80097</td>\n",
              "      <td>146029</td>\n",
              "      <td>70985</td>\n",
              "      <td>75044</td>\n",
              "      <td>9077</td>\n",
              "      <td>4024</td>\n",
              "      <td>5053</td>\n",
              "      <td>1.99</td>\n",
              "      <td>27605</td>\n",
              "    </tr>\n",
              "    <tr>\n",
              "      <th>2</th>\n",
              "      <td>2</td>\n",
              "      <td>중구</td>\n",
              "      <td>62897</td>\n",
              "      <td>132259</td>\n",
              "      <td>64526</td>\n",
              "      <td>67733</td>\n",
              "      <td>123016</td>\n",
              "      <td>60019</td>\n",
              "      <td>62997</td>\n",
              "      <td>9243</td>\n",
              "      <td>4507</td>\n",
              "      <td>4736</td>\n",
              "      <td>1.96</td>\n",
              "      <td>23980</td>\n",
              "    </tr>\n",
              "    <tr>\n",
              "      <th>3</th>\n",
              "      <td>3</td>\n",
              "      <td>용산구</td>\n",
              "      <td>111650</td>\n",
              "      <td>240665</td>\n",
              "      <td>116858</td>\n",
              "      <td>123807</td>\n",
              "      <td>226378</td>\n",
              "      <td>108948</td>\n",
              "      <td>117430</td>\n",
              "      <td>14287</td>\n",
              "      <td>7910</td>\n",
              "      <td>6377</td>\n",
              "      <td>2.03</td>\n",
              "      <td>38884</td>\n",
              "    </tr>\n",
              "    <tr>\n",
              "      <th>4</th>\n",
              "      <td>4</td>\n",
              "      <td>성동구</td>\n",
              "      <td>134542</td>\n",
              "      <td>295767</td>\n",
              "      <td>143927</td>\n",
              "      <td>151840</td>\n",
              "      <td>289162</td>\n",
              "      <td>141042</td>\n",
              "      <td>148120</td>\n",
              "      <td>6605</td>\n",
              "      <td>2885</td>\n",
              "      <td>3720</td>\n",
              "      <td>2.15</td>\n",
              "      <td>45591</td>\n",
              "    </tr>\n",
              "  </tbody>\n",
              "</table>\n",
              "</div>"
            ],
            "text/plain": [
              "   index  자치구       세대        계  ...   외국인남자   외국인여자  세대당인구  65세이상고령자\n",
              "0      0   합계  4405638  9795426  ...  106736  122700   2.17   1576971\n",
              "1      1  종로구    73525   155106  ...    4024    5053   1.99     27605\n",
              "2      2   중구    62897   132259  ...    4507    4736   1.96     23980\n",
              "3      3  용산구   111650   240665  ...    7910    6377   2.03     38884\n",
              "4      4  성동구   134542   295767  ...    2885    3720   2.15     45591\n",
              "\n",
              "[5 rows x 14 columns]"
            ]
          },
          "metadata": {},
          "execution_count": 39
        }
      ]
    },
    {
      "cell_type": "code",
      "metadata": {
        "colab": {
          "base_uri": "https://localhost:8080/",
          "height": 203
        },
        "id": "7dPgsTX8EDm_",
        "outputId": "16d47672-d55a-4eee-8626-2b663427e310"
      },
      "source": [
        "df_cctv['자치구'] = df_cctv['자치구'].apply(lambda x: x.replace(' ',''))\n",
        "df_cctv.columns = ['자치구','총계','2017년이전','2018년','2019년','2020년','2021년']\n",
        "df_cctv['자치구'][0] = '합계'\n",
        "df_cctv['자치구'][1] = '종로구'\n",
        "df_cctv.head()"
      ],
      "execution_count": 35,
      "outputs": [
        {
          "output_type": "execute_result",
          "data": {
            "text/html": [
              "<div>\n",
              "<style scoped>\n",
              "    .dataframe tbody tr th:only-of-type {\n",
              "        vertical-align: middle;\n",
              "    }\n",
              "\n",
              "    .dataframe tbody tr th {\n",
              "        vertical-align: top;\n",
              "    }\n",
              "\n",
              "    .dataframe thead th {\n",
              "        text-align: right;\n",
              "    }\n",
              "</style>\n",
              "<table border=\"1\" class=\"dataframe\">\n",
              "  <thead>\n",
              "    <tr style=\"text-align: right;\">\n",
              "      <th></th>\n",
              "      <th>자치구</th>\n",
              "      <th>총계</th>\n",
              "      <th>2017년이전</th>\n",
              "      <th>2018년</th>\n",
              "      <th>2019년</th>\n",
              "      <th>2020년</th>\n",
              "      <th>2021년</th>\n",
              "    </tr>\n",
              "  </thead>\n",
              "  <tbody>\n",
              "    <tr>\n",
              "      <th>0</th>\n",
              "      <td>합계</td>\n",
              "      <td>77032</td>\n",
              "      <td>42455</td>\n",
              "      <td>9876</td>\n",
              "      <td>11961</td>\n",
              "      <td>11132</td>\n",
              "      <td>1608</td>\n",
              "    </tr>\n",
              "    <tr>\n",
              "      <th>1</th>\n",
              "      <td>종로구</td>\n",
              "      <td>1772</td>\n",
              "      <td>1435</td>\n",
              "      <td>85</td>\n",
              "      <td>9</td>\n",
              "      <td>200</td>\n",
              "      <td>43</td>\n",
              "    </tr>\n",
              "    <tr>\n",
              "      <th>2</th>\n",
              "      <td>중구</td>\n",
              "      <td>2333</td>\n",
              "      <td>1142</td>\n",
              "      <td>386</td>\n",
              "      <td>155</td>\n",
              "      <td>361</td>\n",
              "      <td>289</td>\n",
              "    </tr>\n",
              "    <tr>\n",
              "      <th>3</th>\n",
              "      <td>용산구</td>\n",
              "      <td>2383</td>\n",
              "      <td>1334</td>\n",
              "      <td>125</td>\n",
              "      <td>307</td>\n",
              "      <td>617</td>\n",
              "      <td>0</td>\n",
              "    </tr>\n",
              "    <tr>\n",
              "      <th>4</th>\n",
              "      <td>성동구</td>\n",
              "      <td>3602</td>\n",
              "      <td>2413</td>\n",
              "      <td>390</td>\n",
              "      <td>262</td>\n",
              "      <td>461</td>\n",
              "      <td>76</td>\n",
              "    </tr>\n",
              "  </tbody>\n",
              "</table>\n",
              "</div>"
            ],
            "text/plain": [
              "   자치구     총계  2017년이전  2018년  2019년  2020년  2021년\n",
              "0   합계  77032    42455   9876  11961  11132   1608\n",
              "1  종로구   1772     1435     85      9    200     43\n",
              "2   중구   2333     1142    386    155    361    289\n",
              "3  용산구   2383     1334    125    307    617      0\n",
              "4  성동구   3602     2413    390    262    461     76"
            ]
          },
          "metadata": {},
          "execution_count": 35
        }
      ]
    },
    {
      "cell_type": "code",
      "metadata": {
        "colab": {
          "base_uri": "https://localhost:8080/",
          "height": 425
        },
        "id": "K_Q5hDXzEpCG",
        "outputId": "c4321dd2-4852-4b8a-e35e-576d71be7e80"
      },
      "source": [
        "df_merge = pd.merge(df_cctv, df_ingu, how = 'left', on='자치구')\n",
        "df_merge.head()"
      ],
      "execution_count": 40,
      "outputs": [
        {
          "output_type": "execute_result",
          "data": {
            "text/html": [
              "<div>\n",
              "<style scoped>\n",
              "    .dataframe tbody tr th:only-of-type {\n",
              "        vertical-align: middle;\n",
              "    }\n",
              "\n",
              "    .dataframe tbody tr th {\n",
              "        vertical-align: top;\n",
              "    }\n",
              "\n",
              "    .dataframe thead th {\n",
              "        text-align: right;\n",
              "    }\n",
              "</style>\n",
              "<table border=\"1\" class=\"dataframe\">\n",
              "  <thead>\n",
              "    <tr style=\"text-align: right;\">\n",
              "      <th></th>\n",
              "      <th>자치구</th>\n",
              "      <th>총계</th>\n",
              "      <th>2017년이전</th>\n",
              "      <th>2018년</th>\n",
              "      <th>2019년</th>\n",
              "      <th>2020년</th>\n",
              "      <th>2021년</th>\n",
              "      <th>index</th>\n",
              "      <th>세대</th>\n",
              "      <th>계</th>\n",
              "      <th>남자</th>\n",
              "      <th>여자</th>\n",
              "      <th>한국인계</th>\n",
              "      <th>한국인남자</th>\n",
              "      <th>한국인여자</th>\n",
              "      <th>외국인계</th>\n",
              "      <th>외국인남자</th>\n",
              "      <th>외국인여자</th>\n",
              "      <th>세대당인구</th>\n",
              "      <th>65세이상고령자</th>\n",
              "    </tr>\n",
              "  </thead>\n",
              "  <tbody>\n",
              "    <tr>\n",
              "      <th>0</th>\n",
              "      <td>합계</td>\n",
              "      <td>77032</td>\n",
              "      <td>42455</td>\n",
              "      <td>9876</td>\n",
              "      <td>11961</td>\n",
              "      <td>11132</td>\n",
              "      <td>1608</td>\n",
              "      <td>0</td>\n",
              "      <td>4405638</td>\n",
              "      <td>9795426</td>\n",
              "      <td>4756178</td>\n",
              "      <td>5039248</td>\n",
              "      <td>9565990</td>\n",
              "      <td>4649442</td>\n",
              "      <td>4916548</td>\n",
              "      <td>229436</td>\n",
              "      <td>106736</td>\n",
              "      <td>122700</td>\n",
              "      <td>2.17</td>\n",
              "      <td>1576971</td>\n",
              "    </tr>\n",
              "    <tr>\n",
              "      <th>1</th>\n",
              "      <td>종로구</td>\n",
              "      <td>1772</td>\n",
              "      <td>1435</td>\n",
              "      <td>85</td>\n",
              "      <td>9</td>\n",
              "      <td>200</td>\n",
              "      <td>43</td>\n",
              "      <td>1</td>\n",
              "      <td>73525</td>\n",
              "      <td>155106</td>\n",
              "      <td>75009</td>\n",
              "      <td>80097</td>\n",
              "      <td>146029</td>\n",
              "      <td>70985</td>\n",
              "      <td>75044</td>\n",
              "      <td>9077</td>\n",
              "      <td>4024</td>\n",
              "      <td>5053</td>\n",
              "      <td>1.99</td>\n",
              "      <td>27605</td>\n",
              "    </tr>\n",
              "    <tr>\n",
              "      <th>2</th>\n",
              "      <td>중구</td>\n",
              "      <td>2333</td>\n",
              "      <td>1142</td>\n",
              "      <td>386</td>\n",
              "      <td>155</td>\n",
              "      <td>361</td>\n",
              "      <td>289</td>\n",
              "      <td>2</td>\n",
              "      <td>62897</td>\n",
              "      <td>132259</td>\n",
              "      <td>64526</td>\n",
              "      <td>67733</td>\n",
              "      <td>123016</td>\n",
              "      <td>60019</td>\n",
              "      <td>62997</td>\n",
              "      <td>9243</td>\n",
              "      <td>4507</td>\n",
              "      <td>4736</td>\n",
              "      <td>1.96</td>\n",
              "      <td>23980</td>\n",
              "    </tr>\n",
              "    <tr>\n",
              "      <th>3</th>\n",
              "      <td>용산구</td>\n",
              "      <td>2383</td>\n",
              "      <td>1334</td>\n",
              "      <td>125</td>\n",
              "      <td>307</td>\n",
              "      <td>617</td>\n",
              "      <td>0</td>\n",
              "      <td>3</td>\n",
              "      <td>111650</td>\n",
              "      <td>240665</td>\n",
              "      <td>116858</td>\n",
              "      <td>123807</td>\n",
              "      <td>226378</td>\n",
              "      <td>108948</td>\n",
              "      <td>117430</td>\n",
              "      <td>14287</td>\n",
              "      <td>7910</td>\n",
              "      <td>6377</td>\n",
              "      <td>2.03</td>\n",
              "      <td>38884</td>\n",
              "    </tr>\n",
              "    <tr>\n",
              "      <th>4</th>\n",
              "      <td>성동구</td>\n",
              "      <td>3602</td>\n",
              "      <td>2413</td>\n",
              "      <td>390</td>\n",
              "      <td>262</td>\n",
              "      <td>461</td>\n",
              "      <td>76</td>\n",
              "      <td>4</td>\n",
              "      <td>134542</td>\n",
              "      <td>295767</td>\n",
              "      <td>143927</td>\n",
              "      <td>151840</td>\n",
              "      <td>289162</td>\n",
              "      <td>141042</td>\n",
              "      <td>148120</td>\n",
              "      <td>6605</td>\n",
              "      <td>2885</td>\n",
              "      <td>3720</td>\n",
              "      <td>2.15</td>\n",
              "      <td>45591</td>\n",
              "    </tr>\n",
              "  </tbody>\n",
              "</table>\n",
              "</div>"
            ],
            "text/plain": [
              "   자치구     총계  2017년이전  2018년  2019년  ...    외국인계   외국인남자   외국인여자  세대당인구  65세이상고령자\n",
              "0   합계  77032    42455   9876  11961  ...  229436  106736  122700   2.17   1576971\n",
              "1  종로구   1772     1435     85      9  ...    9077    4024    5053   1.99     27605\n",
              "2   중구   2333     1142    386    155  ...    9243    4507    4736   1.96     23980\n",
              "3  용산구   2383     1334    125    307  ...   14287    7910    6377   2.03     38884\n",
              "4  성동구   3602     2413    390    262  ...    6605    2885    3720   2.15     45591\n",
              "\n",
              "[5 rows x 20 columns]"
            ]
          },
          "metadata": {},
          "execution_count": 40
        }
      ]
    },
    {
      "cell_type": "markdown",
      "metadata": {
        "id": "Lys7HQJOHk-y"
      },
      "source": [
        "- catogram"
      ]
    },
    {
      "cell_type": "code",
      "metadata": {
        "colab": {
          "base_uri": "https://localhost:8080/",
          "height": 203
        },
        "id": "PZCXJpw3Hjvu",
        "outputId": "7c09689f-a6ca-41a9-db35-6ca5c1e646ae"
      },
      "source": [
        "df1 = df_merge[['자치구', '2017년이전'\t,'2018년', '2019년','2020년','2021년','계']]\n",
        "df1.head()"
      ],
      "execution_count": 41,
      "outputs": [
        {
          "output_type": "execute_result",
          "data": {
            "text/html": [
              "<div>\n",
              "<style scoped>\n",
              "    .dataframe tbody tr th:only-of-type {\n",
              "        vertical-align: middle;\n",
              "    }\n",
              "\n",
              "    .dataframe tbody tr th {\n",
              "        vertical-align: top;\n",
              "    }\n",
              "\n",
              "    .dataframe thead th {\n",
              "        text-align: right;\n",
              "    }\n",
              "</style>\n",
              "<table border=\"1\" class=\"dataframe\">\n",
              "  <thead>\n",
              "    <tr style=\"text-align: right;\">\n",
              "      <th></th>\n",
              "      <th>자치구</th>\n",
              "      <th>2017년이전</th>\n",
              "      <th>2018년</th>\n",
              "      <th>2019년</th>\n",
              "      <th>2020년</th>\n",
              "      <th>2021년</th>\n",
              "      <th>계</th>\n",
              "    </tr>\n",
              "  </thead>\n",
              "  <tbody>\n",
              "    <tr>\n",
              "      <th>0</th>\n",
              "      <td>합계</td>\n",
              "      <td>42455</td>\n",
              "      <td>9876</td>\n",
              "      <td>11961</td>\n",
              "      <td>11132</td>\n",
              "      <td>1608</td>\n",
              "      <td>9795426</td>\n",
              "    </tr>\n",
              "    <tr>\n",
              "      <th>1</th>\n",
              "      <td>종로구</td>\n",
              "      <td>1435</td>\n",
              "      <td>85</td>\n",
              "      <td>9</td>\n",
              "      <td>200</td>\n",
              "      <td>43</td>\n",
              "      <td>155106</td>\n",
              "    </tr>\n",
              "    <tr>\n",
              "      <th>2</th>\n",
              "      <td>중구</td>\n",
              "      <td>1142</td>\n",
              "      <td>386</td>\n",
              "      <td>155</td>\n",
              "      <td>361</td>\n",
              "      <td>289</td>\n",
              "      <td>132259</td>\n",
              "    </tr>\n",
              "    <tr>\n",
              "      <th>3</th>\n",
              "      <td>용산구</td>\n",
              "      <td>1334</td>\n",
              "      <td>125</td>\n",
              "      <td>307</td>\n",
              "      <td>617</td>\n",
              "      <td>0</td>\n",
              "      <td>240665</td>\n",
              "    </tr>\n",
              "    <tr>\n",
              "      <th>4</th>\n",
              "      <td>성동구</td>\n",
              "      <td>2413</td>\n",
              "      <td>390</td>\n",
              "      <td>262</td>\n",
              "      <td>461</td>\n",
              "      <td>76</td>\n",
              "      <td>295767</td>\n",
              "    </tr>\n",
              "  </tbody>\n",
              "</table>\n",
              "</div>"
            ],
            "text/plain": [
              "   자치구  2017년이전  2018년  2019년  2020년  2021년        계\n",
              "0   합계    42455   9876  11961  11132   1608  9795426\n",
              "1  종로구     1435     85      9    200     43   155106\n",
              "2   중구     1142    386    155    361    289   132259\n",
              "3  용산구     1334    125    307    617      0   240665\n",
              "4  성동구     2413    390    262    461     76   295767"
            ]
          },
          "metadata": {},
          "execution_count": 41
        }
      ]
    },
    {
      "cell_type": "code",
      "metadata": {
        "colab": {
          "base_uri": "https://localhost:8080/",
          "height": 234
        },
        "id": "zoC7Jh49JAXc",
        "outputId": "8b4985e0-5ace-49c7-c907-cc8d86c89f55"
      },
      "source": [
        "df1['인구당 CCTV 수'] = (df1['2017년이전'] + df1['2018년'] + df1['2019년'] + df1['2020년']+ df1['2021년']) / df1['계']\n",
        "df1.set_index(df1['자치구'], inplace=True)\n",
        "del df1['자치구']\n",
        "df1.head()"
      ],
      "execution_count": 50,
      "outputs": [
        {
          "output_type": "execute_result",
          "data": {
            "text/html": [
              "<div>\n",
              "<style scoped>\n",
              "    .dataframe tbody tr th:only-of-type {\n",
              "        vertical-align: middle;\n",
              "    }\n",
              "\n",
              "    .dataframe tbody tr th {\n",
              "        vertical-align: top;\n",
              "    }\n",
              "\n",
              "    .dataframe thead th {\n",
              "        text-align: right;\n",
              "    }\n",
              "</style>\n",
              "<table border=\"1\" class=\"dataframe\">\n",
              "  <thead>\n",
              "    <tr style=\"text-align: right;\">\n",
              "      <th></th>\n",
              "      <th>2017년이전</th>\n",
              "      <th>2018년</th>\n",
              "      <th>2019년</th>\n",
              "      <th>2020년</th>\n",
              "      <th>2021년</th>\n",
              "      <th>계</th>\n",
              "      <th>인구당 CCTV 수</th>\n",
              "    </tr>\n",
              "    <tr>\n",
              "      <th>자치구</th>\n",
              "      <th></th>\n",
              "      <th></th>\n",
              "      <th></th>\n",
              "      <th></th>\n",
              "      <th></th>\n",
              "      <th></th>\n",
              "      <th></th>\n",
              "    </tr>\n",
              "  </thead>\n",
              "  <tbody>\n",
              "    <tr>\n",
              "      <th>합계</th>\n",
              "      <td>42455</td>\n",
              "      <td>9876</td>\n",
              "      <td>11961</td>\n",
              "      <td>11132</td>\n",
              "      <td>1608</td>\n",
              "      <td>9795426</td>\n",
              "      <td>0.007864</td>\n",
              "    </tr>\n",
              "    <tr>\n",
              "      <th>종로구</th>\n",
              "      <td>1435</td>\n",
              "      <td>85</td>\n",
              "      <td>9</td>\n",
              "      <td>200</td>\n",
              "      <td>43</td>\n",
              "      <td>155106</td>\n",
              "      <td>0.011424</td>\n",
              "    </tr>\n",
              "    <tr>\n",
              "      <th>중구</th>\n",
              "      <td>1142</td>\n",
              "      <td>386</td>\n",
              "      <td>155</td>\n",
              "      <td>361</td>\n",
              "      <td>289</td>\n",
              "      <td>132259</td>\n",
              "      <td>0.017640</td>\n",
              "    </tr>\n",
              "    <tr>\n",
              "      <th>용산구</th>\n",
              "      <td>1334</td>\n",
              "      <td>125</td>\n",
              "      <td>307</td>\n",
              "      <td>617</td>\n",
              "      <td>0</td>\n",
              "      <td>240665</td>\n",
              "      <td>0.009902</td>\n",
              "    </tr>\n",
              "    <tr>\n",
              "      <th>성동구</th>\n",
              "      <td>2413</td>\n",
              "      <td>390</td>\n",
              "      <td>262</td>\n",
              "      <td>461</td>\n",
              "      <td>76</td>\n",
              "      <td>295767</td>\n",
              "      <td>0.012179</td>\n",
              "    </tr>\n",
              "  </tbody>\n",
              "</table>\n",
              "</div>"
            ],
            "text/plain": [
              "     2017년이전  2018년  2019년  2020년  2021년        계  인구당 CCTV 수\n",
              "자치구                                                          \n",
              "합계     42455   9876  11961  11132   1608  9795426    0.007864\n",
              "종로구     1435     85      9    200     43   155106    0.011424\n",
              "중구      1142    386    155    361    289   132259    0.017640\n",
              "용산구     1334    125    307    617      0   240665    0.009902\n",
              "성동구     2413    390    262    461     76   295767    0.012179"
            ]
          },
          "metadata": {},
          "execution_count": 50
        }
      ]
    },
    {
      "cell_type": "code",
      "metadata": {
        "colab": {
          "base_uri": "https://localhost:8080/",
          "height": 620
        },
        "id": "kxSKwm2uKFt0",
        "outputId": "2dbe54e9-8216-407f-d8c9-c63cbfb8d3f2"
      },
      "source": [
        "plt.figure(figsize=(15,10))\n",
        "\n",
        "df1['인구당 CCTV 수'].plot(kind='bar', rot=0, color = 'gray')\n",
        "plt.title(\"인구당 CCTV 수\")\n",
        "plt.xlabel(\"자치구\")\n",
        "plt.ylabel(\"인구당 CCTV 수\")\n",
        "plt.show()"
      ],
      "execution_count": 58,
      "outputs": [
        {
          "output_type": "display_data",
          "data": {
            "image/png": "[encoded data removed]",
            "text/plain": [
              "<Figure size 1080x720 with 1 Axes>"
            ]
          },
          "metadata": {
            "needs_background": "light"
          }
        }
      ]
    },
    {
      "cell_type": "code",
      "metadata": {
        "id": "Vj-OwhGiOJjq"
      },
      "source": [
        "df1.reset_index(inplace=True)"
      ],
      "execution_count": 67,
      "outputs": []
    },
    {
      "cell_type": "code",
      "metadata": {
        "id": "mgaoQYvpNcRD"
      },
      "source": [
        "import folium"
      ],
      "execution_count": 64,
      "outputs": []
    },
    {
      "cell_type": "code",
      "metadata": {
        "colab": {
          "resources": {
            "http://localhost:8080/nbextensions/google.colab/files.js": {
              "data": "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",
              "ok": true,
              "headers": [
                [
                  "content-type",
                  "application/javascript"
                ]
              ],
              "status": 200,
              "status_text": ""
            }
          },
          "base_uri": "https://localhost:8080/",
          "height": 77
        },
        "id": "KGP0AKYwNHQE",
        "outputId": "b99ae8cc-bd08-4cb8-aca9-88d7b0379244"
      },
      "source": [
        "from google.colab import files\n",
        "uploaded = files.upload()\n",
        "filename = list(uploaded.keys())[0]"
      ],
      "execution_count": 60,
      "outputs": [
        {
          "output_type": "display_data",
          "data": {
            "text/html": [
              "\n",
              "     <input type=\"file\" id=\"files-fe5660ac-9828-46f5-bafa-1c867ed86ac6\" name=\"files[]\" multiple disabled\n",
              "        style=\"border:none\" />\n",
              "     <output id=\"result-fe5660ac-9828-46f5-bafa-1c867ed86ac6\">\n",
              "      Upload widget is only available when the cell has been executed in the\n",
              "      current browser session. Please rerun this cell to enable.\n",
              "      </output>\n",
              "      <script src=\"/nbextensions/google.colab/files.js\"></script> "
            ],
            "text/plain": [
              "<IPython.core.display.HTML object>"
            ]
          },
          "metadata": {}
        },
        {
          "output_type": "stream",
          "name": "stdout",
          "text": [
            "Saving seoul-gu-simple.json to seoul-gu-simple.json\n"
          ]
        }
      ]
    },
    {
      "cell_type": "code",
      "metadata": {
        "id": "6Caoeq0JNn2C"
      },
      "source": [
        "import json\n",
        "with open(filename) as json_file:\n",
        "    geo_data = json.load(json_file)"
      ],
      "execution_count": 62,
      "outputs": []
    },
    {
      "cell_type": "code",
      "metadata": {
        "colab": {
          "base_uri": "https://localhost:8080/",
          "height": 685
        },
        "id": "WNRYf5QQNr2a",
        "outputId": "1b8da98a-f6f3-4d62-d5b9-90933a2dff34"
      },
      "source": [
        "center = [37.581, 126.986]      # 서울 중심부 위도, 경도\n",
        "map = folium.Map(location = center, zoom_start = 11, tiles = 'Stamen Toner')\n",
        "\n",
        "folium.Choropleth(\n",
        "    geo_data = geo_data,\n",
        "    data = df1,\n",
        "    columns = ('자치구', '인구당 CCTV 수'),\n",
        "    key_on = 'feature.id',\n",
        "    fill_color = 'RdBu_r',\n",
        "    legend_name = '인구당 CCTV 수'\n",
        ").add_to(map)\n",
        "title = '<h3 align=\"center\" style=\"font-size:20px\">서울시 자치구 별 인구당 CCTV 수</h3>'\n",
        "map.get_root().html.add_child(folium.Element(title))\n",
        "map"
      ],
      "execution_count": 73,
      "outputs": [
        {
          "output_type": "execute_result",
          "data": {
            "text/html": [
              "<div style=\"width:100%;\"><div style=\"position:relative;width:100%;height:0;padding-bottom:60%;\"><span style=\"color:#565656\">Make this Notebook Trusted to load map: File -> Trust Notebook</span><iframe src=\"about:blank\" style=\"position:absolute;width:100%;height:100%;left:0;top:0;border:none !important;\" data-html=%3C%21DOCTYPE%20html%3E%0A%3Chead%3E%20%20%20%20%0A%20%20%20%20%3Cmeta%20http-equiv%3D%22content-type%22%20content%3D%22text/html%3B%20charset%3DUTF-8%22%20/%3E%0A%20%20%20%20%3Cscript%3EL_PREFER_CANVAS%3Dfalse%3B%20L_NO_TOUCH%3Dfalse%3B%20L_DISABLE_3D%3Dfalse%3B%3C/script%3E%0A%20%20%20%20%3Cscript%20src%3D%22https%3A//cdn.jsdelivr.net/npm/leaflet%401.4.0/dist/leaflet.js%22%3E%3C/script%3E%0A%20%20%20%20%3Cscript%20src%3D%22https%3A//code.jquery.com/jquery-1.12.4.min.js%22%3E%3C/script%3E%0A%20%20%20%20%3Cscript%20src%3D%22https%3A//maxcdn.bootstrapcdn.com/bootstrap/3.2.0/js/bootstrap.min.js%22%3E%3C/script%3E%0A%20%20%20%20%3Cscript%20src%3D%22https%3A//cdnjs.cloudflare.com/ajax/libs/Leaflet.awesome-markers/2.0.2/leaflet.awesome-markers.js%22%3E%3C/script%3E%0A%20%20%20%20%3Clink%20rel%3D%22stylesheet%22%20href%3D%22https%3A//cdn.jsdelivr.net/npm/leaflet%401.4.0/dist/leaflet.css%22/%3E%0A%20%20%20%20%3Clink%20rel%3D%22stylesheet%22%20href%3D%22https%3A//maxcdn.bootstrapcdn.com/bootstrap/3.2.0/css/bootstrap.min.css%22/%3E%0A%20%20%20%20%3Clink%20rel%3D%22stylesheet%22%20href%3D%22https%3A//maxcdn.bootstrapcdn.com/bootstrap/3.2.0/css/bootstrap-theme.min.css%22/%3E%0A%20%20%20%20%3Clink%20rel%3D%22stylesheet%22%20href%3D%22https%3A//maxcdn.bootstrapcdn.com/font-awesome/4.6.3/css/font-awesome.min.css%22/%3E%0A%20%20%20%20%3Clink%20rel%3D%22stylesheet%22%20href%3D%22https%3A//cdnjs.cloudflare.com/ajax/libs/Leaflet.awesome-markers/2.0.2/leaflet.awesome-markers.css%22/%3E%0A%20%20%20%20%3Clink%20rel%3D%22stylesheet%22%20href%3D%22https%3A//rawcdn.githack.com/python-visualization/folium/master/folium/templates/leaflet.awesome.rotate.css%22/%3E%0A%20%20%20%20%3Cstyle%3Ehtml%2C%20body%20%7Bwidth%3A%20100%25%3Bheight%3A%20100%25%3Bmargin%3A%200%3Bpadding%3A%200%3B%7D%3C/style%3E%0A%20%20%20%20%3Cstyle%3E%23map%20%7Bposition%3Aabsolute%3Btop%3A0%3Bbottom%3A0%3Bright%3A0%3Bleft%3A0%3B%7D%3C/style%3E%0A%20%20%20%20%0A%20%20%20%20%3Cmeta%20name%3D%22viewport%22%20content%3D%22width%3Ddevice-width%2C%0A%20%20%20%20%20%20%20%20initial-scale%3D1.0%2C%20maximum-scale%3D1.0%2C%20user-scalable%3Dno%22%20/%3E%0A%20%20%20%20%3Cstyle%3E%23map_5609648c7dba4fe099dcf69803491cad%20%7B%0A%20%20%20%20%20%20%20%20position%3A%20relative%3B%0A%20%20%20%20%20%20%20%20width%3A%20100.0%25%3B%0A%20%20%20%20%20%20%20%20height%3A%20100.0%25%3B%0A%20%20%20%20%20%20%20%20left%3A%200.0%25%3B%0A%20%20%20%20%20%20%20%20top%3A%200.0%25%3B%0A%20%20%20%20%20%20%20%20%7D%0A%20%20%20%20%3C/style%3E%0A%20%20%20%20%3Cscript%20src%3D%22https%3A//cdnjs.cloudflare.com/ajax/libs/d3/3.5.5/d3.min.js%22%3E%3C/script%3E%0A%3C/head%3E%0A%3Cbody%3E%20%20%20%20%0A%20%20%20%20%3Ch3%20align%3D%22center%22%20style%3D%22font-size%3A20px%22%3E%EC%84%9C%EC%9A%B8%EC%8B%9C%20%EC%9E%90%EC%B9%98%EA%B5%AC%20%EB%B3%84%20%EC%9D%B8%EA%B5%AC%EB%8B%B9%20CCTV%20%EC%88%98%3C/h3%3E%0A%20%20%20%20%0A%20%20%20%20%3Cdiv%20class%3D%22folium-map%22%20id%3D%22map_5609648c7dba4fe099dcf69803491cad%22%20%3E%3C/div%3E%0A%3C/body%3E%0A%3Cscript%3E%20%20%20%20%0A%20%20%20%20%0A%20%20%20%20%0A%20%20%20%20%20%20%20%20var%20bounds%20%3D%20null%3B%0A%20%20%20%20%0A%0A%20%20%20%20var%20map_5609648c7dba4fe099dcf69803491cad%20%3D%20L.map%28%0A%20%20%20%20%20%20%20%20%27map_5609648c7dba4fe099dcf69803491cad%27%2C%20%7B%0A%20%20%20%20%20%20%20%20center%3A%20%5B37.581%2C%20126.986%5D%2C%0A%20%20%20%20%20%20%20%20zoom%3A%2011%2C%0A%20%20%20%20%20%20%20%20maxBounds%3A%20bounds%2C%0A%20%20%20%20%20%20%20%20layers%3A%20%5B%5D%2C%0A%20%20%20%20%20%20%20%20worldCopyJump%3A%20false%2C%0A%20%20%20%20%20%20%20%20crs%3A%20L.CRS.EPSG3857%2C%0A%20%20%20%20%20%20%20%20zoomControl%3A%20true%2C%0A%20%20%20%20%20%20%20%20%7D%29%3B%0A%0A%0A%20%20%20%20%0A%20%20%20%20var%20tile_layer_df126bcbdf13417890f3f03cbd6d95fb%20%3D%20L.tileLayer%28%0A%20%20%20%20%20%20%20%20%27https%3A//stamen-tiles-%7Bs%7D.a.ssl.fastly.net/toner/%7Bz%7D/%7Bx%7D/%7By%7D.png%27%2C%0A%20%20%20%20%20%20%20%20%7B%0A%20%20%20%20%20%20%20%20%22attribution%22%3A%20null%2C%0A%20%20%20%20%20%20%20%20%22detectRetina%22%3A%20false%2C%0A%20%20%20%20%20%20%20%20%22maxNativeZoom%22%3A%2018%2C%0A%20%20%20%20%20%20%20%20%22maxZoom%22%3A%2018%2C%0A%20%20%20%20%20%20%20%20%22minZoom%22%3A%200%2C%0A%20%20%20%20%20%20%20%20%22noWrap%22%3A%20false%2C%0A%20%20%20%20%20%20%20%20%22opacity%22%3A%201%2C%0A%20%20%20%20%20%20%20%20%22subdomains%22%3A%20%22abc%22%2C%0A%20%20%20%20%20%20%20%20%22tms%22%3A%20false%0A%7D%29.addTo%28map_5609648c7dba4fe099dcf69803491cad%29%3B%0A%20%20%20%20%0A%20%20%20%20%20%20%20%20%20%20%20%20var%20choropleth_644177582daa49d790a9de81c391a628%20%3D%20L.featureGroup%28%0A%20%20%20%20%20%20%20%20%20%20%20%20%20%20%20%20%29.addTo%28map_5609648c7dba4fe099dcf69803491cad%29%3B%0A%20%20%20%20%20%20%20%20%0A%20%20%20%20%0A%20%20%20%20%20%20%20%20var%20geo_json_57fb96514d5e4fed9f2f6779dabbf154%20%3D%20L.geoJson%28%0A%20%20%20%20%20%20%20%20%20%20%20%20%7B%22features%22%3A%20%5B%7B%22geometry%22%3A%20%7B%22coordinates%22%3A%20%5B%5B%5B127.11519584981606%2C%2037.557533180704915%5D%2C%20%5B127.16683184366129%2C%2037.57672487388627%5D%2C%20%5B127.18408792330152%2C%2037.55814280369575%5D%2C%20%5B127.16530984307447%2C%2037.54221851258693%5D%2C%20%5B127.14672806823502%2C%2037.51415680680291%5D%2C%20%5B127.12123165719615%2C%2037.52528270089%5D%2C%20%5B127.1116764203608%2C%2037.540669955324965%5D%2C%20%5B127.11519584981606%2C%2037.557533180704915%5D%5D%5D%2C%20%22type%22%3A%20%22Polygon%22%7D%2C%20%22id%22%3A%20%22%5Cuac15%5Cub3d9%5Cuad6c%22%2C%20%22properties%22%3A%20%7B%22base_year%22%3A%20%222013%22%2C%20%22code%22%3A%20%2211250%22%2C%20%22highlight%22%3A%20%7B%7D%2C%20%22name%22%3A%20%22%5Cuac15%5Cub3d9%5Cuad6c%22%2C%20%22name_eng%22%3A%20%22Gangdong-gu%22%2C%20%22style%22%3A%20%7B%22color%22%3A%20%22black%22%2C%20%22fillColor%22%3A%20%22%232166ac%22%2C%20%22fillOpacity%22%3A%200.6%2C%20%22opacity%22%3A%201%2C%20%22weight%22%3A%201%7D%7D%2C%20%22type%22%3A%20%22Feature%22%7D%2C%20%7B%22geometry%22%3A%20%7B%22coordinates%22%3A%20%5B%5B%5B127.0690698130372%2C%2037.522279423505026%5D%2C%20%5B127.10087519791962%2C%2037.524841220167055%5D%2C%20%5B127.1116764203608%2C%2037.540669955324965%5D%2C%20%5B127.12123165719615%2C%2037.52528270089%5D%2C%20%5B127.14672806823502%2C%2037.51415680680291%5D%2C%20%5B127.1634944215765%2C%2037.497445406097484%5D%2C%20%5B127.14206058413274%2C%2037.47089819098501%5D%2C%20%5B127.12440571080893%2C%2037.46240445587048%5D%2C%20%5B127.11117085201238%2C%2037.485708381512445%5D%2C%20%5B127.0719146000724%2C%2037.50224013587669%5D%2C%20%5B127.0690698130372%2C%2037.522279423505026%5D%5D%5D%2C%20%22type%22%3A%20%22Polygon%22%7D%2C%20%22id%22%3A%20%22%5Cuc1a1%5Cud30c%5Cuad6c%22%2C%20%22properties%22%3A%20%7B%22base_year%22%3A%20%222013%22%2C%20%22code%22%3A%20%2211240%22%2C%20%22highlight%22%3A%20%7B%7D%2C%20%22name%22%3A%20%22%5Cuc1a1%5Cud30c%5Cuad6c%22%2C%20%22name_eng%22%3A%20%22Songpa-gu%22%2C%20%22style%22%3A%20%7B%22color%22%3A%20%22black%22%2C%20%22fillColor%22%3A%20%22%232166ac%22%2C%20%22fillOpacity%22%3A%200.6%2C%20%22opacity%22%3A%201%2C%20%22weight%22%3A%201%7D%7D%2C%20%22type%22%3A%20%22Feature%22%7D%2C%20%7B%22geometry%22%3A%20%7B%22coordinates%22%3A%20%5B%5B%5B127.05867359288398%2C%2037.52629974922568%5D%2C%20%5B127.0690698130372%2C%2037.522279423505026%5D%2C%20%5B127.0719146000724%2C%2037.50224013587669%5D%2C%20%5B127.11117085201238%2C%2037.485708381512445%5D%2C%20%5B127.12440571080893%2C%2037.46240445587048%5D%2C%20%5B127.09842759318751%2C%2037.45862253857461%5D%2C%20%5B127.08640440578156%2C%2037.472697935184655%5D%2C%20%5B127.0559170481904%2C%2037.4659228914077%5D%2C%20%5B127.03621915098798%2C%2037.48175802427603%5D%2C%20%5B127.01397119667513%2C%2037.52503988289669%5D%2C%20%5B127.02302831890559%2C%2037.53231899582663%5D%2C%20%5B127.05867359288398%2C%2037.52629974922568%5D%5D%5D%2C%20%22type%22%3A%20%22Polygon%22%7D%2C%20%22id%22%3A%20%22%5Cuac15%5Cub0a8%5Cuad6c%22%2C%20%22properties%22%3A%20%7B%22base_year%22%3A%20%222013%22%2C%20%22code%22%3A%20%2211230%22%2C%20%22highlight%22%3A%20%7B%7D%2C%20%22name%22%3A%20%22%5Cuac15%5Cub0a8%5Cuad6c%22%2C%20%22name_eng%22%3A%20%22Gangnam-gu%22%2C%20%22style%22%3A%20%7B%22color%22%3A%20%22black%22%2C%20%22fillColor%22%3A%20%22%23fddbc7%22%2C%20%22fillOpacity%22%3A%200.6%2C%20%22opacity%22%3A%201%2C%20%22weight%22%3A%201%7D%7D%2C%20%22type%22%3A%20%22Feature%22%7D%2C%20%7B%22geometry%22%3A%20%7B%22coordinates%22%3A%20%5B%5B%5B127.01397119667513%2C%2037.52503988289669%5D%2C%20%5B127.03621915098798%2C%2037.48175802427603%5D%2C%20%5B127.0559170481904%2C%2037.4659228914077%5D%2C%20%5B127.08640440578156%2C%2037.472697935184655%5D%2C%20%5B127.09842759318751%2C%2037.45862253857461%5D%2C%20%5B127.09046928565951%2C%2037.44296826114185%5D%2C%20%5B127.06778107605433%2C%2037.426197424057314%5D%2C%20%5B127.04957232987142%2C%2037.42805836845694%5D%2C%20%5B127.03881782597922%2C%2037.45382039851715%5D%2C%20%5B126.99072073195462%2C%2037.455326143310025%5D%2C%20%5B126.98367668291802%2C%2037.473856492692086%5D%2C%20%5B126.98223807916081%2C%2037.509314966770326%5D%2C%20%5B127.01397119667513%2C%2037.52503988289669%5D%5D%5D%2C%20%22type%22%3A%20%22Polygon%22%7D%2C%20%22id%22%3A%20%22%5Cuc11c%5Cucd08%5Cuad6c%22%2C%20%22properties%22%3A%20%7B%22base_year%22%3A%20%222013%22%2C%20%22code%22%3A%20%2211220%22%2C%20%22highlight%22%3A%20%7B%7D%2C%20%22name%22%3A%20%22%5Cuc11c%5Cucd08%5Cuad6c%22%2C%20%22name_eng%22%3A%20%22Seocho-gu%22%2C%20%22style%22%3A%20%7B%22color%22%3A%20%22black%22%2C%20%22fillColor%22%3A%20%22%23d1e5f0%22%2C%20%22fillOpacity%22%3A%200.6%2C%20%22opacity%22%3A%201%2C%20%22weight%22%3A%201%7D%7D%2C%20%22type%22%3A%20%22Feature%22%7D%2C%20%7B%22geometry%22%3A%20%7B%22coordinates%22%3A%20%5B%5B%5B126.98367668291802%2C%2037.473856492692086%5D%2C%20%5B126.99072073195462%2C%2037.455326143310025%5D%2C%20%5B126.96520439085143%2C%2037.438249784006246%5D%2C%20%5B126.95000001010182%2C%2037.43613451165719%5D%2C%20%5B126.93084408056525%2C%2037.447382928333994%5D%2C%20%5B126.9167728146601%2C%2037.45490566423789%5D%2C%20%5B126.90156094129895%2C%2037.47753842789901%5D%2C%20%5B126.90531975801812%2C%2037.48218087575429%5D%2C%20%5B126.94922661389508%2C%2037.49125437495649%5D%2C%20%5B126.9725891850662%2C%2037.472561363278125%5D%2C%20%5B126.98367668291802%2C%2037.473856492692086%5D%5D%5D%2C%20%22type%22%3A%20%22Polygon%22%7D%2C%20%22id%22%3A%20%22%5Cuad00%5Cuc545%5Cuad6c%22%2C%20%22properties%22%3A%20%7B%22base_year%22%3A%20%222013%22%2C%20%22code%22%3A%20%2211210%22%2C%20%22highlight%22%3A%20%7B%7D%2C%20%22name%22%3A%20%22%5Cuad00%5Cuc545%5Cuad6c%22%2C%20%22name_eng%22%3A%20%22Gwanak-gu%22%2C%20%22style%22%3A%20%7B%22color%22%3A%20%22black%22%2C%20%22fillColor%22%3A%20%22%23d1e5f0%22%2C%20%22fillOpacity%22%3A%200.6%2C%20%22opacity%22%3A%201%2C%20%22weight%22%3A%201%7D%7D%2C%20%22type%22%3A%20%22Feature%22%7D%2C%20%7B%22geometry%22%3A%20%7B%22coordinates%22%3A%20%5B%5B%5B126.98223807916081%2C%2037.509314966770326%5D%2C%20%5B126.98367668291802%2C%2037.473856492692086%5D%2C%20%5B126.9725891850662%2C%2037.472561363278125%5D%2C%20%5B126.94922661389508%2C%2037.49125437495649%5D%2C%20%5B126.90531975801812%2C%2037.48218087575429%5D%2C%20%5B126.92177893174825%2C%2037.494889877415176%5D%2C%20%5B126.92810628828279%2C%2037.51329595732015%5D%2C%20%5B126.95249990298159%2C%2037.51722500741813%5D%2C%20%5B126.98223807916081%2C%2037.509314966770326%5D%5D%5D%2C%20%22type%22%3A%20%22Polygon%22%7D%2C%20%22id%22%3A%20%22%5Cub3d9%5Cuc791%5Cuad6c%22%2C%20%22properties%22%3A%20%7B%22base_year%22%3A%20%222013%22%2C%20%22code%22%3A%20%2211200%22%2C%20%22highlight%22%3A%20%7B%7D%2C%20%22name%22%3A%20%22%5Cub3d9%5Cuc791%5Cuad6c%22%2C%20%22name_eng%22%3A%20%22Dongjak-gu%22%2C%20%22style%22%3A%20%7B%22color%22%3A%20%22black%22%2C%20%22fillColor%22%3A%20%22%232166ac%22%2C%20%22fillOpacity%22%3A%200.6%2C%20%22opacity%22%3A%201%2C%20%22weight%22%3A%201%7D%7D%2C%20%22type%22%3A%20%22Feature%22%7D%2C%20%7B%22geometry%22%3A%20%7B%22coordinates%22%3A%20%5B%5B%5B126.89184663862764%2C%2037.547373974997114%5D%2C%20%5B126.94566733083212%2C%2037.526617542453366%5D%2C%20%5B126.95249990298159%2C%2037.51722500741813%5D%2C%20%5B126.92810628828279%2C%2037.51329595732015%5D%2C%20%5B126.92177893174825%2C%2037.494889877415176%5D%2C%20%5B126.90531975801812%2C%2037.48218087575429%5D%2C%20%5B126.89594776782485%2C%2037.504675281309176%5D%2C%20%5B126.88156402353862%2C%2037.513970034765684%5D%2C%20%5B126.88825757860099%2C%2037.54079733630232%5D%2C%20%5B126.89184663862764%2C%2037.547373974997114%5D%5D%5D%2C%20%22type%22%3A%20%22Polygon%22%7D%2C%20%22id%22%3A%20%22%5Cuc601%5Cub4f1%5Cud3ec%5Cuad6c%22%2C%20%22properties%22%3A%20%7B%22base_year%22%3A%20%222013%22%2C%20%22code%22%3A%20%2211190%22%2C%20%22highlight%22%3A%20%7B%7D%2C%20%22name%22%3A%20%22%5Cuc601%5Cub4f1%5Cud3ec%5Cuad6c%22%2C%20%22name_eng%22%3A%20%22Yeongdeungpo-gu%22%2C%20%22style%22%3A%20%7B%22color%22%3A%20%22black%22%2C%20%22fillColor%22%3A%20%22%23d1e5f0%22%2C%20%22fillOpacity%22%3A%200.6%2C%20%22opacity%22%3A%201%2C%20%22weight%22%3A%201%7D%7D%2C%20%22type%22%3A%20%22Feature%22%7D%2C%20%7B%22geometry%22%3A%20%7B%22coordinates%22%3A%20%5B%5B%5B126.90156094129895%2C%2037.47753842789901%5D%2C%20%5B126.9167728146601%2C%2037.45490566423789%5D%2C%20%5B126.93084408056525%2C%2037.447382928333994%5D%2C%20%5B126.9025831711697%2C%2037.434549366349124%5D%2C%20%5B126.87683271502428%2C%2037.482576591607305%5D%2C%20%5B126.90156094129895%2C%2037.47753842789901%5D%5D%5D%2C%20%22type%22%3A%20%22Polygon%22%7D%2C%20%22id%22%3A%20%22%5Cuae08%5Cucc9c%5Cuad6c%22%2C%20%22properties%22%3A%20%7B%22base_year%22%3A%20%222013%22%2C%20%22code%22%3A%20%2211180%22%2C%20%22highlight%22%3A%20%7B%7D%2C%20%22name%22%3A%20%22%5Cuae08%5Cucc9c%5Cuad6c%22%2C%20%22name_eng%22%3A%20%22Geumcheon-gu%22%2C%20%22style%22%3A%20%7B%22color%22%3A%20%22black%22%2C%20%22fillColor%22%3A%20%22%23d1e5f0%22%2C%20%22fillOpacity%22%3A%200.6%2C%20%22opacity%22%3A%201%2C%20%22weight%22%3A%201%7D%7D%2C%20%22type%22%3A%20%22Feature%22%7D%2C%20%7B%22geometry%22%3A%20%7B%22coordinates%22%3A%20%5B%5B%5B126.82688081517314%2C%2037.50548972232896%5D%2C%20%5B126.88156402353862%2C%2037.513970034765684%5D%2C%20%5B126.89594776782485%2C%2037.504675281309176%5D%2C%20%5B126.90531975801812%2C%2037.48218087575429%5D%2C%20%5B126.90156094129895%2C%2037.47753842789901%5D%2C%20%5B126.87683271502428%2C%2037.482576591607305%5D%2C%20%5B126.84762676054953%2C%2037.47146723936323%5D%2C%20%5B126.83549485076196%2C%2037.474098236975095%5D%2C%20%5B126.82264796791348%2C%2037.4878476492147%5D%2C%20%5B126.82504736331406%2C%2037.50302612640443%5D%2C%20%5B126.82688081517314%2C%2037.50548972232896%5D%5D%5D%2C%20%22type%22%3A%20%22Polygon%22%7D%2C%20%22id%22%3A%20%22%5Cuad6c%5Cub85c%5Cuad6c%22%2C%20%22properties%22%3A%20%7B%22base_year%22%3A%20%222013%22%2C%20%22code%22%3A%20%2211170%22%2C%20%22highlight%22%3A%20%7B%7D%2C%20%22name%22%3A%20%22%5Cuad6c%5Cub85c%5Cuad6c%22%2C%20%22name_eng%22%3A%20%22Guro-gu%22%2C%20%22style%22%3A%20%7B%22color%22%3A%20%22black%22%2C%20%22fillColor%22%3A%20%22%23d1e5f0%22%2C%20%22fillOpacity%22%3A%200.6%2C%20%22opacity%22%3A%201%2C%20%22weight%22%3A%201%7D%7D%2C%20%22type%22%3A%20%22Feature%22%7D%2C%20%7B%22geometry%22%3A%20%7B%22coordinates%22%3A%20%5B%5B%5B126.79575768552907%2C%2037.57881087633202%5D%2C%20%5B126.80702115023597%2C%2037.60123001013228%5D%2C%20%5B126.82251438477105%2C%2037.5880430810082%5D%2C%20%5B126.85984199399667%2C%2037.571847855292745%5D%2C%20%5B126.89184663862764%2C%2037.547373974997114%5D%2C%20%5B126.88825757860099%2C%2037.54079733630232%5D%2C%20%5B126.86637464321238%2C%2037.54859191094823%5D%2C%20%5B126.86610073476395%2C%2037.52699964144669%5D%2C%20%5B126.84257291943153%2C%2037.52373707805596%5D%2C%20%5B126.8242331426722%2C%2037.53788078753248%5D%2C%20%5B126.77324417717703%2C%2037.5459123450554%5D%2C%20%5B126.76979180579352%2C%2037.55139183008809%5D%2C%20%5B126.79575768552907%2C%2037.57881087633202%5D%5D%5D%2C%20%22type%22%3A%20%22Polygon%22%7D%2C%20%22id%22%3A%20%22%5Cuac15%5Cuc11c%5Cuad6c%22%2C%20%22properties%22%3A%20%7B%22base_year%22%3A%20%222013%22%2C%20%22code%22%3A%20%2211160%22%2C%20%22highlight%22%3A%20%7B%7D%2C%20%22name%22%3A%20%22%5Cuac15%5Cuc11c%5Cuad6c%22%2C%20%22name_eng%22%3A%20%22Gangseo-gu%22%2C%20%22style%22%3A%20%7B%22color%22%3A%20%22black%22%2C%20%22fillColor%22%3A%20%22%232166ac%22%2C%20%22fillOpacity%22%3A%200.6%2C%20%22opacity%22%3A%201%2C%20%22weight%22%3A%201%7D%7D%2C%20%22type%22%3A%20%22Feature%22%7D%2C%20%7B%22geometry%22%3A%20%7B%22coordinates%22%3A%20%5B%5B%5B126.8242331426722%2C%2037.53788078753248%5D%2C%20%5B126.84257291943153%2C%2037.52373707805596%5D%2C%20%5B126.86610073476395%2C%2037.52699964144669%5D%2C%20%5B126.86637464321238%2C%2037.54859191094823%5D%2C%20%5B126.88825757860099%2C%2037.54079733630232%5D%2C%20%5B126.88156402353862%2C%2037.513970034765684%5D%2C%20%5B126.82688081517314%2C%2037.50548972232896%5D%2C%20%5B126.8242331426722%2C%2037.53788078753248%5D%5D%5D%2C%20%22type%22%3A%20%22Polygon%22%7D%2C%20%22id%22%3A%20%22%5Cuc591%5Cucc9c%5Cuad6c%22%2C%20%22properties%22%3A%20%7B%22base_year%22%3A%20%222013%22%2C%20%22code%22%3A%20%2211150%22%2C%20%22highlight%22%3A%20%7B%7D%2C%20%22name%22%3A%20%22%5Cuc591%5Cucc9c%5Cuad6c%22%2C%20%22name_eng%22%3A%20%22Yangcheon-gu%22%2C%20%22style%22%3A%20%7B%22color%22%3A%20%22black%22%2C%20%22fillColor%22%3A%20%22%2367a9cf%22%2C%20%22fillOpacity%22%3A%200.6%2C%20%22opacity%22%3A%201%2C%20%22weight%22%3A%201%7D%7D%2C%20%22type%22%3A%20%22Feature%22%7D%2C%20%7B%22geometry%22%3A%20%7B%22coordinates%22%3A%20%5B%5B%5B126.90522065831053%2C%2037.57409700522574%5D%2C%20%5B126.93898161798973%2C%2037.552310003728124%5D%2C%20%5B126.96358226710812%2C%2037.55605635475154%5D%2C%20%5B126.96448570553055%2C%2037.548705692021635%5D%2C%20%5B126.94566733083212%2C%2037.526617542453366%5D%2C%20%5B126.89184663862764%2C%2037.547373974997114%5D%2C%20%5B126.85984199399667%2C%2037.571847855292745%5D%2C%20%5B126.88433284773288%2C%2037.588143322880526%5D%2C%20%5B126.90522065831053%2C%2037.57409700522574%5D%5D%5D%2C%20%22type%22%3A%20%22Polygon%22%7D%2C%20%22id%22%3A%20%22%5Cub9c8%5Cud3ec%5Cuad6c%22%2C%20%22properties%22%3A%20%7B%22base_year%22%3A%20%222013%22%2C%20%22code%22%3A%20%2211140%22%2C%20%22highlight%22%3A%20%7B%7D%2C%20%22name%22%3A%20%22%5Cub9c8%5Cud3ec%5Cuad6c%22%2C%20%22name_eng%22%3A%20%22Mapo-gu%22%2C%20%22style%22%3A%20%7B%22color%22%3A%20%22black%22%2C%20%22fillColor%22%3A%20%22%232166ac%22%2C%20%22fillOpacity%22%3A%200.6%2C%20%22opacity%22%3A%201%2C%20%22weight%22%3A%201%7D%7D%2C%20%22type%22%3A%20%22Feature%22%7D%2C%20%7B%22geometry%22%3A%20%7B%22coordinates%22%3A%20%5B%5B%5B126.9524752030572%2C%2037.60508692737045%5D%2C%20%5B126.95565425846463%2C%2037.576080790881456%5D%2C%20%5B126.96873633279075%2C%2037.56313604690827%5D%2C%20%5B126.96358226710812%2C%2037.55605635475154%5D%2C%20%5B126.93898161798973%2C%2037.552310003728124%5D%2C%20%5B126.90522065831053%2C%2037.57409700522574%5D%2C%20%5B126.9524752030572%2C%2037.60508692737045%5D%5D%5D%2C%20%22type%22%3A%20%22Polygon%22%7D%2C%20%22id%22%3A%20%22%5Cuc11c%5Cub300%5Cubb38%5Cuad6c%22%2C%20%22properties%22%3A%20%7B%22base_year%22%3A%20%222013%22%2C%20%22code%22%3A%20%2211130%22%2C%20%22highlight%22%3A%20%7B%7D%2C%20%22name%22%3A%20%22%5Cuc11c%5Cub300%5Cubb38%5Cuad6c%22%2C%20%22name_eng%22%3A%20%22Seodaemun-gu%22%2C%20%22style%22%3A%20%7B%22color%22%3A%20%22black%22%2C%20%22fillColor%22%3A%20%22%23d1e5f0%22%2C%20%22fillOpacity%22%3A%200.6%2C%20%22opacity%22%3A%201%2C%20%22weight%22%3A%201%7D%7D%2C%20%22type%22%3A%20%22Feature%22%7D%2C%20%7B%22geometry%22%3A%20%7B%22coordinates%22%3A%20%5B%5B%5B126.9738864128702%2C%2037.62949634786888%5D%2C%20%5B126.95427017006129%2C%2037.622033431339425%5D%2C%20%5B126.9524752030572%2C%2037.60508692737045%5D%2C%20%5B126.90522065831053%2C%2037.57409700522574%5D%2C%20%5B126.88433284773288%2C%2037.588143322880526%5D%2C%20%5B126.90396681003595%2C%2037.59227403419942%5D%2C%20%5B126.90303066177668%2C%2037.609977911401344%5D%2C%20%5B126.91455481429648%2C%2037.64150050996935%5D%2C%20%5B126.956473797387%2C%2037.652480737339445%5D%2C%20%5B126.9738864128702%2C%2037.62949634786888%5D%5D%5D%2C%20%22type%22%3A%20%22Polygon%22%7D%2C%20%22id%22%3A%20%22%5Cuc740%5Cud3c9%5Cuad6c%22%2C%20%22properties%22%3A%20%7B%22base_year%22%3A%20%222013%22%2C%20%22code%22%3A%20%2211120%22%2C%20%22highlight%22%3A%20%7B%7D%2C%20%22name%22%3A%20%22%5Cuc740%5Cud3c9%5Cuad6c%22%2C%20%22name_eng%22%3A%20%22Eunpyeong-gu%22%2C%20%22style%22%3A%20%7B%22color%22%3A%20%22black%22%2C%20%22fillColor%22%3A%20%22%2367a9cf%22%2C%20%22fillOpacity%22%3A%200.6%2C%20%22opacity%22%3A%201%2C%20%22weight%22%3A%201%7D%7D%2C%20%22type%22%3A%20%22Feature%22%7D%2C%20%7B%22geometry%22%3A%20%7B%22coordinates%22%3A%20%5B%5B%5B127.0838752703195%2C%2037.69359534202034%5D%2C%20%5B127.09706391309695%2C%2037.686383719372294%5D%2C%20%5B127.09440766298717%2C%2037.64713490473045%5D%2C%20%5B127.11326795855199%2C%2037.639622905315925%5D%2C%20%5B127.10782277688129%2C%2037.61804244241069%5D%2C%20%5B127.07351243825278%2C%2037.61283660342313%5D%2C%20%5B127.05209373568619%2C%2037.62164065487782%5D%2C%20%5B127.04358800895609%2C%2037.62848931298715%5D%2C%20%5B127.05800075220091%2C%2037.64318263878276%5D%2C%20%5B127.05288479710485%2C%2037.68423857084347%5D%2C%20%5B127.0838752703195%2C%2037.69359534202034%5D%5D%5D%2C%20%22type%22%3A%20%22Polygon%22%7D%2C%20%22id%22%3A%20%22%5Cub178%5Cuc6d0%5Cuad6c%22%2C%20%22properties%22%3A%20%7B%22base_year%22%3A%20%222013%22%2C%20%22code%22%3A%20%2211110%22%2C%20%22highlight%22%3A%20%7B%7D%2C%20%22name%22%3A%20%22%5Cub178%5Cuc6d0%5Cuad6c%22%2C%20%22name_eng%22%3A%20%22Nowon-gu%22%2C%20%22style%22%3A%20%7B%22color%22%3A%20%22black%22%2C%20%22fillColor%22%3A%20%22%232166ac%22%2C%20%22fillOpacity%22%3A%200.6%2C%20%22opacity%22%3A%201%2C%20%22weight%22%3A%201%7D%7D%2C%20%22type%22%3A%20%22Feature%22%7D%2C%20%7B%22geometry%22%3A%20%7B%22coordinates%22%3A%20%5B%5B%5B127.05288479710485%2C%2037.68423857084347%5D%2C%20%5B127.05800075220091%2C%2037.64318263878276%5D%2C%20%5B127.04358800895609%2C%2037.62848931298715%5D%2C%20%5B127.01465935892466%2C%2037.64943687496812%5D%2C%20%5B127.02062116141389%2C%2037.667173575971205%5D%2C%20%5B127.01039666042071%2C%2037.681894589603594%5D%2C%20%5B127.01795099203432%2C%2037.69824412775662%5D%2C%20%5B127.05288479710485%2C%2037.68423857084347%5D%5D%5D%2C%20%22type%22%3A%20%22Polygon%22%7D%2C%20%22id%22%3A%20%22%5Cub3c4%5Cubd09%5Cuad6c%22%2C%20%22properties%22%3A%20%7B%22base_year%22%3A%20%222013%22%2C%20%22code%22%3A%20%2211100%22%2C%20%22highlight%22%3A%20%7B%7D%2C%20%22name%22%3A%20%22%5Cub3c4%5Cubd09%5Cuad6c%22%2C%20%22name_eng%22%3A%20%22Dobong-gu%22%2C%20%22style%22%3A%20%7B%22color%22%3A%20%22black%22%2C%20%22fillColor%22%3A%20%22%232166ac%22%2C%20%22fillOpacity%22%3A%200.6%2C%20%22opacity%22%3A%201%2C%20%22weight%22%3A%201%7D%7D%2C%20%22type%22%3A%20%22Feature%22%7D%2C%20%7B%22geometry%22%3A%20%7B%22coordinates%22%3A%20%5B%5B%5B126.99383903424%2C%2037.676681761199085%5D%2C%20%5B127.01039666042071%2C%2037.681894589603594%5D%2C%20%5B127.02062116141389%2C%2037.667173575971205%5D%2C%20%5B127.01465935892466%2C%2037.64943687496812%5D%2C%20%5B127.04358800895609%2C%2037.62848931298715%5D%2C%20%5B127.05209373568619%2C%2037.62164065487782%5D%2C%20%5B127.03892400992301%2C%2037.609715611023816%5D%2C%20%5B127.0128154749523%2C%2037.613652243470256%5D%2C%20%5B126.98672705513869%2C%2037.63377641288196%5D%2C%20%5B126.9817452676551%2C%2037.65209769387776%5D%2C%20%5B126.99383903424%2C%2037.676681761199085%5D%5D%5D%2C%20%22type%22%3A%20%22Polygon%22%7D%2C%20%22id%22%3A%20%22%5Cuac15%5Cubd81%5Cuad6c%22%2C%20%22properties%22%3A%20%7B%22base_year%22%3A%20%222013%22%2C%20%22code%22%3A%20%2211090%22%2C%20%22highlight%22%3A%20%7B%7D%2C%20%22name%22%3A%20%22%5Cuac15%5Cubd81%5Cuad6c%22%2C%20%22name_eng%22%3A%20%22Gangbuk-gu%22%2C%20%22style%22%3A%20%7B%22color%22%3A%20%22black%22%2C%20%22fillColor%22%3A%20%22%2367a9cf%22%2C%20%22fillOpacity%22%3A%200.6%2C%20%22opacity%22%3A%201%2C%20%22weight%22%3A%201%7D%7D%2C%20%22type%22%3A%20%22Feature%22%7D%2C%20%7B%22geometry%22%3A%20%7B%22coordinates%22%3A%20%5B%5B%5B126.977175406416%2C%2037.62859715400388%5D%2C%20%5B126.98672705513869%2C%2037.63377641288196%5D%2C%20%5B127.0128154749523%2C%2037.613652243470256%5D%2C%20%5B127.03892400992301%2C%2037.609715611023816%5D%2C%20%5B127.05209373568619%2C%2037.62164065487782%5D%2C%20%5B127.07351243825278%2C%2037.61283660342313%5D%2C%20%5B127.07382707099227%2C%2037.60401928986419%5D%2C%20%5B127.042705222094%2C%2037.59239437593391%5D%2C%20%5B127.02527254528003%2C%2037.57524616245249%5D%2C%20%5B126.99348293358314%2C%2037.588565457216156%5D%2C%20%5B126.98879865992384%2C%2037.6118927319756%5D%2C%20%5B126.977175406416%2C%2037.62859715400388%5D%5D%5D%2C%20%22type%22%3A%20%22Polygon%22%7D%2C%20%22id%22%3A%20%22%5Cuc131%5Cubd81%5Cuad6c%22%2C%20%22properties%22%3A%20%7B%22base_year%22%3A%20%222013%22%2C%20%22code%22%3A%20%2211080%22%2C%20%22highlight%22%3A%20%7B%7D%2C%20%22name%22%3A%20%22%5Cuc131%5Cubd81%5Cuad6c%22%2C%20%22name_eng%22%3A%20%22Seongbuk-gu%22%2C%20%22style%22%3A%20%7B%22color%22%3A%20%22black%22%2C%20%22fillColor%22%3A%20%22%23d1e5f0%22%2C%20%22fillOpacity%22%3A%200.6%2C%20%22opacity%22%3A%201%2C%20%22weight%22%3A%201%7D%7D%2C%20%22type%22%3A%20%22Feature%22%7D%2C%20%7B%22geometry%22%3A%20%7B%22coordinates%22%3A%20%5B%5B%5B127.07351243825278%2C%2037.61283660342313%5D%2C%20%5B127.10782277688129%2C%2037.61804244241069%5D%2C%20%5B127.1201246020114%2C%2037.60178457598188%5D%2C%20%5B127.10304174249214%2C%2037.57076342290955%5D%2C%20%5B127.08068541280403%2C%2037.56906425519017%5D%2C%20%5B127.07382707099227%2C%2037.60401928986419%5D%2C%20%5B127.07351243825278%2C%2037.61283660342313%5D%5D%5D%2C%20%22type%22%3A%20%22Polygon%22%7D%2C%20%22id%22%3A%20%22%5Cuc911%5Cub791%5Cuad6c%22%2C%20%22properties%22%3A%20%7B%22base_year%22%3A%20%222013%22%2C%20%22code%22%3A%20%2211070%22%2C%20%22highlight%22%3A%20%7B%7D%2C%20%22name%22%3A%20%22%5Cuc911%5Cub791%5Cuad6c%22%2C%20%22name_eng%22%3A%20%22Jungnang-gu%22%2C%20%22style%22%3A%20%7B%22color%22%3A%20%22black%22%2C%20%22fillColor%22%3A%20%22%2367a9cf%22%2C%20%22fillOpacity%22%3A%200.6%2C%20%22opacity%22%3A%201%2C%20%22weight%22%3A%201%7D%7D%2C%20%22type%22%3A%20%22Feature%22%7D%2C%20%7B%22geometry%22%3A%20%7B%22coordinates%22%3A%20%5B%5B%5B127.02527254528003%2C%2037.57524616245249%5D%2C%20%5B127.042705222094%2C%2037.59239437593391%5D%2C%20%5B127.07382707099227%2C%2037.60401928986419%5D%2C%20%5B127.08068541280403%2C%2037.56906425519017%5D%2C%20%5B127.07421053024362%2C%2037.55724769712085%5D%2C%20%5B127.05005601081567%2C%2037.567577612590846%5D%2C%20%5B127.02547266349976%2C%2037.568943552237734%5D%2C%20%5B127.02527254528003%2C%2037.57524616245249%5D%5D%5D%2C%20%22type%22%3A%20%22Polygon%22%7D%2C%20%22id%22%3A%20%22%5Cub3d9%5Cub300%5Cubb38%5Cuad6c%22%2C%20%22properties%22%3A%20%7B%22base_year%22%3A%20%222013%22%2C%20%22code%22%3A%20%2211060%22%2C%20%22highlight%22%3A%20%7B%7D%2C%20%22name%22%3A%20%22%5Cub3d9%5Cub300%5Cubb38%5Cuad6c%22%2C%20%22name_eng%22%3A%20%22Dongdaemun-gu%22%2C%20%22style%22%3A%20%7B%22color%22%3A%20%22black%22%2C%20%22fillColor%22%3A%20%22%2367a9cf%22%2C%20%22fillOpacity%22%3A%200.6%2C%20%22opacity%22%3A%201%2C%20%22weight%22%3A%201%7D%7D%2C%20%22type%22%3A%20%22Feature%22%7D%2C%20%7B%22geometry%22%3A%20%7B%22coordinates%22%3A%20%5B%5B%5B127.08068541280403%2C%2037.56906425519017%5D%2C%20%5B127.10304174249214%2C%2037.57076342290955%5D%2C%20%5B127.11519584981606%2C%2037.557533180704915%5D%2C%20%5B127.1116764203608%2C%2037.540669955324965%5D%2C%20%5B127.10087519791962%2C%2037.524841220167055%5D%2C%20%5B127.0690698130372%2C%2037.522279423505026%5D%2C%20%5B127.05867359288398%2C%2037.52629974922568%5D%2C%20%5B127.07421053024362%2C%2037.55724769712085%5D%2C%20%5B127.08068541280403%2C%2037.56906425519017%5D%5D%5D%2C%20%22type%22%3A%20%22Polygon%22%7D%2C%20%22id%22%3A%20%22%5Cuad11%5Cuc9c4%5Cuad6c%22%2C%20%22properties%22%3A%20%7B%22base_year%22%3A%20%222013%22%2C%20%22code%22%3A%20%2211050%22%2C%20%22highlight%22%3A%20%7B%7D%2C%20%22name%22%3A%20%22%5Cuad11%5Cuc9c4%5Cuad6c%22%2C%20%22name_eng%22%3A%20%22Gwangjin-gu%22%2C%20%22style%22%3A%20%7B%22color%22%3A%20%22black%22%2C%20%22fillColor%22%3A%20%22%2367a9cf%22%2C%20%22fillOpacity%22%3A%200.6%2C%20%22opacity%22%3A%201%2C%20%22weight%22%3A%201%7D%7D%2C%20%22type%22%3A%20%22Feature%22%7D%2C%20%7B%22geometry%22%3A%20%7B%22coordinates%22%3A%20%5B%5B%5B127.02547266349976%2C%2037.568943552237734%5D%2C%20%5B127.05005601081567%2C%2037.567577612590846%5D%2C%20%5B127.07421053024362%2C%2037.55724769712085%5D%2C%20%5B127.05867359288398%2C%2037.52629974922568%5D%2C%20%5B127.02302831890559%2C%2037.53231899582663%5D%2C%20%5B127.01070894177482%2C%2037.54118048964762%5D%2C%20%5B127.02547266349976%2C%2037.568943552237734%5D%5D%5D%2C%20%22type%22%3A%20%22Polygon%22%7D%2C%20%22id%22%3A%20%22%5Cuc131%5Cub3d9%5Cuad6c%22%2C%20%22properties%22%3A%20%7B%22base_year%22%3A%20%222013%22%2C%20%22code%22%3A%20%2211040%22%2C%20%22highlight%22%3A%20%7B%7D%2C%20%22name%22%3A%20%22%5Cuc131%5Cub3d9%5Cuad6c%22%2C%20%22name_eng%22%3A%20%22Seongdong-gu%22%2C%20%22style%22%3A%20%7B%22color%22%3A%20%22black%22%2C%20%22fillColor%22%3A%20%22%23fddbc7%22%2C%20%22fillOpacity%22%3A%200.6%2C%20%22opacity%22%3A%201%2C%20%22weight%22%3A%201%7D%7D%2C%20%22type%22%3A%20%22Feature%22%7D%2C%20%7B%22geometry%22%3A%20%7B%22coordinates%22%3A%20%5B%5B%5B127.01070894177482%2C%2037.54118048964762%5D%2C%20%5B127.02302831890559%2C%2037.53231899582663%5D%2C%20%5B127.01397119667513%2C%2037.52503988289669%5D%2C%20%5B126.98223807916081%2C%2037.509314966770326%5D%2C%20%5B126.95249990298159%2C%2037.51722500741813%5D%2C%20%5B126.94566733083212%2C%2037.526617542453366%5D%2C%20%5B126.96448570553055%2C%2037.548705692021635%5D%2C%20%5B126.98752996903328%2C%2037.55094818807139%5D%2C%20%5B127.01070894177482%2C%2037.54118048964762%5D%5D%5D%2C%20%22type%22%3A%20%22Polygon%22%7D%2C%20%22id%22%3A%20%22%5Cuc6a9%5Cuc0b0%5Cuad6c%22%2C%20%22properties%22%3A%20%7B%22base_year%22%3A%20%222013%22%2C%20%22code%22%3A%20%2211030%22%2C%20%22highlight%22%3A%20%7B%7D%2C%20%22name%22%3A%20%22%5Cuc6a9%5Cuc0b0%5Cuad6c%22%2C%20%22name_eng%22%3A%20%22Yongsan-gu%22%2C%20%22style%22%3A%20%7B%22color%22%3A%20%22black%22%2C%20%22fillColor%22%3A%20%22%23d1e5f0%22%2C%20%22fillOpacity%22%3A%200.6%2C%20%22opacity%22%3A%201%2C%20%22weight%22%3A%201%7D%7D%2C%20%22type%22%3A%20%22Feature%22%7D%2C%20%7B%22geometry%22%3A%20%7B%22coordinates%22%3A%20%5B%5B%5B127.02547266349976%2C%2037.568943552237734%5D%2C%20%5B127.01070894177482%2C%2037.54118048964762%5D%2C%20%5B126.98752996903328%2C%2037.55094818807139%5D%2C%20%5B126.96448570553055%2C%2037.548705692021635%5D%2C%20%5B126.96358226710812%2C%2037.55605635475154%5D%2C%20%5B126.96873633279075%2C%2037.56313604690827%5D%2C%20%5B127.02547266349976%2C%2037.568943552237734%5D%5D%5D%2C%20%22type%22%3A%20%22Polygon%22%7D%2C%20%22id%22%3A%20%22%5Cuc911%5Cuad6c%22%2C%20%22properties%22%3A%20%7B%22base_year%22%3A%20%222013%22%2C%20%22code%22%3A%20%2211020%22%2C%20%22highlight%22%3A%20%7B%7D%2C%20%22name%22%3A%20%22%5Cuc911%5Cuad6c%22%2C%20%22name_eng%22%3A%20%22Jung-gu%22%2C%20%22style%22%3A%20%7B%22color%22%3A%20%22black%22%2C%20%22fillColor%22%3A%20%22%23b2182b%22%2C%20%22fillOpacity%22%3A%200.6%2C%20%22opacity%22%3A%201%2C%20%22weight%22%3A%201%7D%7D%2C%20%22type%22%3A%20%22Feature%22%7D%2C%20%7B%22geometry%22%3A%20%7B%22coordinates%22%3A%20%5B%5B%5B126.9738864128702%2C%2037.62949634786888%5D%2C%20%5B126.977175406416%2C%2037.62859715400388%5D%2C%20%5B126.98879865992384%2C%2037.6118927319756%5D%2C%20%5B126.99348293358314%2C%2037.588565457216156%5D%2C%20%5B127.02527254528003%2C%2037.57524616245249%5D%2C%20%5B127.02547266349976%2C%2037.568943552237734%5D%2C%20%5B126.96873633279075%2C%2037.56313604690827%5D%2C%20%5B126.95565425846463%2C%2037.576080790881456%5D%2C%20%5B126.9524752030572%2C%2037.60508692737045%5D%2C%20%5B126.95427017006129%2C%2037.622033431339425%5D%2C%20%5B126.9738864128702%2C%2037.62949634786888%5D%5D%5D%2C%20%22type%22%3A%20%22Polygon%22%7D%2C%20%22id%22%3A%20%22%5Cuc885%5Cub85c%5Cuad6c%22%2C%20%22properties%22%3A%20%7B%22base_year%22%3A%20%222013%22%2C%20%22code%22%3A%20%2211010%22%2C%20%22highlight%22%3A%20%7B%7D%2C%20%22name%22%3A%20%22%5Cuc885%5Cub85c%5Cuad6c%22%2C%20%22name_eng%22%3A%20%22Jongno-gu%22%2C%20%22style%22%3A%20%7B%22color%22%3A%20%22black%22%2C%20%22fillColor%22%3A%20%22%23fddbc7%22%2C%20%22fillOpacity%22%3A%200.6%2C%20%22opacity%22%3A%201%2C%20%22weight%22%3A%201%7D%7D%2C%20%22type%22%3A%20%22Feature%22%7D%5D%2C%20%22type%22%3A%20%22FeatureCollection%22%7D%2C%0A%20%20%20%20%20%20%20%20%20%20%20%20%7B%0A%20%20%20%20%20%20%20%20%20%20%20%20%7D%0A%20%20%20%20%20%20%20%20%29.addTo%28choropleth_644177582daa49d790a9de81c391a628%20%29%3B%0A%20%20%20%20%20%20%20%20geo_json_57fb96514d5e4fed9f2f6779dabbf154.setStyle%28function%28feature%29%20%7Breturn%20feature.properties.style%3B%7D%29%3B%0A%20%20%20%20%20%20%20%20%0A%20%20%20%20%0A%20%20%20%20var%20color_map_4e427707e01e4604934247928b384f5f%20%3D%20%7B%7D%3B%0A%0A%20%20%20%20%0A%20%20%20%20color_map_4e427707e01e4604934247928b384f5f.color%20%3D%20d3.scale.threshold%28%29%0A%20%20%20%20%20%20%20%20%20%20%20%20%20%20.domain%28%5B0.0042959865490764535%2C%200.004322727320179381%2C%200.004349468091282307%2C%200.004376208862385234%2C%200.004402949633488161%2C%200.004429690404591087%2C%200.004456431175694014%2C%200.004483171946796941%2C%200.0045099127178998685%2C%200.004536653489002795%2C%200.004563394260105722%2C%200.004590135031208649%2C%200.004616875802311575%2C%200.004643616573414502%2C%200.004670357344517429%2C%200.0046970981156203555%2C%200.004723838886723283%2C%200.00475057965782621%2C%200.004777320428929136%2C%200.004804061200032063%2C%200.00483080197113499%2C%200.004857542742237916%2C%200.0048842835133408435%2C%200.0049110242844437706%2C%200.004937765055546698%2C%200.004964505826649624%2C%200.004991246597752551%2C%200.005017987368855478%2C%200.005044728139958404%2C%200.005071468911061331%2C%200.0050982096821642585%2C%200.005124950453267185%2C%200.005151691224370112%2C%200.005178431995473039%2C%200.005205172766575965%2C%200.005231913537678892%2C%200.005258654308781819%2C%200.005285395079884746%2C%200.005312135850987673%2C%200.0053388766220906%2C%200.005365617393193527%2C%200.005392358164296453%2C%200.00541909893539938%2C%200.005445839706502307%2C%200.005472580477605234%2C%200.0054993212487081606%2C%200.005526062019811088%2C%200.005552802790914014%2C%200.005579543562016941%2C%200.005606284333119868%2C%200.005633025104222795%2C%200.005659765875325721%2C%200.0056865066464286485%2C%200.005713247417531576%2C%200.005739988188634502%2C%200.005766728959737429%2C%200.005793469730840356%2C%200.005820210501943283%2C%200.005846951273046209%2C%200.005873692044149136%2C%200.005900432815252063%2C%200.00592717358635499%2C%200.005953914357457917%2C%200.005980655128560844%2C%200.00600739589966377%2C%200.006034136670766697%2C%200.006060877441869624%2C%200.0060876182129725506%2C%200.006114358984075478%2C%200.006141099755178405%2C%200.006167840526281332%2C%200.006194581297384258%2C%200.006221322068487185%2C%200.006248062839590111%2C%200.0062748036106930385%2C%200.006301544381795966%2C%200.006328285152898893%2C%200.00635502592400182%2C%200.006381766695104745%2C%200.006408507466207672%2C%200.006435248237310599%2C%200.006461989008413526%2C%200.0064887297795164535%2C%200.006515470550619381%2C%200.006542211321722307%2C%200.006568952092825234%2C%200.00659569286392816%2C%200.006622433635031087%2C%200.006649174406134014%2C%200.006675915177236941%2C%200.0067026559483398685%2C%200.006729396719442795%2C%200.006756137490545721%2C%200.006782878261648648%2C%200.006809619032751575%2C%200.006836359803854502%2C%200.006863100574957429%2C%200.0068898413460603556%2C%200.006916582117163283%2C%200.006943322888266209%2C%200.006970063659369136%2C%200.006996804430472063%2C%200.00702354520157499%2C%200.007050285972677916%2C%200.0070770267437808435%2C%200.00710376751488377%2C%200.007130508285986697%2C%200.007157249057089624%2C%200.007183989828192551%2C%200.007210730599295478%2C%200.007237471370398404%2C%200.0072642121415013305%2C%200.007290952912604258%2C%200.007317693683707185%2C%200.007344434454810112%2C%200.007371175225913039%2C%200.007397915997015965%2C%200.007424656768118892%2C%200.0074513975392218185%2C%200.0074781383103247456%2C%200.007504879081427673%2C%200.0075316198525306%2C%200.007558360623633527%2C%200.007585101394736453%2C%200.007611842165839379%2C%200.007638582936942306%2C%200.0076653237080452335%2C%200.007692064479148161%2C%200.007718805250251088%2C%200.007745546021354015%2C%200.007772286792456941%2C%200.007799027563559867%2C%200.007825768334662794%2C%200.007852509105765721%2C%200.007879249876868649%2C%200.007905990647971574%2C%200.007932731419074503%2C%200.007959472190177428%2C%200.007986212961280355%2C%200.008012953732383282%2C%200.00803969450348621%2C%200.008066435274589136%2C%200.008093176045692062%2C%200.008119916816794989%2C%200.008146657587897916%2C%200.008173398359000843%2C%200.00820013913010377%2C%200.008226879901206697%2C%200.008253620672309624%2C%200.00828036144341255%2C%200.008307102214515477%2C%200.008333842985618404%2C%200.008360583756721331%2C%200.008387324527824258%2C%200.008414065298927185%2C%200.008440806070030112%2C%200.008467546841133038%2C%200.008494287612235965%2C%200.008521028383338892%2C%200.008547769154441819%2C%200.008574509925544746%2C%200.008601250696647671%2C%200.0086279914677506%2C%200.008654732238853526%2C%200.008681473009956454%2C%200.00870821378105938%2C%200.008734954552162307%2C%200.008761695323265234%2C%200.00878843609436816%2C%200.008815176865471088%2C%200.008841917636574013%2C%200.008868658407676942%2C%200.008895399178779868%2C%200.008922139949882793%2C%200.008948880720985722%2C%200.008975621492088647%2C%200.009002362263191576%2C%200.009029103034294501%2C%200.009055843805397428%2C%200.009082584576500356%2C%200.009109325347603283%2C%200.00913606611870621%2C%200.009162806889809135%2C%200.009189547660912062%2C%200.00921628843201499%2C%200.009243029203117916%2C%200.009269769974220844%2C%200.00929651074532377%2C%200.009323251516426696%2C%200.009349992287529623%2C%200.00937673305863255%2C%200.009403473829735477%2C%200.009430214600838404%2C%200.009456955371941331%2C%200.009483696143044257%2C%200.009510436914147186%2C%200.009537177685250111%2C%200.009563918456353038%2C%200.009590659227455965%2C%200.00961739999855889%2C%200.00964414076966182%2C%200.009670881540764745%2C%200.009697622311867674%2C%200.009724363082970599%2C%200.009751103854073526%2C%200.009777844625176453%2C%200.009804585396279378%2C%200.009831326167382307%2C%200.009858066938485233%2C%200.009884807709588161%2C%200.009911548480691087%2C%200.009938289251794014%2C%200.009965030022896941%2C%200.009991770793999866%2C%200.010018511565102795%2C%200.01004525233620572%2C%200.010071993107308648%2C%200.010098733878411575%2C%200.010125474649514502%2C%200.010152215420617429%2C%200.010178956191720354%2C%200.010205696962823281%2C%200.010232437733926208%2C%200.010259178505029136%2C%200.010285919276132063%2C%200.01031266004723499%2C%200.010339400818337917%2C%200.010366141589440842%2C%200.010392882360543771%2C%200.010419623131646696%2C%200.010446363902749623%2C%200.01047310467385255%2C%200.010499845444955476%2C%200.010526586216058405%2C%200.01055332698716133%2C%200.010580067758264259%2C%200.010606808529367184%2C%200.01063354930047011%2C%200.010660290071573039%2C%200.010687030842675964%2C%200.010713771613778893%2C%200.010740512384881818%2C%200.010767253155984747%2C%200.010793993927087672%2C%200.0108207346981906%2C%200.010847475469293526%2C%200.010874216240396452%2C%200.01090095701149938%2C%200.010927697782602306%2C%200.010954438553705233%2C%200.01098117932480816%2C%200.011007920095911087%2C%200.011034660867014014%2C%200.01106140163811694%2C%200.011088142409219867%2C%200.011114883180322794%2C%200.011141623951425721%2C%200.011168364722528648%2C%200.011195105493631575%2C%200.011221846264734502%2C%200.011248587035837428%2C%200.011275327806940355%2C%200.011302068578043282%2C%200.011328809349146209%2C%200.011355550120249136%2C%200.011382290891352061%2C%200.01140903166245499%2C%200.011435772433557916%2C%200.011462513204660843%2C%200.01148925397576377%2C%200.011515994746866695%2C%200.011542735517969624%2C%200.01156947628907255%2C%200.011596217060175478%2C%200.011622957831278403%2C%200.011649698602381332%2C%200.011676439373484258%2C%200.011703180144587183%2C%200.011729920915690112%2C%200.011756661686793037%2C%200.011783402457895966%2C%200.011810143228998891%2C%200.011836884000101819%2C%200.011863624771204746%2C%200.011890365542307671%2C%200.0119171063134106%2C%200.011943847084513525%2C%200.011970587855616452%2C%200.01199732862671938%2C%200.012024069397822306%2C%200.012050810168925234%2C%200.01207755094002816%2C%200.012104291711131088%2C%200.012131032482234013%2C%200.012157773253336942%2C%200.012184514024439867%2C%200.012211254795542793%2C%200.012237995566645721%2C%200.012264736337748647%2C%200.012291477108851576%2C%200.012318217879954501%2C%200.012344958651057426%2C%200.012371699422160355%2C%200.01239844019326328%2C%200.01242518096436621%2C%200.012451921735469135%2C%200.012478662506572064%2C%200.012505403277674989%2C%200.012532144048777918%2C%200.012558884819880843%2C%200.012585625590983772%2C%200.012612366362086697%2C%200.012639107133189623%2C%200.012665847904292548%2C%200.012692588675395477%2C%200.012719329446498402%2C%200.012746070217601331%2C%200.012772810988704256%2C%200.012799551759807185%2C%200.01282629253091011%2C%200.01285303330201304%2C%200.012879774073115965%2C%200.01290651484421889%2C%200.012933255615321819%2C%200.012959996386424744%2C%200.012986737157527673%2C%200.013013477928630598%2C%200.013040218699733527%2C%200.013066959470836453%2C%200.013093700241939378%2C%200.013120441013042307%2C%200.013147181784145232%2C%200.013173922555248161%2C%200.013200663326351086%2C%200.013227404097454012%2C%200.01325414486855694%2C%200.013280885639659866%2C%200.013307626410762795%2C%200.01333436718186572%2C%200.013361107952968649%2C%200.013387848724071574%2C%200.013414589495174503%2C%200.013441330266277429%2C%200.013468071037380357%2C%200.01349481180848328%2C%200.013521552579586208%2C%200.013548293350689133%2C%200.013575034121792062%2C%200.013601774892894988%2C%200.013628515663997916%2C%200.013655256435100842%2C%200.01368199720620377%2C%200.013708737977306696%2C%200.013735478748409625%2C%200.01376221951951255%2C%200.013788960290615476%2C%200.013815701061718404%2C%200.01384244183282133%2C%200.013869182603924259%2C%200.013895923375027184%2C%200.013922664146130113%2C%200.013949404917233038%2C%200.013976145688335963%2C%200.014002886459438892%2C%200.014029627230541818%2C%200.014056368001644743%2C%200.014083108772747672%2C%200.014109849543850597%2C%200.014136590314953526%2C%200.014163331086056451%2C%200.01419007185715938%2C%200.014216812628262306%2C%200.014243553399365234%2C%200.01427029417046816%2C%200.014297034941571089%2C%200.014323775712674014%2C%200.01435051648377694%2C%200.014377257254879865%2C%200.014403998025982793%2C%200.014430738797085719%2C%200.014457479568188648%2C%200.014484220339291573%2C%200.014510961110394502%2C%200.014537701881497427%2C%200.014564442652600356%2C%200.014591183423703281%2C%200.01461792419480621%2C%200.014644664965909136%2C%200.014671405737012061%2C%200.01469814650811499%2C%200.014724887279217915%2C%200.014751628050320844%2C%200.01477836882142377%2C%200.014805109592526695%2C%200.014831850363629624%2C%200.014858591134732549%2C%200.014885331905835478%2C%200.014912072676938403%2C%200.014938813448041328%2C%200.014965554219144257%2C%200.014992294990247183%2C%200.015019035761350111%2C%200.015045776532453037%2C%200.015072517303555966%2C%200.015099258074658891%2C%200.01512599884576182%2C%200.015152739616864745%2C%200.015179480387967674%2C%200.0152062211590706%2C%200.015232961930173525%2C%200.01525970270127645%2C%200.015286443472379379%2C%200.015313184243482304%2C%200.015339925014585233%2C%200.015366665785688158%2C%200.015393406556791087%2C%200.015420147327894013%2C%200.015446888098996941%2C%200.015473628870099867%2C%200.015500369641202796%2C%200.015527110412305721%2C%200.015553851183408646%2C%200.015580591954511575%2C%200.0156073327256145%2C%200.01563407349671743%2C%200.015660814267820355%2C%200.01568755503892328%2C%200.01571429581002621%2C%200.015741036581129134%2C%200.015767777352232063%2C%200.01579451812333499%2C%200.015821258894437914%2C%200.015847999665540843%2C%200.015874740436643768%2C%200.015901481207746697%2C%200.015928221978849622%2C%200.01595496274995255%2C%200.015981703521055476%2C%200.016008444292158405%2C%200.01603518506326133%2C%200.016061925834364256%2C%200.016088666605467185%2C%200.01611540737657011%2C%200.016142148147673036%2C%200.016168888918775964%2C%200.01619562968987889%2C%200.01622237046098182%2C%200.016249111232084744%2C%200.016275852003187673%2C%200.016302592774290598%2C%200.016329333545393527%2C%200.016356074316496452%2C%200.01638281508759938%2C%200.016409555858702306%2C%200.016436296629805232%2C%200.01646303740090816%2C%200.016489778172011086%2C%200.01651651894311401%2C%200.01654325971421694%2C%200.016570000485319866%2C%200.016596741256422794%2C%200.01662348202752572%2C%200.01665022279862865%2C%200.016676963569731574%2C%200.0167037043408345%2C%200.016730445111937428%2C%200.016757185883040353%2C%200.016783926654143282%2C%200.016810667425246208%2C%200.016837408196349136%2C%200.016864148967452062%2C%200.01689088973855499%2C%200.016917630509657916%2C%200.01694437128076084%2C%200.016971112051863767%2C%200.016997852822966696%2C%200.01702459359406962%2C%200.01705133436517255%2C%200.017078075136275475%2C%200.017104815907378404%2C%200.01713155667848133%2C%200.017158297449584258%2C%200.017185038220687184%2C%200.017211778991790112%2C%200.017238519762893038%2C%200.017265260533995963%2C%200.017292001305098892%2C%200.017318742076201817%2C%200.017345482847304746%2C%200.01737222361840767%2C%200.017398964389510597%2C%200.017425705160613526%2C%200.01745244593171645%2C%200.01747918670281938%2C%200.017505927473922305%2C%200.017532668245025234%2C%200.01755940901612816%2C%200.017586149787231085%2C%200.017612890558334014%2C%200.01763963132943694%5D%29%0A%20%20%20%20%20%20%20%20%20%20%20%20%20%20.range%28%5B%27%232166acff%27%2C%20%27%232166acff%27%2C%20%27%232166acff%27%2C%20%27%232166acff%27%2C%20%27%232166acff%27%2C%20%27%232166acff%27%2C%20%27%232166acff%27%2C%20%27%232166acff%27%2C%20%27%232166acff%27%2C%20%27%232166acff%27%2C%20%27%232166acff%27%2C%20%27%232166acff%27%2C%20%27%232166acff%27%2C%20%27%232166acff%27%2C%20%27%232166acff%27%2C%20%27%232166acff%27%2C%20%27%232166acff%27%2C%20%27%232166acff%27%2C%20%27%232166acff%27%2C%20%27%232166acff%27%2C%20%27%232166acff%27%2C%20%27%232166acff%27%2C%20%27%232166acff%27%2C%20%27%232166acff%27%2C%20%27%232166acff%27%2C%20%27%232166acff%27%2C%20%27%232166acff%27%2C%20%27%232166acff%27%2C%20%27%232166acff%27%2C%20%27%232166acff%27%2C%20%27%232166acff%27%2C%20%27%232166acff%27%2C%20%27%232166acff%27%2C%20%27%232166acff%27%2C%20%27%232166acff%27%2C%20%27%232166acff%27%2C%20%27%232166acff%27%2C%20%27%232166acff%27%2C%20%27%232166acff%27%2C%20%27%232166acff%27%2C%20%27%232166acff%27%2C%20%27%232166acff%27%2C%20%27%232166acff%27%2C%20%27%232166acff%27%2C%20%27%232166acff%27%2C%20%27%232166acff%27%2C%20%27%232166acff%27%2C%20%27%232166acff%27%2C%20%27%232166acff%27%2C%20%27%232166acff%27%2C%20%27%232166acff%27%2C%20%27%232166acff%27%2C%20%27%232166acff%27%2C%20%27%232166acff%27%2C%20%27%232166acff%27%2C%20%27%232166acff%27%2C%20%27%232166acff%27%2C%20%27%232166acff%27%2C%20%27%232166acff%27%2C%20%27%232166acff%27%2C%20%27%232166acff%27%2C%20%27%232166acff%27%2C%20%27%232166acff%27%2C%20%27%232166acff%27%2C%20%27%232166acff%27%2C%20%27%232166acff%27%2C%20%27%232166acff%27%2C%20%27%232166acff%27%2C%20%27%232166acff%27%2C%20%27%232166acff%27%2C%20%27%232166acff%27%2C%20%27%232166acff%27%2C%20%27%232166acff%27%2C%20%27%232166acff%27%2C%20%27%232166acff%27%2C%20%27%232166acff%27%2C%20%27%232166acff%27%2C%20%27%232166acff%27%2C%20%27%232166acff%27%2C%20%27%232166acff%27%2C%20%27%232166acff%27%2C%20%27%232166acff%27%2C%20%27%232166acff%27%2C%20%27%232166acff%27%2C%20%27%2367a9cfff%27%2C%20%27%2367a9cfff%27%2C%20%27%2367a9cfff%27%2C%20%27%2367a9cfff%27%2C%20%27%2367a9cfff%27%2C%20%27%2367a9cfff%27%2C%20%27%2367a9cfff%27%2C%20%27%2367a9cfff%27%2C%20%27%2367a9cfff%27%2C%20%27%2367a9cfff%27%2C%20%27%2367a9cfff%27%2C%20%27%2367a9cfff%27%2C%20%27%2367a9cfff%27%2C%20%27%2367a9cfff%27%2C%20%27%2367a9cfff%27%2C%20%27%2367a9cfff%27%2C%20%27%2367a9cfff%27%2C%20%27%2367a9cfff%27%2C%20%27%2367a9cfff%27%2C%20%27%2367a9cfff%27%2C%20%27%2367a9cfff%27%2C%20%27%2367a9cfff%27%2C%20%27%2367a9cfff%27%2C%20%27%2367a9cfff%27%2C%20%27%2367a9cfff%27%2C%20%27%2367a9cfff%27%2C%20%27%2367a9cfff%27%2C%20%27%2367a9cfff%27%2C%20%27%2367a9cfff%27%2C%20%27%2367a9cfff%27%2C%20%27%2367a9cfff%27%2C%20%27%2367a9cfff%27%2C%20%27%2367a9cfff%27%2C%20%27%2367a9cfff%27%2C%20%27%2367a9cfff%27%2C%20%27%2367a9cfff%27%2C%20%27%2367a9cfff%27%2C%20%27%2367a9cfff%27%2C%20%27%2367a9cfff%27%2C%20%27%2367a9cfff%27%2C%20%27%2367a9cfff%27%2C%20%27%2367a9cfff%27%2C%20%27%2367a9cfff%27%2C%20%27%2367a9cfff%27%2C%20%27%2367a9cfff%27%2C%20%27%2367a9cfff%27%2C%20%27%2367a9cfff%27%2C%20%27%2367a9cfff%27%2C%20%27%2367a9cfff%27%2C%20%27%2367a9cfff%27%2C%20%27%2367a9cfff%27%2C%20%27%2367a9cfff%27%2C%20%27%2367a9cfff%27%2C%20%27%2367a9cfff%27%2C%20%27%2367a9cfff%27%2C%20%27%2367a9cfff%27%2C%20%27%2367a9cfff%27%2C%20%27%2367a9cfff%27%2C%20%27%2367a9cfff%27%2C%20%27%2367a9cfff%27%2C%20%27%2367a9cfff%27%2C%20%27%2367a9cfff%27%2C%20%27%2367a9cfff%27%2C%20%27%2367a9cfff%27%2C%20%27%2367a9cfff%27%2C%20%27%2367a9cfff%27%2C%20%27%2367a9cfff%27%2C%20%27%2367a9cfff%27%2C%20%27%2367a9cfff%27%2C%20%27%2367a9cfff%27%2C%20%27%2367a9cfff%27%2C%20%27%2367a9cfff%27%2C%20%27%2367a9cfff%27%2C%20%27%2367a9cfff%27%2C%20%27%2367a9cfff%27%2C%20%27%2367a9cfff%27%2C%20%27%2367a9cfff%27%2C%20%27%2367a9cfff%27%2C%20%27%2367a9cfff%27%2C%20%27%2367a9cfff%27%2C%20%27%2367a9cfff%27%2C%20%27%2367a9cfff%27%2C%20%27%2367a9cfff%27%2C%20%27%23d1e5f0ff%27%2C%20%27%23d1e5f0ff%27%2C%20%27%23d1e5f0ff%27%2C%20%27%23d1e5f0ff%27%2C%20%27%23d1e5f0ff%27%2C%20%27%23d1e5f0ff%27%2C%20%27%23d1e5f0ff%27%2C%20%27%23d1e5f0ff%27%2C%20%27%23d1e5f0ff%27%2C%20%27%23d1e5f0ff%27%2C%20%27%23d1e5f0ff%27%2C%20%27%23d1e5f0ff%27%2C%20%27%23d1e5f0ff%27%2C%20%27%23d1e5f0ff%27%2C%20%27%23d1e5f0ff%27%2C%20%27%23d1e5f0ff%27%2C%20%27%23d1e5f0ff%27%2C%20%27%23d1e5f0ff%27%2C%20%27%23d1e5f0ff%27%2C%20%27%23d1e5f0ff%27%2C%20%27%23d1e5f0ff%27%2C%20%27%23d1e5f0ff%27%2C%20%27%23d1e5f0ff%27%2C%20%27%23d1e5f0ff%27%2C%20%27%23d1e5f0ff%27%2C%20%27%23d1e5f0ff%27%2C%20%27%23d1e5f0ff%27%2C%20%27%23d1e5f0ff%27%2C%20%27%23d1e5f0ff%27%2C%20%27%23d1e5f0ff%27%2C%20%27%23d1e5f0ff%27%2C%20%27%23d1e5f0ff%27%2C%20%27%23d1e5f0ff%27%2C%20%27%23d1e5f0ff%27%2C%20%27%23d1e5f0ff%27%2C%20%27%23d1e5f0ff%27%2C%20%27%23d1e5f0ff%27%2C%20%27%23d1e5f0ff%27%2C%20%27%23d1e5f0ff%27%2C%20%27%23d1e5f0ff%27%2C%20%27%23d1e5f0ff%27%2C%20%27%23d1e5f0ff%27%2C%20%27%23d1e5f0ff%27%2C%20%27%23d1e5f0ff%27%2C%20%27%23d1e5f0ff%27%2C%20%27%23d1e5f0ff%27%2C%20%27%23d1e5f0ff%27%2C%20%27%23d1e5f0ff%27%2C%20%27%23d1e5f0ff%27%2C%20%27%23d1e5f0ff%27%2C%20%27%23d1e5f0ff%27%2C%20%27%23d1e5f0ff%27%2C%20%27%23d1e5f0ff%27%2C%20%27%23d1e5f0ff%27%2C%20%27%23d1e5f0ff%27%2C%20%27%23d1e5f0ff%27%2C%20%27%23d1e5f0ff%27%2C%20%27%23d1e5f0ff%27%2C%20%27%23d1e5f0ff%27%2C%20%27%23d1e5f0ff%27%2C%20%27%23d1e5f0ff%27%2C%20%27%23d1e5f0ff%27%2C%20%27%23d1e5f0ff%27%2C%20%27%23d1e5f0ff%27%2C%20%27%23d1e5f0ff%27%2C%20%27%23d1e5f0ff%27%2C%20%27%23d1e5f0ff%27%2C%20%27%23d1e5f0ff%27%2C%20%27%23d1e5f0ff%27%2C%20%27%23d1e5f0ff%27%2C%20%27%23d1e5f0ff%27%2C%20%27%23d1e5f0ff%27%2C%20%27%23d1e5f0ff%27%2C%20%27%23d1e5f0ff%27%2C%20%27%23d1e5f0ff%27%2C%20%27%23d1e5f0ff%27%2C%20%27%23d1e5f0ff%27%2C%20%27%23d1e5f0ff%27%2C%20%27%23d1e5f0ff%27%2C%20%27%23d1e5f0ff%27%2C%20%27%23d1e5f0ff%27%2C%20%27%23d1e5f0ff%27%2C%20%27%23d1e5f0ff%27%2C%20%27%23fddbc7ff%27%2C%20%27%23fddbc7ff%27%2C%20%27%23fddbc7ff%27%2C%20%27%23fddbc7ff%27%2C%20%27%23fddbc7ff%27%2C%20%27%23fddbc7ff%27%2C%20%27%23fddbc7ff%27%2C%20%27%23fddbc7ff%27%2C%20%27%23fddbc7ff%27%2C%20%27%23fddbc7ff%27%2C%20%27%23fddbc7ff%27%2C%20%27%23fddbc7ff%27%2C%20%27%23fddbc7ff%27%2C%20%27%23fddbc7ff%27%2C%20%27%23fddbc7ff%27%2C%20%27%23fddbc7ff%27%2C%20%27%23fddbc7ff%27%2C%20%27%23fddbc7ff%27%2C%20%27%23fddbc7ff%27%2C%20%27%23fddbc7ff%27%2C%20%27%23fddbc7ff%27%2C%20%27%23fddbc7ff%27%2C%20%27%23fddbc7ff%27%2C%20%27%23fddbc7ff%27%2C%20%27%23fddbc7ff%27%2C%20%27%23fddbc7ff%27%2C%20%27%23fddbc7ff%27%2C%20%27%23fddbc7ff%27%2C%20%27%23fddbc7ff%27%2C%20%27%23fddbc7ff%27%2C%20%27%23fddbc7ff%27%2C%20%27%23fddbc7ff%27%2C%20%27%23fddbc7ff%27%2C%20%27%23fddbc7ff%27%2C%20%27%23fddbc7ff%27%2C%20%27%23fddbc7ff%27%2C%20%27%23fddbc7ff%27%2C%20%27%23fddbc7ff%27%2C%20%27%23fddbc7ff%27%2C%20%27%23fddbc7ff%27%2C%20%27%23fddbc7ff%27%2C%20%27%23fddbc7ff%27%2C%20%27%23fddbc7ff%27%2C%20%27%23fddbc7ff%27%2C%20%27%23fddbc7ff%27%2C%20%27%23fddbc7ff%27%2C%20%27%23fddbc7ff%27%2C%20%27%23fddbc7ff%27%2C%20%27%23fddbc7ff%27%2C%20%27%23fddbc7ff%27%2C%20%27%23fddbc7ff%27%2C%20%27%23fddbc7ff%27%2C%20%27%23fddbc7ff%27%2C%20%27%23fddbc7ff%27%2C%20%27%23fddbc7ff%27%2C%20%27%23fddbc7ff%27%2C%20%27%23fddbc7ff%27%2C%20%27%23fddbc7ff%27%2C%20%27%23fddbc7ff%27%2C%20%27%23fddbc7ff%27%2C%20%27%23fddbc7ff%27%2C%20%27%23fddbc7ff%27%2C%20%27%23fddbc7ff%27%2C%20%27%23fddbc7ff%27%2C%20%27%23fddbc7ff%27%2C%20%27%23fddbc7ff%27%2C%20%27%23fddbc7ff%27%2C%20%27%23fddbc7ff%27%2C%20%27%23fddbc7ff%27%2C%20%27%23fddbc7ff%27%2C%20%27%23fddbc7ff%27%2C%20%27%23fddbc7ff%27%2C%20%27%23fddbc7ff%27%2C%20%27%23fddbc7ff%27%2C%20%27%23fddbc7ff%27%2C%20%27%23fddbc7ff%27%2C%20%27%23fddbc7ff%27%2C%20%27%23fddbc7ff%27%2C%20%27%23fddbc7ff%27%2C%20%27%23fddbc7ff%27%2C%20%27%23fddbc7ff%27%2C%20%27%23fddbc7ff%27%2C%20%27%23fddbc7ff%27%2C%20%27%23ef8a62ff%27%2C%20%27%23ef8a62ff%27%2C%20%27%23ef8a62ff%27%2C%20%27%23ef8a62ff%27%2C%20%27%23ef8a62ff%27%2C%20%27%23ef8a62ff%27%2C%20%27%23ef8a62ff%27%2C%20%27%23ef8a62ff%27%2C%20%27%23ef8a62ff%27%2C%20%27%23ef8a62ff%27%2C%20%27%23ef8a62ff%27%2C%20%27%23ef8a62ff%27%2C%20%27%23ef8a62ff%27%2C%20%27%23ef8a62ff%27%2C%20%27%23ef8a62ff%27%2C%20%27%23ef8a62ff%27%2C%20%27%23ef8a62ff%27%2C%20%27%23ef8a62ff%27%2C%20%27%23ef8a62ff%27%2C%20%27%23ef8a62ff%27%2C%20%27%23ef8a62ff%27%2C%20%27%23ef8a62ff%27%2C%20%27%23ef8a62ff%27%2C%20%27%23ef8a62ff%27%2C%20%27%23ef8a62ff%27%2C%20%27%23ef8a62ff%27%2C%20%27%23ef8a62ff%27%2C%20%27%23ef8a62ff%27%2C%20%27%23ef8a62ff%27%2C%20%27%23ef8a62ff%27%2C%20%27%23ef8a62ff%27%2C%20%27%23ef8a62ff%27%2C%20%27%23ef8a62ff%27%2C%20%27%23ef8a62ff%27%2C%20%27%23ef8a62ff%27%2C%20%27%23ef8a62ff%27%2C%20%27%23ef8a62ff%27%2C%20%27%23ef8a62ff%27%2C%20%27%23ef8a62ff%27%2C%20%27%23ef8a62ff%27%2C%20%27%23ef8a62ff%27%2C%20%27%23ef8a62ff%27%2C%20%27%23ef8a62ff%27%2C%20%27%23ef8a62ff%27%2C%20%27%23ef8a62ff%27%2C%20%27%23ef8a62ff%27%2C%20%27%23ef8a62ff%27%2C%20%27%23ef8a62ff%27%2C%20%27%23ef8a62ff%27%2C%20%27%23ef8a62ff%27%2C%20%27%23ef8a62ff%27%2C%20%27%23ef8a62ff%27%2C%20%27%23ef8a62ff%27%2C%20%27%23ef8a62ff%27%2C%20%27%23ef8a62ff%27%2C%20%27%23ef8a62ff%27%2C%20%27%23ef8a62ff%27%2C%20%27%23ef8a62ff%27%2C%20%27%23ef8a62ff%27%2C%20%27%23ef8a62ff%27%2C%20%27%23ef8a62ff%27%2C%20%27%23ef8a62ff%27%2C%20%27%23ef8a62ff%27%2C%20%27%23ef8a62ff%27%2C%20%27%23ef8a62ff%27%2C%20%27%23ef8a62ff%27%2C%20%27%23ef8a62ff%27%2C%20%27%23ef8a62ff%27%2C%20%27%23ef8a62ff%27%2C%20%27%23ef8a62ff%27%2C%20%27%23ef8a62ff%27%2C%20%27%23ef8a62ff%27%2C%20%27%23ef8a62ff%27%2C%20%27%23ef8a62ff%27%2C%20%27%23ef8a62ff%27%2C%20%27%23ef8a62ff%27%2C%20%27%23ef8a62ff%27%2C%20%27%23ef8a62ff%27%2C%20%27%23ef8a62ff%27%2C%20%27%23ef8a62ff%27%2C%20%27%23ef8a62ff%27%2C%20%27%23ef8a62ff%27%2C%20%27%23ef8a62ff%27%2C%20%27%23b2182bff%27%2C%20%27%23b2182bff%27%2C%20%27%23b2182bff%27%2C%20%27%23b2182bff%27%2C%20%27%23b2182bff%27%2C%20%27%23b2182bff%27%2C%20%27%23b2182bff%27%2C%20%27%23b2182bff%27%2C%20%27%23b2182bff%27%2C%20%27%23b2182bff%27%2C%20%27%23b2182bff%27%2C%20%27%23b2182bff%27%2C%20%27%23b2182bff%27%2C%20%27%23b2182bff%27%2C%20%27%23b2182bff%27%2C%20%27%23b2182bff%27%2C%20%27%23b2182bff%27%2C%20%27%23b2182bff%27%2C%20%27%23b2182bff%27%2C%20%27%23b2182bff%27%2C%20%27%23b2182bff%27%2C%20%27%23b2182bff%27%2C%20%27%23b2182bff%27%2C%20%27%23b2182bff%27%2C%20%27%23b2182bff%27%2C%20%27%23b2182bff%27%2C%20%27%23b2182bff%27%2C%20%27%23b2182bff%27%2C%20%27%23b2182bff%27%2C%20%27%23b2182bff%27%2C%20%27%23b2182bff%27%2C%20%27%23b2182bff%27%2C%20%27%23b2182bff%27%2C%20%27%23b2182bff%27%2C%20%27%23b2182bff%27%2C%20%27%23b2182bff%27%2C%20%27%23b2182bff%27%2C%20%27%23b2182bff%27%2C%20%27%23b2182bff%27%2C%20%27%23b2182bff%27%2C%20%27%23b2182bff%27%2C%20%27%23b2182bff%27%2C%20%27%23b2182bff%27%2C%20%27%23b2182bff%27%2C%20%27%23b2182bff%27%2C%20%27%23b2182bff%27%2C%20%27%23b2182bff%27%2C%20%27%23b2182bff%27%2C%20%27%23b2182bff%27%2C%20%27%23b2182bff%27%2C%20%27%23b2182bff%27%2C%20%27%23b2182bff%27%2C%20%27%23b2182bff%27%2C%20%27%23b2182bff%27%2C%20%27%23b2182bff%27%2C%20%27%23b2182bff%27%2C%20%27%23b2182bff%27%2C%20%27%23b2182bff%27%2C%20%27%23b2182bff%27%2C%20%27%23b2182bff%27%2C%20%27%23b2182bff%27%2C%20%27%23b2182bff%27%2C%20%27%23b2182bff%27%2C%20%27%23b2182bff%27%2C%20%27%23b2182bff%27%2C%20%27%23b2182bff%27%2C%20%27%23b2182bff%27%2C%20%27%23b2182bff%27%2C%20%27%23b2182bff%27%2C%20%27%23b2182bff%27%2C%20%27%23b2182bff%27%2C%20%27%23b2182bff%27%2C%20%27%23b2182bff%27%2C%20%27%23b2182bff%27%2C%20%27%23b2182bff%27%2C%20%27%23b2182bff%27%2C%20%27%23b2182bff%27%2C%20%27%23b2182bff%27%2C%20%27%23b2182bff%27%2C%20%27%23b2182bff%27%2C%20%27%23b2182bff%27%2C%20%27%23b2182bff%27%2C%20%27%23b2182bff%27%2C%20%27%23b2182bff%27%5D%29%3B%0A%20%20%20%20%0A%0A%20%20%20%20color_map_4e427707e01e4604934247928b384f5f.x%20%3D%20d3.scale.linear%28%29%0A%20%20%20%20%20%20%20%20%20%20%20%20%20%20.domain%28%5B0.0042959865490764535%2C%200.01763963132943694%5D%29%0A%20%20%20%20%20%20%20%20%20%20%20%20%20%20.range%28%5B0%2C%20400%5D%29%3B%0A%0A%20%20%20%20color_map_4e427707e01e4604934247928b384f5f.legend%20%3D%20L.control%28%7Bposition%3A%20%27topright%27%7D%29%3B%0A%20%20%20%20color_map_4e427707e01e4604934247928b384f5f.legend.onAdd%20%3D%20function%20%28map%29%20%7Bvar%20div%20%3D%20L.DomUtil.create%28%27div%27%2C%20%27legend%27%29%3B%20return%20div%7D%3B%0A%20%20%20%20color_map_4e427707e01e4604934247928b384f5f.legend.addTo%28map_5609648c7dba4fe099dcf69803491cad%29%3B%0A%0A%20%20%20%20color_map_4e427707e01e4604934247928b384f5f.xAxis%20%3D%20d3.svg.axis%28%29%0A%20%20%20%20%20%20%20%20.scale%28color_map_4e427707e01e4604934247928b384f5f.x%29%0A%20%20%20%20%20%20%20%20.orient%28%22top%22%29%0A%20%20%20%20%20%20%20%20.tickSize%281%29%0A%20%20%20%20%20%20%20%20.tickValues%28%5B0.0042959865490764535%2C%200.006519927345803201%2C%200.008743868142529948%2C%200.010967808939256696%2C%200.013191749735983443%2C%200.015415690532710191%2C%200.01763963132943694%5D%29%3B%0A%0A%20%20%20%20color_map_4e427707e01e4604934247928b384f5f.svg%20%3D%20d3.select%28%22.legend.leaflet-control%22%29.append%28%22svg%22%29%0A%20%20%20%20%20%20%20%20.attr%28%22id%22%2C%20%27legend%27%29%0A%20%20%20%20%20%20%20%20.attr%28%22width%22%2C%20450%29%0A%20%20%20%20%20%20%20%20.attr%28%22height%22%2C%2040%29%3B%0A%0A%20%20%20%20color_map_4e427707e01e4604934247928b384f5f.g%20%3D%20color_map_4e427707e01e4604934247928b384f5f.svg.append%28%22g%22%29%0A%20%20%20%20%20%20%20%20.attr%28%22class%22%2C%20%22key%22%29%0A%20%20%20%20%20%20%20%20.attr%28%22transform%22%2C%20%22translate%2825%2C16%29%22%29%3B%0A%0A%20%20%20%20color_map_4e427707e01e4604934247928b384f5f.g.selectAll%28%22rect%22%29%0A%20%20%20%20%20%20%20%20.data%28color_map_4e427707e01e4604934247928b384f5f.color.range%28%29.map%28function%28d%2C%20i%29%20%7B%0A%20%20%20%20%20%20%20%20%20%20return%20%7B%0A%20%20%20%20%20%20%20%20%20%20%20%20x0%3A%20i%20%3F%20color_map_4e427707e01e4604934247928b384f5f.x%28color_map_4e427707e01e4604934247928b384f5f.color.domain%28%29%5Bi%20-%201%5D%29%20%3A%20color_map_4e427707e01e4604934247928b384f5f.x.range%28%29%5B0%5D%2C%0A%20%20%20%20%20%20%20%20%20%20%20%20x1%3A%20i%20%3C%20color_map_4e427707e01e4604934247928b384f5f.color.domain%28%29.length%20%3F%20color_map_4e427707e01e4604934247928b384f5f.x%28color_map_4e427707e01e4604934247928b384f5f.color.domain%28%29%5Bi%5D%29%20%3A%20color_map_4e427707e01e4604934247928b384f5f.x.range%28%29%5B1%5D%2C%0A%20%20%20%20%20%20%20%20%20%20%20%20z%3A%20d%0A%20%20%20%20%20%20%20%20%20%20%7D%3B%0A%20%20%20%20%20%20%20%20%7D%29%29%0A%20%20%20%20%20%20.enter%28%29.append%28%22rect%22%29%0A%20%20%20%20%20%20%20%20.attr%28%22height%22%2C%2010%29%0A%20%20%20%20%20%20%20%20.attr%28%22x%22%2C%20function%28d%29%20%7B%20return%20d.x0%3B%20%7D%29%0A%20%20%20%20%20%20%20%20.attr%28%22width%22%2C%20function%28d%29%20%7B%20return%20d.x1%20-%20d.x0%3B%20%7D%29%0A%20%20%20%20%20%20%20%20.style%28%22fill%22%2C%20function%28d%29%20%7B%20return%20d.z%3B%20%7D%29%3B%0A%0A%20%20%20%20color_map_4e427707e01e4604934247928b384f5f.g.call%28color_map_4e427707e01e4604934247928b384f5f.xAxis%29.append%28%22text%22%29%0A%20%20%20%20%20%20%20%20.attr%28%22class%22%2C%20%22caption%22%29%0A%20%20%20%20%20%20%20%20.attr%28%22y%22%2C%2021%29%0A%20%20%20%20%20%20%20%20.text%28%27%EC%9D%B8%EA%B5%AC%EB%8B%B9%20CCTV%20%EC%88%98%27%29%3B%0A%3C/script%3E onload=\"this.contentDocument.open();this.contentDocument.write(    decodeURIComponent(this.getAttribute('data-html')));this.contentDocument.close();\" allowfullscreen webkitallowfullscreen mozallowfullscreen></iframe></div></div>"
            ],
            "text/plain": [
              "<folium.folium.Map at 0x7f9936bf6290>"
            ]
          },
          "metadata": {},
          "execution_count": 73
        }
      ]
    },
    {
      "cell_type": "code",
      "metadata": {
        "id": "1ENZuDRLReOq"
      },
      "source": [
        ""
      ],
      "execution_count": null,
      "outputs": []
    }
  ]
}