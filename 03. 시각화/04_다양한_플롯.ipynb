{
  "nbformat": 4,
  "nbformat_minor": 0,
  "metadata": {
    "colab": {
      "name": "04_다양한 플롯.ipynb",
      "provenance": [],
      "collapsed_sections": []
    },
    "kernelspec": {
      "name": "python3",
      "display_name": "Python 3"
    },
    "language_info": {
      "name": "python"
    }
  },
  "cells": [
    {
      "cell_type": "code",
      "metadata": {
        "id": "v7XVMuPUt57M"
      },
      "source": [
        "!apt-get install -y fonts-nanum\n",
        "!fc-cache -fv\n",
        "!rm -rf ~/.cache/matplotlib"
      ],
      "execution_count": null,
      "outputs": []
    },
    {
      "cell_type": "code",
      "metadata": {
        "id": "CvbUBw-guB9b"
      },
      "source": [
        "import numpy as np\n",
        "import matplotlib as mpl\n",
        "import matplotlib.pyplot as plt\n",
        "mpl.rcParams['axes.unicode_minus'] = False\n",
        "plt.rc('font', family = 'NanumBarunGothic')"
      ],
      "execution_count": 1,
      "outputs": []
    },
    {
      "cell_type": "markdown",
      "metadata": {
        "id": "A6NRRV2LuLET"
      },
      "source": [
        "# Matplotlib의 다양한 플롯"
      ]
    },
    {
      "cell_type": "markdown",
      "metadata": {
        "id": "31nD9GR-uRAn"
      },
      "source": [
        "## 1. Bar Chart\n",
        "- x데이터가 카테고리인 경우"
      ]
    },
    {
      "cell_type": "code",
      "metadata": {
        "colab": {
          "base_uri": "https://localhost:8080/",
          "height": 294
        },
        "id": "1fTO6vkiuQDO",
        "outputId": "f338f138-6c0d-4247-ba42-b21f6852b8e6"
      },
      "source": [
        "y = [2, 3, 1]\n",
        "x = np.arange(len(y))\n",
        "xlabel = ['가', '나', '다']\n",
        "plt.title(\"Bar Chart\")\n",
        "plt.bar(x, y)\n",
        "plt.xticks(x, xlabel)\n",
        "plt.yticks(sorted(y))\n",
        "plt.xlabel(\"가나다\")\n",
        "plt.ylabel(\"빈도 수\")\n",
        "plt.show()"
      ],
      "execution_count": 4,
      "outputs": [
        {
          "output_type": "display_data",
          "data": {
            "image/png": "[encoded data removed]",
            "text/plain": [
              "<Figure size 432x288 with 1 Axes>"
            ]
          },
          "metadata": {
            "tags": [],
            "needs_background": "light"
          }
        }
      ]
    },
    {
      "cell_type": "code",
      "metadata": {
        "colab": {
          "base_uri": "https://localhost:8080/",
          "height": 294
        },
        "id": "kJTJnfnMvuJ6",
        "outputId": "920006ed-c42b-42cc-b395-7a15a3dd21d0"
      },
      "source": [
        "# 레이블이 길 경우 수평 바형 그래프 사용\n",
        "np.random.seed(2021)\n",
        "\n",
        "people = ['몽룡', '춘향', '방자', '향단']\n",
        "y_pos = np.arange(len(people))\n",
        "performance = 3 + 10 * np.random.rand(len(people))\n",
        "error = np.random.rand(len(people))\n",
        "\n",
        "plt.title(\"Barh Chart\")\n",
        "plt.barh(y_pos, performance, xerr=error, alpha=0.4)\n",
        "plt.yticks(y_pos, people)\n",
        "plt.xlabel('x 라벨')\n",
        "plt.show()"
      ],
      "execution_count": 6,
      "outputs": [
        {
          "output_type": "display_data",
          "data": {
            "image/png": "[encoded data removed]",
            "text/plain": [
              "<Figure size 432x288 with 1 Axes>"
            ]
          },
          "metadata": {
            "tags": [],
            "needs_background": "light"
          }
        }
      ]
    },
    {
      "cell_type": "markdown",
      "metadata": {
        "id": "mL1f80TtwdJb"
      },
      "source": [
        "### 타이타닉 선실별 승객 수"
      ]
    },
    {
      "cell_type": "code",
      "metadata": {
        "colab": {
          "base_uri": "https://localhost:8080/",
          "height": 223
        },
        "id": "thDJSjJSwe5F",
        "outputId": "91194cf2-e967-4de0-a4ad-757760dcd9c6"
      },
      "source": [
        "import seaborn as sns\n",
        "titanic = sns.load_dataset('titanic')\n",
        "titanic.head()"
      ],
      "execution_count": 7,
      "outputs": [
        {
          "output_type": "execute_result",
          "data": {
            "text/html": [
              "<div>\n",
              "<style scoped>\n",
              "    .dataframe tbody tr th:only-of-type {\n",
              "        vertical-align: middle;\n",
              "    }\n",
              "\n",
              "    .dataframe tbody tr th {\n",
              "        vertical-align: top;\n",
              "    }\n",
              "\n",
              "    .dataframe thead th {\n",
              "        text-align: right;\n",
              "    }\n",
              "</style>\n",
              "<table border=\"1\" class=\"dataframe\">\n",
              "  <thead>\n",
              "    <tr style=\"text-align: right;\">\n",
              "      <th></th>\n",
              "      <th>survived</th>\n",
              "      <th>pclass</th>\n",
              "      <th>sex</th>\n",
              "      <th>age</th>\n",
              "      <th>sibsp</th>\n",
              "      <th>parch</th>\n",
              "      <th>fare</th>\n",
              "      <th>embarked</th>\n",
              "      <th>class</th>\n",
              "      <th>who</th>\n",
              "      <th>adult_male</th>\n",
              "      <th>deck</th>\n",
              "      <th>embark_town</th>\n",
              "      <th>alive</th>\n",
              "      <th>alone</th>\n",
              "    </tr>\n",
              "  </thead>\n",
              "  <tbody>\n",
              "    <tr>\n",
              "      <th>0</th>\n",
              "      <td>0</td>\n",
              "      <td>3</td>\n",
              "      <td>male</td>\n",
              "      <td>22.0</td>\n",
              "      <td>1</td>\n",
              "      <td>0</td>\n",
              "      <td>7.2500</td>\n",
              "      <td>S</td>\n",
              "      <td>Third</td>\n",
              "      <td>man</td>\n",
              "      <td>True</td>\n",
              "      <td>NaN</td>\n",
              "      <td>Southampton</td>\n",
              "      <td>no</td>\n",
              "      <td>False</td>\n",
              "    </tr>\n",
              "    <tr>\n",
              "      <th>1</th>\n",
              "      <td>1</td>\n",
              "      <td>1</td>\n",
              "      <td>female</td>\n",
              "      <td>38.0</td>\n",
              "      <td>1</td>\n",
              "      <td>0</td>\n",
              "      <td>71.2833</td>\n",
              "      <td>C</td>\n",
              "      <td>First</td>\n",
              "      <td>woman</td>\n",
              "      <td>False</td>\n",
              "      <td>C</td>\n",
              "      <td>Cherbourg</td>\n",
              "      <td>yes</td>\n",
              "      <td>False</td>\n",
              "    </tr>\n",
              "    <tr>\n",
              "      <th>2</th>\n",
              "      <td>1</td>\n",
              "      <td>3</td>\n",
              "      <td>female</td>\n",
              "      <td>26.0</td>\n",
              "      <td>0</td>\n",
              "      <td>0</td>\n",
              "      <td>7.9250</td>\n",
              "      <td>S</td>\n",
              "      <td>Third</td>\n",
              "      <td>woman</td>\n",
              "      <td>False</td>\n",
              "      <td>NaN</td>\n",
              "      <td>Southampton</td>\n",
              "      <td>yes</td>\n",
              "      <td>True</td>\n",
              "    </tr>\n",
              "    <tr>\n",
              "      <th>3</th>\n",
              "      <td>1</td>\n",
              "      <td>1</td>\n",
              "      <td>female</td>\n",
              "      <td>35.0</td>\n",
              "      <td>1</td>\n",
              "      <td>0</td>\n",
              "      <td>53.1000</td>\n",
              "      <td>S</td>\n",
              "      <td>First</td>\n",
              "      <td>woman</td>\n",
              "      <td>False</td>\n",
              "      <td>C</td>\n",
              "      <td>Southampton</td>\n",
              "      <td>yes</td>\n",
              "      <td>False</td>\n",
              "    </tr>\n",
              "    <tr>\n",
              "      <th>4</th>\n",
              "      <td>0</td>\n",
              "      <td>3</td>\n",
              "      <td>male</td>\n",
              "      <td>35.0</td>\n",
              "      <td>0</td>\n",
              "      <td>0</td>\n",
              "      <td>8.0500</td>\n",
              "      <td>S</td>\n",
              "      <td>Third</td>\n",
              "      <td>man</td>\n",
              "      <td>True</td>\n",
              "      <td>NaN</td>\n",
              "      <td>Southampton</td>\n",
              "      <td>no</td>\n",
              "      <td>True</td>\n",
              "    </tr>\n",
              "  </tbody>\n",
              "</table>\n",
              "</div>"
            ],
            "text/plain": [
              "   survived  pclass     sex   age  ...  deck  embark_town  alive  alone\n",
              "0         0       3    male  22.0  ...   NaN  Southampton     no  False\n",
              "1         1       1  female  38.0  ...     C    Cherbourg    yes  False\n",
              "2         1       3  female  26.0  ...   NaN  Southampton    yes   True\n",
              "3         1       1  female  35.0  ...     C  Southampton    yes  False\n",
              "4         0       3    male  35.0  ...   NaN  Southampton     no   True\n",
              "\n",
              "[5 rows x 15 columns]"
            ]
          },
          "metadata": {
            "tags": []
          },
          "execution_count": 7
        }
      ]
    },
    {
      "cell_type": "code",
      "metadata": {
        "colab": {
          "base_uri": "https://localhost:8080/"
        },
        "id": "TJb92tjuw3jr",
        "outputId": "ec8e7798-24e1-4c9a-ecaa-bdd07c049c92"
      },
      "source": [
        "titanic['class'].value_counts()"
      ],
      "execution_count": 8,
      "outputs": [
        {
          "output_type": "execute_result",
          "data": {
            "text/plain": [
              "Third     491\n",
              "First     216\n",
              "Second    184\n",
              "Name: class, dtype: int64"
            ]
          },
          "metadata": {
            "tags": []
          },
          "execution_count": 8
        }
      ]
    },
    {
      "cell_type": "code",
      "metadata": {
        "colab": {
          "base_uri": "https://localhost:8080/",
          "height": 172
        },
        "id": "9pIiajqyw6g7",
        "outputId": "a6cfb4c7-c245-4e61-d386-18d6848e537c"
      },
      "source": [
        "df = titanic[['class', 'pclass']].groupby('class').count()\n",
        "df"
      ],
      "execution_count": 11,
      "outputs": [
        {
          "output_type": "execute_result",
          "data": {
            "text/html": [
              "<div>\n",
              "<style scoped>\n",
              "    .dataframe tbody tr th:only-of-type {\n",
              "        vertical-align: middle;\n",
              "    }\n",
              "\n",
              "    .dataframe tbody tr th {\n",
              "        vertical-align: top;\n",
              "    }\n",
              "\n",
              "    .dataframe thead th {\n",
              "        text-align: right;\n",
              "    }\n",
              "</style>\n",
              "<table border=\"1\" class=\"dataframe\">\n",
              "  <thead>\n",
              "    <tr style=\"text-align: right;\">\n",
              "      <th></th>\n",
              "      <th>pclass</th>\n",
              "    </tr>\n",
              "    <tr>\n",
              "      <th>class</th>\n",
              "      <th></th>\n",
              "    </tr>\n",
              "  </thead>\n",
              "  <tbody>\n",
              "    <tr>\n",
              "      <th>First</th>\n",
              "      <td>216</td>\n",
              "    </tr>\n",
              "    <tr>\n",
              "      <th>Second</th>\n",
              "      <td>184</td>\n",
              "    </tr>\n",
              "    <tr>\n",
              "      <th>Third</th>\n",
              "      <td>491</td>\n",
              "    </tr>\n",
              "  </tbody>\n",
              "</table>\n",
              "</div>"
            ],
            "text/plain": [
              "        pclass\n",
              "class         \n",
              "First      216\n",
              "Second     184\n",
              "Third      491"
            ]
          },
          "metadata": {
            "tags": []
          },
          "execution_count": 11
        }
      ]
    },
    {
      "cell_type": "code",
      "metadata": {
        "colab": {
          "base_uri": "https://localhost:8080/",
          "height": 280
        },
        "id": "-NcTofwRxZ43",
        "outputId": "92c71d14-e020-4cac-fc26-e98e7dcf72bf"
      },
      "source": [
        "y = df.pclass.values\n",
        "x = np.arange(len(y))\n",
        "xlabel = df.index.to_list()\n",
        "\n",
        "plt.title(\"타이타닉 선실별 승객수\")\n",
        "plt.bar(x, y)\n",
        "plt.xticks(x, xlabel)\n",
        "plt.xlabel=('선실')\n",
        "plt.ylabel=('승객수')\n",
        "plt.show()"
      ],
      "execution_count": 20,
      "outputs": [
        {
          "output_type": "display_data",
          "data": {
            "image/png": "[encoded data removed]",
            "text/plain": [
              "<Figure size 432x288 with 1 Axes>"
            ]
          },
          "metadata": {
            "tags": [],
            "needs_background": "light"
          }
        }
      ]
    },
    {
      "cell_type": "markdown",
      "metadata": {
        "id": "-I7C3pAY0zHb"
      },
      "source": [
        "## 2. 파이 차트\n",
        "- 카테고리 별 값의 상대적인 비교를 해야할 때"
      ]
    },
    {
      "cell_type": "code",
      "metadata": {
        "colab": {
          "base_uri": "https://localhost:8080/",
          "height": 266
        },
        "id": "CaRCdVS_1MdI",
        "outputId": "6a97f01b-686f-4e2e-bfc3-5549eba3aab8"
      },
      "source": [
        "labels = ['개구리', '돼지', '개', '통나무']\n",
        "sizes = [15, 30, 45, 10]        # 합이 100이 되도록\n",
        "colors = ['yellowgreen', 'gold', '#199c6e', 'lightcoral'] #색 지정 안해도 알아서 해줌\n",
        "explode = (0, 0.1, 0, 0)\n",
        "plt.title(\"Pie Chart\", fontsize= 15)\n",
        "plt.pie(sizes, explode=explode, labels=labels, colors=colors,\n",
        "        autopct='%1.1f%%', shadow=True, startangle=90)\n",
        "plt.axis('equal')\n",
        "plt.show()"
      ],
      "execution_count": 31,
      "outputs": [
        {
          "output_type": "display_data",
          "data": {
            "image/png": "[encoded data removed]",
            "text/plain": [
              "<Figure size 432x288 with 1 Axes>"
            ]
          },
          "metadata": {
            "tags": []
          }
        }
      ]
    },
    {
      "cell_type": "markdown",
      "metadata": {
        "id": "iCYX2NJy4k-8"
      },
      "source": [
        "## 3. 히스토그램\n",
        "- 데이터의 분포"
      ]
    },
    {
      "cell_type": "code",
      "metadata": {
        "colab": {
          "base_uri": "https://localhost:8080/",
          "height": 280
        },
        "id": "cMVJz7-24nhR",
        "outputId": "1785e9b8-3a87-427e-9fef-d1e8e806a37a"
      },
      "source": [
        "np.random.seed(0)\n",
        "x = np.random.randn(10000)\n",
        "plt.title(\"Histogram\")\n",
        "arrays, bins, patches = plt.hist(x, bins=10)\n",
        "plt.show()"
      ],
      "execution_count": 33,
      "outputs": [
        {
          "output_type": "display_data",
          "data": {
            "image/png": "[encoded data removed]",
            "text/plain": [
              "<Figure size 432x288 with 1 Axes>"
            ]
          },
          "metadata": {
            "tags": [],
            "needs_background": "light"
          }
        }
      ]
    },
    {
      "cell_type": "code",
      "metadata": {
        "colab": {
          "base_uri": "https://localhost:8080/"
        },
        "id": "XGxoMxrX5c2b",
        "outputId": "bad81122-658f-436d-952a-cc94c90f2142"
      },
      "source": [
        "arrays"
      ],
      "execution_count": 34,
      "outputs": [
        {
          "output_type": "execute_result",
          "data": {
            "text/plain": [
              "array([  10.,  110.,  579., 1710., 2833., 2688., 1479.,  487.,   97.,\n",
              "          7.])"
            ]
          },
          "metadata": {
            "tags": []
          },
          "execution_count": 34
        }
      ]
    },
    {
      "cell_type": "code",
      "metadata": {
        "colab": {
          "base_uri": "https://localhost:8080/"
        },
        "id": "1X4No3QV5eZl",
        "outputId": "95e055c7-90f8-4b81-ff05-1332754c6091"
      },
      "source": [
        "bins"
      ],
      "execution_count": 35,
      "outputs": [
        {
          "output_type": "execute_result",
          "data": {
            "text/plain": [
              "array([-3.74010064, -2.98592455, -2.23174847, -1.47757238, -0.7233963 ,\n",
              "        0.03077979,  0.78495587,  1.53913196,  2.29330804,  3.04748413,\n",
              "        3.80166021])"
            ]
          },
          "metadata": {
            "tags": []
          },
          "execution_count": 35
        }
      ]
    },
    {
      "cell_type": "markdown",
      "metadata": {
        "id": "no6YF3et5zTK"
      },
      "source": [
        "## 4. 산점도(Scatter Plot)\n",
        "- 두 개의 실수 데이터 집합의 상관관계를 살펴볼 때 사용"
      ]
    },
    {
      "cell_type": "code",
      "metadata": {
        "colab": {
          "base_uri": "https://localhost:8080/",
          "height": 280
        },
        "id": "pLL1CmjZ53UZ",
        "outputId": "53a4e089-32ad-4bf9-b246-057ae492e6bb"
      },
      "source": [
        "np.random.seed(0)\n",
        "X = np.random.normal(0, 1, 100)\n",
        "Y = np.random.normal(0, 1, 100)\n",
        "plt.title(\"Scatter Plot\")\n",
        "plt.scatter(X, Y)\n",
        "plt.show()"
      ],
      "execution_count": 36,
      "outputs": [
        {
          "output_type": "display_data",
          "data": {
            "image/png": "[encoded data removed]",
            "text/plain": [
              "<Figure size 432x288 with 1 Axes>"
            ]
          },
          "metadata": {
            "tags": [],
            "needs_background": "light"
          }
        }
      ]
    },
    {
      "cell_type": "markdown",
      "metadata": {
        "id": "FD39Szgz7lmt"
      },
      "source": [
        "### Anscombe\n",
        "- 선형 회귀선 : y = 3.0 + 0.5 * x"
      ]
    },
    {
      "cell_type": "code",
      "metadata": {
        "id": "dbveZmDZ7onx"
      },
      "source": [
        "ans = sns.load_dataset('anscombe')"
      ],
      "execution_count": 37,
      "outputs": []
    },
    {
      "cell_type": "code",
      "metadata": {
        "colab": {
          "base_uri": "https://localhost:8080/",
          "height": 203
        },
        "id": "iHtnht-n7sna",
        "outputId": "5fcbf52a-0a61-4484-a5f8-559d8044bf09"
      },
      "source": [
        "ans.head()"
      ],
      "execution_count": 40,
      "outputs": [
        {
          "output_type": "execute_result",
          "data": {
            "text/html": [
              "<div>\n",
              "<style scoped>\n",
              "    .dataframe tbody tr th:only-of-type {\n",
              "        vertical-align: middle;\n",
              "    }\n",
              "\n",
              "    .dataframe tbody tr th {\n",
              "        vertical-align: top;\n",
              "    }\n",
              "\n",
              "    .dataframe thead th {\n",
              "        text-align: right;\n",
              "    }\n",
              "</style>\n",
              "<table border=\"1\" class=\"dataframe\">\n",
              "  <thead>\n",
              "    <tr style=\"text-align: right;\">\n",
              "      <th></th>\n",
              "      <th>dataset</th>\n",
              "      <th>x</th>\n",
              "      <th>y</th>\n",
              "    </tr>\n",
              "  </thead>\n",
              "  <tbody>\n",
              "    <tr>\n",
              "      <th>0</th>\n",
              "      <td>I</td>\n",
              "      <td>10.0</td>\n",
              "      <td>8.04</td>\n",
              "    </tr>\n",
              "    <tr>\n",
              "      <th>1</th>\n",
              "      <td>I</td>\n",
              "      <td>8.0</td>\n",
              "      <td>6.95</td>\n",
              "    </tr>\n",
              "    <tr>\n",
              "      <th>2</th>\n",
              "      <td>I</td>\n",
              "      <td>13.0</td>\n",
              "      <td>7.58</td>\n",
              "    </tr>\n",
              "    <tr>\n",
              "      <th>3</th>\n",
              "      <td>I</td>\n",
              "      <td>9.0</td>\n",
              "      <td>8.81</td>\n",
              "    </tr>\n",
              "    <tr>\n",
              "      <th>4</th>\n",
              "      <td>I</td>\n",
              "      <td>11.0</td>\n",
              "      <td>8.33</td>\n",
              "    </tr>\n",
              "  </tbody>\n",
              "</table>\n",
              "</div>"
            ],
            "text/plain": [
              "  dataset     x     y\n",
              "0       I  10.0  8.04\n",
              "1       I   8.0  6.95\n",
              "2       I  13.0  7.58\n",
              "3       I   9.0  8.81\n",
              "4       I  11.0  8.33"
            ]
          },
          "metadata": {
            "tags": []
          },
          "execution_count": 40
        }
      ]
    },
    {
      "cell_type": "code",
      "metadata": {
        "colab": {
          "base_uri": "https://localhost:8080/",
          "height": 254
        },
        "id": "qbnOTs1e7tKX",
        "outputId": "a97ef6de-de17-4193-ad76-68660a549a7b"
      },
      "source": [
        "ans.groupby('dataset').describe()"
      ],
      "execution_count": 41,
      "outputs": [
        {
          "output_type": "execute_result",
          "data": {
            "text/html": [
              "<div>\n",
              "<style scoped>\n",
              "    .dataframe tbody tr th:only-of-type {\n",
              "        vertical-align: middle;\n",
              "    }\n",
              "\n",
              "    .dataframe tbody tr th {\n",
              "        vertical-align: top;\n",
              "    }\n",
              "\n",
              "    .dataframe thead tr th {\n",
              "        text-align: left;\n",
              "    }\n",
              "\n",
              "    .dataframe thead tr:last-of-type th {\n",
              "        text-align: right;\n",
              "    }\n",
              "</style>\n",
              "<table border=\"1\" class=\"dataframe\">\n",
              "  <thead>\n",
              "    <tr>\n",
              "      <th></th>\n",
              "      <th colspan=\"8\" halign=\"left\">x</th>\n",
              "      <th colspan=\"8\" halign=\"left\">y</th>\n",
              "    </tr>\n",
              "    <tr>\n",
              "      <th></th>\n",
              "      <th>count</th>\n",
              "      <th>mean</th>\n",
              "      <th>std</th>\n",
              "      <th>min</th>\n",
              "      <th>25%</th>\n",
              "      <th>50%</th>\n",
              "      <th>75%</th>\n",
              "      <th>max</th>\n",
              "      <th>count</th>\n",
              "      <th>mean</th>\n",
              "      <th>std</th>\n",
              "      <th>min</th>\n",
              "      <th>25%</th>\n",
              "      <th>50%</th>\n",
              "      <th>75%</th>\n",
              "      <th>max</th>\n",
              "    </tr>\n",
              "    <tr>\n",
              "      <th>dataset</th>\n",
              "      <th></th>\n",
              "      <th></th>\n",
              "      <th></th>\n",
              "      <th></th>\n",
              "      <th></th>\n",
              "      <th></th>\n",
              "      <th></th>\n",
              "      <th></th>\n",
              "      <th></th>\n",
              "      <th></th>\n",
              "      <th></th>\n",
              "      <th></th>\n",
              "      <th></th>\n",
              "      <th></th>\n",
              "      <th></th>\n",
              "      <th></th>\n",
              "    </tr>\n",
              "  </thead>\n",
              "  <tbody>\n",
              "    <tr>\n",
              "      <th>I</th>\n",
              "      <td>11.0</td>\n",
              "      <td>9.0</td>\n",
              "      <td>3.316625</td>\n",
              "      <td>4.0</td>\n",
              "      <td>6.5</td>\n",
              "      <td>9.0</td>\n",
              "      <td>11.5</td>\n",
              "      <td>14.0</td>\n",
              "      <td>11.0</td>\n",
              "      <td>7.500909</td>\n",
              "      <td>2.031568</td>\n",
              "      <td>4.26</td>\n",
              "      <td>6.315</td>\n",
              "      <td>7.58</td>\n",
              "      <td>8.57</td>\n",
              "      <td>10.84</td>\n",
              "    </tr>\n",
              "    <tr>\n",
              "      <th>II</th>\n",
              "      <td>11.0</td>\n",
              "      <td>9.0</td>\n",
              "      <td>3.316625</td>\n",
              "      <td>4.0</td>\n",
              "      <td>6.5</td>\n",
              "      <td>9.0</td>\n",
              "      <td>11.5</td>\n",
              "      <td>14.0</td>\n",
              "      <td>11.0</td>\n",
              "      <td>7.500909</td>\n",
              "      <td>2.031657</td>\n",
              "      <td>3.10</td>\n",
              "      <td>6.695</td>\n",
              "      <td>8.14</td>\n",
              "      <td>8.95</td>\n",
              "      <td>9.26</td>\n",
              "    </tr>\n",
              "    <tr>\n",
              "      <th>III</th>\n",
              "      <td>11.0</td>\n",
              "      <td>9.0</td>\n",
              "      <td>3.316625</td>\n",
              "      <td>4.0</td>\n",
              "      <td>6.5</td>\n",
              "      <td>9.0</td>\n",
              "      <td>11.5</td>\n",
              "      <td>14.0</td>\n",
              "      <td>11.0</td>\n",
              "      <td>7.500000</td>\n",
              "      <td>2.030424</td>\n",
              "      <td>5.39</td>\n",
              "      <td>6.250</td>\n",
              "      <td>7.11</td>\n",
              "      <td>7.98</td>\n",
              "      <td>12.74</td>\n",
              "    </tr>\n",
              "    <tr>\n",
              "      <th>IV</th>\n",
              "      <td>11.0</td>\n",
              "      <td>9.0</td>\n",
              "      <td>3.316625</td>\n",
              "      <td>8.0</td>\n",
              "      <td>8.0</td>\n",
              "      <td>8.0</td>\n",
              "      <td>8.0</td>\n",
              "      <td>19.0</td>\n",
              "      <td>11.0</td>\n",
              "      <td>7.500909</td>\n",
              "      <td>2.030579</td>\n",
              "      <td>5.25</td>\n",
              "      <td>6.170</td>\n",
              "      <td>7.04</td>\n",
              "      <td>8.19</td>\n",
              "      <td>12.50</td>\n",
              "    </tr>\n",
              "  </tbody>\n",
              "</table>\n",
              "</div>"
            ],
            "text/plain": [
              "            x                           ...     y                          \n",
              "        count mean       std  min  25%  ...   min    25%   50%   75%    max\n",
              "dataset                                 ...                                \n",
              "I        11.0  9.0  3.316625  4.0  6.5  ...  4.26  6.315  7.58  8.57  10.84\n",
              "II       11.0  9.0  3.316625  4.0  6.5  ...  3.10  6.695  8.14  8.95   9.26\n",
              "III      11.0  9.0  3.316625  4.0  6.5  ...  5.39  6.250  7.11  7.98  12.74\n",
              "IV       11.0  9.0  3.316625  8.0  8.0  ...  5.25  6.170  7.04  8.19  12.50\n",
              "\n",
              "[4 rows x 16 columns]"
            ]
          },
          "metadata": {
            "tags": []
          },
          "execution_count": 41
        }
      ]
    },
    {
      "cell_type": "markdown",
      "metadata": {
        "id": "18aloJVu8SJb"
      },
      "source": [
        "- Dataset 1에 대해서 산점도와 회귀선 그리기"
      ]
    },
    {
      "cell_type": "code",
      "metadata": {
        "colab": {
          "base_uri": "https://localhost:8080/",
          "height": 388
        },
        "id": "dLgRS_AQ70Bn",
        "outputId": "f87a1600-ddf1-46e0-e451-ad2fc06261ef"
      },
      "source": [
        "ds1= ans[ans.dataset == 'I']\n",
        "ds1"
      ],
      "execution_count": 42,
      "outputs": [
        {
          "output_type": "execute_result",
          "data": {
            "text/html": [
              "<div>\n",
              "<style scoped>\n",
              "    .dataframe tbody tr th:only-of-type {\n",
              "        vertical-align: middle;\n",
              "    }\n",
              "\n",
              "    .dataframe tbody tr th {\n",
              "        vertical-align: top;\n",
              "    }\n",
              "\n",
              "    .dataframe thead th {\n",
              "        text-align: right;\n",
              "    }\n",
              "</style>\n",
              "<table border=\"1\" class=\"dataframe\">\n",
              "  <thead>\n",
              "    <tr style=\"text-align: right;\">\n",
              "      <th></th>\n",
              "      <th>dataset</th>\n",
              "      <th>x</th>\n",
              "      <th>y</th>\n",
              "    </tr>\n",
              "  </thead>\n",
              "  <tbody>\n",
              "    <tr>\n",
              "      <th>0</th>\n",
              "      <td>I</td>\n",
              "      <td>10.0</td>\n",
              "      <td>8.04</td>\n",
              "    </tr>\n",
              "    <tr>\n",
              "      <th>1</th>\n",
              "      <td>I</td>\n",
              "      <td>8.0</td>\n",
              "      <td>6.95</td>\n",
              "    </tr>\n",
              "    <tr>\n",
              "      <th>2</th>\n",
              "      <td>I</td>\n",
              "      <td>13.0</td>\n",
              "      <td>7.58</td>\n",
              "    </tr>\n",
              "    <tr>\n",
              "      <th>3</th>\n",
              "      <td>I</td>\n",
              "      <td>9.0</td>\n",
              "      <td>8.81</td>\n",
              "    </tr>\n",
              "    <tr>\n",
              "      <th>4</th>\n",
              "      <td>I</td>\n",
              "      <td>11.0</td>\n",
              "      <td>8.33</td>\n",
              "    </tr>\n",
              "    <tr>\n",
              "      <th>5</th>\n",
              "      <td>I</td>\n",
              "      <td>14.0</td>\n",
              "      <td>9.96</td>\n",
              "    </tr>\n",
              "    <tr>\n",
              "      <th>6</th>\n",
              "      <td>I</td>\n",
              "      <td>6.0</td>\n",
              "      <td>7.24</td>\n",
              "    </tr>\n",
              "    <tr>\n",
              "      <th>7</th>\n",
              "      <td>I</td>\n",
              "      <td>4.0</td>\n",
              "      <td>4.26</td>\n",
              "    </tr>\n",
              "    <tr>\n",
              "      <th>8</th>\n",
              "      <td>I</td>\n",
              "      <td>12.0</td>\n",
              "      <td>10.84</td>\n",
              "    </tr>\n",
              "    <tr>\n",
              "      <th>9</th>\n",
              "      <td>I</td>\n",
              "      <td>7.0</td>\n",
              "      <td>4.82</td>\n",
              "    </tr>\n",
              "    <tr>\n",
              "      <th>10</th>\n",
              "      <td>I</td>\n",
              "      <td>5.0</td>\n",
              "      <td>5.68</td>\n",
              "    </tr>\n",
              "  </tbody>\n",
              "</table>\n",
              "</div>"
            ],
            "text/plain": [
              "   dataset     x      y\n",
              "0        I  10.0   8.04\n",
              "1        I   8.0   6.95\n",
              "2        I  13.0   7.58\n",
              "3        I   9.0   8.81\n",
              "4        I  11.0   8.33\n",
              "5        I  14.0   9.96\n",
              "6        I   6.0   7.24\n",
              "7        I   4.0   4.26\n",
              "8        I  12.0  10.84\n",
              "9        I   7.0   4.82\n",
              "10       I   5.0   5.68"
            ]
          },
          "metadata": {
            "tags": []
          },
          "execution_count": 42
        }
      ]
    },
    {
      "cell_type": "code",
      "metadata": {
        "colab": {
          "base_uri": "https://localhost:8080/",
          "height": 280
        },
        "id": "yoEq4Q-18gr5",
        "outputId": "97bf2759-e600-43e6-80c0-a67a1ce61112"
      },
      "source": [
        "plt.scatter(ds1.x, ds1.y)\n",
        "plt.plot([2,16], [4, 11], color= 'r', lw = 2)\n",
        "plt.grid()\n",
        "plt.title('DataSet I')\n",
        "plt.show()"
      ],
      "execution_count": 47,
      "outputs": [
        {
          "output_type": "display_data",
          "data": {
            "image/png": "[encoded data removed]",
            "text/plain": [
              "<Figure size 432x288 with 1 Axes>"
            ]
          },
          "metadata": {
            "tags": [],
            "needs_background": "light"
          }
        }
      ]
    },
    {
      "cell_type": "markdown",
      "metadata": {
        "id": "NXTiTjyL97JR"
      },
      "source": [
        "- 4개의 데이터 셋 모두에 대해서 그림"
      ]
    },
    {
      "cell_type": "code",
      "metadata": {
        "colab": {
          "base_uri": "https://localhost:8080/",
          "height": 374
        },
        "id": "tP3bFDLV8yaU",
        "outputId": "e09b243b-7372-42a2-8eca-03d98bfe26be"
      },
      "source": [
        "fig, axes = plt.subplots(2, 2, figsize = (8, 6))\n",
        "\n",
        "for i, roman in enumerate(['I', 'II', 'III', 'IV']):\n",
        "    ds = ans[ans.dataset == roman]\n",
        "    ax = axes[i // 2, i %2 ]\n",
        "    ax.scatter(ds.x, ds.y)\n",
        "    ax.grid()\n",
        "\n",
        "plt.show()"
      ],
      "execution_count": 53,
      "outputs": [
        {
          "output_type": "display_data",
          "data": {
            "image/png": "[encoded data removed]",
            "text/plain": [
              "<Figure size 576x432 with 4 Axes>"
            ]
          },
          "metadata": {
            "tags": [],
            "needs_background": "light"
          }
        }
      ]
    },
    {
      "cell_type": "code",
      "metadata": {
        "colab": {
          "base_uri": "https://localhost:8080/",
          "height": 417
        },
        "id": "fF-jpuqf-7zk",
        "outputId": "2cd33d64-c446-44af-e5da-2cf343a4ac03"
      },
      "source": [
        "fig, axes = plt.subplots(2, 2, figsize = (8, 6))\n",
        "\n",
        "for i, roman in enumerate(['I', 'II', 'III', 'IV']):\n",
        "    ds = ans[ans.dataset == roman]\n",
        "    ax = axes[i // 2, i %2 ]\n",
        "    ax.scatter(ds.x, ds.y)\n",
        "    ax.plot([3,20], [4.5, 13], 'r-', lw = 2)\n",
        "    ax.set_title(f'dataset {roman}')\n",
        "    ax.grid()\n",
        "\n",
        "fig.suptitle(\"Anscombe's Quartet\", fontsize= 16)\n",
        "plt.show()"
      ],
      "execution_count": 57,
      "outputs": [
        {
          "output_type": "display_data",
          "data": {
            "image/png": "[encoded data removed]",
            "text/plain": [
              "<Figure size 576x432 with 4 Axes>"
            ]
          },
          "metadata": {
            "tags": [],
            "needs_background": "light"
          }
        }
      ]
    },
    {
      "cell_type": "markdown",
      "metadata": {
        "id": "R6XLrrVkCM6i"
      },
      "source": [
        "## Imshow\n",
        "- 화상(image) 데이터처럼 행과 열을 가진 행렬 형태의 2차원 데이터는 imshow 명령을 써서 2차원 자료의 크기를 색깔로 표시하는 것이다.\n",
        "\n"
      ]
    },
    {
      "cell_type": "markdown",
      "metadata": {
        "id": "zXLTwXmxDlwL"
      },
      "source": [
        "- 이미지 데이터"
      ]
    },
    {
      "cell_type": "code",
      "metadata": {
        "colab": {
          "base_uri": "https://localhost:8080/",
          "height": 252
        },
        "id": "zVzSr57ACsAo",
        "outputId": "197dbce5-f0a7-4302-93bf-4a81720ec6de"
      },
      "source": [
        "import matplotlib.image as img      # PIL, OpenCV(cv2)\n",
        "\n",
        "image = img.imread('cat.jpg')\n",
        "plt.imshow(image)\n",
        "plt.xticks([]); plt.yticks([])\n",
        "plt.show()"
      ],
      "execution_count": 61,
      "outputs": [
        {
          "output_type": "display_data",
          "data": {
            "image/png": "[encoded data removed]",
            "text/plain": [
              "<Figure size 432x288 with 1 Axes>"
            ]
          },
          "metadata": {
            "tags": []
          }
        }
      ]
    },
    {
      "cell_type": "code",
      "metadata": {
        "colab": {
          "base_uri": "https://localhost:8080/"
        },
        "id": "kIjVh3Ot_wGo",
        "outputId": "f227c349-5ac8-4239-d97a-d8c27a4a9cc6"
      },
      "source": [
        "from sklearn.datasets import load_digits\n",
        "digits = load_digits()\n",
        "X = digits.images[0]\n",
        "X"
      ],
      "execution_count": null,
      "outputs": [
        {
          "output_type": "execute_result",
          "data": {
            "text/plain": [
              "array([[ 0.,  0.,  5., 13.,  9.,  1.,  0.,  0.],\n",
              "       [ 0.,  0., 13., 15., 10., 15.,  5.,  0.],\n",
              "       [ 0.,  3., 15.,  2.,  0., 11.,  8.,  0.],\n",
              "       [ 0.,  4., 12.,  0.,  0.,  8.,  8.,  0.],\n",
              "       [ 0.,  5.,  8.,  0.,  0.,  9.,  8.,  0.],\n",
              "       [ 0.,  4., 11.,  0.,  1., 12.,  7.,  0.],\n",
              "       [ 0.,  2., 14.,  5., 10., 12.,  0.,  0.],\n",
              "       [ 0.,  0.,  6., 13., 10.,  0.,  0.,  0.]])"
            ]
          },
          "metadata": {
            "tags": []
          },
          "execution_count": 58
        }
      ]
    },
    {
      "cell_type": "code",
      "metadata": {
        "colab": {
          "base_uri": "https://localhost:8080/"
        },
        "id": "koKliMciHjPz",
        "outputId": "92422e33-b7a4-421d-9347-e73971d4398b"
      },
      "source": [
        "digits.images.shape"
      ],
      "execution_count": 62,
      "outputs": [
        {
          "output_type": "execute_result",
          "data": {
            "text/plain": [
              "(1797, 8, 8)"
            ]
          },
          "metadata": {
            "tags": []
          },
          "execution_count": 62
        }
      ]
    },
    {
      "cell_type": "code",
      "metadata": {
        "colab": {
          "base_uri": "https://localhost:8080/",
          "height": 136
        },
        "id": "I35AKZCvHmNZ",
        "outputId": "a926892a-54ec-4fbf-c199-8663d783aa49"
      },
      "source": [
        "plt.title(\"mnist digits; 0\")\n",
        "plt.imshow(X, interpolation='nearest', cmap=plt.cm.bone_r)\n",
        "plt.xticks([])\n",
        "plt.yticks([])\n",
        "plt.grid(False)\n",
        "plt.subplots_adjust(left=0.35, right=0.65, bottom=0.35, top=0.65)\n",
        "plt.show()"
      ],
      "execution_count": 63,
      "outputs": [
        {
          "output_type": "display_data",
          "data": {
            "image/png": "[encoded data removed]",
            "text/plain": [
              "<Figure size 432x288 with 1 Axes>"
            ]
          },
          "metadata": {
            "tags": []
          }
        }
      ]
    },
    {
      "cell_type": "markdown",
      "metadata": {
        "id": "KKziunNfJo8b"
      },
      "source": [
        "## 6. Box Plot"
      ]
    },
    {
      "cell_type": "code",
      "metadata": {
        "colab": {
          "base_uri": "https://localhost:8080/",
          "height": 203
        },
        "id": "uO-SVP2QJrIY",
        "outputId": "fb85d4d1-1176-44d5-a6b0-6699f24d9edf"
      },
      "source": [
        "iris = sns.load_dataset('iris')\n",
        "iris.head()"
      ],
      "execution_count": 64,
      "outputs": [
        {
          "output_type": "execute_result",
          "data": {
            "text/html": [
              "<div>\n",
              "<style scoped>\n",
              "    .dataframe tbody tr th:only-of-type {\n",
              "        vertical-align: middle;\n",
              "    }\n",
              "\n",
              "    .dataframe tbody tr th {\n",
              "        vertical-align: top;\n",
              "    }\n",
              "\n",
              "    .dataframe thead th {\n",
              "        text-align: right;\n",
              "    }\n",
              "</style>\n",
              "<table border=\"1\" class=\"dataframe\">\n",
              "  <thead>\n",
              "    <tr style=\"text-align: right;\">\n",
              "      <th></th>\n",
              "      <th>sepal_length</th>\n",
              "      <th>sepal_width</th>\n",
              "      <th>petal_length</th>\n",
              "      <th>petal_width</th>\n",
              "      <th>species</th>\n",
              "    </tr>\n",
              "  </thead>\n",
              "  <tbody>\n",
              "    <tr>\n",
              "      <th>0</th>\n",
              "      <td>5.1</td>\n",
              "      <td>3.5</td>\n",
              "      <td>1.4</td>\n",
              "      <td>0.2</td>\n",
              "      <td>setosa</td>\n",
              "    </tr>\n",
              "    <tr>\n",
              "      <th>1</th>\n",
              "      <td>4.9</td>\n",
              "      <td>3.0</td>\n",
              "      <td>1.4</td>\n",
              "      <td>0.2</td>\n",
              "      <td>setosa</td>\n",
              "    </tr>\n",
              "    <tr>\n",
              "      <th>2</th>\n",
              "      <td>4.7</td>\n",
              "      <td>3.2</td>\n",
              "      <td>1.3</td>\n",
              "      <td>0.2</td>\n",
              "      <td>setosa</td>\n",
              "    </tr>\n",
              "    <tr>\n",
              "      <th>3</th>\n",
              "      <td>4.6</td>\n",
              "      <td>3.1</td>\n",
              "      <td>1.5</td>\n",
              "      <td>0.2</td>\n",
              "      <td>setosa</td>\n",
              "    </tr>\n",
              "    <tr>\n",
              "      <th>4</th>\n",
              "      <td>5.0</td>\n",
              "      <td>3.6</td>\n",
              "      <td>1.4</td>\n",
              "      <td>0.2</td>\n",
              "      <td>setosa</td>\n",
              "    </tr>\n",
              "  </tbody>\n",
              "</table>\n",
              "</div>"
            ],
            "text/plain": [
              "   sepal_length  sepal_width  petal_length  petal_width species\n",
              "0           5.1          3.5           1.4          0.2  setosa\n",
              "1           4.9          3.0           1.4          0.2  setosa\n",
              "2           4.7          3.2           1.3          0.2  setosa\n",
              "3           4.6          3.1           1.5          0.2  setosa\n",
              "4           5.0          3.6           1.4          0.2  setosa"
            ]
          },
          "metadata": {
            "tags": []
          },
          "execution_count": 64
        }
      ]
    },
    {
      "cell_type": "markdown",
      "metadata": {
        "id": "lS3PVBdUJ1A0"
      },
      "source": [
        "- Setosa 품종의 각 feature의 박스 플롯\n",
        "\n"
      ]
    },
    {
      "cell_type": "code",
      "metadata": {
        "colab": {
          "base_uri": "https://localhost:8080/",
          "height": 625
        },
        "id": "mgqZtswaJzvI",
        "outputId": "992dd073-76a0-4b84-b35c-a629e437fc32"
      },
      "source": [
        "setosa = iris[iris.species == 'setosa']\n",
        "plt.figure(figsize = (8,10))\n",
        "plt.boxplot([setosa.sepal_length, setosa.sepal_width,\n",
        "             setosa.petal_length, setosa.petal_width],\n",
        "            labels = ['sepal_length', 'sepal_width', 'petal_length', 'petal_width'])\n",
        "plt.title('Setosa 품종의 각 feature의 박스 플롯')"
      ],
      "execution_count": 94,
      "outputs": [
        {
          "output_type": "execute_result",
          "data": {
            "text/plain": [
              "Text(0.5, 1.0, 'Setosa 품종의 각 feature의 박스 플롯')"
            ]
          },
          "metadata": {
            "tags": []
          },
          "execution_count": 94
        },
        {
          "output_type": "display_data",
          "data": {
            "image/png": "[encoded data removed]",
            "text/plain": [
              "<Figure size 576x720 with 1 Axes>"
            ]
          },
          "metadata": {
            "tags": [],
            "needs_background": "light"
          }
        }
      ]
    },
    {
      "cell_type": "code",
      "metadata": {
        "colab": {
          "base_uri": "https://localhost:8080/",
          "height": 449
        },
        "id": "hmHOLYVJKwZj",
        "outputId": "801437d5-8128-4d45-f2a3-3dcad5b4bb15"
      },
      "source": [
        "fig, axes = plt.subplots(1, 3, figsize = (15, 10), sharey= True)\n",
        "\n",
        "for i, species in enumerate(iris.species.unique()):\n",
        "    ax = axes[i]\n",
        "    sp = iris[iris.species == species]\n",
        "    ax.boxplot([sp.sepal_length, sp.sepal_width,\n",
        "                 sp.petal_length, sp.petal_width],\n",
        "                labels = ['sepal_length', 'sepal_width', 'petal_length', 'petal_width'])\n",
        "    ax.set_title(species)\n",
        "\n",
        "plt.suptitle('Iris 모든 품종의 feature의 박스 플롯', fontsize = 16, y = 1.02)\n",
        "plt.tight_layout()\n",
        "plt.show()"
      ],
      "execution_count": 101,
      "outputs": [
        {
          "output_type": "display_data",
          "data": {
            "image/png": "[encoded data removed]",
            "text/plain": [
              "<Figure size 1080x720 with 3 Axes>"
            ]
          },
          "metadata": {
            "tags": [],
            "needs_background": "light"
          }
        }
      ]
    },
    {
      "cell_type": "code",
      "metadata": {
        "colab": {
          "base_uri": "https://localhost:8080/",
          "height": 1000
        },
        "id": "-ttPURWTL_9u",
        "outputId": "b24b6512-6e32-4517-eb84-687ec84c8e38"
      },
      "source": [
        "for species in iris.species.unique():\n",
        "    sp = iris[iris.species == species]\n",
        "    plt.figure(figsize = (8,10))\n",
        "    plt.boxplot([sp.sepal_length, sp.sepal_width,\n",
        "                 sp.petal_length, sp.petal_width],\n",
        "                labels = ['sepal_length', 'sepal_width', 'petal_length', 'petal_width'])\n",
        "    plt.title(f'{species} 품종의 각 feature의 박스 플롯')"
      ],
      "execution_count": 96,
      "outputs": [
        {
          "output_type": "display_data",
          "data": {
            "image/png": "[encoded data removed]",
            "text/plain": [
              "<Figure size 576x720 with 1 Axes>"
            ]
          },
          "metadata": {
            "tags": [],
            "needs_background": "light"
          }
        },
        {
          "output_type": "display_data",
          "data": {
            "image/png": "[encoded data removed]",
            "text/plain": [
              "<Figure size 576x720 with 1 Axes>"
            ]
          },
          "metadata": {
            "tags": [],
            "needs_background": "light"
          }
        },
        {
          "output_type": "display_data",
          "data": {
            "image/png": "[encoded data removed]",
            "text/plain": [
              "<Figure size 576x720 with 1 Axes>"
            ]
          },
          "metadata": {
            "tags": [],
            "needs_background": "light"
          }
        }
      ]
    }
  ]
}