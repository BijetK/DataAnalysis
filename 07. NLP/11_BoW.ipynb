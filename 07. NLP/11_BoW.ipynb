{
  "nbformat": 4,
  "nbformat_minor": 0,
  "metadata": {
    "colab": {
      "name": "11_BoW.ipynb",
      "provenance": [],
      "collapsed_sections": []
    },
    "kernelspec": {
      "name": "python3",
      "display_name": "Python 3"
    },
    "language_info": {
      "name": "python"
    }
  },
  "cells": [
    {
      "cell_type": "markdown",
      "metadata": {
        "id": "O1qjuQ2_9Erm"
      },
      "source": [
        "# Bag of Words\n",
        "- 단어들의 순서는 전혀 고려하지 않고, 단어들의 출현 빈도(frequency)에만 집중"
      ]
    },
    {
      "cell_type": "markdown",
      "metadata": {
        "id": "3d7hjw5m-sKE"
      },
      "source": [
        "## 1. Count Vectorizer"
      ]
    },
    {
      "cell_type": "code",
      "metadata": {
        "id": "2RUO2xVZuBEJ"
      },
      "source": [
        "from sklearn.feature_extraction.text import CountVectorizer\n",
        "corpus = ['you know I want your love. because I love you.']     # 리스트인 이유 : string 여러개를 받겠다"
      ],
      "execution_count": 1,
      "outputs": []
    },
    {
      "cell_type": "code",
      "metadata": {
        "id": "tKayNQJKAsk5"
      },
      "source": [
        "cvector = CountVectorizer()"
      ],
      "execution_count": 2,
      "outputs": []
    },
    {
      "cell_type": "code",
      "metadata": {
        "colab": {
          "base_uri": "https://localhost:8080/"
        },
        "id": "345binQEAwV-",
        "outputId": "107714f8-1fa5-4b2b-ab50-874485514c46"
      },
      "source": [
        "cvector.fit(corpus)     # 학습\n",
        "cvector.fit_transform(corpus).toarray()       #패턴"
      ],
      "execution_count": 3,
      "outputs": [
        {
          "output_type": "execute_result",
          "data": {
            "text/plain": [
              "array([[1, 1, 2, 1, 2, 1]])"
            ]
          },
          "metadata": {},
          "execution_count": 3
        }
      ]
    },
    {
      "cell_type": "code",
      "metadata": {
        "colab": {
          "base_uri": "https://localhost:8080/"
        },
        "id": "w_zPd7LJCpjL",
        "outputId": "78441347-b1b5-4087-eb19-216a8d9f8bbc"
      },
      "source": [
        "cvector.vocabulary_"
      ],
      "execution_count": 6,
      "outputs": [
        {
          "output_type": "execute_result",
          "data": {
            "text/plain": [
              "{'because': 0, 'know': 1, 'love': 2, 'want': 3, 'you': 4, 'your': 5}"
            ]
          },
          "metadata": {},
          "execution_count": 6
        }
      ]
    },
    {
      "cell_type": "code",
      "metadata": {
        "colab": {
          "base_uri": "https://localhost:8080/"
        },
        "id": "Mlfi-0t7CrbT",
        "outputId": "67287b20-f0d3-4520-b533-ac3a8b2ab5b5"
      },
      "source": [
        "output = cvector.fit_transform(corpus).toarray()\n",
        "output"
      ],
      "execution_count": 7,
      "outputs": [
        {
          "output_type": "execute_result",
          "data": {
            "text/plain": [
              "array([[1, 1, 2, 1, 2, 1]])"
            ]
          },
          "metadata": {},
          "execution_count": 7
        }
      ]
    },
    {
      "cell_type": "code",
      "metadata": {
        "colab": {
          "base_uri": "https://localhost:8080/"
        },
        "id": "dXQaLFkEC3d5",
        "outputId": "ed97c881-76b6-435d-a3f3-f08b9d0d48d5"
      },
      "source": [
        "output.shape        # 2차원"
      ],
      "execution_count": 8,
      "outputs": [
        {
          "output_type": "execute_result",
          "data": {
            "text/plain": [
              "(1, 6)"
            ]
          },
          "metadata": {},
          "execution_count": 8
        }
      ]
    },
    {
      "cell_type": "markdown",
      "metadata": {
        "id": "0oq9IkAkg3vn"
      },
      "source": [
        "- 불용어를 제거한 Bow"
      ]
    },
    {
      "cell_type": "code",
      "metadata": {
        "colab": {
          "base_uri": "https://localhost:8080/"
        },
        "id": "jV-85SBzg3ju",
        "outputId": "6b8df049-3ded-4ab3-da81-cba3418d3a08"
      },
      "source": [
        "# 사용자 정의\n",
        "text=[\"Family is not an important thing. It's everything.\"]\n",
        "vect = CountVectorizer(stop_words=[\"the\", \"a\", \"an\", \"is\", \"not\"])\n",
        "print(vect.fit_transform(text).toarray()) \n",
        "print(vect.vocabulary_)"
      ],
      "execution_count": 20,
      "outputs": [
        {
          "output_type": "stream",
          "name": "stdout",
          "text": [
            "[[1 1 1 1 1]]\n",
            "{'family': 1, 'important': 2, 'thing': 4, 'it': 3, 'everything': 0}\n"
          ]
        }
      ]
    },
    {
      "cell_type": "code",
      "metadata": {
        "colab": {
          "base_uri": "https://localhost:8080/"
        },
        "id": "C2xqJ_9Bg_Se",
        "outputId": "9d3c6097-d3cc-4801-ae78-076487c65ca3"
      },
      "source": [
        "# Scikit-Learn 제공\n",
        "text=[\"Family is not an important thing. It's everything.\"]\n",
        "vect = CountVectorizer(stop_words=\"english\")\n",
        "print(vect.fit_transform(text).toarray())\n",
        "print(vect.vocabulary_)"
      ],
      "execution_count": 21,
      "outputs": [
        {
          "output_type": "stream",
          "name": "stdout",
          "text": [
            "[[1 1 1]]\n",
            "{'family': 0, 'important': 1, 'thing': 2}\n"
          ]
        }
      ]
    },
    {
      "cell_type": "code",
      "metadata": {
        "colab": {
          "base_uri": "https://localhost:8080/"
        },
        "id": "E7XI5UXWHQWW",
        "outputId": "39fb72c2-65a7-43dc-bd75-f0c7c2c725b6"
      },
      "source": [
        "import nltk\n",
        "nltk.download('stopwords')"
      ],
      "execution_count": 10,
      "outputs": [
        {
          "output_type": "stream",
          "name": "stdout",
          "text": [
            "[nltk_data] Downloading package stopwords to /root/nltk_data...\n",
            "[nltk_data]   Unzipping corpora/stopwords.zip.\n"
          ]
        },
        {
          "output_type": "execute_result",
          "data": {
            "text/plain": [
              "True"
            ]
          },
          "metadata": {},
          "execution_count": 10
        }
      ]
    },
    {
      "cell_type": "code",
      "metadata": {
        "colab": {
          "base_uri": "https://localhost:8080/"
        },
        "id": "StfBMpR5C7WU",
        "outputId": "c0eda9d3-6b7d-46a8-ca7e-617368c9e901"
      },
      "source": [
        "# NLTK 제공\n",
        "from nltk.corpus import stopwords\n",
        "\n",
        "text=[\"Family is not an important thing. It's everything.\"]\n",
        "sw = stopwords.words('english')\n",
        "vect = CountVectorizer(stop_words=sw)\n",
        "print(vect.fit_transform(text).toarray()) \n",
        "print(vect.vocabulary_)"
      ],
      "execution_count": 11,
      "outputs": [
        {
          "output_type": "stream",
          "name": "stdout",
          "text": [
            "[[1 1 1 1]]\n",
            "{'family': 1, 'important': 2, 'thing': 3, 'everything': 0}\n"
          ]
        }
      ]
    },
    {
      "cell_type": "markdown",
      "metadata": {
        "id": "yT-dhwEOH-0l"
      },
      "source": [
        "- N-gram"
      ]
    },
    {
      "cell_type": "code",
      "metadata": {
        "id": "6tWxeojlHMlZ"
      },
      "source": [
        "text1 = ['Machine learning is fun and not boring.']\n",
        "text2 = ['Machine is boring and learning is not fun.']"
      ],
      "execution_count": 12,
      "outputs": []
    },
    {
      "cell_type": "code",
      "metadata": {
        "colab": {
          "base_uri": "https://localhost:8080/"
        },
        "id": "S76Z91VYITrA",
        "outputId": "5e76ac11-fe10-4803-a714-1c170a0af46e"
      },
      "source": [
        "vect = CountVectorizer()\n",
        "print(vect.fit_transform(text1).toarray()) \n",
        "print(vect.vocabulary_)"
      ],
      "execution_count": 14,
      "outputs": [
        {
          "output_type": "stream",
          "name": "stdout",
          "text": [
            "[[1 1 1 1 1 1 1]]\n",
            "{'machine': 5, 'learning': 4, 'is': 3, 'fun': 2, 'and': 0, 'not': 6, 'boring': 1}\n"
          ]
        }
      ]
    },
    {
      "cell_type": "code",
      "metadata": {
        "colab": {
          "base_uri": "https://localhost:8080/"
        },
        "id": "XyRhjVy6IiEm",
        "outputId": "f7af9210-4eb0-4adc-b96d-9218bb0ce501"
      },
      "source": [
        "print(vect.fit_transform(text2).toarray()) \n",
        "print(vect.vocabulary_)\n",
        "# 딕셔너리 부분 완전 동일 => 문장 구분 X"
      ],
      "execution_count": 15,
      "outputs": [
        {
          "output_type": "stream",
          "name": "stdout",
          "text": [
            "[[1 1 1 2 1 1 1]]\n",
            "{'machine': 5, 'is': 3, 'boring': 1, 'and': 0, 'learning': 4, 'not': 6, 'fun': 2}\n"
          ]
        }
      ]
    },
    {
      "cell_type": "code",
      "metadata": {
        "colab": {
          "base_uri": "https://localhost:8080/"
        },
        "id": "1nFxN6-hIwtE",
        "outputId": "9bfe4ba0-3e4a-4905-bbb8-f60a6e6e9d7b"
      },
      "source": [
        "# N-gram range : (1, 2)\n",
        "vect = CountVectorizer(ngram_range=(1,2))\n",
        "print(vect.fit_transform(text1).toarray()) \n",
        "print(vect.vocabulary_)"
      ],
      "execution_count": 16,
      "outputs": [
        {
          "output_type": "stream",
          "name": "stdout",
          "text": [
            "[[1 1 1 1 1 1 1 1 1 1 1 1 1]]\n",
            "{'machine': 9, 'learning': 7, 'is': 5, 'fun': 3, 'and': 0, 'not': 11, 'boring': 2, 'machine learning': 10, 'learning is': 8, 'is fun': 6, 'fun and': 4, 'and not': 1, 'not boring': 12}\n"
          ]
        }
      ]
    },
    {
      "cell_type": "code",
      "metadata": {
        "colab": {
          "base_uri": "https://localhost:8080/"
        },
        "id": "Tx9LIeJkJAc7",
        "outputId": "4a875217-a1fa-4983-b4a7-eb0c3299f157"
      },
      "source": [
        "print(vect.fit_transform(text2).toarray()) \n",
        "print(vect.vocabulary_)"
      ],
      "execution_count": 17,
      "outputs": [
        {
          "output_type": "stream",
          "name": "stdout",
          "text": [
            "[[1 1 1 1 1 2 1 1 1 1 1 1 1 1]]\n",
            "{'machine': 10, 'is': 5, 'boring': 2, 'and': 0, 'learning': 8, 'not': 12, 'fun': 4, 'machine is': 11, 'is boring': 6, 'boring and': 3, 'and learning': 1, 'learning is': 9, 'is not': 7, 'not fun': 13}\n"
          ]
        }
      ]
    },
    {
      "cell_type": "code",
      "metadata": {
        "colab": {
          "base_uri": "https://localhost:8080/"
        },
        "id": "xk9il3jRJedE",
        "outputId": "4ba7677b-1842-48bd-de4c-ba17ae25f56d"
      },
      "source": [
        "# N-gram range : (1, 3)\n",
        "vect = CountVectorizer(ngram_range=(1,3), stop_words='english')\n",
        "print(vect.fit_transform(text1).toarray()) \n",
        "print(vect.vocabulary_)"
      ],
      "execution_count": 18,
      "outputs": [
        {
          "output_type": "stream",
          "name": "stdout",
          "text": [
            "[[1 1 1 1 1 1 1 1 1]]\n",
            "{'machine': 6, 'learning': 3, 'fun': 1, 'boring': 0, 'machine learning': 7, 'learning fun': 4, 'fun boring': 2, 'machine learning fun': 8, 'learning fun boring': 5}\n"
          ]
        }
      ]
    },
    {
      "cell_type": "markdown",
      "metadata": {
        "id": "CSYGHn5pJ078"
      },
      "source": [
        "- Hyper parameter"
      ]
    },
    {
      "cell_type": "code",
      "metadata": {
        "colab": {
          "base_uri": "https://localhost:8080/"
        },
        "id": "0ntPJnp2JeXj",
        "outputId": "b21aec99-ec9c-40e0-b756-c0991adb8a2c"
      },
      "source": [
        "vect.get_params()"
      ],
      "execution_count": 19,
      "outputs": [
        {
          "output_type": "execute_result",
          "data": {
            "text/plain": [
              "{'analyzer': 'word',\n",
              " 'binary': False,\n",
              " 'decode_error': 'strict',\n",
              " 'dtype': numpy.int64,\n",
              " 'encoding': 'utf-8',\n",
              " 'input': 'content',\n",
              " 'lowercase': True,\n",
              " 'max_df': 1.0,\n",
              " 'max_features': None,\n",
              " 'min_df': 1,\n",
              " 'ngram_range': (1, 3),\n",
              " 'preprocessor': None,\n",
              " 'stop_words': 'english',\n",
              " 'strip_accents': None,\n",
              " 'token_pattern': '(?u)\\\\b\\\\w\\\\w+\\\\b',\n",
              " 'tokenizer': None,\n",
              " 'vocabulary': None}"
            ]
          },
          "metadata": {},
          "execution_count": 19
        }
      ]
    },
    {
      "cell_type": "markdown",
      "metadata": {
        "id": "hivfjM2ugrwO"
      },
      "source": [
        "- DTM"
      ]
    },
    {
      "cell_type": "code",
      "metadata": {
        "colab": {
          "base_uri": "https://localhost:8080/"
        },
        "id": "GKaP5VPmJ9Cz",
        "outputId": "a72fda1f-f589-403e-92b3-d9bd2c176f32"
      },
      "source": [
        "corpus = [\n",
        "    \"you know I want your love\",\n",
        "    \"I like you\",\n",
        "    \"what should I do\"\n",
        "]\n",
        "vect = CountVectorizer()\n",
        "print(vect.fit_transform(corpus).toarray())\n",
        "print(vect.vocabulary_)"
      ],
      "execution_count": 22,
      "outputs": [
        {
          "output_type": "stream",
          "name": "stdout",
          "text": [
            "[[0 1 0 1 0 1 0 1 1]\n",
            " [0 0 1 0 0 0 0 1 0]\n",
            " [1 0 0 0 1 0 1 0 0]]\n",
            "{'you': 7, 'know': 1, 'want': 5, 'your': 8, 'love': 3, 'like': 2, 'what': 6, 'should': 4, 'do': 0}\n"
          ]
        }
      ]
    },
    {
      "cell_type": "markdown",
      "metadata": {
        "id": "0hvl5AOHgvb2"
      },
      "source": [
        "## TF-IDF Vectorizer"
      ]
    },
    {
      "cell_type": "code",
      "metadata": {
        "colab": {
          "base_uri": "https://localhost:8080/"
        },
        "id": "uDTDKN_TgvSO",
        "outputId": "c8ab0bfa-433a-4d47-8000-c43e72375e51"
      },
      "source": [
        "from sklearn.feature_extraction.text import TfidfVectorizer\n",
        "tvect = TfidfVectorizer()\n",
        "print(tvect.fit_transform(corpus).toarray().round(2))\n",
        "print(tvect.vocabulary_)"
      ],
      "execution_count": 24,
      "outputs": [
        {
          "output_type": "stream",
          "name": "stdout",
          "text": [
            "[[0.   0.47 0.   0.47 0.   0.47 0.   0.36 0.47]\n",
            " [0.   0.   0.8  0.   0.   0.   0.   0.61 0.  ]\n",
            " [0.58 0.   0.   0.   0.58 0.   0.58 0.   0.  ]]\n",
            "{'you': 7, 'know': 1, 'want': 5, 'your': 8, 'love': 3, 'like': 2, 'what': 6, 'should': 4, 'do': 0}\n"
          ]
        }
      ]
    },
    {
      "cell_type": "code",
      "metadata": {
        "colab": {
          "base_uri": "https://localhost:8080/"
        },
        "id": "t1Tg7iAwgvPm",
        "outputId": "0f4bc364-77c6-4494-ccd9-2f1c64b96a52"
      },
      "source": [
        "tvect = TfidfVectorizer(ngram_range=(1,2), stop_words='english')\n",
        "print(tvect.fit_transform(corpus).toarray().round(2))\n",
        "print(tvect.vocabulary_)"
      ],
      "execution_count": 25,
      "outputs": [
        {
          "output_type": "stream",
          "name": "stdout",
          "text": [
            "[[0.45 0.45 0.   0.45 0.45 0.45]\n",
            " [0.   0.   1.   0.   0.   0.  ]\n",
            " [0.   0.   0.   0.   0.   0.  ]]\n",
            "{'know': 0, 'want': 4, 'love': 3, 'know want': 1, 'want love': 5, 'like': 2}\n"
          ]
        }
      ]
    },
    {
      "cell_type": "code",
      "metadata": {
        "colab": {
          "base_uri": "https://localhost:8080/"
        },
        "id": "OYZvrpszgz1Q",
        "outputId": "9b3b419e-a82a-46b6-ef6f-f4f8fe6c85e4"
      },
      "source": [
        "tvect.get_params()"
      ],
      "execution_count": 26,
      "outputs": [
        {
          "output_type": "execute_result",
          "data": {
            "text/plain": [
              "{'analyzer': 'word',\n",
              " 'binary': False,\n",
              " 'decode_error': 'strict',\n",
              " 'dtype': numpy.float64,\n",
              " 'encoding': 'utf-8',\n",
              " 'input': 'content',\n",
              " 'lowercase': True,\n",
              " 'max_df': 1.0,\n",
              " 'max_features': None,\n",
              " 'min_df': 1,\n",
              " 'ngram_range': (1, 2),\n",
              " 'norm': 'l2',\n",
              " 'preprocessor': None,\n",
              " 'smooth_idf': True,\n",
              " 'stop_words': 'english',\n",
              " 'strip_accents': None,\n",
              " 'sublinear_tf': False,\n",
              " 'token_pattern': '(?u)\\\\b\\\\w\\\\w+\\\\b',\n",
              " 'tokenizer': None,\n",
              " 'use_idf': True,\n",
              " 'vocabulary': None}"
            ]
          },
          "metadata": {},
          "execution_count": 26
        }
      ]
    }
  ]
}