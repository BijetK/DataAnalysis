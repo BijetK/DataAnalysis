{
  "nbformat": 4,
  "nbformat_minor": 0,
  "metadata": {
    "colab": {
      "name": "02_정규표현식.ipynb",
      "provenance": [],
      "collapsed_sections": []
    },
    "kernelspec": {
      "name": "python3",
      "display_name": "Python 3"
    },
    "language_info": {
      "name": "python"
    }
  },
  "cells": [
    {
      "cell_type": "markdown",
      "metadata": {
        "id": "fAgqQRkNcSmx"
      },
      "source": [
        "# 정규 표현식(Regular Expression)"
      ]
    },
    {
      "cell_type": "code",
      "metadata": {
        "id": "c-EOzBiuZ77A"
      },
      "source": [
        "re.sub('정규표현식', '바꿀문자', text)\n",
        "\n",
        "re.compile('정규표현식')\n",
        "re.sub('바꿀문자', text)"
      ],
      "execution_count": null,
      "outputs": []
    },
    {
      "cell_type": "code",
      "metadata": {
        "id": "feUgOTELeo3x"
      },
      "source": [
        "import re"
      ],
      "execution_count": 1,
      "outputs": []
    },
    {
      "cell_type": "markdown",
      "metadata": {
        "id": "6c_u0vOpfCAg"
      },
      "source": [
        "## 1. 정규표현식 실습"
      ]
    },
    {
      "cell_type": "code",
      "metadata": {
        "id": "7XHcgQg3eqHv"
      },
      "source": [
        "re.search('a.c', 'kkk')"
      ],
      "execution_count": 3,
      "outputs": []
    },
    {
      "cell_type": "code",
      "metadata": {
        "colab": {
          "base_uri": "https://localhost:8080/"
        },
        "id": "jFfXhX7DfIvA",
        "outputId": "86f6cab7-32cc-4aac-93d7-ba55bd757efe"
      },
      "source": [
        "re.search('a.c', 'abc')"
      ],
      "execution_count": 4,
      "outputs": [
        {
          "output_type": "execute_result",
          "data": {
            "text/plain": [
              "<re.Match object; span=(0, 3), match='abc'>"
            ]
          },
          "metadata": {},
          "execution_count": 4
        }
      ]
    },
    {
      "cell_type": "markdown",
      "metadata": {
        "id": "fYb8nHW2fQbP"
      },
      "source": [
        "- ? 기호 : 앞의 문자가 0개 또는 1개"
      ]
    },
    {
      "cell_type": "code",
      "metadata": {
        "id": "PrBvXd9ffM_i"
      },
      "source": [
        "r = re.compile('ab?c')\n",
        "r.search('abbc')"
      ],
      "execution_count": 5,
      "outputs": []
    },
    {
      "cell_type": "code",
      "metadata": {
        "colab": {
          "base_uri": "https://localhost:8080/"
        },
        "id": "IPvn85VOfs69",
        "outputId": "176e4e08-54a4-4c90-b526-df68a0129da6"
      },
      "source": [
        "r.search('abc')"
      ],
      "execution_count": 6,
      "outputs": [
        {
          "output_type": "execute_result",
          "data": {
            "text/plain": [
              "<re.Match object; span=(0, 3), match='abc'>"
            ]
          },
          "metadata": {},
          "execution_count": 6
        }
      ]
    },
    {
      "cell_type": "code",
      "metadata": {
        "colab": {
          "base_uri": "https://localhost:8080/"
        },
        "id": "8Cgm_-eRfutI",
        "outputId": "fc194023-e88f-45a7-9f41-3c5981233f29"
      },
      "source": [
        "r.search('ac')"
      ],
      "execution_count": 7,
      "outputs": [
        {
          "output_type": "execute_result",
          "data": {
            "text/plain": [
              "<re.Match object; span=(0, 2), match='ac'>"
            ]
          },
          "metadata": {},
          "execution_count": 7
        }
      ]
    },
    {
      "cell_type": "markdown",
      "metadata": {
        "id": "oA1MytK9xeSb"
      },
      "source": [
        "- `*` 기호 : 바로 앞의 문자가 0개 이상일 경우"
      ]
    },
    {
      "cell_type": "code",
      "metadata": {
        "id": "p4hnVtIffwDm"
      },
      "source": [
        "r = re.compile(\"ab*c\")\n",
        "r.search('a')"
      ],
      "execution_count": 8,
      "outputs": []
    },
    {
      "cell_type": "code",
      "metadata": {
        "colab": {
          "base_uri": "https://localhost:8080/"
        },
        "id": "q_p7ocyaxowq",
        "outputId": "c06c9c89-12d3-4914-cfb7-1c8a66964e14"
      },
      "source": [
        "r.search('abbbbbbc')"
      ],
      "execution_count": 9,
      "outputs": [
        {
          "output_type": "execute_result",
          "data": {
            "text/plain": [
              "<re.Match object; span=(0, 8), match='abbbbbbc'>"
            ]
          },
          "metadata": {},
          "execution_count": 9
        }
      ]
    },
    {
      "cell_type": "markdown",
      "metadata": {
        "id": "4sjgKlPdxr2l"
      },
      "source": [
        "- \\+ 기호 : 앞의 문자가 최소 1개 이상"
      ]
    },
    {
      "cell_type": "code",
      "metadata": {
        "id": "IMT6aMXoxrN0"
      },
      "source": [
        "r = re.compile(\"ab+c\")\n",
        "r.search('ac')"
      ],
      "execution_count": 10,
      "outputs": []
    },
    {
      "cell_type": "code",
      "metadata": {
        "colab": {
          "base_uri": "https://localhost:8080/"
        },
        "id": "hqXO9Bwcx6RK",
        "outputId": "96b7ad10-5085-4b0b-a16c-fd3197edd0df"
      },
      "source": [
        "r.search('abbbbbc')"
      ],
      "execution_count": 11,
      "outputs": [
        {
          "output_type": "execute_result",
          "data": {
            "text/plain": [
              "<re.Match object; span=(0, 7), match='abbbbbc'>"
            ]
          },
          "metadata": {},
          "execution_count": 11
        }
      ]
    },
    {
      "cell_type": "markdown",
      "metadata": {
        "id": "DZwQJZpix_AZ"
      },
      "source": [
        "- ^ 기호 : 시작되는 글자를 지정"
      ]
    },
    {
      "cell_type": "code",
      "metadata": {
        "id": "w596OdQ1x8kB"
      },
      "source": [
        "re.search('^a', 'bbc')"
      ],
      "execution_count": 13,
      "outputs": []
    },
    {
      "cell_type": "code",
      "metadata": {
        "colab": {
          "base_uri": "https://localhost:8080/"
        },
        "id": "JQiPsSehyCn8",
        "outputId": "e20d3a8c-c920-4faa-ba4b-14647f1bf9f7"
      },
      "source": [
        "re.search('^a', 'ab')"
      ],
      "execution_count": 14,
      "outputs": [
        {
          "output_type": "execute_result",
          "data": {
            "text/plain": [
              "<re.Match object; span=(0, 1), match='a'>"
            ]
          },
          "metadata": {},
          "execution_count": 14
        }
      ]
    },
    {
      "cell_type": "markdown",
      "metadata": {
        "id": "EisJssTcyei0"
      },
      "source": [
        "- {숫자} 기호 : 해당 문자를 숫자만큼 반복"
      ]
    },
    {
      "cell_type": "code",
      "metadata": {
        "id": "bBTiIM-ByY9q"
      },
      "source": [
        "r=re.compile(\"ab{2}c\")\n",
        "r.search(\"ac\") # 아무런 결과도 출력되지 않는다.\n",
        "r.search(\"abc\") # 아무런 결과도 출력되지 않는다."
      ],
      "execution_count": 17,
      "outputs": []
    },
    {
      "cell_type": "code",
      "metadata": {
        "colab": {
          "base_uri": "https://localhost:8080/"
        },
        "id": "nHNoW-s4ylii",
        "outputId": "179f9248-2452-4592-d180-6124e00f68d7"
      },
      "source": [
        "r.search(\"abbc\")"
      ],
      "execution_count": 16,
      "outputs": [
        {
          "output_type": "execute_result",
          "data": {
            "text/plain": [
              "<re.Match object; span=(0, 4), match='abbc'>"
            ]
          },
          "metadata": {},
          "execution_count": 16
        }
      ]
    },
    {
      "cell_type": "markdown",
      "metadata": {
        "id": "cxSFNFo2yoza"
      },
      "source": [
        "- {숫자1, 숫자2} 기호 : 해당 문자를 숫자1 이상 숫자2 이하만큼 반복"
      ]
    },
    {
      "cell_type": "code",
      "metadata": {
        "id": "5kFJgFcNypc6"
      },
      "source": [
        "r=re.compile(\"ab{2,8}c\")\n",
        "r.search(\"ac\") # 아무런 결과도 출력되지 않는다.\n",
        "r.search(\"abc\") # 아무런 결과도 출력되지 않는다."
      ],
      "execution_count": 18,
      "outputs": []
    },
    {
      "cell_type": "code",
      "metadata": {
        "colab": {
          "base_uri": "https://localhost:8080/"
        },
        "id": "k-qFY7NRypJa",
        "outputId": "dc727a83-4d0f-4053-ffae-950a4d0396bb"
      },
      "source": [
        "r.search(\"abbbbbbc\")"
      ],
      "execution_count": 20,
      "outputs": [
        {
          "output_type": "execute_result",
          "data": {
            "text/plain": [
              "<re.Match object; span=(0, 8), match='abbbbbbc'>"
            ]
          },
          "metadata": {},
          "execution_count": 20
        }
      ]
    },
    {
      "cell_type": "markdown",
      "metadata": {
        "id": "mKgc48Qay_2U"
      },
      "source": [
        "- \\[ ] 기호 : 문자들 중 한 개의 문자와 매치"
      ]
    },
    {
      "cell_type": "code",
      "metadata": {
        "id": "0DZjWBngy37A"
      },
      "source": [
        "r=re.compile(\"[abc]\") # [abc]는 [a-c]와 같다.\n",
        "r.search(\"zzz\") # 아무런 결과도 출력되지 않는다"
      ],
      "execution_count": 22,
      "outputs": []
    },
    {
      "cell_type": "code",
      "metadata": {
        "colab": {
          "base_uri": "https://localhost:8080/"
        },
        "id": "zKp9x-K5zNn5",
        "outputId": "2cfb7973-cd4b-404c-e63a-c9c90031c0c4"
      },
      "source": [
        "r.search(\"baac\")"
      ],
      "execution_count": 24,
      "outputs": [
        {
          "output_type": "execute_result",
          "data": {
            "text/plain": [
              "<re.Match object; span=(0, 1), match='b'>"
            ]
          },
          "metadata": {},
          "execution_count": 24
        }
      ]
    },
    {
      "cell_type": "code",
      "metadata": {
        "id": "haIFXn74zXIG"
      },
      "source": [
        "# 소문자\n",
        "re.search(\"[a-z]\", 'ABC')"
      ],
      "execution_count": 27,
      "outputs": []
    },
    {
      "cell_type": "code",
      "metadata": {
        "colab": {
          "base_uri": "https://localhost:8080/"
        },
        "id": "sf2r84wmzuJK",
        "outputId": "f86642d6-2e43-4a30-991b-912a12a4350e"
      },
      "source": [
        "re.search(\"[a-z]\", 'AbC')"
      ],
      "execution_count": 28,
      "outputs": [
        {
          "output_type": "execute_result",
          "data": {
            "text/plain": [
              "<re.Match object; span=(1, 2), match='b'>"
            ]
          },
          "metadata": {},
          "execution_count": 28
        }
      ]
    },
    {
      "cell_type": "code",
      "metadata": {
        "id": "9gUYnVsn0dyC"
      },
      "source": [
        "# 문자 또는 숫자\n",
        "re.search('[0-9A-Za-z]', '$%^&')\n",
        "re.search('\\w', '$%^&')         # 둘이 같은거임"
      ],
      "execution_count": 32,
      "outputs": []
    },
    {
      "cell_type": "markdown",
      "metadata": {
        "id": "p9nKQ8Ddz0p3"
      },
      "source": [
        "- [^문자] 기호 : ^ 기호 뒤에 붙은 문자들을 제외한 모든 문자"
      ]
    },
    {
      "cell_type": "code",
      "metadata": {
        "id": "fGYTuVGNzxvs"
      },
      "source": [
        "r=re.compile(\"[^abc]\")\n",
        "r.search(\"a\") # 아무런 결과도 출력되지 않는다.\n",
        "r.search(\"ab\") # 아무런 결과도 출력되지 않는다.\n",
        "r.search(\"b\") # 아무런 결과도 출력되지 않는다."
      ],
      "execution_count": null,
      "outputs": []
    },
    {
      "cell_type": "code",
      "metadata": {
        "id": "T_YJHe6f0C3q"
      },
      "source": [
        "r.search(\"d1\")"
      ],
      "execution_count": 29,
      "outputs": []
    },
    {
      "cell_type": "code",
      "metadata": {
        "colab": {
          "base_uri": "https://localhost:8080/",
          "height": 35
        },
        "id": "-9lncYLM1KE3",
        "outputId": "c81f683f-8639-43c1-eda8-1c281d929307"
      },
      "source": [
        "# 한글과 공백을 제외한 모든 문자를 제거\n",
        "re.sub('[^ㄱ-ㅎㅏ-ㅣ가-힣 ]', '', '^기호 뒤에 붙은 문자.')"
      ],
      "execution_count": 33,
      "outputs": [
        {
          "output_type": "execute_result",
          "data": {
            "application/vnd.google.colaboratory.intrinsic+json": {
              "type": "string"
            },
            "text/plain": [
              "'기호 뒤에 붙은 문자'"
            ]
          },
          "metadata": {},
          "execution_count": 33
        }
      ]
    },
    {
      "cell_type": "markdown",
      "metadata": {
        "id": "9NRTUaoU108S"
      },
      "source": [
        "## 2. re 모듈 함수"
      ]
    },
    {
      "cell_type": "markdown",
      "metadata": {
        "id": "tbfYjA_l2rmr"
      },
      "source": [
        "- re.match 와 re.search의 차이"
      ]
    },
    {
      "cell_type": "code",
      "metadata": {
        "id": "3bqXRXlp1zl1"
      },
      "source": [
        "re.match('ab.', 'kkkabc')"
      ],
      "execution_count": 34,
      "outputs": []
    },
    {
      "cell_type": "code",
      "metadata": {
        "colab": {
          "base_uri": "https://localhost:8080/"
        },
        "id": "k95Y84-A17Mo",
        "outputId": "25349782-c98d-4215-ca20-e0b24274b335"
      },
      "source": [
        "re.search('ab.', 'kkkabc')"
      ],
      "execution_count": 36,
      "outputs": [
        {
          "output_type": "execute_result",
          "data": {
            "text/plain": [
              "<re.Match object; span=(3, 6), match='abc'>"
            ]
          },
          "metadata": {},
          "execution_count": 36
        }
      ]
    },
    {
      "cell_type": "markdown",
      "metadata": {
        "id": "DiGyMUod2umj"
      },
      "source": [
        "- re.split()"
      ]
    },
    {
      "cell_type": "code",
      "metadata": {
        "colab": {
          "base_uri": "https://localhost:8080/"
        },
        "id": "Z1Zpy97x1-FG",
        "outputId": "5575faf7-328e-445b-dfab-28dce33e8fd2"
      },
      "source": [
        "text = '사과 딸기 수박 메론 바나나'\n",
        "re.split(\" \", text)"
      ],
      "execution_count": 37,
      "outputs": [
        {
          "output_type": "execute_result",
          "data": {
            "text/plain": [
              "['사과', '딸기', '수박', '메론', '바나나']"
            ]
          },
          "metadata": {},
          "execution_count": 37
        }
      ]
    },
    {
      "cell_type": "code",
      "metadata": {
        "colab": {
          "base_uri": "https://localhost:8080/"
        },
        "id": "W4gm75-323jV",
        "outputId": "4e9e8a9e-a900-40a5-9851-27cf1d24a188"
      },
      "source": [
        "text.split()"
      ],
      "execution_count": 38,
      "outputs": [
        {
          "output_type": "execute_result",
          "data": {
            "text/plain": [
              "['사과', '딸기', '수박', '메론', '바나나']"
            ]
          },
          "metadata": {},
          "execution_count": 38
        }
      ]
    },
    {
      "cell_type": "code",
      "metadata": {
        "colab": {
          "base_uri": "https://localhost:8080/"
        },
        "id": "jfPaBoYm25EM",
        "outputId": "329f0e4c-5043-4db8-fbbe-9fb230bfc574"
      },
      "source": [
        "text = \"\"\"사과                딸기\n",
        " 수박\n",
        "메론           바나나\"\"\"\n",
        "text.split()        # \\s+가 디폴트"
      ],
      "execution_count": 39,
      "outputs": [
        {
          "output_type": "execute_result",
          "data": {
            "text/plain": [
              "['사과', '딸기', '수박', '메론', '바나나']"
            ]
          },
          "metadata": {},
          "execution_count": 39
        }
      ]
    },
    {
      "cell_type": "code",
      "metadata": {
        "colab": {
          "base_uri": "https://localhost:8080/"
        },
        "id": "aEIvAHqi3Bvg",
        "outputId": "8d8caa0c-1365-45bc-8239-f733bf14f179"
      },
      "source": [
        "re.split('\\s+', text)"
      ],
      "execution_count": 40,
      "outputs": [
        {
          "output_type": "execute_result",
          "data": {
            "text/plain": [
              "['사과', '딸기', '수박', '메론', '바나나']"
            ]
          },
          "metadata": {},
          "execution_count": 40
        }
      ]
    },
    {
      "cell_type": "markdown",
      "metadata": {
        "id": "5FvrE5RY3HYZ"
      },
      "source": [
        "- re.findall()"
      ]
    },
    {
      "cell_type": "code",
      "metadata": {
        "colab": {
          "base_uri": "https://localhost:8080/"
        },
        "id": "XeWRiQ-63GDT",
        "outputId": "d3237cf1-384e-4033-aea0-68cf69c1e0c4"
      },
      "source": [
        "text=\"\"\"이름 : 김철수\n",
        "전화번호 : 010 - 1234 - 1234\n",
        "나이 : 30\n",
        "성별 : 남\"\"\"  \n",
        "re.findall(\"\\d+\",text)"
      ],
      "execution_count": 41,
      "outputs": [
        {
          "output_type": "execute_result",
          "data": {
            "text/plain": [
              "['010', '1234', '1234', '30']"
            ]
          },
          "metadata": {},
          "execution_count": 41
        }
      ]
    },
    {
      "cell_type": "code",
      "metadata": {
        "colab": {
          "base_uri": "https://localhost:8080/"
        },
        "id": "ENOf5qyT3bhU",
        "outputId": "4a3dc00d-1f70-4659-e600-b751b62bb3a2"
      },
      "source": [
        "re.findall(\"\\d+\",'김철수')      # 어찌됐든 리스트의 형태로 나옴"
      ],
      "execution_count": 43,
      "outputs": [
        {
          "output_type": "execute_result",
          "data": {
            "text/plain": [
              "[]"
            ]
          },
          "metadata": {},
          "execution_count": 43
        }
      ]
    },
    {
      "cell_type": "markdown",
      "metadata": {
        "id": "TOJiY26Y3iyl"
      },
      "source": [
        "- re.sub()"
      ]
    },
    {
      "cell_type": "code",
      "metadata": {
        "colab": {
          "base_uri": "https://localhost:8080/",
          "height": 54
        },
        "id": "uzFKkQM93d4Q",
        "outputId": "3aa1914b-b0ec-4aa4-c951-4137a103b9b4"
      },
      "source": [
        "text=\"Regular expression : A regular expression, regex or regexp[1] (sometimes called a rational expression)[2][3] is, in theoretical computer science and formal language theory, a sequence of characters that define a search pattern.\"\n",
        "re.sub('[^a-zA-Z]',' ',text)"
      ],
      "execution_count": 44,
      "outputs": [
        {
          "output_type": "execute_result",
          "data": {
            "application/vnd.google.colaboratory.intrinsic+json": {
              "type": "string"
            },
            "text/plain": [
              "'Regular expression   A regular expression  regex or regexp     sometimes called a rational expression        is  in theoretical computer science and formal language theory  a sequence of characters that define a search pattern '"
            ]
          },
          "metadata": {},
          "execution_count": 44
        }
      ]
    },
    {
      "cell_type": "markdown",
      "metadata": {
        "id": "5f7nuwH84E7q"
      },
      "source": [
        "## 3. 정규표현식 텍스트 전처리 예제"
      ]
    },
    {
      "cell_type": "code",
      "metadata": {
        "colab": {
          "base_uri": "https://localhost:8080/"
        },
        "id": "IIMUiBZJ4H4_",
        "outputId": "429db345-64ab-4672-8608-7d3e2649fe5c"
      },
      "source": [
        "text = \"\"\"100 John    PROF\n",
        "101 James   STUD\n",
        "102 Mac   STUD\"\"\"  \n",
        "\n",
        "re.split('\\s+', text)  "
      ],
      "execution_count": 45,
      "outputs": [
        {
          "output_type": "execute_result",
          "data": {
            "text/plain": [
              "['100', 'John', 'PROF', '101', 'James', 'STUD', '102', 'Mac', 'STUD']"
            ]
          },
          "metadata": {},
          "execution_count": 45
        }
      ]
    },
    {
      "cell_type": "code",
      "metadata": {
        "colab": {
          "base_uri": "https://localhost:8080/"
        },
        "id": "MY4EgBuZ4RY8",
        "outputId": "249b8892-c35c-4bcb-f2d8-4832092cd5ff"
      },
      "source": [
        "re.findall('\\d+',text)  "
      ],
      "execution_count": 46,
      "outputs": [
        {
          "output_type": "execute_result",
          "data": {
            "text/plain": [
              "['100', '101', '102']"
            ]
          },
          "metadata": {},
          "execution_count": 46
        }
      ]
    },
    {
      "cell_type": "code",
      "metadata": {
        "colab": {
          "base_uri": "https://localhost:8080/"
        },
        "id": "-4TF0WWK4mRU",
        "outputId": "03cd5739-2bd2-407e-fac8-b38cdd9de280"
      },
      "source": [
        "re.findall('[A-Z]',text)        # 대문자인 애들을 찾고싶었으나..."
      ],
      "execution_count": 47,
      "outputs": [
        {
          "output_type": "execute_result",
          "data": {
            "text/plain": [
              "['J', 'P', 'R', 'O', 'F', 'J', 'S', 'T', 'U', 'D', 'M', 'S', 'T', 'U', 'D']"
            ]
          },
          "metadata": {},
          "execution_count": 47
        }
      ]
    },
    {
      "cell_type": "code",
      "metadata": {
        "colab": {
          "base_uri": "https://localhost:8080/"
        },
        "id": "np5fj9yC4o_0",
        "outputId": "9563fec7-e966-43b0-9b03-4de2fa047b92"
      },
      "source": [
        "re.findall('[A-Z]+',text)"
      ],
      "execution_count": 48,
      "outputs": [
        {
          "output_type": "execute_result",
          "data": {
            "text/plain": [
              "['J', 'PROF', 'J', 'STUD', 'M', 'STUD']"
            ]
          },
          "metadata": {},
          "execution_count": 48
        }
      ]
    },
    {
      "cell_type": "code",
      "metadata": {
        "colab": {
          "base_uri": "https://localhost:8080/"
        },
        "id": "4qNYlEJ_4qI3",
        "outputId": "951ef1d0-aa24-4940-cc71-5d2dbd8ef56c"
      },
      "source": [
        "re.findall('[A-Z]{4}',text)  # 대문자로 된 4글자 단어들"
      ],
      "execution_count": 50,
      "outputs": [
        {
          "output_type": "execute_result",
          "data": {
            "text/plain": [
              "['PROF', 'STUD', 'STUD']"
            ]
          },
          "metadata": {},
          "execution_count": 50
        }
      ]
    },
    {
      "cell_type": "code",
      "metadata": {
        "colab": {
          "base_uri": "https://localhost:8080/"
        },
        "id": "gYMp0fbx4xJS",
        "outputId": "29e36f96-db20-4208-bd86-f2518f62a31a"
      },
      "source": [
        "re.findall('[A-Z][a-z]+',text)      # 첫번째가 대문자, 두번쨰부터 소문자가 여러개"
      ],
      "execution_count": 51,
      "outputs": [
        {
          "output_type": "execute_result",
          "data": {
            "text/plain": [
              "['John', 'James', 'Mac']"
            ]
          },
          "metadata": {},
          "execution_count": 51
        }
      ]
    },
    {
      "cell_type": "markdown",
      "metadata": {
        "id": "FwDSaX1y5qcc"
      },
      "source": [
        "[A-Z][a-z] : 첫번쨰는 대문자, 두번쨰는 소문자 => 두글자를 찾음\n",
        "[A-Za-z] : 대문자 또는 소문자 => 한 글자를 찾음"
      ]
    }
  ]
}