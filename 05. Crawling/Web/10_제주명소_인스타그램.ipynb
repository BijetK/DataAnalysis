{
 "cells": [
  {
   "cell_type": "code",
   "execution_count": 1,
   "source": [
    "from selenium import webdriver\r\n",
    "from bs4 import BeautifulSoup\r\n",
    "import time\r\n",
    "import pandas as pd"
   ],
   "outputs": [],
   "metadata": {}
  },
  {
   "cell_type": "code",
   "execution_count": 2,
   "source": [
    "chromedriver = '/Users/com/Downloads/chromedriver_win32/chromedriver.exe'\r\n",
    "driver = webdriver.Chrome(chromedriver)"
   ],
   "outputs": [],
   "metadata": {}
  },
  {
   "cell_type": "code",
   "execution_count": 4,
   "source": [
    "insta_url = 'https://www.instagram.com'\r\n",
    "driver.get(insta_url)"
   ],
   "outputs": [],
   "metadata": {}
  },
  {
   "cell_type": "code",
   "execution_count": 5,
   "source": [
    "with open('password.txt') as f:\r\n",
    "    password = f.read()"
   ],
   "outputs": [],
   "metadata": {}
  },
  {
   "cell_type": "code",
   "execution_count": 6,
   "source": [
    "len(password)"
   ],
   "outputs": [
    {
     "output_type": "execute_result",
     "data": {
      "text/plain": [
       "11"
      ]
     },
     "metadata": {},
     "execution_count": 6
    }
   ],
   "metadata": {}
  },
  {
   "cell_type": "code",
   "execution_count": 7,
   "source": [
    "email = 'tieble.k'\r\n",
    "input_email = driver.find_element_by_css_selector('._2hvTZ.pexuQ.zyHYP')\r\n",
    "input_email.clear()\r\n",
    "input_email.send_keys(email)"
   ],
   "outputs": [],
   "metadata": {}
  },
  {
   "cell_type": "code",
   "execution_count": 13,
   "source": [
    "input_pwd = driver.find_element_by_name('password')\r\n",
    "input_pwd.clear()\r\n",
    "input_pwd.send_keys(password)\r\n",
    "input_pwd.submit()\r\n",
    "time.sleep(2)"
   ],
   "outputs": [],
   "metadata": {}
  },
  {
   "cell_type": "code",
   "execution_count": 15,
   "source": [
    "try:\r\n",
    "    driver.find_element_by_css_selector('.sqdOP.L3NKy.y3zKF').click()\r\n",
    "    time.sleep(1)\r\n",
    "except:\r\n",
    "    pass"
   ],
   "outputs": [],
   "metadata": {}
  },
  {
   "cell_type": "code",
   "execution_count": 18,
   "source": [
    "try:\r\n",
    "    driver.find_element_by_css_selector('.aOOlW.HoLwm').click()\r\n",
    "    time.sleep(1)\r\n",
    "except:\r\n",
    "    pass"
   ],
   "outputs": [],
   "metadata": {}
  },
  {
   "cell_type": "markdown",
   "source": [
    "## 2. 제주도 맛집으로 검색"
   ],
   "metadata": {}
  },
  {
   "cell_type": "code",
   "execution_count": 19,
   "source": [
    "from urllib.parse import quote\r\n",
    "keyword = '제주도맛집'\r\n",
    "search_url = 'https://www.instagram.com/explore/tags/'\r\n",
    "url = f'{search_url}{quote(keyword)}'\r\n",
    "url"
   ],
   "outputs": [
    {
     "output_type": "execute_result",
     "data": {
      "text/plain": [
       "'https://www.instagram.com/explore/tags/%EC%A0%9C%EC%A3%BC%EB%8F%84%EB%A7%9B%EC%A7%91'"
      ]
     },
     "metadata": {},
     "execution_count": 19
    }
   ],
   "metadata": {}
  },
  {
   "cell_type": "code",
   "execution_count": 21,
   "source": [
    "driver.get(url)\r\n",
    "time.sleep(6)"
   ],
   "outputs": [],
   "metadata": {}
  },
  {
   "cell_type": "code",
   "execution_count": 22,
   "source": [
    "driver.close()"
   ],
   "outputs": [],
   "metadata": {}
  }
 ],
 "metadata": {
  "orig_nbformat": 4,
  "language_info": {
   "name": "python",
   "version": "3.8.10",
   "mimetype": "text/x-python",
   "codemirror_mode": {
    "name": "ipython",
    "version": 3
   },
   "pygments_lexer": "ipython3",
   "nbconvert_exporter": "python",
   "file_extension": ".py"
  },
  "kernelspec": {
   "name": "python3",
   "display_name": "Python 3.8.10 64-bit ('base': conda)"
  },
  "interpreter": {
   "hash": "3e341b741a6cc136c1a324ec9b920c7c129358e027f46cfe51981ed2d12498b8"
  }
 },
 "nbformat": 4,
 "nbformat_minor": 2
}