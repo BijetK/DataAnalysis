{
 "cells": [
  {
   "cell_type": "code",
   "execution_count": 1,
   "source": [
    "import requests\r\n",
    "import pandas as pd"
   ],
   "outputs": [],
   "metadata": {}
  },
  {
   "cell_type": "code",
   "execution_count": 8,
   "source": [
    "url = 'https://youtube-rank.com/board/bbs/board.php?bo_table=youtube&page=1'"
   ],
   "outputs": [],
   "metadata": {}
  },
  {
   "cell_type": "code",
   "execution_count": 2,
   "source": [
    "import time\r\n",
    "from selenium import webdriver\r\n",
    "from selenium.webdriver.common.keys import Keys"
   ],
   "outputs": [],
   "metadata": {}
  },
  {
   "cell_type": "code",
   "execution_count": 9,
   "source": [
    "driver = webdriver.Chrome('/Users/com/Downloads/chromedriver_win32/chromedriver')\r\n",
    "driver.get(url)"
   ],
   "outputs": [],
   "metadata": {}
  },
  {
   "cell_type": "code",
   "execution_count": 16,
   "source": [
    "divs = driver.find_elements_by_name('p')\r\n",
    "divs\r\n"
   ],
   "outputs": [
    {
     "output_type": "error",
     "ename": "NoSuchWindowException",
     "evalue": "Message: no such window: target window already closed\nfrom unknown error: web view not found\n  (Session info: chrome=92.0.4515.159)\n",
     "traceback": [
      "\u001b[1;31m---------------------------------------------------------------------------\u001b[0m",
      "\u001b[1;31mNoSuchWindowException\u001b[0m                     Traceback (most recent call last)",
      "\u001b[1;32m<ipython-input-16-dec154f35def>\u001b[0m in \u001b[0;36m<module>\u001b[1;34m\u001b[0m\n\u001b[1;32m----> 1\u001b[1;33m \u001b[0mdivs\u001b[0m \u001b[1;33m=\u001b[0m \u001b[0mdriver\u001b[0m\u001b[1;33m.\u001b[0m\u001b[0mfind_elements_by_name\u001b[0m\u001b[1;33m(\u001b[0m\u001b[1;34m'p'\u001b[0m\u001b[1;33m)\u001b[0m\u001b[1;33m\u001b[0m\u001b[1;33m\u001b[0m\u001b[0m\n\u001b[0m\u001b[0;32m      2\u001b[0m \u001b[0mdivs\u001b[0m\u001b[1;33m\u001b[0m\u001b[1;33m\u001b[0m\u001b[0m\n",
      "\u001b[1;32m~\\Anaconda3\\lib\\site-packages\\selenium\\webdriver\\remote\\webdriver.py\u001b[0m in \u001b[0;36mfind_elements_by_name\u001b[1;34m(self, name)\u001b[0m\n\u001b[0;32m    510\u001b[0m             \u001b[0melements\u001b[0m \u001b[1;33m=\u001b[0m \u001b[0mdriver\u001b[0m\u001b[1;33m.\u001b[0m\u001b[0mfind_elements_by_name\u001b[0m\u001b[1;33m(\u001b[0m\u001b[1;34m'foo'\u001b[0m\u001b[1;33m)\u001b[0m\u001b[1;33m\u001b[0m\u001b[1;33m\u001b[0m\u001b[0m\n\u001b[0;32m    511\u001b[0m         \"\"\"\n\u001b[1;32m--> 512\u001b[1;33m         \u001b[1;32mreturn\u001b[0m \u001b[0mself\u001b[0m\u001b[1;33m.\u001b[0m\u001b[0mfind_elements\u001b[0m\u001b[1;33m(\u001b[0m\u001b[0mby\u001b[0m\u001b[1;33m=\u001b[0m\u001b[0mBy\u001b[0m\u001b[1;33m.\u001b[0m\u001b[0mNAME\u001b[0m\u001b[1;33m,\u001b[0m \u001b[0mvalue\u001b[0m\u001b[1;33m=\u001b[0m\u001b[0mname\u001b[0m\u001b[1;33m)\u001b[0m\u001b[1;33m\u001b[0m\u001b[1;33m\u001b[0m\u001b[0m\n\u001b[0m\u001b[0;32m    513\u001b[0m \u001b[1;33m\u001b[0m\u001b[0m\n\u001b[0;32m    514\u001b[0m     \u001b[1;32mdef\u001b[0m \u001b[0mfind_element_by_tag_name\u001b[0m\u001b[1;33m(\u001b[0m\u001b[0mself\u001b[0m\u001b[1;33m,\u001b[0m \u001b[0mname\u001b[0m\u001b[1;33m)\u001b[0m\u001b[1;33m:\u001b[0m\u001b[1;33m\u001b[0m\u001b[1;33m\u001b[0m\u001b[0m\n",
      "\u001b[1;32m~\\Anaconda3\\lib\\site-packages\\selenium\\webdriver\\remote\\webdriver.py\u001b[0m in \u001b[0;36mfind_elements\u001b[1;34m(self, by, value)\u001b[0m\n\u001b[0;32m   1003\u001b[0m         \u001b[1;31m# Return empty list if driver returns null\u001b[0m\u001b[1;33m\u001b[0m\u001b[1;33m\u001b[0m\u001b[1;33m\u001b[0m\u001b[0m\n\u001b[0;32m   1004\u001b[0m         \u001b[1;31m# See https://github.com/SeleniumHQ/selenium/issues/4555\u001b[0m\u001b[1;33m\u001b[0m\u001b[1;33m\u001b[0m\u001b[1;33m\u001b[0m\u001b[0m\n\u001b[1;32m-> 1005\u001b[1;33m         return self.execute(Command.FIND_ELEMENTS, {\n\u001b[0m\u001b[0;32m   1006\u001b[0m             \u001b[1;34m'using'\u001b[0m\u001b[1;33m:\u001b[0m \u001b[0mby\u001b[0m\u001b[1;33m,\u001b[0m\u001b[1;33m\u001b[0m\u001b[1;33m\u001b[0m\u001b[0m\n\u001b[0;32m   1007\u001b[0m             'value': value})['value'] or []\n",
      "\u001b[1;32m~\\Anaconda3\\lib\\site-packages\\selenium\\webdriver\\remote\\webdriver.py\u001b[0m in \u001b[0;36mexecute\u001b[1;34m(self, driver_command, params)\u001b[0m\n\u001b[0;32m    319\u001b[0m         \u001b[0mresponse\u001b[0m \u001b[1;33m=\u001b[0m \u001b[0mself\u001b[0m\u001b[1;33m.\u001b[0m\u001b[0mcommand_executor\u001b[0m\u001b[1;33m.\u001b[0m\u001b[0mexecute\u001b[0m\u001b[1;33m(\u001b[0m\u001b[0mdriver_command\u001b[0m\u001b[1;33m,\u001b[0m \u001b[0mparams\u001b[0m\u001b[1;33m)\u001b[0m\u001b[1;33m\u001b[0m\u001b[1;33m\u001b[0m\u001b[0m\n\u001b[0;32m    320\u001b[0m         \u001b[1;32mif\u001b[0m \u001b[0mresponse\u001b[0m\u001b[1;33m:\u001b[0m\u001b[1;33m\u001b[0m\u001b[1;33m\u001b[0m\u001b[0m\n\u001b[1;32m--> 321\u001b[1;33m             \u001b[0mself\u001b[0m\u001b[1;33m.\u001b[0m\u001b[0merror_handler\u001b[0m\u001b[1;33m.\u001b[0m\u001b[0mcheck_response\u001b[0m\u001b[1;33m(\u001b[0m\u001b[0mresponse\u001b[0m\u001b[1;33m)\u001b[0m\u001b[1;33m\u001b[0m\u001b[1;33m\u001b[0m\u001b[0m\n\u001b[0m\u001b[0;32m    322\u001b[0m             response['value'] = self._unwrap_value(\n\u001b[0;32m    323\u001b[0m                 response.get('value', None))\n",
      "\u001b[1;32m~\\Anaconda3\\lib\\site-packages\\selenium\\webdriver\\remote\\errorhandler.py\u001b[0m in \u001b[0;36mcheck_response\u001b[1;34m(self, response)\u001b[0m\n\u001b[0;32m    240\u001b[0m                 \u001b[0malert_text\u001b[0m \u001b[1;33m=\u001b[0m \u001b[0mvalue\u001b[0m\u001b[1;33m[\u001b[0m\u001b[1;34m'alert'\u001b[0m\u001b[1;33m]\u001b[0m\u001b[1;33m.\u001b[0m\u001b[0mget\u001b[0m\u001b[1;33m(\u001b[0m\u001b[1;34m'text'\u001b[0m\u001b[1;33m)\u001b[0m\u001b[1;33m\u001b[0m\u001b[1;33m\u001b[0m\u001b[0m\n\u001b[0;32m    241\u001b[0m             \u001b[1;32mraise\u001b[0m \u001b[0mexception_class\u001b[0m\u001b[1;33m(\u001b[0m\u001b[0mmessage\u001b[0m\u001b[1;33m,\u001b[0m \u001b[0mscreen\u001b[0m\u001b[1;33m,\u001b[0m \u001b[0mstacktrace\u001b[0m\u001b[1;33m,\u001b[0m \u001b[0malert_text\u001b[0m\u001b[1;33m)\u001b[0m\u001b[1;33m\u001b[0m\u001b[1;33m\u001b[0m\u001b[0m\n\u001b[1;32m--> 242\u001b[1;33m         \u001b[1;32mraise\u001b[0m \u001b[0mexception_class\u001b[0m\u001b[1;33m(\u001b[0m\u001b[0mmessage\u001b[0m\u001b[1;33m,\u001b[0m \u001b[0mscreen\u001b[0m\u001b[1;33m,\u001b[0m \u001b[0mstacktrace\u001b[0m\u001b[1;33m)\u001b[0m\u001b[1;33m\u001b[0m\u001b[1;33m\u001b[0m\u001b[0m\n\u001b[0m\u001b[0;32m    243\u001b[0m \u001b[1;33m\u001b[0m\u001b[0m\n\u001b[0;32m    244\u001b[0m     \u001b[1;32mdef\u001b[0m \u001b[0m_value_or_default\u001b[0m\u001b[1;33m(\u001b[0m\u001b[0mself\u001b[0m\u001b[1;33m,\u001b[0m \u001b[0mobj\u001b[0m\u001b[1;33m,\u001b[0m \u001b[0mkey\u001b[0m\u001b[1;33m,\u001b[0m \u001b[0mdefault\u001b[0m\u001b[1;33m)\u001b[0m\u001b[1;33m:\u001b[0m\u001b[1;33m\u001b[0m\u001b[1;33m\u001b[0m\u001b[0m\n",
      "\u001b[1;31mNoSuchWindowException\u001b[0m: Message: no such window: target window already closed\nfrom unknown error: web view not found\n  (Session info: chrome=92.0.4515.159)\n"
     ]
    }
   ],
   "metadata": {}
  },
  {
   "cell_type": "code",
   "execution_count": 46,
   "source": [
    "# soup.select('form > table > tbody > tr')      책에는 이렇게 나옴\r\n",
    "channel_list = soup.select('.aos-init')\r\n",
    "len(channel_list)"
   ],
   "outputs": [
    {
     "output_type": "display_data",
     "data": {
      "text/plain": [
       "100"
      ]
     },
     "metadata": {}
    }
   ],
   "metadata": {
    "colab": {
     "base_uri": "https://localhost:8080/"
    },
    "id": "uggeXgRGEG5b",
    "outputId": "51ea37a2-1179-476a-d089-35097561380f"
   }
  },
  {
   "cell_type": "markdown",
   "source": [
    "- 채널명"
   ],
   "metadata": {
    "id": "XAcJGFDZEW_C"
   }
  },
  {
   "cell_type": "code",
   "execution_count": 47,
   "source": [
    "channel = channel_list[0]\r\n",
    "category = channel.select_one('p.category').get_text().strip(' \\n[]')\r\n",
    "category"
   ],
   "outputs": [
    {
     "output_type": "display_data",
     "data": {
      "text/plain": [
       "'음악/댄스/가수'"
      ],
      "application/vnd.google.colaboratory.intrinsic+json": {
       "type": "string"
      }
     },
     "metadata": {}
    }
   ],
   "metadata": {
    "colab": {
     "base_uri": "https://localhost:8080/",
     "height": 35
    },
    "id": "N8CQfOa1EX0v",
    "outputId": "144bbf2f-7777-4d30-c9be-6d868ab90a67"
   }
  },
  {
   "cell_type": "code",
   "execution_count": 48,
   "source": [
    "name = channel.select_one('.subject a').text.strip()\r\n",
    "name"
   ],
   "outputs": [
    {
     "output_type": "display_data",
     "data": {
      "text/plain": [
       "'BLACKPINK'"
      ],
      "application/vnd.google.colaboratory.intrinsic+json": {
       "type": "string"
      }
     },
     "metadata": {}
    }
   ],
   "metadata": {
    "colab": {
     "base_uri": "https://localhost:8080/",
     "height": 35
    },
    "id": "zEaOd4OPFQoa",
    "outputId": "e5cfaac9-57d5-4c6e-e860-2203615c8ab0"
   }
  },
  {
   "cell_type": "code",
   "execution_count": 49,
   "source": [
    "subscriber = channel.select_one('.subscriber_cnt').get_text()\r\n",
    "view = channel.select_one('.view_cnt').text\r\n",
    "video = channel.select_one('.video_cnt').string[:-1]\r\n",
    "subscriber, view, video"
   ],
   "outputs": [
    {
     "output_type": "display_data",
     "data": {
      "text/plain": [
       "('6400만', '190억0381만', '371')"
      ]
     },
     "metadata": {}
    }
   ],
   "metadata": {
    "colab": {
     "base_uri": "https://localhost:8080/"
    },
    "id": "QNzC6tl2Fuqp",
    "outputId": "8ec33bc2-ea35-4b02-da20-23465cd222f1"
   }
  },
  {
   "cell_type": "code",
   "execution_count": 50,
   "source": [
    "#한방에\r\n",
    "results = []\r\n",
    "for channel in channel_list:\r\n",
    "    category = channel.select_one('p.category').get_text().strip(' \\n[]')\r\n",
    "    name = channel.select_one('.subject a').text.strip()\r\n",
    "    subscriber = channel.select_one('.subscriber_cnt').get_text()\r\n",
    "    view = channel.select_one('.view_cnt').text\r\n",
    "    video = channel.select_one('.video_cnt').string[:-1]\r\n",
    "\r\n",
    "    results.append([category, name, subscriber, view, video])"
   ],
   "outputs": [],
   "metadata": {
    "id": "LjCs8SNsHMxU"
   }
  },
  {
   "cell_type": "code",
   "execution_count": 51,
   "source": [
    "df = pd.DataFrame(channels, columns=['카테고리', '채널명', '구독자수', '조회수', '비디오수'])\r\n",
    "\r\n",
    "df.head()"
   ],
   "outputs": [
    {
     "output_type": "display_data",
     "data": {
      "text/plain": [
       "       카테고리                          채널명   구독자수        조회수   비디오수\n",
       "0  음악/댄스/가수                    BLACKPINK  6400만  190억0381만    371\n",
       "1  음악/댄스/가수                  HYBE LABELS  6030만  187억1305만    654\n",
       "2  음악/댄스/가수                    BANGTANTV  5640만  121억9496만  1,579\n",
       "3  음악/댄스/가수                       SMTOWN  2850만  218억7092만  3,729\n",
       "4    키즈/어린이  Boram Tube Vlog [보람튜브 브이로그]  2650만  110억5288만    223"
      ],
      "text/html": [
       "<div>\n",
       "<style scoped>\n",
       "    .dataframe tbody tr th:only-of-type {\n",
       "        vertical-align: middle;\n",
       "    }\n",
       "\n",
       "    .dataframe tbody tr th {\n",
       "        vertical-align: top;\n",
       "    }\n",
       "\n",
       "    .dataframe thead th {\n",
       "        text-align: right;\n",
       "    }\n",
       "</style>\n",
       "<table border=\"1\" class=\"dataframe\">\n",
       "  <thead>\n",
       "    <tr style=\"text-align: right;\">\n",
       "      <th></th>\n",
       "      <th>카테고리</th>\n",
       "      <th>채널명</th>\n",
       "      <th>구독자수</th>\n",
       "      <th>조회수</th>\n",
       "      <th>비디오수</th>\n",
       "    </tr>\n",
       "  </thead>\n",
       "  <tbody>\n",
       "    <tr>\n",
       "      <th>0</th>\n",
       "      <td>음악/댄스/가수</td>\n",
       "      <td>BLACKPINK</td>\n",
       "      <td>6400만</td>\n",
       "      <td>190억0381만</td>\n",
       "      <td>371</td>\n",
       "    </tr>\n",
       "    <tr>\n",
       "      <th>1</th>\n",
       "      <td>음악/댄스/가수</td>\n",
       "      <td>HYBE LABELS</td>\n",
       "      <td>6030만</td>\n",
       "      <td>187억1305만</td>\n",
       "      <td>654</td>\n",
       "    </tr>\n",
       "    <tr>\n",
       "      <th>2</th>\n",
       "      <td>음악/댄스/가수</td>\n",
       "      <td>BANGTANTV</td>\n",
       "      <td>5640만</td>\n",
       "      <td>121억9496만</td>\n",
       "      <td>1,579</td>\n",
       "    </tr>\n",
       "    <tr>\n",
       "      <th>3</th>\n",
       "      <td>음악/댄스/가수</td>\n",
       "      <td>SMTOWN</td>\n",
       "      <td>2850만</td>\n",
       "      <td>218억7092만</td>\n",
       "      <td>3,729</td>\n",
       "    </tr>\n",
       "    <tr>\n",
       "      <th>4</th>\n",
       "      <td>키즈/어린이</td>\n",
       "      <td>Boram Tube Vlog [보람튜브 브이로그]</td>\n",
       "      <td>2650만</td>\n",
       "      <td>110억5288만</td>\n",
       "      <td>223</td>\n",
       "    </tr>\n",
       "  </tbody>\n",
       "</table>\n",
       "</div>"
      ]
     },
     "metadata": {}
    }
   ],
   "metadata": {
    "colab": {
     "base_uri": "https://localhost:8080/",
     "height": 204
    },
    "id": "A5bxgylMIHtq",
    "outputId": "339f0ee6-a7e5-4a87-cb50-caa75363ec56"
   }
  },
  {
   "cell_type": "markdown",
   "source": [
    "- 만과 억을 숫자로 바꾸는 함수"
   ],
   "metadata": {
    "id": "XePZ8rISI-CH"
   }
  },
  {
   "cell_type": "code",
   "execution_count": 57,
   "source": [
    "def convert_unit(s):\r\n",
    "    s = ''.join(s.split('억'))\r\n",
    "    s = s.replace('억', '0000').replace('개', '').replace(',','')\r\n",
    "    s = s.replace('만', '0000')\r\n",
    "    return f'{int(s):,d}'"
   ],
   "outputs": [],
   "metadata": {
    "id": "CIsE2XecIor7"
   }
  },
  {
   "cell_type": "markdown",
   "source": [
    "- xpath로 페이지 이동하기"
   ],
   "metadata": {
    "id": "zO1EDg02e4pj"
   }
  },
  {
   "cell_type": "code",
   "execution_count": 55,
   "source": [
    "# driver.find_element_by_xpath('//*[@id=\"list-skin\"]/nav/span/a[1]').click()"
   ],
   "outputs": [],
   "metadata": {
    "id": "axPoy5necYbu"
   }
  },
  {
   "cell_type": "markdown",
   "source": [
    "## page1 에서 10까지 크롤링하기"
   ],
   "metadata": {
    "id": "rEZ-usKNe-vQ"
   }
  },
  {
   "cell_type": "code",
   "execution_count": 67,
   "source": [
    "results = []\r\n",
    "for page in range(1,11):\r\n",
    "    url = 'https://youtube-rank.com/board/bbs/board.php?bo_table=youtube&page='+str(page)\r\n",
    "    driver.get(url)\r\n",
    "    time.sleep(3)\r\n",
    "    html = driver.page_source\r\n",
    "    soup = BeautifulSoup(html, 'html.parser')\r\n",
    "    channel_list = soup.select('.aos-init')\r\n",
    "\r\n",
    "    for channel in channel_list:\r\n",
    "        category = channel.select_one('p.category').get_text().strip(' \\n[]')\r\n",
    "        name = channel.select_one('.subject a').text.strip()\r\n",
    "        subscriber = convert_unit(channel.select_one('.subscriber_cnt').text)\r\n",
    "        view = convert_unit(channel.select_one('.view_cnt').text)\r\n",
    "        video = convert_unit(channel.select_one('.video_cnt').text)\r\n",
    "        results.append([category,name,subscriber,view,video])"
   ],
   "outputs": [],
   "metadata": {
    "id": "C0zs_1_ccnIU"
   }
  },
  {
   "cell_type": "code",
   "execution_count": 70,
   "source": [
    "df = pd.DataFrame(results, columns=['카테고리', '채널명', '구독자수', '조회수', '비디오수'])\r\n",
    "\r\n",
    "df.head()"
   ],
   "outputs": [
    {
     "output_type": "display_data",
     "data": {
      "text/plain": [
       "       카테고리                          채널명        구독자수             조회수   비디오수\n",
       "0  음악/댄스/가수                    BLACKPINK  64,000,000  19,003,810,000    371\n",
       "1  음악/댄스/가수                  HYBE LABELS  60,300,000  18,713,050,000    654\n",
       "2  음악/댄스/가수                    BANGTANTV  56,400,000  12,194,960,000  1,579\n",
       "3  음악/댄스/가수                       SMTOWN  28,500,000  21,870,920,000  3,729\n",
       "4    키즈/어린이  Boram Tube Vlog [보람튜브 브이로그]  26,500,000  11,052,880,000    223"
      ],
      "text/html": [
       "<div>\n",
       "<style scoped>\n",
       "    .dataframe tbody tr th:only-of-type {\n",
       "        vertical-align: middle;\n",
       "    }\n",
       "\n",
       "    .dataframe tbody tr th {\n",
       "        vertical-align: top;\n",
       "    }\n",
       "\n",
       "    .dataframe thead th {\n",
       "        text-align: right;\n",
       "    }\n",
       "</style>\n",
       "<table border=\"1\" class=\"dataframe\">\n",
       "  <thead>\n",
       "    <tr style=\"text-align: right;\">\n",
       "      <th></th>\n",
       "      <th>카테고리</th>\n",
       "      <th>채널명</th>\n",
       "      <th>구독자수</th>\n",
       "      <th>조회수</th>\n",
       "      <th>비디오수</th>\n",
       "    </tr>\n",
       "  </thead>\n",
       "  <tbody>\n",
       "    <tr>\n",
       "      <th>0</th>\n",
       "      <td>음악/댄스/가수</td>\n",
       "      <td>BLACKPINK</td>\n",
       "      <td>64,000,000</td>\n",
       "      <td>19,003,810,000</td>\n",
       "      <td>371</td>\n",
       "    </tr>\n",
       "    <tr>\n",
       "      <th>1</th>\n",
       "      <td>음악/댄스/가수</td>\n",
       "      <td>HYBE LABELS</td>\n",
       "      <td>60,300,000</td>\n",
       "      <td>18,713,050,000</td>\n",
       "      <td>654</td>\n",
       "    </tr>\n",
       "    <tr>\n",
       "      <th>2</th>\n",
       "      <td>음악/댄스/가수</td>\n",
       "      <td>BANGTANTV</td>\n",
       "      <td>56,400,000</td>\n",
       "      <td>12,194,960,000</td>\n",
       "      <td>1,579</td>\n",
       "    </tr>\n",
       "    <tr>\n",
       "      <th>3</th>\n",
       "      <td>음악/댄스/가수</td>\n",
       "      <td>SMTOWN</td>\n",
       "      <td>28,500,000</td>\n",
       "      <td>21,870,920,000</td>\n",
       "      <td>3,729</td>\n",
       "    </tr>\n",
       "    <tr>\n",
       "      <th>4</th>\n",
       "      <td>키즈/어린이</td>\n",
       "      <td>Boram Tube Vlog [보람튜브 브이로그]</td>\n",
       "      <td>26,500,000</td>\n",
       "      <td>11,052,880,000</td>\n",
       "      <td>223</td>\n",
       "    </tr>\n",
       "  </tbody>\n",
       "</table>\n",
       "</div>"
      ]
     },
     "metadata": {}
    }
   ],
   "metadata": {
    "colab": {
     "base_uri": "https://localhost:8080/",
     "height": 204
    },
    "id": "BEgdfBctgduh",
    "outputId": "5feb2114-73db-414e-9855-5c199345a5e9"
   }
  },
  {
   "cell_type": "code",
   "execution_count": 71,
   "source": [
    "df.tail()"
   ],
   "outputs": [
    {
     "output_type": "display_data",
     "data": {
      "text/plain": [
       "          카테고리                      채널명     구독자수          조회수   비디오수\n",
       "995         게임                       미소  510,000  210,770,000  3,084\n",
       "996        미분류                밉지않은 관종언니  510,000   67,740,000    170\n",
       "997        미분류  복지마블TV [Welfare Marble]  510,000   49,960,000    240\n",
       "998  음식/요리/레시피                    Muggo  510,000  183,720,000  1,388\n",
       "999         게임                      임선비  510,000  234,290,000  1,134"
      ],
      "text/html": [
       "<div>\n",
       "<style scoped>\n",
       "    .dataframe tbody tr th:only-of-type {\n",
       "        vertical-align: middle;\n",
       "    }\n",
       "\n",
       "    .dataframe tbody tr th {\n",
       "        vertical-align: top;\n",
       "    }\n",
       "\n",
       "    .dataframe thead th {\n",
       "        text-align: right;\n",
       "    }\n",
       "</style>\n",
       "<table border=\"1\" class=\"dataframe\">\n",
       "  <thead>\n",
       "    <tr style=\"text-align: right;\">\n",
       "      <th></th>\n",
       "      <th>카테고리</th>\n",
       "      <th>채널명</th>\n",
       "      <th>구독자수</th>\n",
       "      <th>조회수</th>\n",
       "      <th>비디오수</th>\n",
       "    </tr>\n",
       "  </thead>\n",
       "  <tbody>\n",
       "    <tr>\n",
       "      <th>995</th>\n",
       "      <td>게임</td>\n",
       "      <td>미소</td>\n",
       "      <td>510,000</td>\n",
       "      <td>210,770,000</td>\n",
       "      <td>3,084</td>\n",
       "    </tr>\n",
       "    <tr>\n",
       "      <th>996</th>\n",
       "      <td>미분류</td>\n",
       "      <td>밉지않은 관종언니</td>\n",
       "      <td>510,000</td>\n",
       "      <td>67,740,000</td>\n",
       "      <td>170</td>\n",
       "    </tr>\n",
       "    <tr>\n",
       "      <th>997</th>\n",
       "      <td>미분류</td>\n",
       "      <td>복지마블TV [Welfare Marble]</td>\n",
       "      <td>510,000</td>\n",
       "      <td>49,960,000</td>\n",
       "      <td>240</td>\n",
       "    </tr>\n",
       "    <tr>\n",
       "      <th>998</th>\n",
       "      <td>음식/요리/레시피</td>\n",
       "      <td>Muggo</td>\n",
       "      <td>510,000</td>\n",
       "      <td>183,720,000</td>\n",
       "      <td>1,388</td>\n",
       "    </tr>\n",
       "    <tr>\n",
       "      <th>999</th>\n",
       "      <td>게임</td>\n",
       "      <td>임선비</td>\n",
       "      <td>510,000</td>\n",
       "      <td>234,290,000</td>\n",
       "      <td>1,134</td>\n",
       "    </tr>\n",
       "  </tbody>\n",
       "</table>\n",
       "</div>"
      ]
     },
     "metadata": {}
    }
   ],
   "metadata": {
    "colab": {
     "base_uri": "https://localhost:8080/",
     "height": 204
    },
    "id": "SiDRccCxgeJ6",
    "outputId": "10855ce8-bdc0-472b-e7a5-6b04368a042f"
   }
  },
  {
   "cell_type": "code",
   "execution_count": 72,
   "source": [
    "df.to_csv('유튜브_순위.csv', index=False)"
   ],
   "outputs": [],
   "metadata": {
    "id": "4uvJ7k3agmr4"
   }
  },
  {
   "cell_type": "code",
   "execution_count": 73,
   "source": [
    "driver.close()"
   ],
   "outputs": [],
   "metadata": {
    "id": "fFwTWCFThh7l"
   }
  }
 ],
 "metadata": {
  "orig_nbformat": 4,
  "language_info": {
   "name": "python",
   "version": "3.8.10",
   "mimetype": "text/x-python",
   "codemirror_mode": {
    "name": "ipython",
    "version": 3
   },
   "pygments_lexer": "ipython3",
   "nbconvert_exporter": "python",
   "file_extension": ".py"
  },
  "kernelspec": {
   "name": "python3",
   "display_name": "Python 3.8.10 64-bit ('base': conda)"
  },
  "interpreter": {
   "hash": "3e341b741a6cc136c1a324ec9b920c7c129358e027f46cfe51981ed2d12498b8"
  }
 },
 "nbformat": 4,
 "nbformat_minor": 2
}