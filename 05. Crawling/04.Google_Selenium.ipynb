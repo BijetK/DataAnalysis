{
 "cells": [
  {
   "cell_type": "code",
   "execution_count": 1,
   "source": [
    "import requests\r\n",
    "import pandas as pd"
   ],
   "outputs": [],
   "metadata": {}
  },
  {
   "cell_type": "code",
   "execution_count": 9,
   "source": [
    "# 이런식으로는 html 코드를 불러올 수 없음\r\n",
    "url = 'https://google.com'\r\n",
    "req = requests.get(url)\r\n",
    "html = req.text\r\n",
    "#html"
   ],
   "outputs": [],
   "metadata": {}
  },
  {
   "cell_type": "code",
   "execution_count": 4,
   "source": [
    "import time\r\n",
    "from selenium import webdriver\r\n",
    "from selenium.webdriver.common.keys import Keys"
   ],
   "outputs": [],
   "metadata": {}
  },
  {
   "cell_type": "code",
   "execution_count": 13,
   "source": [
    "driver = webdriver.Chrome('/Users/com/Downloads/chromedriver_win32/chromedriver')\r\n",
    "driver.get(url)"
   ],
   "outputs": [],
   "metadata": {}
  },
  {
   "cell_type": "code",
   "execution_count": 17,
   "source": [
    "search_box = driver.find_element_by_name('q')       # Class name이 q인 곳을 찾아\r\n",
    "search_box.send_keys('ChromeDriver')        # 키워드를 입력하고\r\n",
    "search_box.send_keys(Keys.RETURN)         # Submit()\r\n",
    "time.sleep(2)           # 2초간 기다림"
   ],
   "outputs": [],
   "metadata": {}
  },
  {
   "cell_type": "code",
   "execution_count": 22,
   "source": [
    "divs = driver.find_elements_by_css_selector('#search .g')\r\n",
    "\r\n",
    "len(divs)"
   ],
   "outputs": [
    {
     "output_type": "execute_result",
     "data": {
      "text/plain": [
       "10"
      ]
     },
     "metadata": {},
     "execution_count": 22
    }
   ],
   "metadata": {}
  },
  {
   "cell_type": "code",
   "execution_count": 30,
   "source": [
    "div = divs[0]\r\n",
    "title = div.find_element_by_css_selector('.LC20lb.DKV0Md').text         # cf, BS는 get_text or string\r\n",
    "title"
   ],
   "outputs": [
    {
     "output_type": "execute_result",
     "data": {
      "text/plain": [
       "'ChromeDriver - WebDriver for Chrome - Downloads'"
      ]
     },
     "metadata": {},
     "execution_count": 30
    }
   ],
   "metadata": {}
  },
  {
   "cell_type": "code",
   "execution_count": 32,
   "source": [
    "content = div.find_element_by_css_selector('.VwiC3b').text\r\n",
    "content"
   ],
   "outputs": [
    {
     "output_type": "execute_result",
     "data": {
      "text/plain": [
       "'Current Releases · ChromeDriver 93.0.4577.15 · Supports Chrome version · For more details, please see the · ChromeDriver 92.0.4515.107 · Supports Chrome version 92.'"
      ]
     },
     "metadata": {},
     "execution_count": 32
    }
   ],
   "metadata": {}
  },
  {
   "cell_type": "code",
   "execution_count": 34,
   "source": [
    "title_list, content_list = [], []\r\n",
    "for div in divs:\r\n",
    "    title = div.find_element_by_css_selector('.LC20lb.DKV0Md').text\r\n",
    "    content = div.find_element_by_css_selector('.VwiC3b').text\r\n",
    "    title_list.append(title)\r\n",
    "    content_list.append(content)"
   ],
   "outputs": [],
   "metadata": {}
  },
  {
   "cell_type": "code",
   "execution_count": 35,
   "source": [
    "df = pd.DataFrame({\r\n",
    "    'Title' : title_list,\r\n",
    "    \"Content\" : content_list\r\n",
    "})\r\n",
    "\r\n",
    "df"
   ],
   "outputs": [
    {
     "output_type": "execute_result",
     "data": {
      "text/plain": [
       "                                               Title  \\\n",
       "0    ChromeDriver - WebDriver for Chrome - Downloads   \n",
       "1    ChromeDriver - WebDriver for Chrome - Downloads   \n",
       "2  ChromeDriver - WebDriver for Chrome - Google S...   \n",
       "3  selenium) 설치하기! chromedriver 버전 오류 해결하기 - 네이버 ...   \n",
       "4              [ChromeDriver] 크롬 드라이버 버전에 따라 설정하는 방법   \n",
       "5          크롬드라이버(chromedriver) 다운로드 - Mizy's - 티스토리   \n",
       "6                              ChromeDriver - GitHub   \n",
       "7   [Python]크롬 드라이버 버전 오류 SessionNotCreatedException   \n",
       "8                        Selenium을 사용하고 싶습니다 - goorm   \n",
       "9  selenium 버전 문제 해결 - This version of ChromeDriv...   \n",
       "\n",
       "                                             Content  \n",
       "0  Current Releases · ChromeDriver 93.0.4577.15 ·...  \n",
       "1  Current Releases · ChromeDriver 93.0.4577.15 ·...  \n",
       "2  It provides capabilities for navigating to web...  \n",
       "3  여기에서 현재 사용중인 크롬의 버전과 일치하는 버전의 파일을 다운 받으시면 됩니다....  \n",
       "4  2020. 6. 9. — 크롬드라이버 다운로드 사이트로 갑니다. https://ch...  \n",
       "5  크롬드라이버(chromedriver) 다운로드. Python/Crawling 202...  \n",
       "6                                이 페이지에 관한 정보가 없습니다.  \n",
       "7  Chrome(executable_path=\"C:/python/chromedriver...  \n",
       "8  ChromeDriver 다운로드. 아래 명령을 사용하여 크롬 드라이버를 다운로드 받...  \n",
       "9  2019. 11. 30. — This version of ChromeDriver o...  "
      ],
      "text/html": [
       "<div>\n",
       "<style scoped>\n",
       "    .dataframe tbody tr th:only-of-type {\n",
       "        vertical-align: middle;\n",
       "    }\n",
       "\n",
       "    .dataframe tbody tr th {\n",
       "        vertical-align: top;\n",
       "    }\n",
       "\n",
       "    .dataframe thead th {\n",
       "        text-align: right;\n",
       "    }\n",
       "</style>\n",
       "<table border=\"1\" class=\"dataframe\">\n",
       "  <thead>\n",
       "    <tr style=\"text-align: right;\">\n",
       "      <th></th>\n",
       "      <th>Title</th>\n",
       "      <th>Content</th>\n",
       "    </tr>\n",
       "  </thead>\n",
       "  <tbody>\n",
       "    <tr>\n",
       "      <th>0</th>\n",
       "      <td>ChromeDriver - WebDriver for Chrome - Downloads</td>\n",
       "      <td>Current Releases · ChromeDriver 93.0.4577.15 ·...</td>\n",
       "    </tr>\n",
       "    <tr>\n",
       "      <th>1</th>\n",
       "      <td>ChromeDriver - WebDriver for Chrome - Downloads</td>\n",
       "      <td>Current Releases · ChromeDriver 93.0.4577.15 ·...</td>\n",
       "    </tr>\n",
       "    <tr>\n",
       "      <th>2</th>\n",
       "      <td>ChromeDriver - WebDriver for Chrome - Google S...</td>\n",
       "      <td>It provides capabilities for navigating to web...</td>\n",
       "    </tr>\n",
       "    <tr>\n",
       "      <th>3</th>\n",
       "      <td>selenium) 설치하기! chromedriver 버전 오류 해결하기 - 네이버 ...</td>\n",
       "      <td>여기에서 현재 사용중인 크롬의 버전과 일치하는 버전의 파일을 다운 받으시면 됩니다....</td>\n",
       "    </tr>\n",
       "    <tr>\n",
       "      <th>4</th>\n",
       "      <td>[ChromeDriver] 크롬 드라이버 버전에 따라 설정하는 방법</td>\n",
       "      <td>2020. 6. 9. — 크롬드라이버 다운로드 사이트로 갑니다. https://ch...</td>\n",
       "    </tr>\n",
       "    <tr>\n",
       "      <th>5</th>\n",
       "      <td>크롬드라이버(chromedriver) 다운로드 - Mizy's - 티스토리</td>\n",
       "      <td>크롬드라이버(chromedriver) 다운로드. Python/Crawling 202...</td>\n",
       "    </tr>\n",
       "    <tr>\n",
       "      <th>6</th>\n",
       "      <td>ChromeDriver - GitHub</td>\n",
       "      <td>이 페이지에 관한 정보가 없습니다.</td>\n",
       "    </tr>\n",
       "    <tr>\n",
       "      <th>7</th>\n",
       "      <td>[Python]크롬 드라이버 버전 오류 SessionNotCreatedException</td>\n",
       "      <td>Chrome(executable_path=\"C:/python/chromedriver...</td>\n",
       "    </tr>\n",
       "    <tr>\n",
       "      <th>8</th>\n",
       "      <td>Selenium을 사용하고 싶습니다 - goorm</td>\n",
       "      <td>ChromeDriver 다운로드. 아래 명령을 사용하여 크롬 드라이버를 다운로드 받...</td>\n",
       "    </tr>\n",
       "    <tr>\n",
       "      <th>9</th>\n",
       "      <td>selenium 버전 문제 해결 - This version of ChromeDriv...</td>\n",
       "      <td>2019. 11. 30. — This version of ChromeDriver o...</td>\n",
       "    </tr>\n",
       "  </tbody>\n",
       "</table>\n",
       "</div>"
      ]
     },
     "metadata": {},
     "execution_count": 35
    }
   ],
   "metadata": {}
  },
  {
   "cell_type": "code",
   "execution_count": 36,
   "source": [
    "driver.close()"
   ],
   "outputs": [],
   "metadata": {}
  }
 ],
 "metadata": {
  "orig_nbformat": 4,
  "language_info": {
   "name": "python",
   "version": "3.8.10",
   "mimetype": "text/x-python",
   "codemirror_mode": {
    "name": "ipython",
    "version": 3
   },
   "pygments_lexer": "ipython3",
   "nbconvert_exporter": "python",
   "file_extension": ".py"
  },
  "kernelspec": {
   "name": "python3",
   "display_name": "Python 3.8.10 64-bit ('base': conda)"
  },
  "interpreter": {
   "hash": "3e341b741a6cc136c1a324ec9b920c7c129358e027f46cfe51981ed2d12498b8"
  }
 },
 "nbformat": 4,
 "nbformat_minor": 2
}