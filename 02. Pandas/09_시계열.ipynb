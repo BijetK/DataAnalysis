{
  "nbformat": 4,
  "nbformat_minor": 0,
  "metadata": {
    "colab": {
      "name": "09_시계열.ipynb",
      "provenance": [],
      "collapsed_sections": []
    },
    "kernelspec": {
      "name": "python3",
      "display_name": "Python 3"
    },
    "language_info": {
      "name": "python"
    }
  },
  "cells": [
    {
      "cell_type": "markdown",
      "metadata": {
        "id": "BaozPDe33kzj"
      },
      "source": [
        "# 시계열 자료 다루기"
      ]
    },
    {
      "cell_type": "code",
      "metadata": {
        "id": "ee_EFimK3eYU"
      },
      "source": [
        "import numpy as np\n",
        "import pandas as pd"
      ],
      "execution_count": 1,
      "outputs": []
    },
    {
      "cell_type": "markdown",
      "metadata": {
        "id": "nJQADL_f3wMf"
      },
      "source": [
        "## DatetimeIndex 인덱스"
      ]
    },
    {
      "cell_type": "code",
      "metadata": {
        "colab": {
          "base_uri": "https://localhost:8080/"
        },
        "id": "GXLcX9jU3tQk",
        "outputId": "118a34e5-d032-48a8-ac83-9e5f39004da8"
      },
      "source": [
        "date_str = ['2021, 8, 10','2021-8-11','20210812','2021.8.13','8/14/21','081521']\n",
        "idx = pd.to_datetime(date_str)\n",
        "idx"
      ],
      "execution_count": 9,
      "outputs": [
        {
          "output_type": "execute_result",
          "data": {
            "text/plain": [
              "DatetimeIndex(['2021-08-10', '2021-08-11', '2021-08-12', '2021-08-13',\n",
              "               '2021-08-14', '2021-08-15'],\n",
              "              dtype='datetime64[ns]', freq=None)"
            ]
          },
          "metadata": {
            "tags": []
          },
          "execution_count": 9
        }
      ]
    },
    {
      "cell_type": "code",
      "metadata": {
        "colab": {
          "base_uri": "https://localhost:8080/"
        },
        "id": "WOF8417Y4mJb",
        "outputId": "cc7c7222-8a4b-45c5-d5ab-1ac9fa95a397"
      },
      "source": [
        "np.random.seed(2021)\n",
        "s = pd.Series(np.random.randn(6), index=idx)\n",
        "s"
      ],
      "execution_count": 10,
      "outputs": [
        {
          "output_type": "execute_result",
          "data": {
            "text/plain": [
              "2021-08-10    1.488609\n",
              "2021-08-11    0.676011\n",
              "2021-08-12   -0.418451\n",
              "2021-08-13   -0.806521\n",
              "2021-08-14    0.555876\n",
              "2021-08-15   -0.705504\n",
              "dtype: float64"
            ]
          },
          "metadata": {
            "tags": []
          },
          "execution_count": 10
        }
      ]
    },
    {
      "cell_type": "code",
      "metadata": {
        "colab": {
          "base_uri": "https://localhost:8080/"
        },
        "id": "sg2mJOri5nVX",
        "outputId": "aa056feb-aba6-401a-b3f6-8f2c402bab5f"
      },
      "source": [
        "pd.date_range('20210801', '2021-8-31')"
      ],
      "execution_count": 12,
      "outputs": [
        {
          "output_type": "execute_result",
          "data": {
            "text/plain": [
              "DatetimeIndex(['2021-08-01', '2021-08-02', '2021-08-03', '2021-08-04',\n",
              "               '2021-08-05', '2021-08-06', '2021-08-07', '2021-08-08',\n",
              "               '2021-08-09', '2021-08-10', '2021-08-11', '2021-08-12',\n",
              "               '2021-08-13', '2021-08-14', '2021-08-15', '2021-08-16',\n",
              "               '2021-08-17', '2021-08-18', '2021-08-19', '2021-08-20',\n",
              "               '2021-08-21', '2021-08-22', '2021-08-23', '2021-08-24',\n",
              "               '2021-08-25', '2021-08-26', '2021-08-27', '2021-08-28',\n",
              "               '2021-08-29', '2021-08-30', '2021-08-31'],\n",
              "              dtype='datetime64[ns]', freq='D')"
            ]
          },
          "metadata": {
            "tags": []
          },
          "execution_count": 12
        }
      ]
    },
    {
      "cell_type": "code",
      "metadata": {
        "colab": {
          "base_uri": "https://localhost:8080/"
        },
        "id": "ZJ3RYD2w57jO",
        "outputId": "d3822576-d464-491f-ea5a-1ab1e20c6a86"
      },
      "source": [
        "# 일(day)\n",
        "pd.date_range('20210801', periods=31)"
      ],
      "execution_count": 13,
      "outputs": [
        {
          "output_type": "execute_result",
          "data": {
            "text/plain": [
              "DatetimeIndex(['2021-08-01', '2021-08-02', '2021-08-03', '2021-08-04',\n",
              "               '2021-08-05', '2021-08-06', '2021-08-07', '2021-08-08',\n",
              "               '2021-08-09', '2021-08-10', '2021-08-11', '2021-08-12',\n",
              "               '2021-08-13', '2021-08-14', '2021-08-15', '2021-08-16',\n",
              "               '2021-08-17', '2021-08-18', '2021-08-19', '2021-08-20',\n",
              "               '2021-08-21', '2021-08-22', '2021-08-23', '2021-08-24',\n",
              "               '2021-08-25', '2021-08-26', '2021-08-27', '2021-08-28',\n",
              "               '2021-08-29', '2021-08-30', '2021-08-31'],\n",
              "              dtype='datetime64[ns]', freq='D')"
            ]
          },
          "metadata": {
            "tags": []
          },
          "execution_count": 13
        }
      ]
    },
    {
      "cell_type": "code",
      "metadata": {
        "colab": {
          "base_uri": "https://localhost:8080/"
        },
        "id": "qz87fEz36M9h",
        "outputId": "a6252d7f-451d-433c-db02-3c0f12bad463"
      },
      "source": [
        "# Biz-day\n",
        "pd.date_range('20210801', periods=22, freq='B')"
      ],
      "execution_count": 16,
      "outputs": [
        {
          "output_type": "execute_result",
          "data": {
            "text/plain": [
              "DatetimeIndex(['2021-08-02', '2021-08-03', '2021-08-04', '2021-08-05',\n",
              "               '2021-08-06', '2021-08-09', '2021-08-10', '2021-08-11',\n",
              "               '2021-08-12', '2021-08-13', '2021-08-16', '2021-08-17',\n",
              "               '2021-08-18', '2021-08-19', '2021-08-20', '2021-08-23',\n",
              "               '2021-08-24', '2021-08-25', '2021-08-26', '2021-08-27',\n",
              "               '2021-08-30', '2021-08-31'],\n",
              "              dtype='datetime64[ns]', freq='B')"
            ]
          },
          "metadata": {
            "tags": []
          },
          "execution_count": 16
        }
      ]
    },
    {
      "cell_type": "code",
      "metadata": {
        "colab": {
          "base_uri": "https://localhost:8080/"
        },
        "id": "jTVQWWMP9ZKT",
        "outputId": "b0d8016e-970c-4e71-8f18-e9e9d1eef7b0"
      },
      "source": [
        "# 일요일(W)\n",
        "pd.date_range('20210801', '20210831', freq='W')"
      ],
      "execution_count": 17,
      "outputs": [
        {
          "output_type": "execute_result",
          "data": {
            "text/plain": [
              "DatetimeIndex(['2021-08-01', '2021-08-08', '2021-08-15', '2021-08-22',\n",
              "               '2021-08-29'],\n",
              "              dtype='datetime64[ns]', freq='W-SUN')"
            ]
          },
          "metadata": {
            "tags": []
          },
          "execution_count": 17
        }
      ]
    },
    {
      "cell_type": "markdown",
      "metadata": {
        "id": "dVKL93W1-Te-"
      },
      "source": [
        "## resample 연산"
      ]
    },
    {
      "cell_type": "code",
      "metadata": {
        "colab": {
          "base_uri": "https://localhost:8080/"
        },
        "id": "6OwH1Lv691gr",
        "outputId": "adbf7d2d-2e29-4507-a132-5789af65ef18"
      },
      "source": [
        "ts = pd.Series(np.random.randn(100), \n",
        "               index=pd.date_range(\"2021-1-1\", periods=100))\n",
        "ts.tail(10)"
      ],
      "execution_count": 18,
      "outputs": [
        {
          "output_type": "execute_result",
          "data": {
            "text/plain": [
              "2021-04-01   -0.432416\n",
              "2021-04-02    0.425937\n",
              "2021-04-03    0.756636\n",
              "2021-04-04   -0.994854\n",
              "2021-04-05   -0.740574\n",
              "2021-04-06    0.458233\n",
              "2021-04-07    1.257247\n",
              "2021-04-08   -0.441704\n",
              "2021-04-09    0.541335\n",
              "2021-04-10    0.567278\n",
              "Freq: D, dtype: float64"
            ]
          },
          "metadata": {
            "tags": []
          },
          "execution_count": 18
        }
      ]
    },
    {
      "cell_type": "code",
      "metadata": {
        "colab": {
          "base_uri": "https://localhost:8080/"
        },
        "id": "JdLmlC_A-oST",
        "outputId": "b277c97c-0f7b-4750-ba44-bd2bca7e6e1b"
      },
      "source": [
        "ts.resample('M').first()"
      ],
      "execution_count": 21,
      "outputs": [
        {
          "output_type": "execute_result",
          "data": {
            "text/plain": [
              "2021-01-31    1.130858\n",
              "2021-02-28   -0.161508\n",
              "2021-03-31   -0.654448\n",
              "2021-04-30   -0.432416\n",
              "Freq: M, dtype: float64"
            ]
          },
          "metadata": {
            "tags": []
          },
          "execution_count": 21
        }
      ]
    },
    {
      "cell_type": "code",
      "metadata": {
        "id": "yzoM4NoW-yJ4"
      },
      "source": [
        ""
      ],
      "execution_count": null,
      "outputs": []
    }
  ]
}