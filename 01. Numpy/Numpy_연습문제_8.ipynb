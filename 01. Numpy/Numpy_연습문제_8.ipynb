{
  "nbformat": 4,
  "nbformat_minor": 0,
  "metadata": {
    "colab": {
      "name": "Numpy 연습문제 8.ipynb",
      "provenance": [],
      "collapsed_sections": []
    },
    "kernelspec": {
      "name": "python3",
      "display_name": "Python 3"
    },
    "language_info": {
      "name": "python"
    }
  },
  "cells": [
    {
      "cell_type": "code",
      "metadata": {
        "id": "EKF-6vzDidg2"
      },
      "source": [
        "import numpy as np"
      ],
      "execution_count": 1,
      "outputs": []
    },
    {
      "cell_type": "markdown",
      "metadata": {
        "id": "hB768Y47iA60"
      },
      "source": [
        "## Numpy 연습문제 8"
      ]
    },
    {
      "cell_type": "code",
      "metadata": {
        "colab": {
          "base_uri": "https://localhost:8080/"
        },
        "id": "xFXyzRPWhy2z",
        "outputId": "e98c4f37-3c2b-4e03-9ac8-2f4d98e3901e"
      },
      "source": [
        "# 10개로 먼저 테스트\n",
        "np.random.seed(2021)\n",
        "price = 10000\n",
        "rate = np.random.normal(0, 0.01, 10)\n",
        "\n",
        "for i in range(10):\n",
        "    price = price + price*rate[i]\n",
        "    print(price, end = ',')"
      ],
      "execution_count": 8,
      "outputs": [
        {
          "output_type": "stream",
          "text": [
            "10148.86090526695,10217.468308310063,10174.71317224809,10092.651992843163,10148.754606030741,10077.154707264035,10191.11304385042,10256.84591014957,10267.760603750321,10311.106451024882,"
          ],
          "name": "stdout"
        }
      ]
    },
    {
      "cell_type": "code",
      "metadata": {
        "id": "ipwANekXjD5f"
      },
      "source": [
        "# 250개\n",
        "np.random.seed(2021)\n",
        "price_list = []\n",
        "rate = np.random.normal(0, 0.01, 250)\n",
        "price = 10000\n",
        "\n",
        "for i in range(250):\n",
        "    price += np.round(price*rate[i])\n",
        "    price_list.append(int(price))"
      ],
      "execution_count": 11,
      "outputs": []
    },
    {
      "cell_type": "code",
      "metadata": {
        "colab": {
          "base_uri": "https://localhost:8080/"
        },
        "id": "vZ2S3xcXkeVW",
        "outputId": "a6cf3aea-6288-480c-d529-487370c705c1"
      },
      "source": [
        "price_list[:10]"
      ],
      "execution_count": 12,
      "outputs": [
        {
          "output_type": "execute_result",
          "data": {
            "text/plain": [
              "[10149, 10218, 10175, 10093, 10149, 10077, 10191, 10257, 10268, 10311]"
            ]
          },
          "metadata": {
            "tags": []
          },
          "execution_count": 12
        }
      ]
    }
  ]
}