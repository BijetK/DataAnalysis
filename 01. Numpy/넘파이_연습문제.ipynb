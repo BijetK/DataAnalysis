{
  "nbformat": 4,
  "nbformat_minor": 0,
  "metadata": {
    "colab": {
      "name": "넘파이_연습문제.ipynb",
      "provenance": [],
      "collapsed_sections": []
    },
    "kernelspec": {
      "name": "python3",
      "display_name": "Python 3"
    },
    "language_info": {
      "name": "python"
    }
  },
  "cells": [
    {
      "cell_type": "code",
      "metadata": {
        "id": "AATEFyddJ6jF"
      },
      "source": [
        "import numpy as np"
      ],
      "execution_count": 62,
      "outputs": []
    },
    {
      "cell_type": "markdown",
      "metadata": {
        "id": "3y4mcWj3KAIO"
      },
      "source": [
        "## 1. 넘파이를 사용하여 사용하여 사용하여 다음과 같은 행렬을 만드시오\n",
        "<br>10 20 30 40\n",
        "<br>50 60 70 80"
      ]
    },
    {
      "cell_type": "code",
      "metadata": {
        "colab": {
          "base_uri": "https://localhost:8080/"
        },
        "id": "-4bXNUKtMINn",
        "outputId": "72c33f18-c117-47bb-dcdc-48f8fb662a89"
      },
      "source": [
        "a = np.arange(10, 81, 10).reshape(2, 4)\n",
        "a"
      ],
      "execution_count": 2,
      "outputs": [
        {
          "output_type": "execute_result",
          "data": {
            "text/plain": [
              "array([[10, 20, 30, 40],\n",
              "       [50, 60, 70, 80]])"
            ]
          },
          "metadata": {
            "tags": []
          },
          "execution_count": 2
        }
      ]
    },
    {
      "cell_type": "code",
      "metadata": {
        "colab": {
          "base_uri": "https://localhost:8080/"
        },
        "id": "lMKfIryelE31",
        "outputId": "a0b5eefd-1429-4d93-9b3a-d628ed2132a9"
      },
      "source": [
        "np.arange(1,9).reshape(2,4) * 10"
      ],
      "execution_count": 63,
      "outputs": [
        {
          "output_type": "execute_result",
          "data": {
            "text/plain": [
              "array([[10, 20, 30, 40],\n",
              "       [50, 60, 70, 80]])"
            ]
          },
          "metadata": {
            "tags": []
          },
          "execution_count": 63
        }
      ]
    },
    {
      "cell_type": "markdown",
      "metadata": {
        "id": "Rzd0F5YdKF5d"
      },
      "source": [
        "## 2. 다음 행렬과 같은 행렬이 있다 .\n",
        "<br> m = np.array([[0, 1, 2, 3, 4]\n",
        "<br>             [ 5, 6, 7, 8, 9],\n",
        "<br>             [ 10, 11, 12, 13, 14]])\n",
        "<br>\n",
        "<br>1) 이 행렬에서 값 7 을 인덱싱한다.\n",
        "<br>2) 이 행렬에서 값 14 을 인덱싱한다 .\n",
        "<br>3) 이 행렬에서 배열 [6, 7] 을 슬라이싱한다\n",
        "<br>4) 이 행렬에서 배열 [7, 12] 을 슬라이싱한다\n",
        "<br>5) 이 행렬에서 배열 [[3, 4], [8, 9]]을 슬라이싱한다"
      ]
    },
    {
      "cell_type": "code",
      "metadata": {
        "colab": {
          "base_uri": "https://localhost:8080/"
        },
        "id": "EA8NUQrwMfaE",
        "outputId": "55bc3f3b-b2d1-46c3-e970-4403532e54e7"
      },
      "source": [
        "m = np.array([[0, 1, 2, 3, 4], \n",
        "              [ 5, 6, 7, 8, 9],\n",
        "              [ 10, 11, 12, 13, 14]])\n",
        "print('#1)')\n",
        "print(m[1,2])\n",
        "print('#2)')\n",
        "print(m[-1,-1])\n",
        "print('#3)')\n",
        "print(m[1, 1:3])\n",
        "print('#4)')\n",
        "print(m[1:, 2])\n",
        "print('#5)')\n",
        "print(m[:2, 3:])\n"
      ],
      "execution_count": 15,
      "outputs": [
        {
          "output_type": "stream",
          "text": [
            "#1)\n",
            "7\n",
            "#2)\n",
            "14\n",
            "#3)\n",
            "[6 7]\n",
            "#4)\n",
            "[ 7 12]\n",
            "#5)\n",
            "[[3 4]\n",
            " [8 9]]\n"
          ],
          "name": "stdout"
        }
      ]
    },
    {
      "cell_type": "markdown",
      "metadata": {
        "id": "O8SYR7KsMC7p"
      },
      "source": [
        "## 3. 2번의 행렬 m을 1차원 벡터 f 로 변환한 후 다음의 다음의 문제를 푸시오.\n",
        "<br>1) 이 배열에서 3의 배수를 찾아라 .\n",
        "<br>2) 이 배열에서 4로 나누면 1이 남는 수를 찾아라 .\n",
        "<br>3) 이 배열에서 3으로 나누면 나누어지고 나누어지고 4로 나누면 나누면 1이 남는 수를 찾아라 ."
      ]
    },
    {
      "cell_type": "code",
      "metadata": {
        "colab": {
          "base_uri": "https://localhost:8080/"
        },
        "id": "aC7YGQsoKQ1j",
        "outputId": "67e48a24-188a-4ea4-eb7d-440f40b9b7ee"
      },
      "source": [
        "m = m.reshape(-1,)\n",
        "m"
      ],
      "execution_count": 22,
      "outputs": [
        {
          "output_type": "execute_result",
          "data": {
            "text/plain": [
              "array([ 0,  1,  2,  3,  4,  5,  6,  7,  8,  9, 10, 11, 12, 13, 14])"
            ]
          },
          "metadata": {
            "tags": []
          },
          "execution_count": 22
        }
      ]
    },
    {
      "cell_type": "code",
      "metadata": {
        "colab": {
          "base_uri": "https://localhost:8080/"
        },
        "id": "CY8yVFQ3mOlg",
        "outputId": "f9f3864c-e628-4884-ce5e-a729a550e58d"
      },
      "source": [
        "f = m.flatten()\n",
        "f"
      ],
      "execution_count": 65,
      "outputs": [
        {
          "output_type": "execute_result",
          "data": {
            "text/plain": [
              "array([ 0,  1,  2,  3,  4,  5,  6,  7,  8,  9, 10, 11, 12, 13, 14])"
            ]
          },
          "metadata": {
            "tags": []
          },
          "execution_count": 65
        }
      ]
    },
    {
      "cell_type": "code",
      "metadata": {
        "colab": {
          "base_uri": "https://localhost:8080/"
        },
        "id": "nK4LUI7oNhDR",
        "outputId": "1544b05f-010d-477a-8a32-d11dbdd6e429"
      },
      "source": [
        "m[m%3 == 0]"
      ],
      "execution_count": 18,
      "outputs": [
        {
          "output_type": "execute_result",
          "data": {
            "text/plain": [
              "array([ 0,  3,  6,  9, 12])"
            ]
          },
          "metadata": {
            "tags": []
          },
          "execution_count": 18
        }
      ]
    },
    {
      "cell_type": "code",
      "metadata": {
        "colab": {
          "base_uri": "https://localhost:8080/"
        },
        "id": "IUIbZ5fyPjV4",
        "outputId": "0144b6b0-07aa-45e8-f8f3-504f05b9f73d"
      },
      "source": [
        "m[m % 4 == 1]"
      ],
      "execution_count": 26,
      "outputs": [
        {
          "output_type": "execute_result",
          "data": {
            "text/plain": [
              "array([ 1,  5,  9, 13])"
            ]
          },
          "metadata": {
            "tags": []
          },
          "execution_count": 26
        }
      ]
    },
    {
      "cell_type": "code",
      "metadata": {
        "colab": {
          "base_uri": "https://localhost:8080/"
        },
        "id": "cU5LDiv8PqF6",
        "outputId": "70aa5ccd-ec30-422f-a4ac-73547f20ac7f"
      },
      "source": [
        "m[np.logical_and(m % 3 == 0, m %4 ==1)]"
      ],
      "execution_count": 32,
      "outputs": [
        {
          "output_type": "execute_result",
          "data": {
            "text/plain": [
              "array([9])"
            ]
          },
          "metadata": {
            "tags": []
          },
          "execution_count": 32
        }
      ]
    },
    {
      "cell_type": "markdown",
      "metadata": {
        "id": "p5tmAG56RL9w"
      },
      "source": [
        "4. 값을 직접 입력하지 말고 우측의 행렬을 행렬을 만드시오 ."
      ]
    },
    {
      "cell_type": "code",
      "metadata": {
        "colab": {
          "base_uri": "https://localhost:8080/"
        },
        "id": "SNMn3jf2P7wc",
        "outputId": "581bab76-af64-4192-f9f6-80776961eed2"
      },
      "source": [
        "(np.eye(5, 5) * 2) + np.eye(5, 5, 1) + np.eye(5, 5, -1) *3"
      ],
      "execution_count": 34,
      "outputs": [
        {
          "output_type": "execute_result",
          "data": {
            "text/plain": [
              "array([[2., 1., 0., 0., 0.],\n",
              "       [3., 2., 1., 0., 0.],\n",
              "       [0., 3., 2., 1., 0.],\n",
              "       [0., 0., 3., 2., 1.],\n",
              "       [0., 0., 0., 3., 2.]])"
            ]
          },
          "metadata": {
            "tags": []
          },
          "execution_count": 34
        }
      ]
    },
    {
      "cell_type": "markdown",
      "metadata": {
        "id": "Z-8CqZdARUcL"
      },
      "source": [
        "## 5. 0에서 10까지 랜덤 실수값으로 이루어진 5 x 6 형태의 데이터 행렬을 만들고 이 데이터에 대해 다음과 같은 값을 구하시오.\n",
        "\n",
        "<br>\n",
        "<br>1) 전체의 최댓값\n",
        "<br>2) 각 행의 합\n",
        "<br>3) 각 행의 최댓값\n",
        "<br>4) 각 열의 평균\n",
        "<br>5) 각 열의 최솟값\n"
      ]
    },
    {
      "cell_type": "code",
      "metadata": {
        "colab": {
          "base_uri": "https://localhost:8080/"
        },
        "id": "Kg4xY-cTRgFZ",
        "outputId": "db548cf6-1436-4be7-973c-d76bc5a4ba04"
      },
      "source": [
        "np.random.seed(2001)\n",
        "no5 = np.random.uniform(0, 10, 30).reshape(5, 6).round(4)\n",
        "no5"
      ],
      "execution_count": 73,
      "outputs": [
        {
          "output_type": "execute_result",
          "data": {
            "text/plain": [
              "array([[1.6713, 0.81  , 9.6023, 9.3845, 6.2086, 4.256 ],\n",
              "       [6.8978, 2.4203, 3.666 , 1.4195, 2.1019, 9.0794],\n",
              "       [6.4405, 2.0727, 4.3597, 9.5636, 6.9779, 5.2989],\n",
              "       [5.811 , 3.3954, 8.175 , 0.816 , 6.5422, 6.4452],\n",
              "       [9.0425, 8.2497, 2.6373, 4.3155, 4.9897, 1.503 ]])"
            ]
          },
          "metadata": {
            "tags": []
          },
          "execution_count": 73
        }
      ]
    },
    {
      "cell_type": "code",
      "metadata": {
        "colab": {
          "base_uri": "https://localhost:8080/"
        },
        "id": "_9gosrcoRxZT",
        "outputId": "bb0d6ab3-6432-4536-d594-0daa15243070"
      },
      "source": [
        "np.max(no5)"
      ],
      "execution_count": 76,
      "outputs": [
        {
          "output_type": "execute_result",
          "data": {
            "text/plain": [
              "9.6023"
            ]
          },
          "metadata": {
            "tags": []
          },
          "execution_count": 76
        }
      ]
    },
    {
      "cell_type": "code",
      "metadata": {
        "colab": {
          "base_uri": "https://localhost:8080/"
        },
        "id": "pBQl8qa0SAu1",
        "outputId": "a8355d0f-137a-40b9-96a8-82cbdb90e13a"
      },
      "source": [
        "no5.sum(axis =1)"
      ],
      "execution_count": 77,
      "outputs": [
        {
          "output_type": "execute_result",
          "data": {
            "text/plain": [
              "array([31.9327, 25.5849, 34.7133, 31.1848, 30.7377])"
            ]
          },
          "metadata": {
            "tags": []
          },
          "execution_count": 77
        }
      ]
    },
    {
      "cell_type": "code",
      "metadata": {
        "colab": {
          "base_uri": "https://localhost:8080/"
        },
        "id": "Hr34mLnQSewT",
        "outputId": "c7a0c0df-d8fb-4c2d-d252-f063d1142f66"
      },
      "source": [
        "np.max(no5, axis = 1)"
      ],
      "execution_count": 78,
      "outputs": [
        {
          "output_type": "execute_result",
          "data": {
            "text/plain": [
              "array([9.6023, 9.0794, 9.5636, 8.175 , 9.0425])"
            ]
          },
          "metadata": {
            "tags": []
          },
          "execution_count": 78
        }
      ]
    },
    {
      "cell_type": "code",
      "metadata": {
        "colab": {
          "base_uri": "https://localhost:8080/"
        },
        "id": "2kN-UE2XShn1",
        "outputId": "9021a36d-39b6-4d38-ebc4-f8e0e03d130f"
      },
      "source": [
        "no5.mean(axis = 0)"
      ],
      "execution_count": 80,
      "outputs": [
        {
          "output_type": "execute_result",
          "data": {
            "text/plain": [
              "array([5.97262, 3.38962, 5.68806, 5.09982, 5.36406, 5.3165 ])"
            ]
          },
          "metadata": {
            "tags": []
          },
          "execution_count": 80
        }
      ]
    },
    {
      "cell_type": "code",
      "metadata": {
        "colab": {
          "base_uri": "https://localhost:8080/"
        },
        "id": "Vb0nz3hgS7Ci",
        "outputId": "c81e8563-f685-45ac-df6d-d4c66681d610"
      },
      "source": [
        "np.min(no5, axis = 0)        # 각 인덱스 값이 얼마인지"
      ],
      "execution_count": 79,
      "outputs": [
        {
          "output_type": "execute_result",
          "data": {
            "text/plain": [
              "array([1.6713, 0.81  , 2.6373, 0.816 , 2.1019, 1.503 ])"
            ]
          },
          "metadata": {
            "tags": []
          },
          "execution_count": 79
        }
      ]
    },
    {
      "cell_type": "markdown",
      "metadata": {
        "id": "TQJhbkAToEA2"
      },
      "source": [
        "## 6. Sorting"
      ]
    },
    {
      "cell_type": "code",
      "metadata": {
        "id": "ya6quZPXorRM"
      },
      "source": [
        ""
      ],
      "execution_count": null,
      "outputs": []
    },
    {
      "cell_type": "code",
      "metadata": {
        "colab": {
          "base_uri": "https://localhost:8080/"
        },
        "id": "SbZL4rvGoG5b",
        "outputId": "0522014d-ed3b-450a-e303-4b3735b886fe"
      },
      "source": [
        "score = np.array([[1,2,3,4],[46,99,100,71],[81,59,90,100]])\n",
        "score"
      ],
      "execution_count": 85,
      "outputs": [
        {
          "output_type": "execute_result",
          "data": {
            "text/plain": [
              "array([[  1,   2,   3,   4],\n",
              "       [ 46,  99, 100,  71],\n",
              "       [ 81,  59,  90, 100]])"
            ]
          },
          "metadata": {
            "tags": []
          },
          "execution_count": 85
        }
      ]
    },
    {
      "cell_type": "code",
      "metadata": {
        "colab": {
          "base_uri": "https://localhost:8080/"
        },
        "id": "XheAPD1coshj",
        "outputId": "723223d0-be42-46b9-c584-05ebcc9941ba"
      },
      "source": [
        "s = np.argsort(score[1])\n",
        "s"
      ],
      "execution_count": 86,
      "outputs": [
        {
          "output_type": "execute_result",
          "data": {
            "text/plain": [
              "array([0, 3, 1, 2])"
            ]
          },
          "metadata": {
            "tags": []
          },
          "execution_count": 86
        }
      ]
    },
    {
      "cell_type": "code",
      "metadata": {
        "colab": {
          "base_uri": "https://localhost:8080/"
        },
        "id": "5H_ek5SAoyx2",
        "outputId": "47928534-627f-49d1-d60a-b3760abaedfb"
      },
      "source": [
        "# 내림차순\n",
        "s[::-1]"
      ],
      "execution_count": 87,
      "outputs": [
        {
          "output_type": "execute_result",
          "data": {
            "text/plain": [
              "array([2, 1, 3, 0])"
            ]
          },
          "metadata": {
            "tags": []
          },
          "execution_count": 87
        }
      ]
    },
    {
      "cell_type": "code",
      "metadata": {
        "colab": {
          "base_uri": "https://localhost:8080/"
        },
        "id": "jINNOqSXoxul",
        "outputId": "c1d90257-cf80-4221-d46b-e0a5ad2b06b5"
      },
      "source": [
        "score[:, s[::-1]]"
      ],
      "execution_count": 89,
      "outputs": [
        {
          "output_type": "execute_result",
          "data": {
            "text/plain": [
              "array([[  3,   2,   4,   1],\n",
              "       [100,  99,  71,  46],\n",
              "       [ 90,  59, 100,  81]])"
            ]
          },
          "metadata": {
            "tags": []
          },
          "execution_count": 89
        }
      ]
    },
    {
      "cell_type": "code",
      "metadata": {
        "colab": {
          "base_uri": "https://localhost:8080/"
        },
        "id": "PHBG_ZgYpFR7",
        "outputId": "01a327ce-584f-4310-d9d8-edc343f34145"
      },
      "source": [
        "# 한줄로\n",
        "score[:, np.argsort(score[1])[::-1]]"
      ],
      "execution_count": 94,
      "outputs": [
        {
          "output_type": "execute_result",
          "data": {
            "text/plain": [
              "array([[  3,   2,   4,   1],\n",
              "       [100,  99,  71,  46],\n",
              "       [ 90,  59, 100,  81]])"
            ]
          },
          "metadata": {
            "tags": []
          },
          "execution_count": 94
        }
      ]
    },
    {
      "cell_type": "markdown",
      "metadata": {
        "id": "oXkjgSnJTMgY"
      },
      "source": [
        "## 7. 주사위를 100번 던지는 가상 실험을 파이썬으로 작성하고, 던져서 나오는 숫자의 평균을 구하시오"
      ]
    },
    {
      "cell_type": "code",
      "metadata": {
        "colab": {
          "base_uri": "https://localhost:8080/"
        },
        "id": "_ZsBFzcDTALa",
        "outputId": "24b11485-5788-452f-a5e3-db6fd12396c3"
      },
      "source": [
        "np.random.seed(2021)\n",
        "np.random.randint(1, 7, 100).mean()"
      ],
      "execution_count": 96,
      "outputs": [
        {
          "output_type": "execute_result",
          "data": {
            "text/plain": [
              "3.7"
            ]
          },
          "metadata": {
            "tags": []
          },
          "execution_count": 96
        }
      ]
    },
    {
      "cell_type": "markdown",
      "metadata": {
        "id": "WEavVXhETejy"
      },
      "source": [
        "## 8. 가격이 10,000원인 주식이 있다. 이 주식의 일간 수익률(%)은 기댓값이 0%이고 표준편차가 1%인 표준 정규 분포를 따른다고 하자. 250일 동안의 주가를 무작위로 생성하시오."
      ]
    },
    {
      "cell_type": "code",
      "metadata": {
        "colab": {
          "base_uri": "https://localhost:8080/"
        },
        "id": "7HG8BJFGTSUJ",
        "outputId": "82e68fcd-7457-49a2-a18a-97063bd35594"
      },
      "source": [
        "a = np.random.normal(0, 1, size = 250)\n",
        "a"
      ],
      "execution_count": 61,
      "outputs": [
        {
          "output_type": "execute_result",
          "data": {
            "text/plain": [
              "array([ 0.30233893,  1.13307083,  0.00391642,  0.7729168 , -0.26824874,\n",
              "        1.01272275,  0.49559786,  2.52433951, -1.40168121,  0.71438567,\n",
              "        0.30288553, -0.28528113, -0.9950498 , -0.67212224, -1.01823256,\n",
              "        1.20947573, -1.48198446,  1.41105659, -0.26504951, -1.37846678,\n",
              "        0.53414812, -1.37141478,  0.88701002,  1.05747135, -0.61132789,\n",
              "       -1.30343259,  1.66555362,  0.66975774, -0.48375854,  0.89526019,\n",
              "        1.14847013, -0.04880591,  0.03739045,  1.74180418, -0.17748451,\n",
              "        1.60455668, -0.25419418,  0.83880612,  0.82696369,  1.00017418,\n",
              "       -0.56408527,  0.8136371 , -0.43365426,  0.31208839, -1.01169615,\n",
              "        0.03083503,  1.10489223,  0.73852096,  0.0272985 , -0.11996506,\n",
              "        0.20062323, -0.84666913,  0.2450395 , -0.60242622, -1.48058389,\n",
              "       -0.76908094, -0.05685946,  0.6385146 ,  1.56880722, -0.00448084,\n",
              "       -1.76297694, -0.83945691,  0.58859862, -0.43612297,  0.34703122,\n",
              "       -0.17057634,  1.31724341,  1.77273826,  2.08701767, -2.03706789,\n",
              "        0.71419863, -0.94206066, -0.94487117,  1.22829856,  0.47283781,\n",
              "       -0.41045915, -0.65595343, -0.81745794,  1.91967093, -1.26554083,\n",
              "       -0.55058305, -0.87909716, -0.9378401 ,  0.01689901,  0.17731223,\n",
              "       -0.93551833, -0.00348254, -1.1355395 , -0.84345048, -0.29596005,\n",
              "        0.11361284, -0.72439945, -0.40400389, -0.09104982,  1.93489306,\n",
              "        2.26025055, -2.10160692, -0.23556371, -0.36720719,  1.0145609 ,\n",
              "       -1.33347298,  0.73989351,  0.30904922, -0.29944634,  0.96049361,\n",
              "        0.10273289,  0.06606107,  0.98962168, -0.68626992, -1.2655388 ,\n",
              "        0.26509215, -0.61991612, -2.00260508,  0.0211344 , -0.84966079,\n",
              "       -0.97601464, -0.22995412,  0.38717294,  1.99849283,  0.28629366,\n",
              "       -2.36025027, -0.51194791,  0.02628118,  2.19030384,  0.37711977,\n",
              "        0.47489612,  0.67760373,  0.47242686, -0.88703227,  0.10128635,\n",
              "       -1.38844376,  1.98048184, -0.97323141,  0.74191457, -1.96319212,\n",
              "       -0.96422526,  1.67614373, -1.24212032,  0.82800439,  0.28337389,\n",
              "       -0.11243129,  1.44877712,  1.4398    ,  0.04319023,  0.28376034,\n",
              "        0.9508363 , -0.60558755, -0.27663494,  1.39429953, -1.37953666,\n",
              "        1.66883673, -0.08956189, -1.53305655, -0.49662065, -1.48314147,\n",
              "       -0.4388698 , -1.00024019,  1.04077286,  0.88712643, -1.25538341,\n",
              "        1.88974099,  0.63440697, -0.75525696,  0.90607743, -0.05393246,\n",
              "       -0.18724015,  0.28597718,  0.79810872, -0.87753407, -1.19453421,\n",
              "       -0.42486472,  0.128512  ,  1.16791591, -1.26779559,  1.17417178,\n",
              "       -1.05176662, -1.48494148,  0.23560344, -1.73010732,  1.96449543,\n",
              "       -0.68123099,  1.82027992, -1.21533173, -1.56105461,  1.05807623,\n",
              "        1.17205551, -0.08991994,  0.54090374, -1.3337244 ,  0.09538754,\n",
              "        0.00871897,  0.93214647,  0.90552199, -0.12562955,  0.01017987,\n",
              "       -1.29108876, -0.31360677,  0.12240179,  0.42944117,  0.93504225,\n",
              "       -0.40872018,  0.01643903, -0.07937553,  0.04168883, -0.33065778,\n",
              "       -0.33427105,  0.14735829, -0.8252605 , -1.61673023,  0.30640776,\n",
              "        0.49038787,  1.50413975, -0.60640504,  0.64315773, -0.696432  ,\n",
              "        0.08478167,  0.63877483, -0.56880758,  0.89198918,  1.57195163,\n",
              "       -0.94771817, -0.22456422,  0.97406885, -0.05758439, -0.67050604,\n",
              "       -1.17207592,  0.06611886,  0.27341411,  0.01357955, -0.09647874,\n",
              "       -0.67854086,  0.64972878, -0.15177966, -0.37829494,  1.3876236 ,\n",
              "        0.33444887,  1.14735063,  0.87052374, -0.28308271, -0.31642371,\n",
              "        0.24359341, -0.32543927, -0.49118098, -0.76140613, -1.55647348,\n",
              "       -0.04430075, -0.16902127, -0.49927989,  0.56136465, -0.56816569])"
            ]
          },
          "metadata": {
            "tags": []
          },
          "execution_count": 61
        }
      ]
    }
  ]
}