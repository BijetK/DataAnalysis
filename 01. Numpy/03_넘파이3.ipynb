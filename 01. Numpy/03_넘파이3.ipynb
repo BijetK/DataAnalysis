{
  "nbformat": 4,
  "nbformat_minor": 0,
  "metadata": {
    "colab": {
      "name": "03_넘파이3.ipynb",
      "provenance": [],
      "collapsed_sections": []
    },
    "kernelspec": {
      "name": "python3",
      "display_name": "Python 3"
    },
    "language_info": {
      "name": "python"
    }
  },
  "cells": [
    {
      "cell_type": "markdown",
      "metadata": {
        "id": "3Mghcc205Bsu"
      },
      "source": [
        "# Numpy - part 3"
      ]
    },
    {
      "cell_type": "code",
      "metadata": {
        "id": "_NZEL2165Az3"
      },
      "source": [
        "import numpy as np"
      ],
      "execution_count": 2,
      "outputs": []
    },
    {
      "cell_type": "markdown",
      "metadata": {
        "id": "ngD0DIs15Hp8"
      },
      "source": [
        "## Operation"
      ]
    },
    {
      "cell_type": "code",
      "metadata": {
        "colab": {
          "base_uri": "https://localhost:8080/"
        },
        "id": "P_j_ye8S5IRy",
        "outputId": "223d3865-8bb7-4159-cde5-092239b526d1"
      },
      "source": [
        "a = np.arange(1,7).reshape(2,3)\n",
        "a"
      ],
      "execution_count": 3,
      "outputs": [
        {
          "output_type": "execute_result",
          "data": {
            "text/plain": [
              "array([[1, 2, 3],\n",
              "       [4, 5, 6]])"
            ]
          },
          "metadata": {
            "tags": []
          },
          "execution_count": 3
        }
      ]
    },
    {
      "cell_type": "code",
      "metadata": {
        "colab": {
          "base_uri": "https://localhost:8080/"
        },
        "id": "NxwNj9c95MxT",
        "outputId": "78181cab-3e2c-4396-dc90-555b5c6200c5"
      },
      "source": [
        "a + a"
      ],
      "execution_count": 4,
      "outputs": [
        {
          "output_type": "execute_result",
          "data": {
            "text/plain": [
              "array([[ 2,  4,  6],\n",
              "       [ 8, 10, 12]])"
            ]
          },
          "metadata": {
            "tags": []
          },
          "execution_count": 4
        }
      ]
    },
    {
      "cell_type": "code",
      "metadata": {
        "colab": {
          "base_uri": "https://localhost:8080/"
        },
        "id": "5ZnP6Cwu5PT6",
        "outputId": "ca0dd07b-2c86-4c3f-c413-a62a3459fc17"
      },
      "source": [
        "a - a"
      ],
      "execution_count": 5,
      "outputs": [
        {
          "output_type": "execute_result",
          "data": {
            "text/plain": [
              "array([[0, 0, 0],\n",
              "       [0, 0, 0]])"
            ]
          },
          "metadata": {
            "tags": []
          },
          "execution_count": 5
        }
      ]
    },
    {
      "cell_type": "code",
      "metadata": {
        "colab": {
          "base_uri": "https://localhost:8080/"
        },
        "id": "kfoYNl6T5PyD",
        "outputId": "cbc44a1d-4b44-4650-f183-61429a701c1b"
      },
      "source": [
        "a * a"
      ],
      "execution_count": 6,
      "outputs": [
        {
          "output_type": "execute_result",
          "data": {
            "text/plain": [
              "array([[ 1,  4,  9],\n",
              "       [16, 25, 36]])"
            ]
          },
          "metadata": {
            "tags": []
          },
          "execution_count": 6
        }
      ]
    },
    {
      "cell_type": "markdown",
      "metadata": {
        "id": "xbaUkbV_58t-"
      },
      "source": [
        "## dot product"
      ]
    },
    {
      "cell_type": "code",
      "metadata": {
        "colab": {
          "base_uri": "https://localhost:8080/"
        },
        "id": "7EWl97NR5QMP",
        "outputId": "38439679-d3d7-4b33-f8db-8eff00673ed8"
      },
      "source": [
        "np.dot(a, a.T)      # (2,3), (3,2) --> (2, 2)"
      ],
      "execution_count": 7,
      "outputs": [
        {
          "output_type": "execute_result",
          "data": {
            "text/plain": [
              "array([[14, 32],\n",
              "       [32, 77]])"
            ]
          },
          "metadata": {
            "tags": []
          },
          "execution_count": 7
        }
      ]
    },
    {
      "cell_type": "code",
      "metadata": {
        "colab": {
          "base_uri": "https://localhost:8080/"
        },
        "id": "sGPafQo06A-7",
        "outputId": "a5395a72-0a49-4462-f34c-8bff1d887054"
      },
      "source": [
        "a.dot(a.T)      # 이래도 됨"
      ],
      "execution_count": 9,
      "outputs": [
        {
          "output_type": "execute_result",
          "data": {
            "text/plain": [
              "array([[14, 32],\n",
              "       [32, 77]])"
            ]
          },
          "metadata": {
            "tags": []
          },
          "execution_count": 9
        }
      ]
    },
    {
      "cell_type": "markdown",
      "metadata": {
        "id": "_rzHfAOa6kn4"
      },
      "source": [
        "### broadcasting"
      ]
    },
    {
      "cell_type": "code",
      "metadata": {
        "colab": {
          "base_uri": "https://localhost:8080/"
        },
        "id": "TUL8XBj96W73",
        "outputId": "da0282c2-8a9b-4865-b7ec-8075b07fc2aa"
      },
      "source": [
        "a"
      ],
      "execution_count": 11,
      "outputs": [
        {
          "output_type": "execute_result",
          "data": {
            "text/plain": [
              "array([[1, 2, 3],\n",
              "       [4, 5, 6]])"
            ]
          },
          "metadata": {
            "tags": []
          },
          "execution_count": 11
        }
      ]
    },
    {
      "cell_type": "code",
      "metadata": {
        "colab": {
          "base_uri": "https://localhost:8080/"
        },
        "id": "-jOHs_TE6tj1",
        "outputId": "394b4f47-d233-42e0-eddb-a6fd582191cc"
      },
      "source": [
        "a + 3"
      ],
      "execution_count": 12,
      "outputs": [
        {
          "output_type": "execute_result",
          "data": {
            "text/plain": [
              "array([[4, 5, 6],\n",
              "       [7, 8, 9]])"
            ]
          },
          "metadata": {
            "tags": []
          },
          "execution_count": 12
        }
      ]
    },
    {
      "cell_type": "code",
      "metadata": {
        "colab": {
          "base_uri": "https://localhost:8080/"
        },
        "id": "3sEexVbC6v4A",
        "outputId": "b10ffa1e-1013-4a58-9919-cfe602345870"
      },
      "source": [
        "a // 3"
      ],
      "execution_count": 13,
      "outputs": [
        {
          "output_type": "execute_result",
          "data": {
            "text/plain": [
              "array([[0, 0, 1],\n",
              "       [1, 1, 2]])"
            ]
          },
          "metadata": {
            "tags": []
          },
          "execution_count": 13
        }
      ]
    },
    {
      "cell_type": "code",
      "metadata": {
        "colab": {
          "base_uri": "https://localhost:8080/"
        },
        "id": "cUWkkPbu68Q8",
        "outputId": "2b15c594-f2df-4257-9485-51a0090e10b7"
      },
      "source": [
        "a % 3"
      ],
      "execution_count": 14,
      "outputs": [
        {
          "output_type": "execute_result",
          "data": {
            "text/plain": [
              "array([[1, 2, 0],\n",
              "       [1, 2, 0]])"
            ]
          },
          "metadata": {
            "tags": []
          },
          "execution_count": 14
        }
      ]
    },
    {
      "cell_type": "markdown",
      "metadata": {
        "id": "Vde1cyOs88vW"
      },
      "source": [
        "### all & any"
      ]
    },
    {
      "cell_type": "code",
      "metadata": {
        "colab": {
          "base_uri": "https://localhost:8080/"
        },
        "id": "fAqBnOy06-Fw",
        "outputId": "d227deda-4851-4170-f16f-bbf056974807"
      },
      "source": [
        "a = np.arange(8)\n",
        "a"
      ],
      "execution_count": 17,
      "outputs": [
        {
          "output_type": "execute_result",
          "data": {
            "text/plain": [
              "array([0, 1, 2, 3, 4, 5, 6, 7])"
            ]
          },
          "metadata": {
            "tags": []
          },
          "execution_count": 17
        }
      ]
    },
    {
      "cell_type": "code",
      "metadata": {
        "colab": {
          "base_uri": "https://localhost:8080/"
        },
        "id": "e-GG_K689Aiq",
        "outputId": "da382df2-b4be-42f8-93fa-48aaa9253042"
      },
      "source": [
        "a > 4"
      ],
      "execution_count": 19,
      "outputs": [
        {
          "output_type": "execute_result",
          "data": {
            "text/plain": [
              "array([False, False, False, False, False,  True,  True,  True])"
            ]
          },
          "metadata": {
            "tags": []
          },
          "execution_count": 19
        }
      ]
    },
    {
      "cell_type": "code",
      "metadata": {
        "colab": {
          "base_uri": "https://localhost:8080/"
        },
        "id": "dsCbCHvo9D64",
        "outputId": "7222ee34-f6d3-40e7-899e-d2d663d3e449"
      },
      "source": [
        "np.all(a >4), np.any(a > 4)"
      ],
      "execution_count": 20,
      "outputs": [
        {
          "output_type": "execute_result",
          "data": {
            "text/plain": [
              "(False, True)"
            ]
          },
          "metadata": {
            "tags": []
          },
          "execution_count": 20
        }
      ]
    },
    {
      "cell_type": "code",
      "metadata": {
        "colab": {
          "base_uri": "https://localhost:8080/"
        },
        "id": "qGryGJnm9L_f",
        "outputId": "e41ec6b1-3eb1-48d4-9f65-f0abc69a8a96"
      },
      "source": [
        "x = np.array([1,3,0])\n",
        "y = np.array([5, 2, 1])\n",
        "x > y"
      ],
      "execution_count": 23,
      "outputs": [
        {
          "output_type": "execute_result",
          "data": {
            "text/plain": [
              "array([False,  True, False])"
            ]
          },
          "metadata": {
            "tags": []
          },
          "execution_count": 23
        }
      ]
    },
    {
      "cell_type": "code",
      "metadata": {
        "colab": {
          "base_uri": "https://localhost:8080/"
        },
        "id": "tr2Lmvsw9Uot",
        "outputId": "b7efc7a2-e118-45fa-ec9f-d943002d94f4"
      },
      "source": [
        "x == y"
      ],
      "execution_count": 24,
      "outputs": [
        {
          "output_type": "execute_result",
          "data": {
            "text/plain": [
              "array([False, False, False])"
            ]
          },
          "metadata": {
            "tags": []
          },
          "execution_count": 24
        }
      ]
    },
    {
      "cell_type": "markdown",
      "metadata": {
        "id": "_cPEzfwB9aA1"
      },
      "source": [
        "### logical operation"
      ]
    },
    {
      "cell_type": "code",
      "metadata": {
        "colab": {
          "base_uri": "https://localhost:8080/"
        },
        "id": "JqyYiKl79V9Z",
        "outputId": "2df3cb70-a01f-4b4d-f80b-d055f81794bf"
      },
      "source": [
        "a = np.array([1, 3, 0], float)\n",
        "b = np.logical_and(a>0, a<3)        # 0 < a < 3\n",
        "b"
      ],
      "execution_count": 28,
      "outputs": [
        {
          "output_type": "execute_result",
          "data": {
            "text/plain": [
              "array([ True, False, False])"
            ]
          },
          "metadata": {
            "tags": []
          },
          "execution_count": 28
        }
      ]
    },
    {
      "cell_type": "code",
      "metadata": {
        "colab": {
          "base_uri": "https://localhost:8080/"
        },
        "id": "RM5ovoI89faa",
        "outputId": "00289b70-3317-49a5-a8bd-6dd32352be17"
      },
      "source": [
        "c = np.logical_not(b)\n",
        "c"
      ],
      "execution_count": 29,
      "outputs": [
        {
          "output_type": "execute_result",
          "data": {
            "text/plain": [
              "array([False,  True,  True])"
            ]
          },
          "metadata": {
            "tags": []
          },
          "execution_count": 29
        }
      ]
    },
    {
      "cell_type": "code",
      "metadata": {
        "colab": {
          "base_uri": "https://localhost:8080/"
        },
        "id": "VZ41wByi9uK0",
        "outputId": "c411fc0a-4088-4e48-9ca0-2728c36db50e"
      },
      "source": [
        "np.logical_or(b,c)"
      ],
      "execution_count": 30,
      "outputs": [
        {
          "output_type": "execute_result",
          "data": {
            "text/plain": [
              "array([ True,  True,  True])"
            ]
          },
          "metadata": {
            "tags": []
          },
          "execution_count": 30
        }
      ]
    },
    {
      "cell_type": "code",
      "metadata": {
        "colab": {
          "base_uri": "https://localhost:8080/"
        },
        "id": "ZVM4kZRL9wla",
        "outputId": "b4a3d4ba-ba6c-407a-b5a1-4009040b174b"
      },
      "source": [
        "np.logical_xor(b,c)"
      ],
      "execution_count": 31,
      "outputs": [
        {
          "output_type": "execute_result",
          "data": {
            "text/plain": [
              "array([ True,  True,  True])"
            ]
          },
          "metadata": {
            "tags": []
          },
          "execution_count": 31
        }
      ]
    },
    {
      "cell_type": "code",
      "metadata": {
        "colab": {
          "base_uri": "https://localhost:8080/"
        },
        "id": "_9zWICFZ92Se",
        "outputId": "3d210d51-3f73-47a5-c9d1-fc3e7ed225f5"
      },
      "source": [
        "np.where(a > 1, 10, 0)      # where (condition, true일 때의 값, False일 때의 값)"
      ],
      "execution_count": 33,
      "outputs": [
        {
          "output_type": "execute_result",
          "data": {
            "text/plain": [
              "array([ 0, 10,  0])"
            ]
          },
          "metadata": {
            "tags": []
          },
          "execution_count": 33
        }
      ]
    },
    {
      "cell_type": "code",
      "metadata": {
        "colab": {
          "base_uri": "https://localhost:8080/"
        },
        "id": "fIfoj54q-LhH",
        "outputId": "27ca3d40-ae08-4580-c8fe-7f7ee16195a3"
      },
      "source": [
        "np.where(np.arange(10, 20) > 15)        # (array([6, 7, 8, 9]),) ==> index 값을 반환"
      ],
      "execution_count": 38,
      "outputs": [
        {
          "output_type": "execute_result",
          "data": {
            "text/plain": [
              "(array([6, 7, 8, 9]),)"
            ]
          },
          "metadata": {
            "tags": []
          },
          "execution_count": 38
        }
      ]
    },
    {
      "cell_type": "code",
      "metadata": {
        "colab": {
          "base_uri": "https://localhost:8080/"
        },
        "id": "Kqy5Vw63-lJC",
        "outputId": "13dec4b8-c95f-4a95-c1c9-cfbc101c48d0"
      },
      "source": [
        "# Infinite, Not a number\n",
        "a = np.array([np.Inf, np.NaN, 1, np.nan, np.inf, np.NAN])\n",
        "a"
      ],
      "execution_count": 41,
      "outputs": [
        {
          "output_type": "execute_result",
          "data": {
            "text/plain": [
              "array([inf, nan,  1., nan, inf, nan])"
            ]
          },
          "metadata": {
            "tags": []
          },
          "execution_count": 41
        }
      ]
    },
    {
      "cell_type": "code",
      "metadata": {
        "colab": {
          "base_uri": "https://localhost:8080/"
        },
        "id": "rEtCBEjK_YDK",
        "outputId": "d29ac7d3-ff8e-4a95-97f0-6f474385e038"
      },
      "source": [
        "np.isnan(a)         # Is not a number?"
      ],
      "execution_count": 42,
      "outputs": [
        {
          "output_type": "execute_result",
          "data": {
            "text/plain": [
              "array([False,  True, False,  True, False,  True])"
            ]
          },
          "metadata": {
            "tags": []
          },
          "execution_count": 42
        }
      ]
    },
    {
      "cell_type": "code",
      "metadata": {
        "colab": {
          "base_uri": "https://localhost:8080/"
        },
        "id": "rbKJj9r8_uT7",
        "outputId": "529ba285-d5c2-4106-b338-e63c0bb464ea"
      },
      "source": [
        "np.isfinite(a)      # Is finite number?"
      ],
      "execution_count": 43,
      "outputs": [
        {
          "output_type": "execute_result",
          "data": {
            "text/plain": [
              "array([False, False,  True, False, False, False])"
            ]
          },
          "metadata": {
            "tags": []
          },
          "execution_count": 43
        }
      ]
    },
    {
      "cell_type": "code",
      "metadata": {
        "colab": {
          "base_uri": "https://localhost:8080/"
        },
        "id": "1gcDSLEF_zuE",
        "outputId": "e473152a-db56-4fd3-b7ee-5c5591fd0d1d"
      },
      "source": [
        "np.isnan(a).sum()       # isnan의 개수"
      ],
      "execution_count": 45,
      "outputs": [
        {
          "output_type": "execute_result",
          "data": {
            "text/plain": [
              "3"
            ]
          },
          "metadata": {
            "tags": []
          },
          "execution_count": 45
        }
      ]
    },
    {
      "cell_type": "markdown",
      "metadata": {
        "id": "q4Qtfl8CEK1t"
      },
      "source": [
        "### argmax, argmin"
      ]
    },
    {
      "cell_type": "code",
      "metadata": {
        "colab": {
          "base_uri": "https://localhost:8080/"
        },
        "id": "w-zyjUxdALer",
        "outputId": "4b5500ad-7563-4980-e9f1-c4af0487cfe0"
      },
      "source": [
        "a = np.array([1, 2, 4, 5, 8, 78, 23, 3])\n",
        "a"
      ],
      "execution_count": 46,
      "outputs": [
        {
          "output_type": "execute_result",
          "data": {
            "text/plain": [
              "array([ 1,  2,  4,  5,  8, 78, 23,  3])"
            ]
          },
          "metadata": {
            "tags": []
          },
          "execution_count": 46
        }
      ]
    },
    {
      "cell_type": "code",
      "metadata": {
        "colab": {
          "base_uri": "https://localhost:8080/"
        },
        "id": "6meL6iFnEWod",
        "outputId": "e6f2bd64-fe71-488f-87bf-ced5382cfa7e"
      },
      "source": [
        "np.argmax(a), np.argmin(a)          # index 값을 반환"
      ],
      "execution_count": 48,
      "outputs": [
        {
          "output_type": "execute_result",
          "data": {
            "text/plain": [
              "(5, 0)"
            ]
          },
          "metadata": {
            "tags": []
          },
          "execution_count": 48
        }
      ]
    },
    {
      "cell_type": "code",
      "metadata": {
        "colab": {
          "base_uri": "https://localhost:8080/"
        },
        "id": "E3DJg3KeEZyC",
        "outputId": "bd26c220-013c-429c-ae07-8e42f90f0ca7"
      },
      "source": [
        "a = a.reshape(2, -1)\n",
        "np.argmax(a), np.argmin(a)"
      ],
      "execution_count": 50,
      "outputs": [
        {
          "output_type": "execute_result",
          "data": {
            "text/plain": [
              "(5, 0)"
            ]
          },
          "metadata": {
            "tags": []
          },
          "execution_count": 50
        }
      ]
    },
    {
      "cell_type": "code",
      "metadata": {
        "colab": {
          "base_uri": "https://localhost:8080/"
        },
        "id": "1yxZC95tEpi4",
        "outputId": "8d4ebd2b-d451-4e2e-8304-c9067dc2c890"
      },
      "source": [
        "np.argmax(a, axis = 1), np.argmin(a, axis = 1)"
      ],
      "execution_count": 51,
      "outputs": [
        {
          "output_type": "execute_result",
          "data": {
            "text/plain": [
              "(array([3, 1]), array([0, 3]))"
            ]
          },
          "metadata": {
            "tags": []
          },
          "execution_count": 51
        }
      ]
    },
    {
      "cell_type": "code",
      "metadata": {
        "colab": {
          "base_uri": "https://localhost:8080/"
        },
        "id": "UEDs4LiiE4ce",
        "outputId": "e1beb0c7-2f4d-4aa6-c816-aa4750b2c7cb"
      },
      "source": [
        "a"
      ],
      "execution_count": 52,
      "outputs": [
        {
          "output_type": "execute_result",
          "data": {
            "text/plain": [
              "array([[ 1,  2,  4,  5],\n",
              "       [ 8, 78, 23,  3]])"
            ]
          },
          "metadata": {
            "tags": []
          },
          "execution_count": 52
        }
      ]
    },
    {
      "cell_type": "markdown",
      "metadata": {
        "id": "YvaqLcKoFttI"
      },
      "source": [
        "## 8. Boolean & fancy index"
      ]
    },
    {
      "cell_type": "markdown",
      "metadata": {
        "id": "fowwo4-9GMZy"
      },
      "source": [
        "### boolean index"
      ]
    },
    {
      "cell_type": "code",
      "metadata": {
        "colab": {
          "base_uri": "https://localhost:8080/"
        },
        "id": "j9FeTqX8E5Ir",
        "outputId": "29cbd67e-bf06-4782-ef40-165a8cd84dac"
      },
      "source": [
        "a > 4"
      ],
      "execution_count": 53,
      "outputs": [
        {
          "output_type": "execute_result",
          "data": {
            "text/plain": [
              "array([[False, False, False,  True],\n",
              "       [ True,  True,  True, False]])"
            ]
          },
          "metadata": {
            "tags": []
          },
          "execution_count": 53
        }
      ]
    },
    {
      "cell_type": "code",
      "metadata": {
        "colab": {
          "base_uri": "https://localhost:8080/"
        },
        "id": "5011a-N0Fy1T",
        "outputId": "747509df-d05c-45c3-9036-4cfc80a9ebdc"
      },
      "source": [
        "a[a>4]"
      ],
      "execution_count": 54,
      "outputs": [
        {
          "output_type": "execute_result",
          "data": {
            "text/plain": [
              "array([ 5,  8, 78, 23])"
            ]
          },
          "metadata": {
            "tags": []
          },
          "execution_count": 54
        }
      ]
    },
    {
      "cell_type": "markdown",
      "metadata": {
        "id": "cEY29UINGRIn"
      },
      "source": [
        "### fancy index"
      ]
    },
    {
      "cell_type": "code",
      "metadata": {
        "colab": {
          "base_uri": "https://localhost:8080/"
        },
        "id": "n8-gINSvF0Ro",
        "outputId": "a7bea986-bbd3-4cae-830b-55b5e23770e3"
      },
      "source": [
        "a = np.array([2, 4, 6, 8])\n",
        "b = np.array([1, 3, 2, 0, 0, 2])\n",
        "a[b]            # a[1] = 4, b[3] = 8 a[2] = 6, a[0] = 0"
      ],
      "execution_count": 60,
      "outputs": [
        {
          "output_type": "execute_result",
          "data": {
            "text/plain": [
              "array([4, 8, 6, 2, 2, 6])"
            ]
          },
          "metadata": {
            "tags": []
          },
          "execution_count": 60
        }
      ]
    },
    {
      "cell_type": "code",
      "metadata": {
        "colab": {
          "base_uri": "https://localhost:8080/"
        },
        "id": "Kg1FKZSPGiUs",
        "outputId": "fe02db07-d4aa-4302-bbe3-2d19e1e3885d"
      },
      "source": [
        "a.take(b)"
      ],
      "execution_count": 61,
      "outputs": [
        {
          "output_type": "execute_result",
          "data": {
            "text/plain": [
              "array([4, 8, 6, 2, 2, 6])"
            ]
          },
          "metadata": {
            "tags": []
          },
          "execution_count": 61
        }
      ]
    },
    {
      "cell_type": "code",
      "metadata": {
        "colab": {
          "base_uri": "https://localhost:8080/"
        },
        "id": "32h4er_oGs2F",
        "outputId": "c7e38e5b-6028-4415-e7ca-86877debf5a3"
      },
      "source": [
        "a = np.arange(1, 13).reshape(3,4)\n",
        "b = np.array([1, 2, 0, 1])          # 행 인덱스\n",
        "c = np.array([2, 1, 0, 3])          # 열 인덱스\n",
        "a"
      ],
      "execution_count": 65,
      "outputs": [
        {
          "output_type": "execute_result",
          "data": {
            "text/plain": [
              "array([[ 1,  2,  3,  4],\n",
              "       [ 5,  6,  7,  8],\n",
              "       [ 9, 10, 11, 12]])"
            ]
          },
          "metadata": {
            "tags": []
          },
          "execution_count": 65
        }
      ]
    },
    {
      "cell_type": "code",
      "metadata": {
        "colab": {
          "base_uri": "https://localhost:8080/"
        },
        "id": "AigDOyeMG4_2",
        "outputId": "e514b033-d04b-4f11-9640-3e28e980608f"
      },
      "source": [
        "a[b,c]"
      ],
      "execution_count": 66,
      "outputs": [
        {
          "output_type": "execute_result",
          "data": {
            "text/plain": [
              "array([ 7, 10,  1,  8])"
            ]
          },
          "metadata": {
            "tags": []
          },
          "execution_count": 66
        }
      ]
    },
    {
      "cell_type": "markdown",
      "metadata": {
        "id": "-OOkKgLYHbHn"
      },
      "source": [
        "## 9. 기술 통계"
      ]
    },
    {
      "cell_type": "code",
      "metadata": {
        "id": "P0Bb-FGcHV0R"
      },
      "source": [
        "a = np.random.randint(1, 10000, 1000)"
      ],
      "execution_count": 87,
      "outputs": []
    },
    {
      "cell_type": "code",
      "metadata": {
        "colab": {
          "base_uri": "https://localhost:8080/"
        },
        "id": "j1mY4et1IX-m",
        "outputId": "4439cba3-5e49-463a-f8d4-2a9f8d3d61da"
      },
      "source": [
        "for q in [0, 25, 50, 75, 100]:\n",
        "    print(np.percentile(a, q))      # 소수점이 나오는건 정확한 값이 없어서 그 사잇값"
      ],
      "execution_count": 88,
      "outputs": [
        {
          "output_type": "stream",
          "text": [
            "6.0\n",
            "2429.5\n",
            "4995.5\n",
            "7477.25\n",
            "9991.0\n"
          ],
          "name": "stdout"
        }
      ]
    },
    {
      "cell_type": "code",
      "metadata": {
        "id": "3jll2f6PIma_"
      },
      "source": [
        "import matplotlib.pyplot as plt"
      ],
      "execution_count": 91,
      "outputs": []
    },
    {
      "cell_type": "code",
      "metadata": {
        "colab": {
          "base_uri": "https://localhost:8080/",
          "height": 265
        },
        "id": "xsDsfSjcJYJk",
        "outputId": "1c9a9cf8-7637-4dc8-b73a-a34ae560c7f7"
      },
      "source": [
        "plt.boxplot(a)\n",
        "plt.show()"
      ],
      "execution_count": 92,
      "outputs": [
        {
          "output_type": "display_data",
          "data": {
            "image/png": "[encoded data removed]",
            "text/plain": [
              "<Figure size 432x288 with 1 Axes>"
            ]
          },
          "metadata": {
            "tags": [],
            "needs_background": "light"
          }
        }
      ]
    },
    {
      "cell_type": "code",
      "metadata": {
        "id": "YQz4uVpSJfgW"
      },
      "source": [
        ""
      ],
      "execution_count": null,
      "outputs": []
    }
  ]
}